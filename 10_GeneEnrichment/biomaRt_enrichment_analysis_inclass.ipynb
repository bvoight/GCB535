{
 "cells": [
  {
   "cell_type": "markdown",
   "metadata": {},
   "source": [
    "## Annotation via BiomaRt with Functional Enrichment analysis\n"
   ]
  },
  {
   "cell_type": "markdown",
   "metadata": {},
   "source": [
    "**Today, this notebook constitutes your in-class activity.**\n",
    "\n",
    "We will pick up from where we left off with the analysis of our gene expression data set from last time.\n",
    "\n",
    "We left off having performed our differential gene\\-expression analysis. However, our results were in terms of ensembl gene IDs rather than human\\-readable gene symbols; we'd like to be able to know what genes are actually of interest in our analysis. Today, we'll connect our analysis to annotation data so that we can obtain this information.\n",
    "\n"
   ]
  },
  {
   "cell_type": "markdown",
   "metadata": {},
   "source": [
    "**Q1.** Let's start by load the following packages into R:\n",
    "\n",
    "- The annotation library package `biomaRt`\n",
    "- Our new favoriate library package `tidyverse`\n",
    "\n",
    "**Provide and execute your R code below.**"
   ]
  },
  {
   "cell_type": "code",
   "execution_count": null,
   "metadata": {},
   "outputs": [],
   "source": []
  },
  {
   "cell_type": "markdown",
   "metadata": {},
   "source": [
    "Let's recover the differential expression from the last RNA\\-seq module. \n",
    "\n",
    "**Q2.** Next:\n",
    "\n",
    "- Load the results file (named `ensembl_id_DE_results.csv`) from the previous analysis into your notebook to a variable called `de_results`. You can use `read.csv()` or `read.table(sep=',')`, just make sure you parse the file correctly!\n",
    "- Then, use `as_tibble()` and that as a tidyverse table in `de_results_tbl`. \n",
    "\n",
    "**Provide and execute your R code below.**\n"
   ]
  },
  {
   "cell_type": "code",
   "execution_count": null,
   "metadata": {},
   "outputs": [],
   "source": []
  },
  {
   "cell_type": "markdown",
   "metadata": {},
   "source": [
    "**Q3.** OK, now let's obtain some annotation information.\n",
    "\n",
    "- Using `useEnsembl()`, load the appropriate library from the ensembl database for humans, and save in a variable named `mymart_human`. (Hint: `hsapiens_gene_ensembl` is the database you are after!)\n",
    "\n",
    "**Provide and execute your R code below.**"
   ]
  },
  {
   "cell_type": "code",
   "execution_count": null,
   "metadata": {},
   "outputs": [],
   "source": []
  },
  {
   "cell_type": "markdown",
   "metadata": {},
   "source": [
    "**Q4.** Now, using the mart that you just created (`mymart_human`), create an annotation table which includes the `ensembl_gene_id` as well as a gene symbol for each transcript in the results data frame.\n",
    "\n",
    "- use `getBM()` to create to extract the attributes: \n",
    "```\n",
    "    ensembl_gene_id\n",
    "    external_gene_name\n",
    "```\n",
    "\n",
    "As values, use the ensembl ids you have present in `de_results_tbl`.\n",
    "- Save this in an output variable named `lookup`. \n",
    "\n",
    "**Provide and execute your R code below.**"
   ]
  },
  {
   "cell_type": "code",
   "execution_count": null,
   "metadata": {},
   "outputs": [],
   "source": []
  },
  {
   "cell_type": "markdown",
   "metadata": {},
   "source": [
    "**Q5.** Building upon that command, let's get some additional annotation information. Note that getting all of the annotations will take a little bit of time! \n",
    "\n",
    "Using `listAttributes(mymart_human)` will show what attributes that you can extract.\n",
    "\n",
    "- obtain the following annotations from ensembl stored in a new variable called `annot` for your list of ensembl gene ids:\n",
    "  ```\n",
    "    external_gene_name/n",
    "    chromosome name\n",
    "    start position\n",
    "    end position\n",
    "    strand\n",
    "    Gene % GC content\n",
    "    external gene name\n",
    "    description\n",
    "  ```\n",
    "\n",
    "- Then, output to your notebook the first 5 entries in your table\n",
    "\n",
    "**Provide and execute your R code below.**"
   ]
  },
  {
   "cell_type": "code",
   "execution_count": 0,
   "metadata": {},
   "outputs": [],
   "source": []
  },
  {
   "cell_type": "markdown",
   "metadata": {},
   "source": [
    "**Q6.** Output your annotations to file that reports everything but the description, without quotes, and separated by commas (useful for data parsing) to a file called `annot-forparse.csv`\n",
    "\n",
    "**Provide and execute your R code below.**\n"
   ]
  },
  {
   "cell_type": "code",
   "execution_count": 0,
   "metadata": {},
   "outputs": [],
   "source": []
  },
  {
   "cell_type": "markdown",
   "metadata": {},
   "source": [
    "**Q7.** Now that we have annotations, we need to merge them together with the table that contained our association information. However, notice that the annot matrix lists the ensembl ids in a different order than the statistical association table.\n",
    "\n",
    "- Using one of the tidyverse `*_join()` family of functions, merge the `annot` frame with `de_results_tbl`. \n",
    "\n",
    "TIP: Be sure choose the join function with keeps *all* the entries in your result table `de_results_tbl`, and not extra entries that may be present in `annot`!\n",
    "\n",
    "- save this to a new table called `de_results_annot_tbl`.\n",
    "\n",
    "**Provide and execute your R code below.**"
   ]
  },
  {
   "cell_type": "code",
   "execution_count": 0,
   "metadata": {},
   "outputs": [],
   "source": []
  },
  {
   "cell_type": "markdown",
   "metadata": {},
   "source": [
    "**Q8.** Let's sort the table to get the most significant results to the top of the table. \n",
    "\n",
    "- Arrange the the table by the column `pvalue`. (Hint: `order()` in base R or `arrange()` in tidyverse might be helpful!)\n",
    "- Store the sorted table to a new variable called `de_results_annot_srt_tbl`. \n",
    "- output the results of first 10 rows of `de_results_annot_sort_tbl`\n",
    "\n",
    "**Provide and execute your R code below.**  "
   ]
  },
  {
   "cell_type": "code",
   "execution_count": 0,
   "metadata": {},
   "outputs": [],
   "source": []
  },
  {
   "cell_type": "markdown",
   "metadata": {},
   "source": [
    "**Q9.** What are the genes symbols that you found for the top 10 results? "
   ]
  },
  {
   "cell_type": "markdown",
   "metadata": {},
   "source": []
  },
  {
   "cell_type": "markdown",
   "metadata": {},
   "source": [
    "**Q10.**  In the majority of cases, our transcripts will have gene symbols attached to them. However, sometimes this will not happen. Let's find out more about what those missing ones turn out to be in some cases. \n",
    "\n",
    "How many entries in our results have either missing `\"\"` or `NA` results for their `external_gene_name`?\n",
    "\n",
    "- use `group_by()`, `summarize()`, `arrange()` to obtain the counts of each gene symbol present.\n",
    "- Hint: you may want to arrange by descending order to get the biggest entries at the top of your report; thus embedding `desc()` within the invocation of `arrange()` may be helpful here.\n",
    "\n",
    "**Provide and execute your R code below.** "
   ]
  },
  {
   "cell_type": "code",
   "execution_count": null,
   "metadata": {},
   "outputs": [],
   "source": []
  },
  {
   "cell_type": "markdown",
   "metadata": {},
   "source": [
    "**Q11.** What are the top 3 differentially expressed transcripts (in terms of p-value) where `external_gene_name` is missing `\"\"`? \n",
    "\n",
    "Go to `ensembl.org` and search for each of these transcripts. For each, are there plausible explanations for why this is missing? \n",
    "\n",
    "In particular, what does the annotation \"TEC\" mean?\n",
    "\n",
    "- Hint: `filter()` may by of use to you here."
   ]
  },
  {
   "cell_type": "code",
   "execution_count": null,
   "metadata": {},
   "outputs": [],
   "source": []
  },
  {
   "cell_type": "markdown",
   "metadata": {},
   "source": [
    "**Q12.** Next, let's curate a final table where missing gene symbols (`\"\"`), gene symbols that are `'NA'`, and duplicate entries are removed. To do that:\n",
    "\n",
    "- Using `de_results_annot_srt_table`, use `filter()` to remove genes where `external_gene_name` is \"\" or `'NA'`. Save this result to `de_results_no_missing`\n",
    "- Use `duplicated()` in combination with `de_results_no_missing` to find the indexes of duplicated external gene names\n",
    "- Remove the duplicated external gene names and save the output to a variable named `de_results_annot_srt_filt_tbl`\n",
    "\n",
    "**Provide and execute your R code below.**"
   ]
  },
  {
   "cell_type": "code",
   "execution_count": 0,
   "metadata": {},
   "outputs": [],
   "source": []
  },
  {
   "cell_type": "markdown",
   "metadata": {},
   "source": [
    "**Q13.** To get prepared for enrichment analysis, first need the list of all genes we tested (the background). To do that:\n",
    "\n",
    "- use `write.table()` to print out the list of genes from `de_results_annot_srt_filt_tbl`, setting `quote=F`, `row.names=F`,  `col.names=F`. Name the file `background_genelist.txt`.\n",
    "- use `write.table()` to print out associated genes with pvalue < 0.001 from `de_results_annot_srt_filt_tbl`, setting `quote=F`, `row.names=F`, `col.names=F`. Name the file `testset_genelist.txt`.\n",
    "\n",
    "**Provide and execute your R code below.**"
   ]
  },
  {
   "cell_type": "code",
   "execution_count": null,
   "metadata": {},
   "outputs": [],
   "source": []
  },
  {
   "cell_type": "markdown",
   "metadata": {},
   "source": [
    "#### Now, let us use [WebGestalt](http://www.webgestalt.org/) to perform some ontology analysis using the unique set of genes created above.\n",
    "\n",
    "- Click \"ORA Sample Run\". Under \"Basic Parameters\" choose the appropriate organism, Over-Representation Analysis (ORA) as the method, and geneontology -> Biological_process_noRedundant as the functional database.\n",
    "- In the Gene List section, select Gene ID type as \"Gene symbol\". Reset the \"Upload Gene List\", click on \"click to upload\" and upload `testset_genelist.txt` here.\n",
    "- In the Reference Gene List section, Click Reset, and click to upload a user reference set, and upload `background_genelist.txt`. Set the Type of reference set to \"gene Symbol\".\n",
    "- Under \"Advanced parameters\", make sure BH (Benjamini-Hochberg) is selected for multiple test correction, set the FDR to 0.05. Leave the other options unchanged.\n",
    "- Hit submit.  "
   ]
  },
  {
   "cell_type": "markdown",
   "metadata": {},
   "source": [
    "**Q12.** What background gene list did you select? Why is this important?   \n",
    "\n"
   ]
  },
  {
   "cell_type": "markdown",
   "metadata": {},
   "source": []
  },
  {
   "cell_type": "markdown",
   "metadata": {
    "collapsed": true
   },
   "source": [
    "**Q13.** Explore the output of the analysis. Does that tool find all of the genes that you provided? Why or why not? How could you fix this?"
   ]
  },
  {
   "cell_type": "markdown",
   "metadata": {},
   "source": []
  },
  {
   "cell_type": "markdown",
   "metadata": {},
   "source": [
    "**Q14.** Do any of the associations pass a FDR (false discovery rate) of 0.002 or better? What does \"significance level\" mean? If yes, do any of these categories make plausible or intuitive sense for the gene expression analysis that you performed?"
   ]
  },
  {
   "cell_type": "markdown",
   "metadata": {},
   "source": []
  },
  {
   "cell_type": "markdown",
   "metadata": {},
   "source": [
    "**Q15.** Here, we selected genes with nominal p < 0.001 for enrichment analysis. Was this choice warrented? Why or why not? Having performed this analysis, what might you do differently?"
   ]
  },
  {
   "cell_type": "markdown",
   "metadata": {},
   "source": []
  },
  {
   "cell_type": "markdown",
   "metadata": {},
   "source": []
  },
  {
   "cell_type": "markdown",
   "metadata": {},
   "source": [
    "**Q16.** One final item in your pipeline to finish it off: run the R function `sessionInfo()` to record the functions and versions used for your analysis.\n",
    "\n",
    "**Provide and execute your R code below.**"
   ]
  },
  {
   "cell_type": "code",
   "execution_count": 0,
   "metadata": {},
   "outputs": [],
   "source": []
  },
  {
   "cell_type": "markdown",
   "metadata": {},
   "source": [
    "### Congrats! You have completed your first pipeline! High five yourself and breathe a sigh of relief. :)"
   ]
  }
 ],
 "metadata": {
  "anaconda-cloud": {},
  "kernelspec": {
   "display_name": "R",
   "language": "R",
   "name": "ir"
  },
  "language_info": {
   "codemirror_mode": "r",
   "file_extension": ".r",
   "mimetype": "text/x-r-source",
   "name": "R",
   "pygments_lexer": "r",
   "version": "3.6.1"
  }
 },
 "nbformat": 4,
 "nbformat_minor": 4
}
