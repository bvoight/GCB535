{
 "cells": [
  {
   "cell_type": "markdown",
   "metadata": {},
   "source": [
    "# GCB5350: Debugging Code"
   ]
  },
  {
   "cell_type": "markdown",
   "metadata": {},
   "source": [
    "In this module, you will practice looking at, identifying, and correcting code that is *buggy*.\n",
    "\n",
    "Check out the code below. I have devided the code into cells (blocks) for you to dissect sequentially, but the ultimate goal here would be code that is fixed such that it \"works\" as the authors intended. \n",
    "\n",
    "The data files references in the code are provided to you in the working directory. _**Before trying to fix the code**_, you should look at the data files and understand what they contain. GExp\\_snippet.txt contains gene expression values for 3 genes across 6 samples. Loc\\_snippet.csv contains genomic coordinates for these genes. The goal of this code \\(when operating correctly\\) is to merge these two tables and replace each expression value with its [standard score \\(or z\\-score\\)](https://en.wikipedia.org/wiki/Standard_score) across samples. \n",
    "\n",
    "Here is the code:"
   ]
  },
  {
   "cell_type": "code",
   "execution_count": null,
   "metadata": {
    "vscode": {
     "languageId": "r"
    }
   },
   "outputs": [],
   "source": [
    "### BLOCK ONE - Read both files and merge them\n",
    "GExpr <- read.table(file=Gexp_snippet.csv, header=T)\n",
    "Loc <- read.table(file=Loc_snippet.txt, sep=\"\\t\")\n",
    "z <- left_join(GExpr,Loc, by=\"geneid\") %>%\n",
    "  relocate(chr,pos,.after=geneid) # This line is correct - see https://dplyr.tidyverse.org/reference/relocate.html \n",
    "\n",
    "### BLOCK TWO - calculate the mean and standard deviation of each gene across samples\n",
    "# c_across() lets you calculate summaries (like mean, sd, etc) across columns rather than across rows\n",
    "# See https://dplyr.tidyverse.org/reference/c_across.html for more info and examples\n",
    "z %>% \n",
    "  rowwise(geneID) %>% \n",
    "  mutate(ave = mean(c_across(starts_with(\"GTEX\"))),na.rm=T) %>%\n",
    "  mutate(sd = sd(c_across(starts_with(\"GTEX\")))) %>%\n",
    "  relocate(ave,sd.after=pos)\n",
    "\n",
    "### BLOCK THREE - replace expression values with standard scores (make sure you understand how to calculate a z-score)\n",
    "# Hint: make sure this for loop only loops across the expression values, not other values\n",
    "for (i in 1:length(x[,1])) {\n",
    "  for(j in 1:length(x[i,])) {\n",
    "    this_ave = x[1,]$ave\n",
    "    this_sd = x[i,]$sd\n",
    "    x[i,j] = x[i,j] - this_ave / this_sd\n",
    "  }\n",
    "}\n",
    "\n",
    "### BLOCK FOUR - calculate the mean and standard deviation of z-scores across samples\n",
    "x %>% \n",
    "  rowwise(geneID) %>% \n",
    "  mutate(ave = mean(c_across(starts_with(\"GTEX\")),na.rm=T) %>%\n",
    "  mutate(sd_std = sd(c_across(starts_with(\"GTEX\")))) %>%\n",
    "  relocate(ave,sd.after=pos)"
   ]
  },
  {
   "cell_type": "markdown",
   "metadata": {},
   "source": [
    "**Q1.** First, look over the code in its entirety. In your own words, what is the intent of the code here: what is the goal / objective that the author would like the code to achieve?"
   ]
  },
  {
   "cell_type": "markdown",
   "metadata": {},
   "source": []
  },
  {
   "cell_type": "markdown",
   "metadata": {},
   "source": [
    "**Q2.** Start with BLOCK ONE. In human terms, describe each problem that you see:"
   ]
  },
  {
   "cell_type": "markdown",
   "metadata": {},
   "source": [
    "1. \n",
    "2. \n",
    "..."
   ]
  },
  {
   "cell_type": "markdown",
   "metadata": {},
   "source": [
    "**Q3.** REVISE the code for BLOCK ONE which corrects the totality of the problems that you described above.\n",
    "\n",
    "**Provide and execute your code below.**"
   ]
  },
  {
   "cell_type": "code",
   "execution_count": null,
   "metadata": {
    "vscode": {
     "languageId": "r"
    }
   },
   "outputs": [],
   "source": []
  },
  {
   "cell_type": "markdown",
   "metadata": {},
   "source": [
    "**Q4.** Turn to BLOCK TWO. In human terms, describe each problem that you see:"
   ]
  },
  {
   "cell_type": "markdown",
   "metadata": {},
   "source": []
  },
  {
   "cell_type": "markdown",
   "metadata": {},
   "source": [
    "**Q5.** REVISE the code for BLOCK TWO which corrects the totality of the problems that you described above.\n",
    "\n",
    "**Provide and execute your code below.**"
   ]
  },
  {
   "cell_type": "code",
   "execution_count": null,
   "metadata": {
    "vscode": {
     "languageId": "r"
    }
   },
   "outputs": [],
   "source": []
  },
  {
   "cell_type": "markdown",
   "metadata": {},
   "source": [
    "**Q6.** Turn to BLOCK THREE. In human terms, describe each problem that you see:"
   ]
  },
  {
   "cell_type": "markdown",
   "metadata": {},
   "source": []
  },
  {
   "cell_type": "markdown",
   "metadata": {},
   "source": [
    "**Q7.** REVISE the code for BLOCK THREE which corrects the totality of the problems that you described above.\n",
    "\n",
    "**Provide and execute your code below.**"
   ]
  },
  {
   "cell_type": "code",
   "execution_count": null,
   "metadata": {
    "vscode": {
     "languageId": "r"
    }
   },
   "outputs": [],
   "source": []
  },
  {
   "cell_type": "markdown",
   "metadata": {},
   "source": [
    "**Q8.** Turn to BLOCK FOUR. In human terms, describe each problem that you see:"
   ]
  },
  {
   "cell_type": "markdown",
   "metadata": {},
   "source": []
  },
  {
   "cell_type": "markdown",
   "metadata": {},
   "source": [
    "**Q9.** REVISE the code for BLOCK FOUR which corrects the totality of the problems that you described above.\n",
    "\n",
    "**Provide and execute your code below.**"
   ]
  },
  {
   "cell_type": "code",
   "execution_count": null,
   "metadata": {
    "vscode": {
     "languageId": "r"
    }
   },
   "outputs": [],
   "source": []
  },
  {
   "cell_type": "markdown",
   "metadata": {},
   "source": [
    "**Q10.** OK, pull it all together now: Aggregate all of your 'repaired' code!\n",
    "\n",
    "**Provide and execute your code below."
   ]
  },
  {
   "cell_type": "code",
   "execution_count": null,
   "metadata": {
    "vscode": {
     "languageId": "r"
    }
   },
   "outputs": [],
   "source": []
  },
  {
   "cell_type": "markdown",
   "metadata": {},
   "source": [
    "In practice, you wouldn't have this -- but I'm sharing with you an \"answer\" so that you can cross compare!\n",
    "\n",
    "| geneid   | chr | pos     | ave_std   | sd_std | ave   | sd    | GTEX.A01 | GTEX.A02 | GTEX.A03 | GTEX.A04 | GTEX.A05 | GTEX.A06 |\n",
    "|----------|-----|---------|-----------|--------|-------|-------|----------|----------|----------|----------|----------|----------|\n",
    "| ENSG0001 | 11  | 1023832 | -6.66E-17 | 1      | -1.2  | 2.22  | 1.03     | -0.45    | 1.12     | NA       | -0.855   | -0.855   |\n",
    "| ENSG0002 | 17  | 199299  | -1.11E-16 | 1      | -1.42 | 2.31  | -0.643   | -0.643   | -0.643   | -0.643   | 1.44     | 1.13     |\n",
    "| ENSG0003 | 22  | 111238  | -3.89E-17 | 1      | 1.26  | 0.207 | -1.25    | -0.772   | NA       | 0.193    | 0.675    | 1.16     |"
   ]
  }
 ],
 "metadata": {
  "kernelspec": {
   "display_name": "R",
   "language": "R",
   "name": "ir"
  },
  "language_info": {
   "codemirror_mode": "r",
   "file_extension": ".r",
   "mimetype": "text/x-r-source",
   "name": "R",
   "pygments_lexer": "r",
   "version": "3.6.1"
  }
 },
 "nbformat": 4,
 "nbformat_minor": 4
}
