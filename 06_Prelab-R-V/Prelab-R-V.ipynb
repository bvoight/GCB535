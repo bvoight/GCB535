{
 "cells": [
  {
   "cell_type": "markdown",
   "metadata": {},
   "source": [
    "# Prelab: Return to the tidyverse (R - V)"
   ]
  },
  {
   "cell_type": "markdown",
   "metadata": {},
   "source": [
    "There is a great deal of functionality attached to the [\"tidyverse\"](https://www.tidyverse.org/).\n",
    "\n",
    "For your reference, below we have included links that will be very helpful as you continue to grow your understanding and practice using tidyverse for data parsing.\n",
    "\n",
    "For example, you can usually go to the `dplyr` or `tidyr` website and search for functions -- in fact, if you google them, typically you will head exactly to those pages.\n",
    "\n",
    "Sometimes you will want to do \"something\" but not know exactly how to do it; in these cases, you can use function reference pages to see what functionality exists and use that to engineer code that achieves your goals. I find that using cheatsheets (with some pictures) is very helpful for  to 'visualize' what one want to accomplish; then, use function references to get the syntax of the code just right.\n",
    "\n",
    "ggplot2 is another example where there is *so many* different types of plots that can be created. People really take visualization (and style with it) very seriously. The good news for you is that sometimes, those style choices are embedded in code that you can reuse for your purposes! So with a little bit of searching, and understanding of syntax, you can adopt those extensions and code for your specific uses."
   ]
  },
  {
   "cell_type": "markdown",
   "metadata": {},
   "source": [
    "## Resources"
   ]
  },
  {
   "cell_type": "markdown",
   "metadata": {},
   "source": [
    "[R for Data Science](https://r4ds.had.co.nz/) is an online book which walk through the entirety of the tidyverse/ggplot data science architecture (albeit, not with biological examples). Recommended if you find yourself wanting to teach yourself more and working in this environment!\n",
    "\n",
    "tidyverse website - https://www.tidyverse.org/\n",
    "\n",
    "**REFERENCES to websites where if you searched in Google for a function (e.g., `rename function tidyverse`) you will invarably be taken:**\n",
    "\n",
    "dplyr website - search to lookup functions: https://dplyr.tidyverse.org/\n",
    "\n",
    "tidyr website - search to lookup functions: https://tidyr.tidyverse.org/\n",
    "\n",
    "ggplot2 website - search to lookup functions: https://ggplot2.tidyverse.org/\n",
    "\n",
    "dplyr function reference page: https://dplyr.tidyverse.org/reference/index.html\n",
    "\n",
    "tidyr function reference page: https://tidyr.tidyverse.org/reference/index.html\n",
    "\n",
    "ggplot2 function reference page: https://ggplot2.tidyverse.org/reference/index.html\n",
    "\n",
    "An set of ggplot2 extensions for packages/formatting: https://exts.ggplot2.tidyverse.org/gallery/\n",
    "\n",
    "**WE HIGHLY RECOMMENDED YOU TAKE A LOOK AT THESE CHEATSHEETS TO SEE THE MANY OPTIONS AVAILABLE IN DPLYR & GGPLOT:**\n",
    "\n",
    "Website with all cheatshees: https://www.rstudio.com/resources/cheatsheets/\n",
    "\n",
    "tidyr cheatsheet: https://raw.githubusercontent.com/rstudio/cheatsheets/main/tidyr.pdf\n",
    "\n",
    "dplyr cheatsheet: https://raw.githubusercontent.com/rstudio/cheatsheets/main/data-transformation.pdf\n",
    "\n",
    "ggplot cheatsheet: https://raw.githubusercontent.com/rstudio/cheatsheets/main/data-visualization.pdf\n",
    "\n",
    "**Additional tutorials:**\n",
    "\n",
    "A dplyr tutorial: http://genomicsclass.github.io/book/pages/dplyr_tutorial.html\n",
    "\n",
    "Data processing in tidyr & dplyr: https://rpubs.com/bradleyboehmke/data_wrangling\n",
    "\n",
    "DataCamp dplyr tutorial: https://www.datacamp.com/courses/dplyr-data-manipulation-r-tutorial/\n",
    "\n",
    "DataCamp ggplot tutorial: https://www.datacamp.com/courses/data-visualization-with-ggplot2-1\n"
   ]
  }
 ],
 "metadata": {
  "kernelspec": {
   "display_name": "R",
   "language": "R",
   "name": "ir"
  },
  "language_info": {
   "codemirror_mode": "r",
   "file_extension": ".r",
   "mimetype": "text/x-r-source",
   "name": "R",
   "pygments_lexer": "r",
   "version": "3.6.1"
  }
 },
 "nbformat": 4,
 "nbformat_minor": 1
}
