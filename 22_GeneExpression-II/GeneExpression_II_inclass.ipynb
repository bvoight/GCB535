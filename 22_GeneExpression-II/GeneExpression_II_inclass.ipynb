{
 "cells": [
  {
   "cell_type": "markdown",
   "metadata": {
    "collapsed": false
   },
   "source": [
    "## Analysis of Gene Expression Data via Arrays using Bioconductor/R - II"
   ]
  },
  {
   "cell_type": "markdown",
   "metadata": {
    "collapsed": false
   },
   "source": [
    "#### Today, this notebook constitutes your in-class activity and homework. \n",
    "\n",
    "#### We will pick up from where we left off with the analysis of our gene expression data set from last time."
   ]
  },
  {
   "cell_type": "markdown",
   "metadata": {
    "collapsed": false
   },
   "source": [
    "#### Q1. Let's recover our pipline from last time.\n",
    "\n",
    "- Copy code from the previous in-class set from: Q4, Q7, Q8 and Q9. These are the steps that correspond to:\n",
    "\n",
    "1. loading R libraries\n",
    "2. loading the file that maps phenotype to cel files (i.e., the .csv file)\n",
    "3. storing the list of cel files available\n",
    "4. reading the cel files, and (v) making the box plot. (Remember to only include the CEL files of interest here)\n",
    "\n",
    "- At the end, you should have a boxplot of the data loaded. We'll pick up here!"
   ]
  },
  {
   "cell_type": "code",
   "execution_count": 0,
   "metadata": {
    "collapsed": false
   },
   "outputs": [
   ],
   "source": [
   ]
  },
  {
   "cell_type": "markdown",
   "metadata": {
    "collapsed": false
   },
   "source": [
    "#### Q2. Our next step will be to normalize the intensity data using RMA, and store the normalized data in a variable called \"genenorm\". Provide and execute your R code."
   ]
  },
  {
   "cell_type": "code",
   "execution_count": 0,
   "metadata": {
    "collapsed": false
   },
   "outputs": [
   ],
   "source": [
   ]
  },
  {
   "cell_type": "markdown",
   "metadata": {
    "collapsed": false
   },
   "source": [
    "#### Q3.  Plot a boxplot for the normalized intensity data. Provide and execute your R code."
   ]
  },
  {
   "cell_type": "code",
   "execution_count": 0,
   "metadata": {
    "collapsed": false
   },
   "outputs": [
   ],
   "source": [
   ]
  },
  {
   "cell_type": "markdown",
   "metadata": {
    "collapsed": false
   },
   "source": [
    "#### Q4. 6. Prepare your design matrix for the analysis\n",
    "\n",
    "- create list of your treated/untreated sample and store in a variable called \"group\". Print it to the screen.\n",
    "- create the design matrix using the \"group\" variable, and store in a variable called \"design\". Print it to the screen.\n",
    "\n",
    "#### Provide and execute your R code below. "
   ]
  },
  {
   "cell_type": "code",
   "execution_count": 0,
   "metadata": {
    "collapsed": false
   },
   "outputs": [
   ],
   "source": [
   ]
  },
  {
   "cell_type": "markdown",
   "metadata": {
    "collapsed": false
   },
   "source": [
    "#### Q5. Great! We can now finally perform the gene expression analysis.\n",
    "\n",
    "- Analyze the data using the R function `lmFit()`. Use your \"design\" and \"genenorm\" variables as arguments. Store result in a new variable called \"fit\".\n",
    "- Apply empirical Bayes correction using the R function `eBayes()`. Store result a variable called \"efit\".\n",
    "- Obtain the top 100 results from the \"efit\" variable using the R function `topTable()`. Sort this by P-value, and store result in variable called \"tt\"\n",
    "- Output the top 5 results to the screen.\n",
    "\n",
    "#### Provide and execute your R code below. "
   ]
  },
  {
   "cell_type": "code",
   "execution_count": 0,
   "metadata": {
    "collapsed": false
   },
   "outputs": [
   ],
   "source": [
   ]
  },
  {
   "cell_type": "markdown",
   "metadata": {
    "collapsed": false
   },
   "source": [
    "#### Q6. Generate summary outputs for your top results.\n",
    "\n",
    "- Output to file the list of your top 100 results variable tt to a file named \"mytop100results.txt\". Exclude quotation marks, separate the entries by comma, and include row and column names in the output table. \n",
    "\n",
    "#### Provide and execute your R code below. "
   ]
  },
  {
   "cell_type": "code",
   "execution_count": 0,
   "metadata": {
    "collapsed": true
   },
   "outputs": [
   ],
   "source": [
   ]
  },
  {
   "cell_type": "markdown",
   "metadata": {
    "collapsed": false
   },
   "source": [
    "#### Q7. Make a volcano plot of all of your results from the \"efit\" variable, using the argument \"coef=2\" (i.e., so as to plot the association p-values for gene expression, rather than the intercept). \n",
    "\n",
    "#### Provide and execute your R code below. "
   ]
  },
  {
   "cell_type": "code",
   "execution_count": 0,
   "metadata": {
    "collapsed": false
   },
   "outputs": [
   ],
   "source": [
   ]
  },
  {
   "cell_type": "markdown",
   "metadata": {
    "collapsed": false
   },
   "source": [
    "#### Q9. Some final \"challenge\" questions about the analysis you performed here.\n",
    "\n",
    "- How many probes did you analyze in total? (Hint: look at the eFit object)"
   ]
  },
  {
   "cell_type": "code",
   "execution_count": 0,
   "metadata": {
    "collapsed": false
   },
   "outputs": [
   ],
   "source": [
   ]
  },
  {
   "cell_type": "markdown",
   "metadata": {
    "collapsed": false
   },
   "source": [
    "#### Q10. How many probes returned an adjusted p-value less than 0.05? \n",
    "\n",
    "- Create a table with all of the results from the \"efit\" object into a new object called \"allTT\"\n",
    "- TIP: Think through (in human terms) the specific tasks/function calls you will need to do perform the task.\n",
    "- Hint: there are three specific tasks/steps, and two functions that will be helpful to you. \n",
    "\n",
    "#### Provide and execute your R code below. \n"
   ]
  },
  {
   "cell_type": "code",
   "execution_count": 0,
   "metadata": {
    "collapsed": false
   },
   "outputs": [
   ],
   "source": [
   ]
  },
  {
   "cell_type": "markdown",
   "metadata": {
    "collapsed": false
   },
   "source": [
    "#### Q11. One final item in your pipeline to finish it off complete.\n",
    "\n",
    "- run the R function sessionInfo() to record the functions and versions used for your analysis.\n",
    "\n",
    "#### Provide and execute your R code below. "
   ]
  },
  {
   "cell_type": "code",
   "execution_count": 0,
   "metadata": {
    "collapsed": false
   },
   "outputs": [
   ],
   "source": [
   ]
  },
  {
   "cell_type": "markdown",
   "metadata": {
    "collapsed": false
   },
   "source": [
    "### Congrats! You have completed part 2. Feel free to continue on to Part 3, so that you can get ahead of the work in class! :)"
   ]
  }
 ],
 "metadata": {
  "kernelspec": {
   "display_name": "R (SageMath)",
   "language": "r",
   "name": "ir-sage"
  },
  "language_info": {
   "codemirror_mode": "r",
   "file_extension": ".r",
   "mimetype": "text/x-r-source",
   "name": "R",
   "pygments_lexer": "r",
   "version": "3.2.4"
  }
 },
 "nbformat": 4,
 "nbformat_minor": 0
}