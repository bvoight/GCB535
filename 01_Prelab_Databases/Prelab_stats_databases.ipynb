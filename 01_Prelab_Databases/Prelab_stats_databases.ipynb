{
 "cells": [
  {
   "cell_type": "markdown",
   "metadata": {},
   "source": [
    "# Pre-lab: Stats and Genomic Databases"
   ]
  },
  {
   "cell_type": "markdown",
   "metadata": {},
   "source": [
    "## I. Statistics Primer and Review"
   ]
  },
  {
   "cell_type": "markdown",
   "metadata": {},
   "source": [
    "Often in bioinformatics, we need to remind ourselves to think somewhat in statistical or probabilistic terms.\n",
    "\n",
    "If you need a refresher, head to Canvas and review the slides and recorded lecture \"Statistical Inference in Bioinformatics\" (recorded by Shane Jensen, statistics). This is a **very** cursory review, not designed to be comprehensive. Then, answer the following questions. "
   ]
  },
  {
   "cell_type": "markdown",
   "metadata": {},
   "source": [
    "Q1. Describe, in statistical terms, the concept of a \"null hypothesis\". How are ways a null hypothesis can be utilzed? "
   ]
  },
  {
   "cell_type": "raw",
   "metadata": {
    "collapsed": true
   },
   "source": []
  },
  {
   "cell_type": "markdown",
   "metadata": {},
   "source": [
    "Q2. What is a test statistic, and how it is used?"
   ]
  },
  {
   "cell_type": "raw",
   "metadata": {},
   "source": []
  },
  {
   "cell_type": "markdown",
   "metadata": {},
   "source": [
    "Q3. If we reject the null hypothesis at alpha = 5% level, what does that mean?"
   ]
  },
  {
   "cell_type": "raw",
   "metadata": {},
   "source": []
  },
  {
   "cell_type": "markdown",
   "metadata": {},
   "source": [
    "Q4. Explain the issue of multiple hypothesis testing, and the implication. Give two statistical procedures to address this concern, and describe how to employ them."
   ]
  },
  {
   "cell_type": "raw",
   "metadata": {},
   "source": []
  },
  {
   "cell_type": "markdown",
   "metadata": {
    "collapsed": true
   },
   "source": [
    "## II. Databases"
   ]
  },
  {
   "cell_type": "markdown",
   "metadata": {},
   "source": [
    "One of the first steps in any computational project is to determine what data **already exists** that one can utilize to address scientific questions or gather information. Take 10 minutes to web browse and investigate one or more of the databases given below. "
   ]
  },
  {
   "cell_type": "markdown",
   "metadata": {},
   "source": [
    "** List of Genomic Databases **\n",
    "\n",
    "NCBI Entrez - http://www.ncbi.nlm.nih.gov/sites/gquery - huge database that encompasses other databases, including:\n",
    "- PubMed for Journal Articles - http://www.ncbi.nlm.nih.gov/pubmed/\n",
    "- GenBank for Raw Sequence - http://www.ncbi.nlm.nih.gov/genbank/\n",
    "- RefSeq for Non-Redundant Sequence - http://www.ncbi.nlm.nih.gov/RefSeq/\n",
    "- OMIM for Genetic Diseases - http://www.ncbi.nlm.nih.gov/omim?db=omim\n",
    "- dbSNP for Polymorphisms - http://www.ncbi.nlm.nih.gov/snp?db=snp\n",
    "- GEO for Gene Expression Data - http://www.ncbi.nlm.nih.gov/geo/\n",
    "- SRA for high-throughput sequencing data - https://www.ncbi.nlm.nih.gov/sra/\n",
    "\n",
    "ExPASy - http://expasy.org/ - Another large database encompassing other databases:\n",
    "- Uniprot for Protein Sequence/Annotation - http://www.uniprot.org/\n",
    "- PROSITE for Protein Sequence Patterns - http://prosite.expasy.org/\n",
    "- GeneCards - http://www.genecards.org/ - Gene-centered portal to information from many other databases\n",
    "- Gene Ontology (GO) - http://www.geneontology.org/ - Hierarchy of gene annotations\n",
    "- MGED - http://www.mged.org/ - Database of gene expression/microarray results \n",
    "\n",
    "Human genetic variation data sets:\n",
    "- 1000 Genomes Project - https://www.internationalgenome.org/ - catalog of human variation data across continents\n",
    "- ExAC - http://exac.broadinstitute.org - database of human coding mutational variation across populations\n",
    "- gnomAD - https://gnomad.broadinstitute.org/ - aggregated database and browser of whole-genome sequencing data\n",
    "\n",
    "[EMBL-EBI](https://www.ebi.ac.uk/) (The European Molecular Biology Laboratory - European Bioinformatics Institute) hosts as large number of large, 'big data' [essential resources](https://www.ebi.ac.uk/services), including (but not limited to):\n",
    "- ENSEMBL - http://useast.ensembl.org/index.html - Large-scale repository for genome accessioning and annotation\n",
    "- GWAS Catalog - https://www.ebi.ac.uk/gwas/ - repository of genome-wide association study (GWAS) summary statistics\n",
    "- AlphaFolddB - https://alphafold.ebi.ac.uk/ - open access to >200 million protein structure predictions\n",
    "- OpenTargets - https://genetics.opentargets.org/ - target discovery of likely genes from GWAS studies\n",
    "- GENCODE - https://www.gencodegenes.org/ - Evidecne-based annotation effort to identify and classify all gene features in human and mouse\n",
    "\n",
    "Some Human genomics resources include:\n",
    "- Human Cell Atlas - https://www.humancellatlas.org/ - aggregation of single-cell profiling in humans\n",
    "- Human Protein Atlas - https://www.proteinatlas.org/ - proteomics profiling experiments in humans\n",
    "- ENCODE - http://www.genome.gov/10005107 - Encyclopedia of DNA Elements\n",
    "- Roadmap Epigenomics - https://egg2.wustl.edu/roadmap/web_portal/ - profiles of 111 human epigenomes\n",
    "- GTEx - https://gtexportal.org/home/ - Genotype-Tissue Expression atlas; expression plus genetic variation associated with molecular phenotypes (expression, splicing)\n",
    "- The Cancer Genome Atlast - https://www.cancer.gov/ccg/research/genome-sequencing/tcga - tools and access to cancer genomics data\n",
    "\n",
    "Model Systems Databases:\n",
    "- Fruit Fly - https://flybase.org/\n",
    "- Worm - https://wormbase.org/\n",
    "- Arabidopsis - https://www.arabidopsis.org/\n",
    "- Mouse - https://www.informatics.jax.org/\n",
    "- Mouse Phenotyping - https://phenome.jax.org/, https://www.mousephenotype.org/\n",
    "\n",
    "This list is by no means complete, for more databases see the most recent Database Summary Paper Alpha List: http://www.oxfordjournals.org/nar/database/a/"
   ]
  },
  {
   "cell_type": "markdown",
   "metadata": {},
   "source": [
    "In particular, the in class activity will focus on the UCSC genome brower\n",
    "\n",
    "- http://genome.ucsc.edu/ \n",
    "\n",
    "a portal that uses a Track-based system to summarize information from many databases of genomic sequence and annotations. \n",
    "\n",
    "Spend 5 minutes on your own exploring this rich resource."
   ]
  }
 ],
 "metadata": {
  "kernelspec": {
   "display_name": "Python 3",
   "language": "python",
   "name": "python3"
  },
  "language_info": {
   "codemirror_mode": {
    "name": "ipython",
    "version": 3
   },
   "file_extension": ".py",
   "mimetype": "text/x-python",
   "name": "python",
   "nbconvert_exporter": "python",
   "pygments_lexer": "ipython3",
   "version": "3.8.10"
  },
  "name": "Online_database_in_class.ipynb"
 },
 "nbformat": 4,
 "nbformat_minor": 1
}
