{
 "cells": [
  {
   "cell_type": "markdown",
   "metadata": {},
   "source": [
    "# GCB535 - Creating a pipeline for analysis"
   ]
  },
  {
   "cell_type": "markdown",
   "metadata": {},
   "source": [
    "## Instructions"
   ]
  },
  {
   "cell_type": "markdown",
   "metadata": {},
   "source": [
    "In this adventure, you will convert the \"pipeline\" we debugged in the previous adventure to an actual pipeline (with some outputs).\n",
    "\n",
    "Once pipelined, you can then use the power of automation to normalize a bunch of data files and look at the outputs.\n",
    "\n",
    "Here is the 'debugged' version of the previous code:"
   ]
  },
  {
   "cell_type": "code",
   "execution_count": null,
   "metadata": {},
   "outputs": [],
   "source": [
    "### My first pipeline: GExpr_std_pipe.R\n",
    "\n",
    "## written by: XXXX\n",
    "## created on: YYYY\n",
    "\n",
    "## This code is designed to take in two comma separated value files, one with gene expression data\n",
    "## the other with gene location information, merge the tables, and standardize the expression \n",
    "## values.\n",
    "\n",
    "## BLOCK ZERO\n",
    "## Load libraries used for this pipeline\n",
    "library(tidyverse)\n",
    "\n",
    "## BLOCK 0.5\n",
    "## Read input directly from the command line\n",
    "\n",
    "### BLOCK ONE\n",
    "## This bit of code: ...\n",
    "GExpr <- read.table(file=\"GExp_snippet.csv\", sep=\",\",header=T)\n",
    "Loc <- read.table(file=\"Loc_snippet.csv\", sep=\",\", header=T)\n",
    "z <- left_join(GExpr,Loc, by=\"geneid\") %>%\n",
    "      relocate(chr,pos,.after=geneid)\n",
    "\n",
    "### BLOCK TWO\n",
    "## This bit of code: ...\n",
    "x <- z %>%\n",
    "  rowwise(geneid) %>%\n",
    "  mutate(ave = mean(c_across(starts_with(\"GTEX\")),na.rm=T)) %>%\n",
    "  mutate(sd = sd(c_across(starts_with(\"GTEX\")),na.rm=T)) %>%\n",
    "  relocate(ave,sd,.after=pos)\n",
    "\n",
    "\n",
    "### BLOCK THREE\n",
    "## This bit of code: ...\n",
    "for (i in seq_along(rownames(x))) {\n",
    "  for(j in 6:length(x[i,])) {\n",
    "      this_ave = x[i,]$ave\n",
    "      this_sd = x[i,]$sd\n",
    "      x[i,j] = (x[i,j] - this_ave) / this_sd\n",
    "  }\n",
    "}\n",
    "\n",
    "### BLOCK FOUR\n",
    "## This bit of code: ...\n",
    "x <- x %>%\n",
    "  rowwise(geneid) %>%\n",
    "  mutate(ave_std = mean(c_across(starts_with(\"GTEX\")),na.rm=T)) %>%\n",
    "  mutate(sd_std = sd(c_across(starts_with(\"GTEX\")), na.rm=T)) %>%\n",
    "  relocate(ave_std,sd_std,.after=sd)\n",
    "         \n",
    "### BLOCK FIVE\n",
    "## This bit of code: ...\n"
   ]
  },
  {
   "cell_type": "markdown",
   "metadata": {},
   "source": [
    "**Q1.** First, edit the above code to make this more 'readable'. Use comments to:\n",
    "\n",
    "* Put author, and date when the pipeline was created.\n",
    "* Give one comment for each block of code to describe what the block is designed to do.\n",
    "\n",
    "**Add your edits to the code above.**"
   ]
  },
  {
   "cell_type": "markdown",
   "metadata": {},
   "source": [
    "**Q2.** Next, add a new block of code - **BLOCK FIVE** which:\n",
    "\n",
    "* writes the output of the table `x` to a new table called: `GExp_snippet.csv.std`\n",
    "* arguments to `write.table()`: no row names, do include column names, do not include quotes, separate the data by comma.\n",
    "\n",
    "**Add your block of code to the above.**"
   ]
  },
  {
   "cell_type": "markdown",
   "metadata": {},
   "source": [
    "**Q3.** Now let's make the file input *more generic* by:\n",
    "\n",
    "* Add code to section **BLOCK 0.5** to obtain files that need to be analyzed from the command line.\n",
    "* Modify the file argument in `read.table()` in **BLOCK ONE** to utilize those that were specified on the command line.\n",
    "\n",
    "In case it is helpful, the slides from the short lecture today are available on Canvas. (Slides 15 and 16 might particularly be helpful here.)\n",
    "\n",
    "**Provide your edits to the code above.**"
   ]
  },
  {
   "cell_type": "markdown",
   "metadata": {},
   "source": [
    "**Q4.** There's one more change that we need to make: Our output file is a 'generic' name that will be overwritten each time the code runs! Let's make that *more generic* by further modifying **BLOCK FIVE** code to:\n",
    "\n",
    "* Creates a new variable called `outfile`. \n",
    "* use `paste(sep=\"\")` to create a new file name, one that contains the filename the user specified on the command line - the one used to create the variable `GExpr`, but appends \".std\" to it.\n",
    "* Change the output from what you had previously to `outfile`.\n",
    "\n",
    "(**Note:** Cocalc will be VERY confused if you try to open this newly created file because it thinks you've changed the file extension. But this does not matter in UNIX -- from within a UNIX terminal using `head` or `more` would work fine). \n",
    "\n",
    "**Modify the code to the above.**"
   ]
  },
  {
   "cell_type": "markdown",
   "metadata": {},
   "source": [
    "**Q5.** OK, now we're ready to port this over into UNIX and try this out via `Rscript`:\n",
    "\n",
    "* Open a UNIX terminal (Remember UNIX? click 'Files' -> \"(+) New\" -> \">_ Linux Terminal\")\n",
    "* In UNIX, use `touch` to create a new file called `GExpr_std_pipe.R`\n",
    "* Open this file using the text editor `nano`, and copy the entire portion of code you edited/created above into this .R script\n",
    "* Save the file.\n",
    "* Use `Rscript` and the \"example\" files referenced in the script / we used previously (`GExp_snippet.csv` and `Loc_snippet.csv`) to test your script out. This **might** look like:\n",
    "   \n",
    "        %> Rscript GExpr_std_pipe.R --args GExp_snippet.csv Loc_snippet.csv\n",
    "       \n",
    "But this might vary on how you have your file input prepared.\n",
    "\n",
    "* Check to see that you've created the expected output file and that it looks like what you expect!"
   ]
  },
  {
   "cell_type": "markdown",
   "metadata": {},
   "source": [
    "To save you from flipping back and forth, here's \"the answer\" you should get to make sure your output is correct!\n",
    "\n",
    "| geneid   | chr | pos     | ave   | sd | ave_std   | sd_std    | GTEX.A01 | GTEX.A02 | GTEX.A03 | GTEX.A04 | GTEX.A05 | GTEX.A06 |\n",
    "|----------|-----|---------|-----------|--------|-------|-------|----------|----------|----------|----------|----------|----------|\n",
    "| ENSG0001 | 11  | 1023832 | -1.2 | 2.22      | -6.66E-17  | 1  | 1.03     | -0.45    | 1.12     | NA       | -0.855   | -0.855   |\n",
    "| ENSG0002 | 17  | 199299  | -1.42 | 2.31      | -1.11E-16 | 1  | -0.643   | -0.643   | -0.643   | -0.643   | 1.44     | 1.13     |\n",
    "| ENSG0003 | 22  | 111238  | 1.26 | 0.207      | -3.89E-17  | 1 | -1.25    | -0.772   | NA       | 0.193    | 0.675    | 1.16     |"
   ]
  },
  {
   "cell_type": "markdown",
   "metadata": {},
   "source": [
    "**Q6.** Now, the power of automation! We have provided you with 3 data sets (exp1, exp2, exp3):\n",
    "\n",
    "    /data\n",
    "    \n",
    "Using your script, analyze each of the 3 data sets provided and generate outputs!"
   ]
  },
  {
   "cell_type": "markdown",
   "metadata": {},
   "source": [
    "**Q7.** Bonus / food for thought: You'll note that if you had 1000s of experiments to analyze, it would be a real pain to write out the command line for each one -- you have better thing to do than that!\n",
    "\n",
    "What could you do to save yourself from needing to do that? How would you modify the code to achieve that?\n",
    "\n",
    "If you want, for fun, play with your script to see if you can get that to work!"
   ]
  }
 ],
 "metadata": {
  "kernelspec": {
   "display_name": "R",
   "language": "R",
   "name": "ir"
  },
  "language_info": {
   "codemirror_mode": "r",
   "file_extension": ".r",
   "mimetype": "text/x-r-source",
   "name": "R",
   "pygments_lexer": "r",
   "version": "3.6.1"
  }
 },
 "nbformat": 4,
 "nbformat_minor": 4
}
