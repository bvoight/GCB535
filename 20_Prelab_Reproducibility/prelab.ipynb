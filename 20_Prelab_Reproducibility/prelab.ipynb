{
 "cells": [
  {
   "cell_type": "markdown",
   "metadata": {
    "collapsed": true
   },
   "source": [
    "# Pre-Class: Reproducible Computational Research"
   ]
  },
  {
   "cell_type": "markdown",
   "metadata": {
    "collapsed": false
   },
   "source": [
    "## Part 1: Introduction ##"
   ]
  },
  {
   "cell_type": "markdown",
   "metadata": {
    "collapsed": false
   },
   "source": [
    "The concept of **reproducible computational research** is that any computational result you generate, such as numbers, figures, tables, etc. can be re-generated with minimal effort by other people and yourself. The purpose of this lecture is to show you why reproducibility is necessary in computational research and how to perform reproducible research."
   ]
  },
  {
   "cell_type": "markdown",
   "metadata": {
    "collapsed": false
   },
   "source": [
    "There are two papers talking about this idea. You can download them from CoCalc.\n",
    "\n",
    "1. Reproducible Research in Computational Science by Roger D. Peng\n",
    "2. Ten Simple Rules for Reproducible Computational Research by Sandve et. al.\n"
   ]
  },
  {
   "cell_type": "markdown",
   "metadata": {
    "collapsed": false
   },
   "source": [
    "**Question 1:** Why is it important to make your research reproducible?"
   ]
  },
  {
   "cell_type": "code",
   "execution_count": 0,
   "metadata": {
    "collapsed": true
   },
   "outputs": [
   ],
   "source": [
   ]
  },
  {
   "cell_type": "markdown",
   "metadata": {
    "collapsed": false
   },
   "source": [
    "**Question 2:** Imagine that you just finished a computational project and submitted the paper to a journal. What can you do to make sure that other people and yourself can reproduce your results? (Give at least two examples)"
   ]
  },
  {
   "cell_type": "code",
   "execution_count": 0,
   "metadata": {
    "collapsed": true
   },
   "outputs": [
   ],
   "source": [
   ]
  },
  {
   "cell_type": "markdown",
   "metadata": {
    "collapsed": false
   },
   "source": [
    "\n",
    "\n",
    "### What is a program?\n",
    "\n",
    "A program is basically a set of instructions that tells the computer how to perform a task. You can think of a program a bit like a recipe: it gives step-by-step instructions on how to combine data and functions (ingredients) to achieve the desired end result (a tasty cake).\n",
    "\n",
    "The words \"program\" and \"script\" can often be used interchangeably, though \"script\" is generally used to describe quicker, simpler programs.\n",
    "\n",
    "### What is a programming language?\n",
    "\n",
    "A program must be written in a language the computer can understand -- but computers only understand binary (0's and 1's)! Writing code in binary is hard for humans and takes a very long time. \n",
    "\n",
    "Programming languages were created to help translate between a language that humans are comfortable with to something a computer can actually understand. Programming languages usually consist of common English words, such as \"print\", \"and\", \"or\", \"if\", etc, which humans can understand very easily. Then, under the hood, the programming language translates that code into the corresponding strings of 0's and 1's using an \"interpreter\" or \"compiler\" (depending on the language). This translated code is what is actually run by the computer.\n",
    "\n",
    "There are a huge variety of programming languages out there. They all ultimately do the same thing -- give humans an easier way of communicating with the computer -- but the exact types of \"words\" and \"grammar\" that the language allows can differ quite widely. In this course we will focus on R and Python.\n"
   ]
  },
  {
   "cell_type": "markdown",
   "metadata": {
    "collapsed": false
   },
   "source": [
    "**Other resources**"
   ]
  },
  {
   "cell_type": "markdown",
   "metadata": {
    "collapsed": false
   },
   "source": [
    "There are serveral great courses in Coursera teaching reproducible research. For those who are interested in this topic, you can go to [this course](https://www.coursera.org/course/repdata)"
   ]
  }
 ],
 "metadata": {
  "kernelspec": {
   "display_name": "Python 2 (SageMath)",
   "language": "python",
   "name": "python2"
  },
  "language_info": {
   "codemirror_mode": {
    "name": "ipython",
    "version": 2
   },
   "file_extension": ".py",
   "mimetype": "text/x-python",
   "name": "python",
   "nbconvert_exporter": "python",
   "pygments_lexer": "ipython2",
   "version": "2.7.14"
  },
  "name": "prelab.ipynb"
 },
 "nbformat": 4,
 "nbformat_minor": 0
}