{
 "cells": [
  {
   "cell_type": "markdown",
   "metadata": {},
   "source": [
    "# CoCalc Setup and Ethics Assignment"
   ]
  },
  {
   "cell_type": "markdown",
   "metadata": {},
   "source": [
    "## CoCalc Setup"
   ]
  },
  {
   "cell_type": "markdown",
   "metadata": {},
   "source": [
    "The first goal of this assignment is to make sure you set up your CoCalc account correctly. Your course project folder will always appear as \n",
    "\n",
    "2023-GCB535-**Your Name**\n",
    "\n",
    "Please fill in your name and email in the following cells. Double click the cell to edit it. After you finish just close this tab by clicking the \"x\" on the blue tab on the top of the page."
   ]
  },
  {
   "cell_type": "markdown",
   "metadata": {},
   "source": [
    "## Please type your name in the following cell. Double click the cell to edit it."
   ]
  },
  {
   "cell_type": "raw",
   "metadata": {
    "collapsed": true
   },
   "source": []
  },
  {
   "cell_type": "markdown",
   "metadata": {},
   "source": [
    "Please type your email address in the following cell. Double click the cell to edit it."
   ]
  },
  {
   "cell_type": "raw",
   "metadata": {
    "collapsed": true
   },
   "source": []
  },
  {
   "cell_type": "markdown",
   "metadata": {},
   "source": [
    "If you have any trouble with CoCalc, please don't hesitate to ask the TAs for help. "
   ]
  },
  {
   "cell_type": "markdown",
   "metadata": {},
   "source": [
    "## Plagiarism"
   ]
  },
  {
   "cell_type": "markdown",
   "metadata": {},
   "source": [
    "We wanted to take a moment to briefly remind you of our course's plagiarism policy.\n",
    "\n",
    "Plagiarism occurs when scientists use words that are not their own. There are numerous resources that can clarify plagiarism.\n",
    "\n",
    "[Penn's description is pithy but straight forward.](https://catalog.upenn.edu/pennbook/code-of-academic-integrity)\n",
    "\n",
    "[This site from Harvard](https://usingsources.fas.harvard.edu/what-constitutes-plagiarism) has examples of various types of plagiarism. There are a number of services that scan documents on the internet to help to detect plagiarism in scientific writing. The course syllabus also contains information about our plagiarism policy.\n",
    "\n",
    "Again to remind you:\n",
    "* You **may** work together on modules which are for in-class activities. \n",
    "* Homework activities ***should be completed on your own***. \n",
    "* Prelabs ***should be completed on your own***.\n",
    "* Exams ***should also be completed on your own***.\n",
    "\n",
    "In your own words, please describe the course's plagiarism policy below."
   ]
  },
  {
   "cell_type": "raw",
   "metadata": {},
   "source": []
  },
  {
   "cell_type": "markdown",
   "metadata": {},
   "source": [
    "## Regarding ChatGPT and other Generative AI / Large Language Models (LLMs)"
   ]
  },
  {
   "cell_type": "markdown",
   "metadata": {},
   "source": [
    "The recent release of powerful generative AI tools has unsettled higher education. Tools such as Chat-GPT, GPT-4, Bard, Dall-E 2, Llama 2, Claude, Pi and Bing are developing rapidly. These chat tools can write and revise text, code and images in response to prompts. \n",
    "\n",
    "There may be cases where these tools can help you develop your understanding of the material and modules that we provide you for the class. If you are using these tools to help you work through 'in-class' materials, or in the course of helping you in your understanding of specific topics, we would ask that you indicate that by including a written note at the top of the notebook by creating a 'new cell' (and adding a note). \n",
    "\n",
    "Our rationale for providing (and grading) homework problems and exams is to give a 'checkpoint' that you are, in fact, working through the materials and are understanding them sufficiently that you can independently perform data analysis tasks put to you. As such using these tools:\n",
    "\n",
    "* ***for answers homework problems*** or\n",
    "* ***for answers exam questions***\n",
    "\n",
    "is not consistent with this goal and as such is not allowed. Use without permission in these cases will be considered a violation of Penn's [Code of Academic Integrity](https://catalog.upenn.edu/pennbook/code-of-academic-integrity/). \n",
    "\n",
    "By typing your name below, you agree to the above terms."
   ]
  },
  {
   "cell_type": "code",
   "execution_count": null,
   "metadata": {},
   "outputs": [],
   "source": []
  }
 ],
 "metadata": {
  "kernelspec": {
   "display_name": "Python 3",
   "language": "python",
   "name": "python3"
  },
  "language_info": {
   "codemirror_mode": {
    "name": "ipython",
    "version": 3
   },
   "file_extension": ".py",
   "mimetype": "text/x-python",
   "name": "python",
   "nbconvert_exporter": "python",
   "pygments_lexer": "ipython3",
   "version": "3.7.3"
  },
  "name": "Sagemathcloud_Setup_Assignment.ipynb"
 },
 "nbformat": 4,
 "nbformat_minor": 1
}
