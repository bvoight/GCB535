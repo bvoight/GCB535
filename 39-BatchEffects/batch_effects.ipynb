{
 "cells": [
  {
   "cell_type": "markdown",
   "metadata": {},
   "source": [
    "# GCB535: Batch Effects"
   ]
  },
  {
   "cell_type": "markdown",
   "metadata": {},
   "source": [
    "## Instructions"
   ]
  },
  {
   "cell_type": "markdown",
   "metadata": {},
   "source": [
    "In this *adventure*, you are going to analyze gene expression data from\n",
    "<a href=\"https://www.pnas.org/content/111/48/17224\" target=\"_blank\">Lin S et al. PNAS 2014</a> that aimed at comparing transcitpion signature accross tissues between mouse and human. We will explore how batch variability can confound this analysis and make our ability to compare other variables very difficult."
   ]
  },
  {
   "cell_type": "markdown",
   "metadata": {},
   "source": [
    "First, let's load the data and the libraries that we will use\n",
    "\n",
    "**Execute the following code below.**"
   ]
  },
  {
   "cell_type": "code",
   "execution_count": null,
   "metadata": {},
   "outputs": [],
   "source": [
    "library(tidyverse)\n",
    "library(pheatmap)\n",
    "library(sva)\n",
    "\n",
    "norm_data <- as_tibble(read.csv('norm_data.csv'))\n",
    "sample_data <- as_tibble(read.csv('sample_data.csv'))"
   ]
  },
  {
   "cell_type": "markdown",
   "metadata": {},
   "source": [
    "Next, we will examine the similarity between samples using both clustering and dimensionality reduction.\n",
    "\n",
    "To examine the relationship between the samples we will use a heatmap to plot the distance between samples. This includes two steps:\n",
    "* Calculating the distance between samples, which can be done using different metrices, here we will use pearson correlation as our distance measure.\n",
    "* Using hierarchical clustering to arrange the samples according to their similarity.\n",
    "\n",
    "**Q1.** Run the code below to plot the heatmap, add code to look only at the output of the function `cor`, why is the diagonal of this matrix always 1?"
   ]
  },
  {
   "cell_type": "code",
   "execution_count": null,
   "metadata": {},
   "outputs": [],
   "source": [
    "pheatmap(cor(norm_data))"
   ]
  },
  {
   "cell_type": "markdown",
   "metadata": {},
   "source": [
    "**Q2.** Would you say that the samples are clustered by tissue or by organism?"
   ]
  },
  {
   "cell_type": "markdown",
   "metadata": {},
   "source": []
  },
  {
   "cell_type": "markdown",
   "metadata": {},
   "source": [
    "Next we will use PCA and explore different labels, including information about the sequecing batch. \n",
    "\n",
    "Use the code below to calculate the principal components of our data, note that we use the function `t` to transpose the data, this is done because `prcomp` treats rows as observations and we would like to calculate the distance between the columns (samples)."
   ]
  },
  {
   "cell_type": "code",
   "execution_count": null,
   "metadata": {},
   "outputs": [],
   "source": [
    "pca_no_batch_correction <- prcomp(t(norm_data),scale=TRUE,center=TRUE)\n",
    "summary(pca_no_batch_correction)"
   ]
  },
  {
   "cell_type": "markdown",
   "metadata": {},
   "source": [
    "**Q3.** How much variance is captured by the first two principal components?"
   ]
  },
  {
   "cell_type": "markdown",
   "metadata": {},
   "source": []
  },
  {
   "cell_type": "markdown",
   "metadata": {},
   "source": [
    "We have provided the code below to construct a tibble for you containing the first two principal components.\n",
    "\n",
    "**Q4.** Add code to join this tibble with `sample_data` to add addtional information about each sample"
   ]
  },
  {
   "cell_type": "code",
   "execution_count": null,
   "metadata": {},
   "outputs": [],
   "source": [
    "tb <- tibble(setname = rownames(pca_no_correction$x),\n",
    "             PC1 = (pca_no_correction$x[,'PC1']),\n",
    "             PC2 = (pca_no_correction$x[,'PC2']))"
   ]
  },
  {
   "cell_type": "markdown",
   "metadata": {},
   "source": [
    "**Q5.** Now use `ggplot` to make a dot plot of the two principal components, use `col` for `tissue` and `shape` for `species`. Make a second plot where instead of `tissue` you use `seqBatch` to examine the distance between the different sequecing batches. "
   ]
  },
  {
   "cell_type": "code",
   "execution_count": null,
   "metadata": {},
   "outputs": [],
   "source": []
  },
  {
   "cell_type": "markdown",
   "metadata": {},
   "source": [
    "We will now try to computationlly remove the effects associated with sequencing runs using a package called <a href=\"https://rdrr.io/bioc/sva/man/ComBat.html\" target=\"_blank\">Combat</a>. This program was developed for microarray data but also works well for RNAseq.\n",
    "\n",
    "**Q6.** Execute the code below to run the Combat algorithm on the data."
   ]
  },
  {
   "cell_type": "code",
   "execution_count": null,
   "metadata": {},
   "outputs": [],
   "source": [
    "combat <- ComBat(dat=norm_data,batch=datasets$seqBatch,mod=NULL)\n",
    "head(combat)"
   ]
  },
  {
   "cell_type": "code",
   "execution_count": null,
   "metadata": {},
   "outputs": [],
   "source": []
  },
  {
   "cell_type": "markdown",
   "metadata": {},
   "source": [
    "**Q7.** Re plot the heat map and PCA plots, what is your conclusion:\n",
    "\n",
    "    (1) Tissues are more similar that organism\n",
    "    (2) Organism is more similar than tissue\n",
    "    (3) Cannot be determined from the data"
   ]
  },
  {
   "cell_type": "code",
   "execution_count": null,
   "metadata": {},
   "outputs": [],
   "source": []
  }
 ],
 "metadata": {
  "anaconda-cloud": {},
  "kernelspec": {
   "display_name": "R",
   "language": "R",
   "name": "ir"
  },
  "language_info": {
   "codemirror_mode": "r",
   "file_extension": ".r",
   "mimetype": "text/x-r-source",
   "name": "R",
   "pygments_lexer": "r",
   "version": "4.0.4"
  },
  "name": "Sagemathcloud_Setup_Assignment.ipynb"
 },
 "nbformat": 4,
 "nbformat_minor": 1
}
