{
 "cells": [
  {
   "cell_type": "markdown",
   "metadata": {},
   "source": [
    "# GCB535: Batch Effects"
   ]
  },
  {
   "cell_type": "markdown",
   "metadata": {},
   "source": [
    "## Instructions"
   ]
  },
  {
   "cell_type": "markdown",
   "metadata": {},
   "source": [
    "In this *adventure*, you are going to analyze gene expression data from\n",
    "<a href=\"https://www.pnas.org/content/111/48/17224\" target=\"_blank\">Lin S et al. PNAS 2014</a> that aimed at comparing transcitpion signature accross tissues between mouse and human. We will explore how batch variability can confound this analysis and make our ability to compare other variables very difficult."
   ]
  },
  {
   "cell_type": "markdown",
   "metadata": {},
   "source": [
    "First, let's load the data and the libraries that we will use.\n",
    "\n",
    "We first need to make sure that our System is set to `Ubuntu 20.04 (Experimental)` in CoCalc. To do this, in CoCalc:\n",
    "\n",
    "- Click on the Settings Tab (wrench icon) \n",
    "- Look in the Project Control Panel (left side) \n",
    "- In \"Software Environment\" select \"Ubuntu 20.04 (Experimental)\" from the drop down menu \n",
    "- Click the \"Save and Restart\" Button that pops up\n",
    "\n",
    "**Execute the following code below.**"
   ]
  },
  {
   "cell_type": "code",
   "execution_count": null,
   "metadata": {},
   "outputs": [],
   "source": [
    "library(tidyverse)\n",
    "library(pheatmap)\n",
    "library(sva)\n",
    "\n",
    "norm_data <- as_tibble(read.csv('norm_data.csv'))\n",
    "sample_data <- as_tibble(read.csv('sample_data.csv'))\n",
    "\n",
    "#replace all characters \"(\", \")\", and \" \" with \".\"\n",
    "#this is so that labels match between norm_data and sample_data\n",
    "sample_data$setname <- sub(\"\\\\)\",\".\",sample_data$setname)\n",
    "sample_data$setname <- sub(\"\\\\(\",\".\",sample_data$setname)\n",
    "sample_data$setname <- gsub(\" \",\".\",sample_data$setname)"
   ]
  },
  {
   "cell_type": "markdown",
   "metadata": {},
   "source": [
    "We will examine the similarity between samples using both clustering and dimensionality reduction.\n",
    "\n",
    "To examine the relationship between the samples, we will use a heatmap to plot the distance between samples. This includes two steps:\n",
    "* Calculating the distance between samples, which can be done using different metrics. Here, we will use Pearson's Correlation as our distance measure.\n",
    "* Using hierarchical clustering to arrange the samples according to their similarity.\n",
    "\n",
    "**Q1.** Run the code below to plot the heatmap, add code to look only at the output of the function `cor`, why is the diagonal of this matrix always 1?"
   ]
  },
  {
   "cell_type": "code",
   "execution_count": null,
   "metadata": {},
   "outputs": [],
   "source": [
    "pheatmap(cor(norm_data))"
   ]
  },
  {
   "cell_type": "markdown",
   "metadata": {},
   "source": [
    "Your answer:"
   ]
  },
  {
   "cell_type": "markdown",
   "metadata": {},
   "source": []
  },
  {
   "cell_type": "markdown",
   "metadata": {},
   "source": [
    "**Q2.** Based on these data, would you say that the samples clustered by tissue or by organism? Does this make intuitive sense? Why or why not?"
   ]
  },
  {
   "cell_type": "markdown",
   "metadata": {},
   "source": []
  },
  {
   "cell_type": "markdown",
   "metadata": {},
   "source": [
    "Next, we will use PCA and explore different labels, including information about the sequecing batch. \n",
    "\n",
    "Use the code below to estimate principal components of our data. Note that we use the function `t()` to transpose the data, this is done because `prcomp` treats rows as observations and we would like to calculate the distance between the columns (samples)."
   ]
  },
  {
   "cell_type": "code",
   "execution_count": null,
   "metadata": {},
   "outputs": [],
   "source": [
    "pca_no_batch_correction <- prcomp(t(norm_data),scale=TRUE,center=TRUE)\n",
    "summary(pca_no_batch_correction)"
   ]
  },
  {
   "cell_type": "markdown",
   "metadata": {},
   "source": [
    "**Q3.** How much variance is explained by the first two principal components?"
   ]
  },
  {
   "cell_type": "markdown",
   "metadata": {},
   "source": []
  },
  {
   "cell_type": "markdown",
   "metadata": {},
   "source": [
    "We have provided the code below to construct a tibble for you containing the first two principal components.\n",
    "\n",
    "**Execute the code below.**"
   ]
  },
  {
   "cell_type": "code",
   "execution_count": null,
   "metadata": {},
   "outputs": [],
   "source": [
    "tb <- tibble(setname = rownames(pca_no_batch_correction$x),\n",
    "             PC1 = (pca_no_batch_correction$x[,'PC1']),\n",
    "             PC2 = (pca_no_batch_correction$x[,'PC2']))"
   ]
  },
  {
   "cell_type": "markdown",
   "metadata": {},
   "source": [
    "**Q4.** Next, join `tb` with `sample_data` to add addtional information about each sample.\n",
    "\n",
    "**Provide and execute your code below.**"
   ]
  },
  {
   "cell_type": "code",
   "execution_count": null,
   "metadata": {},
   "outputs": [],
   "source": []
  },
  {
   "cell_type": "markdown",
   "metadata": {},
   "source": [
    "**Q5.** Now:\n",
    "\n",
    "- Use `ggplot` to make a scatter plot of these two principal components\n",
    "- Assign `col` for `tissue` and `shape` for `species`\n",
    "- Then, create a second scatter plot where inplace of `tissue`, you utilize `seqBatch` to examine the distance between the different sequecing batches. \n",
    "\n",
    "**Provide and execute your code below:**"
   ]
  },
  {
   "cell_type": "code",
   "execution_count": null,
   "metadata": {},
   "outputs": [],
   "source": []
  },
  {
   "cell_type": "markdown",
   "metadata": {},
   "source": [
    "We will now try to computationlly estimate and remove the effects associated with sequencing runs using a package called <a href=\"https://rdrr.io/bioc/sva/man/ComBat.html\" target=\"_blank\">Combat</a>. This program was developed for microarray data but also works well for RNA-seq data.\n",
    "\n",
    "**Execute the code below to run the Combat algorithm on the data.**"
   ]
  },
  {
   "cell_type": "code",
   "execution_count": null,
   "metadata": {},
   "outputs": [],
   "source": [
    "combat <- ComBat(dat=norm_data,batch=sample_data$seqBatch,mod=NULL)\n",
    "head(combat)"
   ]
  },
  {
   "cell_type": "markdown",
   "metadata": {},
   "source": [
    "**Q6.** The output of `ComBat()` is a table of batch corrected data, analogous to the `norm_data` object. Using your combat-adjusted expression data:\n",
    "\n",
    "- (Re)construct the heat map\n",
    "- Perform PCA analysis and report the summary\n",
    "- Create a tibble called `tb_combat` which contains the first two PCs of this analysis\n",
    "- Merge `tb_combat` with `sample_data`\n",
    "- Use this to create new scatter plots of the data, again assigning `col` for `tissue` and `shape` for `species`\n",
    "\n",
    "**Provide and execute your code below:**"
   ]
  },
  {
   "cell_type": "code",
   "execution_count": null,
   "metadata": {},
   "outputs": [],
   "source": []
  },
  {
   "cell_type": "markdown",
   "metadata": {},
   "source": [
    "**Q7.** Examine your plots carefully and compare with the previous ones you generated in **Q1** and **Q5**. Based on these plots, which if any of the following do you think now is correct? Why?\n",
    "\n",
    "    (A) Tissues are more similar that organism\n",
    "    (B) Organism is more similar than tissue\n",
    "    (C) Cannot be determined from the data"
   ]
  },
  {
   "cell_type": "markdown",
   "metadata": {},
   "source": []
  }
 ],
 "metadata": {
  "anaconda-cloud": {},
  "kernelspec": {
   "display_name": "R",
   "language": "R",
   "name": "ir"
  },
  "language_info": {
   "codemirror_mode": "r",
   "file_extension": ".r",
   "mimetype": "text/x-r-source",
   "name": "R",
   "pygments_lexer": "r",
   "version": "4.0.3"
  },
  "name": "Sagemathcloud_Setup_Assignment.ipynb"
 },
 "nbformat": 4,
 "nbformat_minor": 1
}
