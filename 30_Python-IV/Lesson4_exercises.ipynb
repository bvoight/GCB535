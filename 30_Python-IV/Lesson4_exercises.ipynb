{
 "cells": [
  {
   "cell_type": "markdown",
   "metadata": {
    "collapsed": false
   },
   "source": [
    "# Lesson 4: In-class exercises\n",
    "---\n",
    "\n",
    "**Instructions: For each problem, write code in the provided code block. Don't forget to run your code to make sure it works.**\n",
    "\n",
    "---"
   ]
  },
  {
   "cell_type": "markdown",
   "metadata": {
    "collapsed": false
   },
   "source": [
    "**1\\. Simple list and dictionary practice**\n",
    "\n",
    "Using the data below, write code to accomplish the following tasks.\n",
    "\n",
    "|    Name   | Favorite Food |\n",
    "|:---------:|:-------------:|\n",
    "|  Wilfred  |     Steak     |\n",
    "|  Manfred  |      Duck     |\n",
    "| Wadsworth |   Spaghetti   |\n",
    "|   Jeeves  |   Ice cream   |\n",
    "| Mitsworth |      Tuna     |"
   ]
  },
  {
   "cell_type": "markdown",
   "metadata": {
    "collapsed": false
   },
   "source": [
    "**(A)** Make a list of all the names, then loop through the list and print each name out."
   ]
  },
  {
   "cell_type": "code",
   "execution_count": 0,
   "metadata": {
    "collapsed": true
   },
   "outputs": [
   ],
   "source": [
   ]
  },
  {
   "cell_type": "markdown",
   "metadata": {
    "collapsed": false
   },
   "source": [
    "**(B)** Below, some of the names and foods have already been added to a dictionary. Fill in the missing entries using the `dict[key] = value` syntax. Then loop through the dictionary and print each name and food combination in the format:\n",
    "\n",
    "    <NAME>'s favorite food is <FOOD>"
   ]
  },
  {
   "cell_type": "code",
   "execution_count": 0,
   "metadata": {
    "collapsed": true
   },
   "outputs": [
   ],
   "source": [
    "favFoods = {\"Wilfred\":\"Steak\", \"Manfred\":\"Duck\", \"Wadsworth\":\"Spaghetti\"}\n",
    "\n",
    "# add your code below:\n"
   ]
  },
  {
   "cell_type": "markdown",
   "metadata": {
    "collapsed": false
   },
   "source": [
    "**(C)** In the dictionary from part (B), change Wilfred's favorite food to pizza."
   ]
  },
  {
   "cell_type": "code",
   "execution_count": 0,
   "metadata": {
    "collapsed": true
   },
   "outputs": [
   ],
   "source": [
   ]
  },
  {
   "cell_type": "markdown",
   "metadata": {
    "collapsed": false
   },
   "source": [
    "---"
   ]
  },
  {
   "cell_type": "markdown",
   "metadata": {
    "collapsed": false
   },
   "source": [
    "**2\\. Duplicate removal**\n",
    "\n",
    "Read in the file `genes.txt` (each line in this file is a gene ID) and print **only the unique gene IDs** (remove the duplicates). Do not assume repeat IDs appear consecutively in the file. \n",
    "\n",
    "*Hint: see the practice exercises from Lesson 4 for an example of how to remove duplicates using a list.*"
   ]
  },
  {
   "cell_type": "code",
   "execution_count": 0,
   "metadata": {
    "collapsed": true
   },
   "outputs": [
   ],
   "source": [
   ]
  },
  {
   "cell_type": "markdown",
   "metadata": {
    "collapsed": false
   },
   "source": [
    "---"
   ]
  },
  {
   "cell_type": "markdown",
   "metadata": {
    "collapsed": false
   },
   "source": [
    "**3\\. Split practice**\n",
    "\n",
    "Read in the file `init_sites.txt` and compute the average CDS length (i.e. average the values in the 7th column). Your answer should be 236.36."
   ]
  },
  {
   "cell_type": "code",
   "execution_count": 0,
   "metadata": {
    "collapsed": true
   },
   "outputs": [
   ],
   "source": [
   ]
  },
  {
   "cell_type": "markdown",
   "metadata": {
    "collapsed": false
   },
   "source": [
    "---"
   ]
  },
  {
   "cell_type": "markdown",
   "metadata": {
    "collapsed": false
   },
   "source": [
    "**4\\. The \"many counters\" problem**\n",
    "\n",
    "Write a script that reads a file of sequences and tallies how many sequences there are of each length. Use `sequences3.txt` as input to test your code. After reading through all the sequences, print the sequence length that was the most common.\n",
    "\n",
    "*Hint: you can use a dictionary to keep track of all the tallies, e.g.:*"
   ]
  },
  {
   "cell_type": "raw",
   "metadata": {
    "collapsed": false
   },
   "source": [
    "# HINT CODE\n",
    "\n",
    "seq = \"ATGCTGATCGATATA\"\n",
    "length = len(seq)\n",
    "\n",
    "if length not in tallyDictionary:\n",
    "    tallyDictionary[length] = 1     # initialize if first occurrence\n",
    "else:\n",
    "    tallyDictionary[length] += 1    # otherwise just increment the count"
   ]
  },
  {
   "cell_type": "code",
   "execution_count": 0,
   "metadata": {
    "collapsed": true
   },
   "outputs": [
   ],
   "source": [
   ]
  },
  {
   "cell_type": "markdown",
   "metadata": {
    "collapsed": false
   },
   "source": [
    "---"
   ]
  },
  {
   "cell_type": "markdown",
   "metadata": {
    "collapsed": false
   },
   "source": [
    "# Homework exercise (10 Points)\n",
    "---"
   ]
  },
  {
   "cell_type": "markdown",
   "metadata": {
    "collapsed": false
   },
   "source": [
    "**Codon table**\n",
    "\n",
    "For this question, use `codon_table.txt`, which contains a list of all possible codons and their corresponding amino acids. We will be using this info to translate a nucleotide sequence into amino acids. Each part of this question builds off the previous parts."
   ]
  },
  {
   "cell_type": "markdown",
   "metadata": {
    "collapsed": false
   },
   "source": [
    "**(A)** Thinkin' question (short answer, not code): If we want to create a codon dictionary and use it to translate nucleotide sequences, would it be better to use the codons or amino acids as keys? **(2 Points)**"
   ]
  },
  {
   "cell_type": "raw",
   "metadata": {
    "collapsed": false
   },
   "source": [
   ]
  },
  {
   "cell_type": "markdown",
   "metadata": {
    "collapsed": false
   },
   "source": [
    "**(B)** Read in `codon_table.txt` (note that it has a header line) and use it to create a codon dictionary. Then use `raw_input()` prompt the user to enter a single codon (e.g. ATG) and print the amino acid corresponding to that codon to the screen. If the nucleotide combonation is not a valid codon, print a warning message. **(4 Points)**"
   ]
  },
  {
   "cell_type": "code",
   "execution_count": 0,
   "metadata": {
    "collapsed": true
   },
   "outputs": [
   ],
   "source": [
   ]
  },
  {
   "cell_type": "markdown",
   "metadata": {
    "collapsed": false
   },
   "source": [
    "**(C)** Now we will adapt the code in (b) to translate a longer sequence. Instead of prompting the user for a single codon, allow them to enter a longer sequence. First, check that the sequence they entered has a length that is a multiple of 3 (Hint: use the mod operator, %), and print an error message if it is not. If it is valid, then go on to translate every three nucleotides to\n",
    "an amino acid. Print the final amino acid sequence to the screen. We have included some code to help you out. You can either program this function from scratch, or add to the given code. **(4 Points)**"
   ]
  },
  {
   "cell_type": "code",
   "execution_count": 0,
   "metadata": {
    "collapsed": true
   },
   "outputs": [
   ],
   "source": [
    "#Prompt the user for a sequence\n",
    "\n",
    "\n",
    "#Check that their sequence is a multiple of 3\n",
    "\n",
    "\n",
    "\n",
    "#Loop through the sequence, in groups of 3, translating each one as you go\n",
    "protSeq = \"\" #Add each amino acid to this string as you loop through the codons. \n",
    "for i in range(0,len(request),3): #request is the sequence given by the user\n",
    "    codon = request[i:i+3] #gets the current codon under consideration\n",
    "    \n",
    "    #Use your dictionary to find what AA this codon corresponds to, as in part b. Print an error if it is invalid.\n",
    "    \n",
    "    \n",
    "print \"Your protein sequence is: \" + protSeq"
   ]
  }
 ],
 "metadata": {
  "kernelspec": {
  },
  "language_info": {
   "codemirror_mode": {
    "name": "ipython",
    "version": 2
   },
   "file_extension": ".py",
   "mimetype": "text/x-python",
   "name": "python",
   "nbconvert_exporter": "python",
   "pygments_lexer": "ipython2",
   "version": "2.7.11"
  },
  "name": "Lesson4_exercises.ipynb"
 },
 "nbformat": 4,
 "nbformat_minor": 0
}