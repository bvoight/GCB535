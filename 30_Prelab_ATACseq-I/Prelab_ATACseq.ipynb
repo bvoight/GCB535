{
 "cells": [
  {
   "cell_type": "markdown",
   "metadata": {},
   "source": [
    "# Notebook - ATAC-seq and scATAC-seq (prelab)"
   ]
  },
  {
   "cell_type": "markdown",
   "metadata": {},
   "source": [
    "**Acknowledgement**: We thank the ENCODE consortium as well as Satija and Stuart team for their software and package tutorials, from which much of the material below is adapted. We thank the Epigenomics Workshop 2024 for posting educational materials online, which were also adapted in creating this notebook. "
   ]
  },
  {
   "cell_type": "markdown",
   "metadata": {},
   "source": [
    "## ATAC-seq and single cell ATAC-seq\n",
    "\n",
    "Assay for Transposase-Accessible Chromatin using sequencing (ATAC-seq) is a technique to assess chromatin accessibility across the genome. This method provides insight into the regulatory architecture of the genome by highlighting regions of open chromatins that are potentially active in gene regulation. ATAC-seq can be applied to both bulk samples and single cells, enabling the exploration of chromatin dynamics at various resolutions."
   ]
  },
  {
   "cell_type": "markdown",
   "metadata": {},
   "source": [
    "## Objectives of this notebook\n",
    "\n",
    "The primary objective of this notebook is to learn the fundamentals of bulk and single-cell ATAC-seq. The next notebook (in-class) will focus on practical part of the analysis. "
   ]
  },
  {
   "cell_type": "markdown",
   "metadata": {},
   "source": [
    "## background: \n",
    "\n",
    "ATAC-seq stands for The Assay for Transposase-Accessible Chromatin using sequencing. The \"transposase\" part refers to the Tn5 transposase enzyme. Tn5 simultaneously fragments DNA and tags open chromatin regions with sequencing adapters—a process known as \"tagmentation.\" This method enables researchers to identify regions of the genome that are accessible to transcription factors and other DNA-binding proteins, providing insights into gene regulation, epigenetic modifications, and cellular function."
   ]
  },
  {
   "cell_type": "markdown",
   "metadata": {},
   "source": [
    "**Q1**. We learned in our previous lectures how to use online databases. Learn some basic information on Tn5 and answer: does Tn5 work as a monomer or dimer? "
   ]
  },
  {
   "cell_type": "code",
   "execution_count": null,
   "metadata": {
    "vscode": {
     "languageId": "plaintext"
    }
   },
   "outputs": [],
   "source": []
  },
  {
   "cell_type": "markdown",
   "metadata": {},
   "source": [
    "Andrew C. Adey has a very nice review on tagmentation-based genome assays (https://genome.cshlp.org/content/31/10/1693). Please take a look at the Figure 1 (The anatomy of a tagmentation reaction) of the following paper, and answer a few questions:"
   ]
  },
  {
   "cell_type": "markdown",
   "metadata": {},
   "source": [
    "**Q2**. In the standard ATAC-seq workflow, three key molecules are essential for the tagmentation reaction: the forward adapter oligonucleotide, the reverse adapter oligonucleotide, and the Tn5 transposase monomer. During the assembly of the active Tn5 transposome complex, what is the desired molar ratio of these three components?"
   ]
  },
  {
   "cell_type": "code",
   "execution_count": null,
   "metadata": {
    "vscode": {
     "languageId": "plaintext"
    }
   },
   "outputs": [],
   "source": []
  },
  {
   "cell_type": "markdown",
   "metadata": {},
   "source": [
    "**Q3**. How many tagmentation events are needed to form a viable DNA fragment for amplification and sequencing? "
   ]
  },
  {
   "cell_type": "code",
   "execution_count": null,
   "metadata": {
    "vscode": {
     "languageId": "plaintext"
    }
   },
   "outputs": [],
   "source": []
  },
  {
   "cell_type": "markdown",
   "metadata": {},
   "source": [
    "## Quality metrics for ATAC-seq experiments. \n",
    "For any genomic assays, we rely on various quality metrics to determine if the experiment has generated meaningful and expected outcome. QC also helps determine if there are other issues such as contaminations. In ATAC-seq, three quality metrics are important:\n",
    "\n",
    "1. fragment length distribution;\n",
    "1. presence of signal in nuclesome-free regions (NFR) and mononucleosome fractions;\n",
    "1. enrichment of signal in transcription start site (TSS) regions."
   ]
  },
  {
   "cell_type": "markdown",
   "metadata": {},
   "source": [
    "### 1. Fragment Length Distribution\n",
    "Fragment length distribution refers to the frequency of DNA fragments of different sizes generated during the ATAC-seq experiment. It is typically visualized as a histogram or a density plot showing the number of fragments (y-axis) against their length in base pairs (x-axis).\n",
    "The fragment length distribution in ATAC-seq data reflects the underlying chromatin structure and nucleosome positioning within the genome. "
   ]
  },
  {
   "cell_type": "markdown",
   "metadata": {},
   "source": [
    "Typical Fragment Length Patterns in ATAC-seq\n",
    "\n",
    "In a high-quality ATAC-seq experiment, the fragment length distribution exhibits a characteristic pattern:\n",
    "\n",
    "- Nucleosome-Free Regions (NFR):\n",
    "    - Fragment Size: ~50–100 bp\n",
    "    - Interpretation: Represents accessible chromatin regions devoid of nucleosomes, such as active promoters and enhancers.\n",
    "    - Signal: High abundance of short fragments indicates successful profiling of open chromatin.\n",
    "- Mononucleosome Fragments:\n",
    "    - Fragment Size: ~180 bp (approximately the length of DNA wrapped around a single nucleosome)\n",
    "    - Interpretation: Indicates regions where DNA is partially accessible, with nucleosomes positioned adjacent to open chromatin.\n",
    "    - Signal: A distinct peak at ~180 bp suggests proper nucleosome occupancy mapping.\n",
    "- Dinucleosome and Trinucleosome Fragments:\n",
    "    - Fragment Sizes: ~360 bp (dinucleosome), ~540 bp (trinucleosome)\n",
    "    - Interpretation: Reflects higher-order chromatin structures with two or three nucleosomes.\n",
    "    - Signal: Smaller peaks at these sizes provide additional evidence of nucleosome phasing and chromatin organization.\n"
   ]
  },
  {
   "cell_type": "markdown",
   "metadata": {},
   "source": [
    "### 2. Presence of Signal in Nucleosome-Free Regions (NFR) and Mononucleosome Fractions\n",
    "Understanding NFR and Mononucleosome Regions\n",
    "\n",
    "- Nucleosome-Free Regions (NFR):\n",
    "Regions of the genome where nucleosomes are absent, allowing direct access to DNA-binding proteins such as transcription factors.\n",
    "Typically found at active promoters, enhancers, and regulatory elements.\n",
    "Critical for gene regulation and transcription initiation.\n",
    " - Mononucleosome Regions:\n",
    "Regions where DNA is wrapped around a single nucleosome.\n",
    "Reflects areas of the genome that are less accessible but still participate in regulatory functions.\n",
    "Provides information about nucleosome positioning and chromatin structure.\n"
   ]
  },
  {
   "cell_type": "markdown",
   "metadata": {},
   "source": [
    "### 3. Enrichment of Signal in Transcription Start Site (TSS) Regions\n",
    "\n",
    "Transcription Start Sites (TSS):\n",
    "Locations in the genome where transcription of a gene begins.\n",
    "TSS is typically associated with open chromatin to allow access for transcription machinery.\n",
    "TSS Enrichment:\n",
    "The degree to which ATAC-seq signal (read coverage) is concentrated around TSS regions.\n",
    "Calculated by aggregating the number of reads centered on TSS across the genome and normalizing to background levels."
   ]
  },
  {
   "cell_type": "markdown",
   "metadata": {},
   "source": [
    "**Q4**. Does higher TSS enrichment score or lower TSS enrichment score indicate better ATAC-seq quality? "
   ]
  },
  {
   "cell_type": "code",
   "execution_count": null,
   "metadata": {
    "vscode": {
     "languageId": "plaintext"
    }
   },
   "outputs": [],
   "source": []
  },
  {
   "cell_type": "markdown",
   "metadata": {},
   "source": [
    "PS: There are many real data figures from the Epigenomics workshop 2024 (https://nbis-workshop-epigenomics.readthedocs.io/en/latest/content/tutorials/data-preproc/data-qc-atac.html), please take a look at the materials. "
   ]
  },
  {
   "cell_type": "markdown",
   "metadata": {},
   "source": [
    "## Other chromatin accessibility assays\n",
    "In addition to ATAC-seq, DNase-seq and FAIRE-seq are other common chromatin accessiblity assays. \n",
    "- DNase-seq uses DNase I enzyme to cut accessible DNA, requiring extensive digestion and purification steps.\n",
    "- FAIRE-seq (Formaldehyde-Assisted Isolation of Regulatory Elements) isolates nucleosome-depleted regions based on their resistance to crosslinking.\n",
    "- ATAC-seq is faster (typically, one day of work), requires fewer cells (~ 50,000 cells for ATAC-seq compared to millions of cells for DNase-seq or FAIRE-seq), and combines DNA fragmentation and adapter insertion in a single step, offering higher resolution with less starting material."
   ]
  },
  {
   "cell_type": "markdown",
   "metadata": {},
   "source": [
    "## scATAC-seq \n",
    "The first scATAC-seq assay is developed in the Greenleaf Lab (Buenrostro et al. 2015, Nature). Now it is also available as a kit from 10X Genomics. You can refer to a recent benchmark paper for comparing different single cell epigenomic technologies: (https://www.nature.com/articles/s41587-023-01881-x). TLDR: 10X does a pretty good job in generating high quality data. \n",
    "\n",
    "We have introduced scRNA-seq data in our previous notebook. The single cell version of ATAC-seq share a lot of characteristics as scRNA-seq data, such as high dimensionality, high sparsity (uncaptured data) and high noise. These characteristics require special methods of the data. "
   ]
  },
  {
   "cell_type": "markdown",
   "metadata": {},
   "source": [
    "The 10X Genomics Cell Ranger ATAC pipeline is a streamlined software for preprocessing the scATAC-seq data. Please go to the following website and answer the following questions\n",
    "\n",
    "https://cdn.10xgenomics.com/image/upload/v1660261285/support-documents/CG000202_TechnicalNote_InterpretingCellRangerATACWebSummaryFiles_RevB.pdf"
   ]
  },
  {
   "cell_type": "markdown",
   "metadata": {},
   "source": [
    "**Q5**. Are 10X Genomics Cell Ranger ATAC single-end or pair-end sequencing? "
   ]
  },
  {
   "cell_type": "code",
   "execution_count": null,
   "metadata": {
    "vscode": {
     "languageId": "plaintext"
    }
   },
   "outputs": [],
   "source": []
  },
  {
   "cell_type": "markdown",
   "metadata": {},
   "source": [
    "**Q6**. The report contains multiple quality metrics, including sequencing metrics, cell metrics, mapping metrics and so on. They also include the quality metrics for ATAC-seq we discussed above. What is the minimum TSS enrichment score to be considered as a high-quality data? "
   ]
  },
  {
   "cell_type": "code",
   "execution_count": null,
   "metadata": {
    "vscode": {
     "languageId": "plaintext"
    }
   },
   "outputs": [],
   "source": []
  },
  {
   "cell_type": "markdown",
   "metadata": {},
   "source": [
    "### Basic preprocessing workflow for scATAC-seq data\n",
    "Similar to scRNA-seq data, scATAC-seq data analysis workflow is comprised of the following steps:\n",
    "- quantify cell-by-peak matrix\n",
    "- data QC\n",
    "- normalization and dimension reduction \n",
    "- visualization and clustering\n",
    "- cell type annotation\n",
    "- differential test \n",
    "\n"
   ]
  },
  {
   "cell_type": "markdown",
   "metadata": {},
   "source": [
    "### Cell-by-peak matrix quantification\n",
    "Currently, there are two common quantification strategies for scATAC-seq data. They differ substantially in their output. Please refer to the paper (https://www.nature.com/articles/s41592-023-02103-7) for additional details. TLDR: they both fail at certain cases. The proposed Paired Insertion Counting (PIC) may be more desirable for uniform quantification (https://github.com/Zhen-Miao/PICsnATAC).\n"
   ]
  },
  {
   "cell_type": "markdown",
   "metadata": {},
   "source": [
    "### Normalization and Dimension Reduction\n",
    "\n",
    "One of the most common strategies for normalizing and reducing the dimensionality of scATAC-seq data is through Latent Semantic Indexing (LSI). This method involves two key steps: TF-IDF normalization and Singular Value Decomposition (SVD) for dimension reduction.\n",
    "\n",
    "- TF-IDF (Term Frequency-Inverse Document Frequency) is a concept borrowed from language models to measure the importance of a term in the context of a document within a corpus. It consists of the following components:\n",
    "\n",
    "  - TF (Term Frequency): This measures how frequently a term occurs in a specific document. A higher frequency of a term, such as \"hepatocyte\" in a document, suggests the document is likely related to liver biology.\n",
    "\n",
    "  - DF (Document Frequency): This measures how frequently a term occurs across all documents in the corpus. A term like \"mitosis\" might appear in various biological contexts, making it less unique and thereby less important for distinguishing between documents.\n",
    "  - IDF (Inverse Document Frequency): This counters the TF by diminishing the weight of terms that occur very frequently across the corpus and increasing the weight of terms that occur rarely. \n",
    "\n",
    "  - TF-IDF: The product of TF and IDF for a term reflects its importance in a given document relative to the entire corpus. \n",
    "\n",
    "- SVD (Singular Value Decomposition) is then used on the matrix of TF-IDF scores to reduce the dimensionality of the dataset. This step identifies the most significant axes or directions in the data, which captures the most variance among the documents (cells in the context of scATAC-seq). This enables better interpretation and analysis of the underlying patterns in the data.\n",
    "\n",
    "Together, these techniques help in efficiently summarizing and interpreting large scATAC-seq datasets, enabling researchers to focus on the most informative aspects of chromatin accessibility across different cells."
   ]
  },
  {
   "cell_type": "markdown",
   "metadata": {},
   "source": [
    "### Summary of resources:\n",
    "\n",
    "- https://genome.cshlp.org/content/31/10/1693\n",
    "- https://nbis-workshop-epigenomics.readthedocs.io/en/latest/content/tutorials/data-preproc/data-qc-atac.html\n",
    "- https://www.nature.com/articles/s41587-023-01881-x\n",
    "- https://cdn.10xgenomics.com/image/upload/v1660261285/support-documents/CG000202_TechnicalNote_InterpretingCellRangerATACWebSummaryFiles_RevB.pdf"
   ]
  }
 ],
 "metadata": {
  "celltoolbar": "Raw Cell Format",
  "kernelspec": {
   "display_name": "R",
   "language": "R",
   "name": "ir"
  },
  "language_info": {
   "codemirror_mode": "r",
   "file_extension": ".r",
   "mimetype": "text/x-r-source",
   "name": "R",
   "pygments_lexer": "r",
   "version": "3.6.1"
  }
 },
 "nbformat": 4,
 "nbformat_minor": 4
}
