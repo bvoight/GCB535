{
 "cells": [
  {
   "cell_type": "markdown",
   "metadata": {},
   "source": [
    "### Iterating (Looping) in R"
   ]
  },
  {
   "cell_type": "markdown",
   "metadata": {},
   "source": [
    "In R, when we have had to do *iteratively* do something to a data table (e.g., `mutate()`, or `summarize()`), we've taken advantage of how R is set up to this very efficiently ('vectorizing'). \n",
    "\n",
    "However, there are other ways in which you can iterate or 'loop' through a table or a list: `for` loops.\n",
    "\n",
    "In this prelab, we'll introduce you to this main type of loop. In general, loops do pretty much exactly what you'd expect based on the name -- they let you \"loop\" over a piece of code over and over until a certain condition has been met, or we run out of things to compute on.\n",
    "\n",
    "Much of the below is inspired and summarized from [Hadley Wickham and Garrett Grolemund's: *R for Data Science*](https://r4ds.had.co.nz/iteration.html), which gives a great view of the basics and more details if you are interested in (beyond what we have time to go through here). Let's start by executing the following commands below."
   ]
  },
  {
   "cell_type": "code",
   "execution_count": null,
   "metadata": {},
   "outputs": [],
   "source": [
    "library(tidyverse)"
   ]
  },
  {
   "cell_type": "code",
   "execution_count": null,
   "metadata": {},
   "outputs": [],
   "source": [
    "df <- tibble(\n",
    "    x = runif(5),\n",
    "    y = runif(5),\n",
    "    z = runif(5)\n",
    ")"
   ]
  },
  {
   "cell_type": "markdown",
   "metadata": {},
   "source": [
    "Let's say you wanted to calculate the mean of x, y, and z. You *could* do:"
   ]
  },
  {
   "cell_type": "code",
   "execution_count": null,
   "metadata": {},
   "outputs": [],
   "source": [
    "mean(df$x)\n",
    "mean(df$y)\n",
    "mean(df$z)"
   ]
  },
  {
   "cell_type": "markdown",
   "metadata": {},
   "source": [
    "But that seems suboptimal because the code is duplicated here. This is problematic because as the size of the table gets big, ultimately becomes infeasible to write down explicitly -- imagine what you'd have to do if df had 1000s of entries! In general, you want to avoid \"copy and pasting\" code *twice* or more."
   ]
  },
  {
   "cell_type": "markdown",
   "metadata": {},
   "source": [
    "Instead, you could make a loop and do the following:"
   ]
  },
  {
   "cell_type": "code",
   "execution_count": null,
   "metadata": {},
   "outputs": [],
   "source": [
    "output <- vector(\"double\", ncol(df))  # 1. output\n",
    "for (i in seq_along(df)) {            # 2. sequence\n",
    "  output[[i]] <- mean(df[[i]])        # 3. body\n",
    "}\n",
    "output"
   ]
  },
  {
   "cell_type": "markdown",
   "metadata": {},
   "source": [
    "Every for loop has three components:\n",
    "\n",
    "**The output**: `output <- vector(\"double\", length(x))`. Before you start the loop, you must always allocate sufficient space for the output. This is very important for efficiency: if you grow the for loop at each iteration using c() (for example), your for loop will be very slow.\n",
    "\n",
    "A general way of creating an empty vector of given length is the vector() function. It has two arguments: the type of the vector (“logical”, “integer”, “double”, “character”, etc) and the length of the vector."
   ]
  },
  {
   "cell_type": "markdown",
   "metadata": {},
   "source": [
    "**The sequence**: `i in seq_along(df)`. This determines what to loop over: each run of the for loop will assign `i` to a different value from `seq_along(df)`. It’s useful to think of i as a pronoun, like “it”.\n",
    "\n",
    "You might not have seen `seq_along()` before. It’s a safe version of the familiar `1:length(l)`, with an important difference: if you have a zero-length vector, `seq_along()` does the right thing:\n",
    "\n",
    "    y <- vector(\"double\", 0)\n",
    "    seq_along(y)\n",
    "    #> integer(0)\n",
    "    1:length(y)\n",
    "    #> [1] 1 0\n",
    "\n",
    "You probably won’t create a zero-length vector deliberately, but it’s easy to create them accidentally. If you use `1:length(x)` instead of `seq_along(x)`, you’re likely to get a confusing error message."
   ]
  },
  {
   "cell_type": "markdown",
   "metadata": {},
   "source": [
    "**The body**: `output[[i]] <- median(df[[i]])`. This is the code that does the work. It’s run repeatedly, each time with a different value for `i`. The first iteration will run `output[[1]] <- median(df[[1]])`, the second will run `output[[2]] <- median(df[[2]])`, and so on."
   ]
  },
  {
   "cell_type": "markdown",
   "metadata": {},
   "source": [
    "Let's look at another example:"
   ]
  },
  {
   "cell_type": "code",
   "execution_count": null,
   "metadata": {},
   "outputs": [],
   "source": [
    "seq <- c(1,2,3,4,5)\n",
    "for (i in seq_along(seq)) {\n",
    "    print(paste(\"The number is:\", seq[i]))\n",
    "}"
   ]
  },
  {
   "cell_type": "markdown",
   "metadata": {},
   "source": [
    "Here, again you have each of the components: The *sequence* you want to iterate through, the *body* of the code, and the *output* of the code. "
   ]
  },
  {
   "cell_type": "markdown",
   "metadata": {},
   "source": [
    "Let's look at another example."
   ]
  },
  {
   "cell_type": "code",
   "execution_count": null,
   "metadata": {},
   "outputs": [],
   "source": [
    "total <- 0\n",
    "seq_too <- c(1,1,2,3,5)\n",
    "for (i in seq_along(seq_too)) {\n",
    "    total <- total+seq_too[i]\n",
    "}\n",
    "print(total)"
   ]
  },
  {
   "cell_type": "markdown",
   "metadata": {},
   "source": [
    "You can see here that the goal of this bit of code is to sum (accumulate) the total. Of course, you could have gotten the same thing by `sum(seq_too)`, so always important to remember that in R if you can use vectorized functions rather than loops, you should, because it's faster)."
   ]
  },
  {
   "cell_type": "markdown",
   "metadata": {},
   "source": [
    "Let's look at yet another example:"
   ]
  },
  {
   "cell_type": "code",
   "execution_count": null,
   "metadata": {},
   "outputs": [],
   "source": [
    "total <- 0\n",
    "for (i in seq_along(seq)) {\n",
    "    for (j in seq_along(seq_too)) {\n",
    "        total <- total+seq[i]*seq_too[j]\n",
    "    }\n",
    "}\n",
    "print(total)"
   ]
  },
  {
   "cell_type": "markdown",
   "metadata": {},
   "source": [
    "You can see here that we've *nested* a second loop within the first, and we are now accumulating the sum of the products of each element in `seq` and `seq_too`."
   ]
  },
  {
   "cell_type": "markdown",
   "metadata": {},
   "source": [
    "You can also use loops to *modify* content. Let's say we wanted to adjust `seq_too` by `seq_one`. You could do that via:"
   ]
  },
  {
   "cell_type": "code",
   "execution_count": null,
   "metadata": {},
   "outputs": [],
   "source": [
    "seq_too <- c(1,1,2,3,5)\n",
    "mean <- mean(seq_too)\n",
    "for (i in seq_along(seq_too)) {\n",
    "   seq_too[i] <- seq_too[i] - mean\n",
    "}\n",
    "seq_too"
   ]
  },
  {
   "cell_type": "markdown",
   "metadata": {},
   "source": [
    "Take a look at the following code below. Is there something wrong? if so, what?"
   ]
  },
  {
   "cell_type": "code",
   "execution_count": null,
   "metadata": {},
   "outputs": [],
   "source": [
    "seq_foo <- c(1,2,3,4)\n",
    "seq_too <- c(1,1,2,3,5)\n",
    "for (i in seq_along(seq_too)) {\n",
    "    print(paste(\"My dog has\", seq_foo[i], \"fleas!\"))\n",
    "}"
   ]
  },
  {
   "cell_type": "markdown",
   "metadata": {},
   "source": [
    "Your Answer Below:"
   ]
  },
  {
   "cell_type": "code",
   "execution_count": null,
   "metadata": {},
   "outputs": [],
   "source": []
  }
 ],
 "metadata": {
  "kernelspec": {
   "display_name": "R",
   "language": "R",
   "name": "ir"
  },
  "language_info": {
   "codemirror_mode": "r",
   "file_extension": ".r",
   "mimetype": "text/x-r-source",
   "name": "R",
   "pygments_lexer": "r",
   "version": "3.6.1"
  }
 },
 "nbformat": 4,
 "nbformat_minor": 4
}
