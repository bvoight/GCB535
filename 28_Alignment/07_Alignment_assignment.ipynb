{
 "cells": [
  {
   "cell_type": "markdown",
   "metadata": {},
   "source": [
    "# In-Class: Having a blast with BLAST & Alignments\n"
   ]
  },
  {
   "cell_type": "markdown",
   "metadata": {},
   "source": [
    "### Part I: Using BLAST "
   ]
  },
  {
   "cell_type": "markdown",
   "metadata": {},
   "source": [
    "After you blasted for the sequence in the pre-lab, you discovered that this is in fact a gene you're interested in, just in the wrong species. However, you don't have time to sequence an uncontaminated sample and so want to get the reference frog sequence. Next, you will try to identify the Xenopus laevis (frog) homolog to this gene by doing a “discontiguous megablast” search.\n",
    "This is an appropriate tool for finding more distant homologs."
   ]
  },
  {
   "cell_type": "markdown",
   "metadata": {},
   "source": [
    "- Go to the BLAST home page (http://blast.ncbi.nlm.nih.gov/) and copy and paste the sequence from the pre-lab, as before.\n",
    "- Change the “Program Selection” option to “More dissimilar sequences\n",
    "(discontiguous megablast)”.\n",
    "- Simplify your search by setting the “Organism” to “Xenopus laevis” under the “Choose Search Set” option. (taxid: 8355\n",
    "- In the section labeled “Choose Search Set”, click the “Database” option button for “Others”, and then set the drop-down list to “Reference RNA sequences (refseq_rna).\n",
    "- Click the “BLAST” button to search.\n",
    "\n",
    "Base your answers on the top hit returned by BLAST (that isn't a PREDICTED mRNA) :\n",
    "\n",
    "***Question 3:*** How much of the query is covered by the top returned hit? What is the percent identity between the two?"
   ]
  },
  {
   "cell_type": "raw",
   "metadata": {
    "collapsed": true
   },
   "source": []
  },
  {
   "cell_type": "markdown",
   "metadata": {},
   "source": [
    "***Question 4:*** What does the “E Value” of this match mean?"
   ]
  },
  {
   "cell_type": "raw",
   "metadata": {
    "collapsed": true
   },
   "source": []
  },
  {
   "cell_type": "markdown",
   "metadata": {},
   "source": [
    "One simple way to infer homologs (sequences with a common evolutionary origin) is to perform\n",
    "a reciprocal blast. For example, if 1) blasting human gene A against the chicken genome returns\n",
    "chicken gene B as the best match, and 2) blasting chicken gene B against the human genome\n",
    "returns human gene A as the best match, then human gene A and chicken gene B are putative\n",
    "orthologs. You are hopeful that your research on this gene in frog can be applied to the human gene. This application will be especially clear if the genes are orthologs of each other, so you want to perform a reciprocal BLAST."
   ]
  },
  {
   "cell_type": "markdown",
   "metadata": {},
   "source": [
    "***Task: *** We know that blasting our \"sequence of mystery\" against the Xenopus genome returns\n",
    "NM_001088537.1. What is the best hit when blasting NM_001088537.1 gene against the\n",
    "human genome?\n",
    "\n",
    "- From the results of your previous BLAST, click on the “NM_001088537.1” link in the 'Accession' column. Then, click on “FASTA” in the upper part of the page and\n",
    "either copy the FASTA part of the webpage and paste it into your Textpad / Wordpad, or\n",
    "download by clicking on “Send:” on the top-right, then “Choose Destination” -> “File” ->\n",
    "Format -> FASTA -> Create File.\n",
    "\n",
    "- Return to the Nucleotide BLAST window.\n",
    "\n",
    "- Paste in the new sequence from Xenopus laevis.\n",
    "\n",
    "- Change the “Organism” to “human” under the “Choose Search Set” option. (taxid:9606)\n",
    "\n",
    "- Click the “BLAST” button to search\n",
    "\n",
    "\n",
    "***Question 5:*** Are the genes in our \"sequence of mystery\" from the pre-lab and NM_001088537.1 putative orthologs?"
   ]
  },
  {
   "cell_type": "raw",
   "metadata": {
    "collapsed": true
   },
   "source": []
  },
  {
   "cell_type": "markdown",
   "metadata": {},
   "source": [
    "***Task:*** Now try identifying a sequence on your own. Use the following sequence:\n",
    "\n"
   ]
  },
  {
   "cell_type": "raw",
   "metadata": {},
   "source": [
    ">GCB535, Unknown Protein B\n",
    "MNLRFELQKLLNVCFLFASAYMFWQGLAIATNSASPIVVVLSGSMEPAFQRGDILFLWNRNTFNQVGDVV\n",
    "VYEVEGKQIPIVHRVLRQHNNHADKQFLLTKGDNNAGNDISLYANKKIYLNKSKEIVGTVKGYFPQLGYI\n",
    "TIWISENKYAKFALLGMLGLSALLGGE"
   ]
  },
  {
   "cell_type": "markdown",
   "metadata": {},
   "source": [
    "• Select an appropriate search tool and database to identify the sequence. Keen in mind what type of sequence it is. You may consider the\n",
    "top hit to be the correct one, although you should also note that most of the other hits are conserved proteins in other species.\n",
    "\n",
    "***Question 6:*** What protein is the best match for the above sequence?"
   ]
  },
  {
   "cell_type": "raw",
   "metadata": {
    "collapsed": true
   },
   "source": []
  },
  {
   "cell_type": "markdown",
   "metadata": {},
   "source": [
    "***Question 7:*** What species is the best match protein from?"
   ]
  },
  {
   "cell_type": "raw",
   "metadata": {
    "collapsed": true
   },
   "source": []
  },
  {
   "cell_type": "markdown",
   "metadata": {},
   "source": [
    "### Part II. EMBOSS Pairwise Sequence Alignment Tool: Global and Local Alignments"
   ]
  },
  {
   "cell_type": "markdown",
   "metadata": {},
   "source": [
    "In an alignment, nucleotides or amino acids are aligned so that nucleotides with the same evolutionary origins are lined up. Aligning known homologs is biologically useful to determine which regions are conserved, and therefore more likely to be functionally important.\n",
    "\n",
    "Next you will experiment with aligning two known homologs against each other. Below are the GLUT1 protein sequences for mouse and fly:\n",
    "\n",
    "\n"
   ]
  },
  {
   "cell_type": "raw",
   "metadata": {},
   "source": [
    ">gi|22094111|ref|NP_035530.1| solute carrier family 2 (facilitated glucose transporter), member 1 [Mus musculus]\n",
    "MDPSSKKVTGRLMLAVGGAVLGSLQFGYNTGVINAPQKVIEEFYNQTWNHRIGEPIPSTTLTTLWSLSVA\n",
    "IFSVGGMIGSFSVGLFVNRFGRRNSMLMMNLLAFVAAVLMGFSKLGKSFEMLILGRFIIGVYCGLTTGFV\n",
    "PMYVGEVSPTALRGALGTLHQLGIVVGILIAQVFGLDSIMGNADLWPLLLSVVFVPALLQCILLPFCPES\n",
    "PRFLLINRNEENRAKSVLKKLRGTADVTRDLQEMKEEGRQMMREKKVTILELFRSPAYRQPILIAVVLQL\n",
    "SQQLSGINAVFYYSTSIFEKAGVQQPVYATIGSGIVNTAFTVVSLFVVERAGRRTLHLIGLAGMAGCAVL\n",
    "MTIALALLERLPWMSYLSIVAIFGFVAFFEVGPGPIPWFIVAELFSQGPRPARIAVAGFSNWTSNFIVGM\n",
    "CFQYVEQLCGPYVFIIFTVLLVLFFIFTYFKVPETKGRTFDEIASGFRQGGASQSDKTPEELFHPLGADS\n",
    "QV\n",
    ">gi|45551496|ref|NP_728558.2| Glucose transporter 1 CG1086-PA, isoform A [Drosophila melanogaster]\n",
    "MCTAGQNNDMATIGDLSMISPPTSSISNDQDPFGQLPPLPPPLRSTQVLQPLSVFPVSNLSEDSYDYVFG\n",
    "GRRKTPPTTTSTQLKLTSPPVRLRPEDAYRGANINNGRFYRHSFSYAPKRQRHSSRDDRDRESRLRCHGE\n",
    "DEATLRQLLLDLQKQVSVMSMNLSAKLDELQRGDRHLETTVALCEIRTQLQELTKSVESCQSEVSEVKRD\n",
    "MVAIKHELDTVQQVKEEIEELREYVDRLEEHTHRRKLRLLEQGLTFFLTYSIFSAVLGMLQFGYNTGVIN\n",
    "APEKNIENFMKDVYKDRYGEDISEEFIQQLYSVAVSIFAIGGMLGGFSGGWMANRFGRKGGLLLNNVLGI\n",
    "AGACLMGFTKVSHSYEMLFLGRFIIGVNCGLNTSLVPMYISEIAPLNLRGGLGTVNQLAVTVGLLLSQVL\n",
    "GIEQILGTNEGWPILLGLAICPAILQLILLPVCPESPRYLLITKQWEEEARKALRRLRASGSVEEDIEEM\n",
    "RAEERAQQSESHISTMELICSPTLRPPLIIGIVMQLSQQFSGINAVFYYSTSLFMSSGLTEESAKFATIG\n",
    "IGAIMVVMTLVSIPLMDRTGRRTLHLYGLGGMFIFSIFITISFLIKASIVVSRILESCSCSCRVMPANVN\n",
    "AKMPASLGLHLFVPRPFSDLHMTLKS"
   ]
  },
  {
   "cell_type": "markdown",
   "metadata": {},
   "source": [
    "- Navigate to the EMBOSS Pairwise Alignment Tool available at the URL:\n",
    "http://www.ebi.ac.uk/Tools/psa/\n",
    "    \n",
    "- Click on the “Protein” button under the “Global Alignment” and “Needle” section.\n",
    "\n",
    "- Paste or upload the sequences an alignment on the Mouse and Fly homologs of GLUT1.\n",
    "\n",
    "- Expand “STEP 2 - Set your pairwise alignment options” by clicking on “More\n",
    "options...”. Configure the alignment to use the Needleman-Wunsch algorithm with a\n",
    "“GAP OPEN” penalty of 10 and a “GAP EXTEND” penalty of 1.0, and make sure you are using\n",
    "the “BLOSUM62” substitution matrix.\n",
    "\n",
    "- Click “Submit” to start the search. \t\n",
    "  "
   ]
  },
  {
   "cell_type": "markdown",
   "metadata": {},
   "source": [
    "***Question 8:*** What is the length of the global alignment? (Hint: % Identity, Similarity, and Gaps\n",
    "are all reported as fractions of the total alignment length)"
   ]
  },
  {
   "cell_type": "raw",
   "metadata": {
    "collapsed": true
   },
   "source": []
  },
  {
   "cell_type": "markdown",
   "metadata": {},
   "source": [
    "***Question 9:*** What is the “Score” and how was it calculated? What does it correspond to in the\n",
    "dynamic programming grids from the lecture?"
   ]
  },
  {
   "cell_type": "raw",
   "metadata": {
    "collapsed": true
   },
   "source": []
  },
  {
   "cell_type": "markdown",
   "metadata": {},
   "source": [
    "   - Now run the local alignment again using the Smith-Waterman algorithm (local\n",
    "alignment): Go back to the front page (http://www.ebi.ac.uk/Tools/psa/), and click on the\n",
    "“Protein” button under “Local Alignment” and “Water” section.\n",
    "\n",
    "   - Check the default setting for “STEP 2 - Set your pairwise alignment options” by\n",
    "clicking on “More options...”. Choose a “GAP OPEN” penalty of 10, a “GAP\n",
    "EXTEND” penalty of 1.0, and the “BLOSUM62” substitution matrix.\n",
    "\n",
    "   - Run the alignment again."
   ]
  },
  {
   "cell_type": "markdown",
   "metadata": {},
   "source": [
    "***Question 10:*** What is the length of this new alignment? What is the gap percentage of this\n",
    "alignment?"
   ]
  },
  {
   "cell_type": "raw",
   "metadata": {
    "collapsed": true
   },
   "source": []
  },
  {
   "cell_type": "markdown",
   "metadata": {},
   "source": [
    "***Question 11:*** Why are the lengths different using the two different methods?"
   ]
  },
  {
   "cell_type": "raw",
   "metadata": {
    "collapsed": true
   },
   "source": []
  },
  {
   "cell_type": "markdown",
   "metadata": {},
   "source": [
    "Now, explore the effects of changing the gap-opening penalty.\n",
    "\n",
    "Go back to the alignment form by using the\n",
    "back button of your browser. Under “STEP 2 - Set your pairwise alignment options”,\n",
    "change the “ GAP OPEN” penalty from 10 to 1. Run the alignment again."
   ]
  },
  {
   "cell_type": "markdown",
   "metadata": {},
   "source": [
    "***Question 12:*** What is the gap percentage of this alignment (with GAP OPEN PANELTY==1)?\n",
    "Does the gap percentage increase or decrease compared to the previous alignment?"
   ]
  },
  {
   "cell_type": "raw",
   "metadata": {
    "collapsed": true
   },
   "source": []
  },
  {
   "cell_type": "markdown",
   "metadata": {},
   "source": [
    "***Question 13:*** Which of these two alignments is more biologically relevant? Why?\n",
    "\n",
    "Hint: In terms of mutational process, are many small gaps or one large gap more likely?"
   ]
  },
  {
   "cell_type": "raw",
   "metadata": {
    "collapsed": true
   },
   "source": []
  },
  {
   "cell_type": "markdown",
   "metadata": {},
   "source": [
    "**Question 14:** Now, change the substitution matrix to BLOSUM45. What is the new score?"
   ]
  },
  {
   "cell_type": "raw",
   "metadata": {},
   "source": []
  },
  {
   "cell_type": "markdown",
   "metadata": {},
   "source": [
    "**Question 15:** Next, change the substitution matrix to BLOSUM80. What is the new score?"
   ]
  },
  {
   "cell_type": "raw",
   "metadata": {},
   "source": []
  },
  {
   "cell_type": "markdown",
   "metadata": {},
   "source": [
    "**Question 16:** Does BLOSUM45 or BLOSUM80 result in a higher score? Did this surprise you initially? Does a higher raw score necessarily indicate a better alignment? Why or why not?"
   ]
  },
  {
   "cell_type": "raw",
   "metadata": {},
   "source": []
  },
  {
   "cell_type": "markdown",
   "metadata": {},
   "source": [
    "***Question 17:*** Which substitution matrix (BLOSUM80 or BLOSUM45) would be preferable for aligning\n",
    "mouse and rat sequences? Why?"
   ]
  },
  {
   "cell_type": "raw",
   "metadata": {},
   "source": []
  },
  {
   "cell_type": "markdown",
   "metadata": {},
   "source": [
    "**Question 18:** Rerun this analysis using the PAM30 substitution matrix. What is the % identity, % similarity and total score of the resulting alignment?"
   ]
  },
  {
   "cell_type": "raw",
   "metadata": {},
   "source": []
  },
  {
   "cell_type": "markdown",
   "metadata": {},
   "source": [
    "**Question 19:** Rerun this analysis using the PAM70 substitution matrix. What is the % identity, % similarity and total score of the resulting alignment?"
   ]
  },
  {
   "cell_type": "raw",
   "metadata": {},
   "source": []
  },
  {
   "cell_type": "markdown",
   "metadata": {},
   "source": [
    "**Question 20:** Why does the PAM70 matrix result in a stronger alignment? In general, what is\n",
    "the difference between PAM matrices and BLOSUM matrices?\n",
    "Hint: look at the biological model used to generate the PAM matrices. See more information here: http://cshprotocols.cshlp.org/content/2008/6/pdb.ip59.long"
   ]
  },
  {
   "cell_type": "raw",
   "metadata": {},
   "source": []
  },
  {
   "cell_type": "markdown",
   "metadata": {
    "collapsed": true
   },
   "source": [
    "# Homework: "
   ]
  },
  {
   "cell_type": "markdown",
   "metadata": {},
   "source": [
    "***Task:*** Contained in homework13_mySeq.fasta is a nucleotide sequence from humans. You want to get the protein sequence of the corresponding mouse gene. Hint: You can do this in only one step using one of the programs under the Web BLAST heading."
   ]
  },
  {
   "cell_type": "markdown",
   "metadata": {},
   "source": [
    "***Question 21:*** What is the name of this protein?"
   ]
  },
  {
   "cell_type": "raw",
   "metadata": {},
   "source": []
  },
  {
   "cell_type": "markdown",
   "metadata": {},
   "source": [
    "***Question 22:*** Copy and paste the amino acid sequence from the corresponding mouse gene below."
   ]
  },
  {
   "cell_type": "raw",
   "metadata": {
    "collapsed": true
   },
   "source": []
  },
  {
   "cell_type": "markdown",
   "metadata": {},
   "source": [
    "***Question 23:*** When you search for a protein sequence, BLAST will show you the domains your query sequence contains at the top of the page. A domain is a protein subunit with a defined structure that is found in the context of many different genes. What are the two longest domains found in this gene, according to BLAST?"
   ]
  },
  {
   "cell_type": "raw",
   "metadata": {
    "collapsed": true
   },
   "source": []
  }
 ],
 "metadata": {
  "kernelspec": {
   "display_name": "Python 2",
   "language": "python",
   "name": "python2"
  },
  "language_info": {
   "codemirror_mode": {
    "name": "ipython",
    "version": 2
   },
   "file_extension": ".py",
   "mimetype": "text/x-python",
   "name": "python",
   "nbconvert_exporter": "python",
   "pygments_lexer": "ipython2",
   "version": "2.7.13"
  },
  "name": "13_Alignment_assignment.ipynb"
 },
 "nbformat": 4,
 "nbformat_minor": 1
}
