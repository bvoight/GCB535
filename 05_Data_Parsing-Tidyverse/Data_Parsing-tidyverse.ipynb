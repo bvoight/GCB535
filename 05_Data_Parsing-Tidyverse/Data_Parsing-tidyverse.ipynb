{
 "cells": [
  {
   "cell_type": "markdown",
   "metadata": {},
   "source": [
    "# GCB535: Data Parsing with Tidyverse"
   ]
  },
  {
   "cell_type": "markdown",
   "metadata": {},
   "source": [
    "## Instructions"
   ]
  },
  {
   "cell_type": "markdown",
   "metadata": {},
   "source": [
    "In this *adventure*, you are going to work with tidyverse to practice formatting, manipulating, and summarizing data. For that, please load the tidyverse library (note that every time you start your notebook, you'll have to reload libraries):"
   ]
  },
  {
   "cell_type": "code",
   "execution_count": 1,
   "metadata": {},
   "outputs": [
    {
     "name": "stderr",
     "output_type": "stream",
     "text": [
      "Warning message in system(\"timedatectl\", intern = TRUE):\n",
      "“running command 'timedatectl' had status 1”\n",
      "── \u001b[1mAttaching packages\u001b[22m ─────────────────────────────────────── tidyverse 1.3.1 ──\n",
      "\n",
      "\u001b[32m✔\u001b[39m \u001b[34mggplot2\u001b[39m 3.3.6      \u001b[32m✔\u001b[39m \u001b[34mpurrr  \u001b[39m 0.3.4 \n",
      "\u001b[32m✔\u001b[39m \u001b[34mtibble \u001b[39m 3.1.7      \u001b[32m✔\u001b[39m \u001b[34mdplyr  \u001b[39m 1.0.10\n",
      "\u001b[32m✔\u001b[39m \u001b[34mtidyr  \u001b[39m 1.2.1      \u001b[32m✔\u001b[39m \u001b[34mstringr\u001b[39m 1.4.1 \n",
      "\u001b[32m✔\u001b[39m \u001b[34mreadr  \u001b[39m 2.1.2      \u001b[32m✔\u001b[39m \u001b[34mforcats\u001b[39m 0.5.2 \n",
      "\n",
      "── \u001b[1mConflicts\u001b[22m ────────────────────────────────────────── tidyverse_conflicts() ──\n",
      "\u001b[31m✖\u001b[39m \u001b[34mdplyr\u001b[39m::\u001b[32mfilter()\u001b[39m masks \u001b[34mstats\u001b[39m::filter()\n",
      "\u001b[31m✖\u001b[39m \u001b[34mdplyr\u001b[39m::\u001b[32mlag()\u001b[39m    masks \u001b[34mstats\u001b[39m::lag()\n",
      "\n"
     ]
    }
   ],
   "source": [
    "library(tidyverse)"
   ]
  },
  {
   "cell_type": "markdown",
   "metadata": {},
   "source": [
    "We're going to work with the COVID-19 state-wise data that you've been making various plots with over the last few days, and we'll convert the date to a \"computer parsable\" version of date.\n",
    "\n",
    "Execute the commands below:"
   ]
  },
  {
   "cell_type": "code",
   "execution_count": 17,
   "metadata": {},
   "outputs": [
    {
     "name": "stderr",
     "output_type": "stream",
     "text": [
      "\u001b[1mRows: \u001b[22m\u001b[34m19765\u001b[39m \u001b[1mColumns: \u001b[22m\u001b[34m41\u001b[39m\n",
      "\u001b[36m──\u001b[39m \u001b[1mColumn specification\u001b[22m \u001b[36m────────────────────────────────────────────────────────\u001b[39m\n",
      "\u001b[1mDelimiter:\u001b[22m \",\"\n",
      "\u001b[31mchr\u001b[39m   (1): state\n",
      "\u001b[32mdbl\u001b[39m  (39): death, deathConfirmed, deathIncrease, deathProbable, hospitalized...\n",
      "\u001b[34mdate\u001b[39m  (1): date\n",
      "\n",
      "\u001b[36mℹ\u001b[39m Use `spec()` to retrieve the full column specification for this data.\n",
      "\u001b[36mℹ\u001b[39m Specify the column types or set `show_col_types = FALSE` to quiet this message.\n"
     ]
    }
   ],
   "source": [
    "data <- read_csv(file=\"all-states-history.csv\")\n",
    "data_tbl <- tibble(data)\n"
   ]
  },
  {
   "cell_type": "markdown",
   "metadata": {
    "collapsed": true
   },
   "source": [
    "For Q1, Q2, Q3, and Q4,  groups will select their specific state to focus their analysis on:\n",
    "\n"
   ]
  },
  {
   "cell_type": "markdown",
   "metadata": {
    "collapsed": true
   },
   "source": [
    "| Group | State        | State Nickname       | State Code |\n",
    "|-------|--------------|----------------------|------------|\n",
    "| 1     | Pennsylvania | Keystone State       | PA         |\n",
    "| 2     | California   | Golden State         | CA         |\n",
    "| 3     | New York     | Empire State         | NY         |\n",
    "| 4     | Louisiana    | Pelican State        | LA         |\n",
    "| 5     | South Dakota | Mount Rushmore State | SD         |\n",
    "\n"
   ]
  },
  {
   "cell_type": "markdown",
   "metadata": {},
   "source": [
    "During the breakout session, work as a group to complete as many of the tasks as you have time for!"
   ]
  },
  {
   "cell_type": "markdown",
   "metadata": {},
   "source": [
    "#######################"
   ]
  },
  {
   "cell_type": "markdown",
   "metadata": {
    "collapsed": true
   },
   "source": [
    "Let's compare the frequency of covid mortality for your assigned date for:\n",
    "   - The \"Holiday\" wave which I will roughly define here as betwee 10-15-2020 and 1-15-2021\n",
    "   - The \"Pre Holiday\" wave which I define here as records earlier than 10-15-2020 "
   ]
  },
  {
   "cell_type": "markdown",
   "metadata": {},
   "source": [
    "**Q1.** Create a variable named `pre` which extracts:\n",
    "\n",
    "- entries from your state only\n",
    "- obtains entries earlier than 10-15-2020\n",
    "\n",
    "Provide (and execute) your code below:\n",
    "\n"
   ]
  },
  {
   "cell_type": "code",
   "execution_count": 21,
   "metadata": {
    "collapsed": true
   },
   "outputs": [
    {
     "data": {
      "text/html": [
       "<table class=\"dataframe\">\n",
       "<caption>A tibble: 6 × 41</caption>\n",
       "<thead>\n",
       "\t<tr><th scope=col>date</th><th scope=col>state</th><th scope=col>death</th><th scope=col>deathConfirmed</th><th scope=col>deathIncrease</th><th scope=col>deathProbable</th><th scope=col>hospitalized</th><th scope=col>hospitalizedCumulative</th><th scope=col>hospitalizedCurrently</th><th scope=col>hospitalizedIncrease</th><th scope=col>⋯</th><th scope=col>totalTestResults</th><th scope=col>totalTestResultsIncrease</th><th scope=col>totalTestsAntibody</th><th scope=col>totalTestsAntigen</th><th scope=col>totalTestsPeopleAntibody</th><th scope=col>totalTestsPeopleAntigen</th><th scope=col>totalTestsPeopleViral</th><th scope=col>totalTestsPeopleViralIncrease</th><th scope=col>totalTestsViral</th><th scope=col>totalTestsViralIncrease</th></tr>\n",
       "\t<tr><th scope=col>&lt;date&gt;</th><th scope=col>&lt;chr&gt;</th><th scope=col>&lt;dbl&gt;</th><th scope=col>&lt;dbl&gt;</th><th scope=col>&lt;dbl&gt;</th><th scope=col>&lt;dbl&gt;</th><th scope=col>&lt;dbl&gt;</th><th scope=col>&lt;dbl&gt;</th><th scope=col>&lt;dbl&gt;</th><th scope=col>&lt;dbl&gt;</th><th scope=col>⋯</th><th scope=col>&lt;dbl&gt;</th><th scope=col>&lt;dbl&gt;</th><th scope=col>&lt;dbl&gt;</th><th scope=col>&lt;dbl&gt;</th><th scope=col>&lt;dbl&gt;</th><th scope=col>&lt;dbl&gt;</th><th scope=col>&lt;dbl&gt;</th><th scope=col>&lt;dbl&gt;</th><th scope=col>&lt;dbl&gt;</th><th scope=col>&lt;dbl&gt;</th></tr>\n",
       "</thead>\n",
       "<tbody>\n",
       "\t<tr><td>2020-10-14</td><td>PA</td><td>8411</td><td>NA</td><td>27</td><td>NA</td><td>NA</td><td>NA</td><td>749</td><td>0</td><td>⋯</td><td>3506849</td><td>30438</td><td>NA</td><td>NA</td><td>NA</td><td>NA</td><td>2244079</td><td>15733</td><td>NA</td><td>0</td></tr>\n",
       "\t<tr><td>2020-10-13</td><td>PA</td><td>8384</td><td>NA</td><td>16</td><td>NA</td><td>NA</td><td>NA</td><td>773</td><td>0</td><td>⋯</td><td>3476411</td><td>35600</td><td>NA</td><td>NA</td><td>NA</td><td>NA</td><td>2228346</td><td>16572</td><td>NA</td><td>0</td></tr>\n",
       "\t<tr><td>2020-10-12</td><td>PA</td><td>8368</td><td>NA</td><td>18</td><td>NA</td><td>NA</td><td>NA</td><td>725</td><td>0</td><td>⋯</td><td>3440811</td><td>24648</td><td>NA</td><td>NA</td><td>NA</td><td>NA</td><td>2211774</td><td>12048</td><td>NA</td><td>0</td></tr>\n",
       "\t<tr><td>2020-10-11</td><td>PA</td><td>8350</td><td>NA</td><td> 6</td><td>NA</td><td>NA</td><td>NA</td><td>706</td><td>0</td><td>⋯</td><td>3416163</td><td>30831</td><td>NA</td><td>NA</td><td>NA</td><td>NA</td><td>2199726</td><td>15324</td><td>NA</td><td>0</td></tr>\n",
       "\t<tr><td>2020-10-10</td><td>PA</td><td>8344</td><td>NA</td><td>36</td><td>NA</td><td>NA</td><td>NA</td><td>732</td><td>0</td><td>⋯</td><td>3385332</td><td>48695</td><td>NA</td><td>NA</td><td>NA</td><td>NA</td><td>2184402</td><td>21316</td><td>NA</td><td>0</td></tr>\n",
       "\t<tr><td>2020-10-09</td><td>PA</td><td>8308</td><td>NA</td><td> 9</td><td>NA</td><td>NA</td><td>NA</td><td>734</td><td>0</td><td>⋯</td><td>3336637</td><td>40270</td><td>NA</td><td>NA</td><td>NA</td><td>NA</td><td>2163086</td><td>15920</td><td>NA</td><td>0</td></tr>\n",
       "</tbody>\n",
       "</table>\n"
      ],
      "text/latex": [
       "A tibble: 6 × 41\n",
       "\\begin{tabular}{lllllllllllllllllllll}\n",
       " date & state & death & deathConfirmed & deathIncrease & deathProbable & hospitalized & hospitalizedCumulative & hospitalizedCurrently & hospitalizedIncrease & ⋯ & totalTestResults & totalTestResultsIncrease & totalTestsAntibody & totalTestsAntigen & totalTestsPeopleAntibody & totalTestsPeopleAntigen & totalTestsPeopleViral & totalTestsPeopleViralIncrease & totalTestsViral & totalTestsViralIncrease\\\\\n",
       " <date> & <chr> & <dbl> & <dbl> & <dbl> & <dbl> & <dbl> & <dbl> & <dbl> & <dbl> & ⋯ & <dbl> & <dbl> & <dbl> & <dbl> & <dbl> & <dbl> & <dbl> & <dbl> & <dbl> & <dbl>\\\\\n",
       "\\hline\n",
       "\t 2020-10-14 & PA & 8411 & NA & 27 & NA & NA & NA & 749 & 0 & ⋯ & 3506849 & 30438 & NA & NA & NA & NA & 2244079 & 15733 & NA & 0\\\\\n",
       "\t 2020-10-13 & PA & 8384 & NA & 16 & NA & NA & NA & 773 & 0 & ⋯ & 3476411 & 35600 & NA & NA & NA & NA & 2228346 & 16572 & NA & 0\\\\\n",
       "\t 2020-10-12 & PA & 8368 & NA & 18 & NA & NA & NA & 725 & 0 & ⋯ & 3440811 & 24648 & NA & NA & NA & NA & 2211774 & 12048 & NA & 0\\\\\n",
       "\t 2020-10-11 & PA & 8350 & NA &  6 & NA & NA & NA & 706 & 0 & ⋯ & 3416163 & 30831 & NA & NA & NA & NA & 2199726 & 15324 & NA & 0\\\\\n",
       "\t 2020-10-10 & PA & 8344 & NA & 36 & NA & NA & NA & 732 & 0 & ⋯ & 3385332 & 48695 & NA & NA & NA & NA & 2184402 & 21316 & NA & 0\\\\\n",
       "\t 2020-10-09 & PA & 8308 & NA &  9 & NA & NA & NA & 734 & 0 & ⋯ & 3336637 & 40270 & NA & NA & NA & NA & 2163086 & 15920 & NA & 0\\\\\n",
       "\\end{tabular}\n"
      ],
      "text/markdown": [
       "\n",
       "A tibble: 6 × 41\n",
       "\n",
       "| date &lt;date&gt; | state &lt;chr&gt; | death &lt;dbl&gt; | deathConfirmed &lt;dbl&gt; | deathIncrease &lt;dbl&gt; | deathProbable &lt;dbl&gt; | hospitalized &lt;dbl&gt; | hospitalizedCumulative &lt;dbl&gt; | hospitalizedCurrently &lt;dbl&gt; | hospitalizedIncrease &lt;dbl&gt; | ⋯ ⋯ | totalTestResults &lt;dbl&gt; | totalTestResultsIncrease &lt;dbl&gt; | totalTestsAntibody &lt;dbl&gt; | totalTestsAntigen &lt;dbl&gt; | totalTestsPeopleAntibody &lt;dbl&gt; | totalTestsPeopleAntigen &lt;dbl&gt; | totalTestsPeopleViral &lt;dbl&gt; | totalTestsPeopleViralIncrease &lt;dbl&gt; | totalTestsViral &lt;dbl&gt; | totalTestsViralIncrease &lt;dbl&gt; |\n",
       "|---|---|---|---|---|---|---|---|---|---|---|---|---|---|---|---|---|---|---|---|---|\n",
       "| 2020-10-14 | PA | 8411 | NA | 27 | NA | NA | NA | 749 | 0 | ⋯ | 3506849 | 30438 | NA | NA | NA | NA | 2244079 | 15733 | NA | 0 |\n",
       "| 2020-10-13 | PA | 8384 | NA | 16 | NA | NA | NA | 773 | 0 | ⋯ | 3476411 | 35600 | NA | NA | NA | NA | 2228346 | 16572 | NA | 0 |\n",
       "| 2020-10-12 | PA | 8368 | NA | 18 | NA | NA | NA | 725 | 0 | ⋯ | 3440811 | 24648 | NA | NA | NA | NA | 2211774 | 12048 | NA | 0 |\n",
       "| 2020-10-11 | PA | 8350 | NA |  6 | NA | NA | NA | 706 | 0 | ⋯ | 3416163 | 30831 | NA | NA | NA | NA | 2199726 | 15324 | NA | 0 |\n",
       "| 2020-10-10 | PA | 8344 | NA | 36 | NA | NA | NA | 732 | 0 | ⋯ | 3385332 | 48695 | NA | NA | NA | NA | 2184402 | 21316 | NA | 0 |\n",
       "| 2020-10-09 | PA | 8308 | NA |  9 | NA | NA | NA | 734 | 0 | ⋯ | 3336637 | 40270 | NA | NA | NA | NA | 2163086 | 15920 | NA | 0 |\n",
       "\n"
      ],
      "text/plain": [
       "  date       state death deathConfirmed deathIncrease deathProbable\n",
       "1 2020-10-14 PA    8411  NA             27            NA           \n",
       "2 2020-10-13 PA    8384  NA             16            NA           \n",
       "3 2020-10-12 PA    8368  NA             18            NA           \n",
       "4 2020-10-11 PA    8350  NA              6            NA           \n",
       "5 2020-10-10 PA    8344  NA             36            NA           \n",
       "6 2020-10-09 PA    8308  NA              9            NA           \n",
       "  hospitalized hospitalizedCumulative hospitalizedCurrently\n",
       "1 NA           NA                     749                  \n",
       "2 NA           NA                     773                  \n",
       "3 NA           NA                     725                  \n",
       "4 NA           NA                     706                  \n",
       "5 NA           NA                     732                  \n",
       "6 NA           NA                     734                  \n",
       "  hospitalizedIncrease ⋯ totalTestResults totalTestResultsIncrease\n",
       "1 0                    ⋯ 3506849          30438                   \n",
       "2 0                    ⋯ 3476411          35600                   \n",
       "3 0                    ⋯ 3440811          24648                   \n",
       "4 0                    ⋯ 3416163          30831                   \n",
       "5 0                    ⋯ 3385332          48695                   \n",
       "6 0                    ⋯ 3336637          40270                   \n",
       "  totalTestsAntibody totalTestsAntigen totalTestsPeopleAntibody\n",
       "1 NA                 NA                NA                      \n",
       "2 NA                 NA                NA                      \n",
       "3 NA                 NA                NA                      \n",
       "4 NA                 NA                NA                      \n",
       "5 NA                 NA                NA                      \n",
       "6 NA                 NA                NA                      \n",
       "  totalTestsPeopleAntigen totalTestsPeopleViral totalTestsPeopleViralIncrease\n",
       "1 NA                      2244079               15733                        \n",
       "2 NA                      2228346               16572                        \n",
       "3 NA                      2211774               12048                        \n",
       "4 NA                      2199726               15324                        \n",
       "5 NA                      2184402               21316                        \n",
       "6 NA                      2163086               15920                        \n",
       "  totalTestsViral totalTestsViralIncrease\n",
       "1 NA              0                      \n",
       "2 NA              0                      \n",
       "3 NA              0                      \n",
       "4 NA              0                      \n",
       "5 NA              0                      \n",
       "6 NA              0                      "
      ]
     },
     "execution_count": 21,
     "metadata": {},
     "output_type": "execute_result"
    }
   ],
   "source": []
  },
  {
   "cell_type": "markdown",
   "metadata": {},
   "source": [
    "**Q2.** Create a variable named `post` which extracts:\n",
    "- entires from your state only\n",
    "- obtains entries between 10-15-2020 and 01-15-2021\n",
    "\n",
    "Provide (and execute) your code below:"
   ]
  },
  {
   "cell_type": "code",
   "execution_count": 22,
   "metadata": {
    "collapsed": true
   },
   "outputs": [
    {
     "data": {
      "text/html": [
       "<table class=\"dataframe\">\n",
       "<caption>A tibble: 6 × 41</caption>\n",
       "<thead>\n",
       "\t<tr><th scope=col>date</th><th scope=col>state</th><th scope=col>death</th><th scope=col>deathConfirmed</th><th scope=col>deathIncrease</th><th scope=col>deathProbable</th><th scope=col>hospitalized</th><th scope=col>hospitalizedCumulative</th><th scope=col>hospitalizedCurrently</th><th scope=col>hospitalizedIncrease</th><th scope=col>⋯</th><th scope=col>totalTestResults</th><th scope=col>totalTestResultsIncrease</th><th scope=col>totalTestsAntibody</th><th scope=col>totalTestsAntigen</th><th scope=col>totalTestsPeopleAntibody</th><th scope=col>totalTestsPeopleAntigen</th><th scope=col>totalTestsPeopleViral</th><th scope=col>totalTestsPeopleViralIncrease</th><th scope=col>totalTestsViral</th><th scope=col>totalTestsViralIncrease</th></tr>\n",
       "\t<tr><th scope=col>&lt;date&gt;</th><th scope=col>&lt;chr&gt;</th><th scope=col>&lt;dbl&gt;</th><th scope=col>&lt;dbl&gt;</th><th scope=col>&lt;dbl&gt;</th><th scope=col>&lt;dbl&gt;</th><th scope=col>&lt;dbl&gt;</th><th scope=col>&lt;dbl&gt;</th><th scope=col>&lt;dbl&gt;</th><th scope=col>&lt;dbl&gt;</th><th scope=col>⋯</th><th scope=col>&lt;dbl&gt;</th><th scope=col>&lt;dbl&gt;</th><th scope=col>&lt;dbl&gt;</th><th scope=col>&lt;dbl&gt;</th><th scope=col>&lt;dbl&gt;</th><th scope=col>&lt;dbl&gt;</th><th scope=col>&lt;dbl&gt;</th><th scope=col>&lt;dbl&gt;</th><th scope=col>&lt;dbl&gt;</th><th scope=col>&lt;dbl&gt;</th></tr>\n",
       "</thead>\n",
       "<tbody>\n",
       "\t<tr><td>2021-01-14</td><td>PA</td><td>18742</td><td>NA</td><td>313</td><td>NA</td><td>NA</td><td>NA</td><td>4980</td><td>0</td><td>⋯</td><td>8307622</td><td>52579</td><td>NA</td><td>NA</td><td>NA</td><td>NA</td><td>4089675</td><td>17172</td><td>NA</td><td>0</td></tr>\n",
       "\t<tr><td>2021-01-13</td><td>PA</td><td>18429</td><td>NA</td><td>349</td><td>NA</td><td>NA</td><td>NA</td><td>5069</td><td>0</td><td>⋯</td><td>8255043</td><td>56546</td><td>NA</td><td>NA</td><td>NA</td><td>NA</td><td>4072503</td><td>19227</td><td>NA</td><td>0</td></tr>\n",
       "\t<tr><td>2021-01-12</td><td>PA</td><td>18080</td><td>NA</td><td>227</td><td>NA</td><td>NA</td><td>NA</td><td>5204</td><td>0</td><td>⋯</td><td>8198497</td><td>52516</td><td>NA</td><td>NA</td><td>NA</td><td>NA</td><td>4053276</td><td>16573</td><td>NA</td><td>0</td></tr>\n",
       "\t<tr><td>2021-01-11</td><td>PA</td><td>17853</td><td>NA</td><td> 83</td><td>NA</td><td>NA</td><td>NA</td><td>5232</td><td>0</td><td>⋯</td><td>8145981</td><td>39353</td><td>NA</td><td>NA</td><td>NA</td><td>NA</td><td>4036703</td><td>15727</td><td>NA</td><td>0</td></tr>\n",
       "\t<tr><td>2021-01-10</td><td>PA</td><td>17770</td><td>NA</td><td>103</td><td>NA</td><td>NA</td><td>NA</td><td>5201</td><td>0</td><td>⋯</td><td>8106628</td><td>58042</td><td>NA</td><td>NA</td><td>NA</td><td>NA</td><td>4020976</td><td>20448</td><td>NA</td><td>0</td></tr>\n",
       "\t<tr><td>2021-01-09</td><td>PA</td><td>17667</td><td>NA</td><td>273</td><td>NA</td><td>NA</td><td>NA</td><td>5298</td><td>0</td><td>⋯</td><td>8048586</td><td>72839</td><td>NA</td><td>NA</td><td>NA</td><td>NA</td><td>4000528</td><td>23463</td><td>NA</td><td>0</td></tr>\n",
       "</tbody>\n",
       "</table>\n"
      ],
      "text/latex": [
       "A tibble: 6 × 41\n",
       "\\begin{tabular}{lllllllllllllllllllll}\n",
       " date & state & death & deathConfirmed & deathIncrease & deathProbable & hospitalized & hospitalizedCumulative & hospitalizedCurrently & hospitalizedIncrease & ⋯ & totalTestResults & totalTestResultsIncrease & totalTestsAntibody & totalTestsAntigen & totalTestsPeopleAntibody & totalTestsPeopleAntigen & totalTestsPeopleViral & totalTestsPeopleViralIncrease & totalTestsViral & totalTestsViralIncrease\\\\\n",
       " <date> & <chr> & <dbl> & <dbl> & <dbl> & <dbl> & <dbl> & <dbl> & <dbl> & <dbl> & ⋯ & <dbl> & <dbl> & <dbl> & <dbl> & <dbl> & <dbl> & <dbl> & <dbl> & <dbl> & <dbl>\\\\\n",
       "\\hline\n",
       "\t 2021-01-14 & PA & 18742 & NA & 313 & NA & NA & NA & 4980 & 0 & ⋯ & 8307622 & 52579 & NA & NA & NA & NA & 4089675 & 17172 & NA & 0\\\\\n",
       "\t 2021-01-13 & PA & 18429 & NA & 349 & NA & NA & NA & 5069 & 0 & ⋯ & 8255043 & 56546 & NA & NA & NA & NA & 4072503 & 19227 & NA & 0\\\\\n",
       "\t 2021-01-12 & PA & 18080 & NA & 227 & NA & NA & NA & 5204 & 0 & ⋯ & 8198497 & 52516 & NA & NA & NA & NA & 4053276 & 16573 & NA & 0\\\\\n",
       "\t 2021-01-11 & PA & 17853 & NA &  83 & NA & NA & NA & 5232 & 0 & ⋯ & 8145981 & 39353 & NA & NA & NA & NA & 4036703 & 15727 & NA & 0\\\\\n",
       "\t 2021-01-10 & PA & 17770 & NA & 103 & NA & NA & NA & 5201 & 0 & ⋯ & 8106628 & 58042 & NA & NA & NA & NA & 4020976 & 20448 & NA & 0\\\\\n",
       "\t 2021-01-09 & PA & 17667 & NA & 273 & NA & NA & NA & 5298 & 0 & ⋯ & 8048586 & 72839 & NA & NA & NA & NA & 4000528 & 23463 & NA & 0\\\\\n",
       "\\end{tabular}\n"
      ],
      "text/markdown": [
       "\n",
       "A tibble: 6 × 41\n",
       "\n",
       "| date &lt;date&gt; | state &lt;chr&gt; | death &lt;dbl&gt; | deathConfirmed &lt;dbl&gt; | deathIncrease &lt;dbl&gt; | deathProbable &lt;dbl&gt; | hospitalized &lt;dbl&gt; | hospitalizedCumulative &lt;dbl&gt; | hospitalizedCurrently &lt;dbl&gt; | hospitalizedIncrease &lt;dbl&gt; | ⋯ ⋯ | totalTestResults &lt;dbl&gt; | totalTestResultsIncrease &lt;dbl&gt; | totalTestsAntibody &lt;dbl&gt; | totalTestsAntigen &lt;dbl&gt; | totalTestsPeopleAntibody &lt;dbl&gt; | totalTestsPeopleAntigen &lt;dbl&gt; | totalTestsPeopleViral &lt;dbl&gt; | totalTestsPeopleViralIncrease &lt;dbl&gt; | totalTestsViral &lt;dbl&gt; | totalTestsViralIncrease &lt;dbl&gt; |\n",
       "|---|---|---|---|---|---|---|---|---|---|---|---|---|---|---|---|---|---|---|---|---|\n",
       "| 2021-01-14 | PA | 18742 | NA | 313 | NA | NA | NA | 4980 | 0 | ⋯ | 8307622 | 52579 | NA | NA | NA | NA | 4089675 | 17172 | NA | 0 |\n",
       "| 2021-01-13 | PA | 18429 | NA | 349 | NA | NA | NA | 5069 | 0 | ⋯ | 8255043 | 56546 | NA | NA | NA | NA | 4072503 | 19227 | NA | 0 |\n",
       "| 2021-01-12 | PA | 18080 | NA | 227 | NA | NA | NA | 5204 | 0 | ⋯ | 8198497 | 52516 | NA | NA | NA | NA | 4053276 | 16573 | NA | 0 |\n",
       "| 2021-01-11 | PA | 17853 | NA |  83 | NA | NA | NA | 5232 | 0 | ⋯ | 8145981 | 39353 | NA | NA | NA | NA | 4036703 | 15727 | NA | 0 |\n",
       "| 2021-01-10 | PA | 17770 | NA | 103 | NA | NA | NA | 5201 | 0 | ⋯ | 8106628 | 58042 | NA | NA | NA | NA | 4020976 | 20448 | NA | 0 |\n",
       "| 2021-01-09 | PA | 17667 | NA | 273 | NA | NA | NA | 5298 | 0 | ⋯ | 8048586 | 72839 | NA | NA | NA | NA | 4000528 | 23463 | NA | 0 |\n",
       "\n"
      ],
      "text/plain": [
       "  date       state death deathConfirmed deathIncrease deathProbable\n",
       "1 2021-01-14 PA    18742 NA             313           NA           \n",
       "2 2021-01-13 PA    18429 NA             349           NA           \n",
       "3 2021-01-12 PA    18080 NA             227           NA           \n",
       "4 2021-01-11 PA    17853 NA              83           NA           \n",
       "5 2021-01-10 PA    17770 NA             103           NA           \n",
       "6 2021-01-09 PA    17667 NA             273           NA           \n",
       "  hospitalized hospitalizedCumulative hospitalizedCurrently\n",
       "1 NA           NA                     4980                 \n",
       "2 NA           NA                     5069                 \n",
       "3 NA           NA                     5204                 \n",
       "4 NA           NA                     5232                 \n",
       "5 NA           NA                     5201                 \n",
       "6 NA           NA                     5298                 \n",
       "  hospitalizedIncrease ⋯ totalTestResults totalTestResultsIncrease\n",
       "1 0                    ⋯ 8307622          52579                   \n",
       "2 0                    ⋯ 8255043          56546                   \n",
       "3 0                    ⋯ 8198497          52516                   \n",
       "4 0                    ⋯ 8145981          39353                   \n",
       "5 0                    ⋯ 8106628          58042                   \n",
       "6 0                    ⋯ 8048586          72839                   \n",
       "  totalTestsAntibody totalTestsAntigen totalTestsPeopleAntibody\n",
       "1 NA                 NA                NA                      \n",
       "2 NA                 NA                NA                      \n",
       "3 NA                 NA                NA                      \n",
       "4 NA                 NA                NA                      \n",
       "5 NA                 NA                NA                      \n",
       "6 NA                 NA                NA                      \n",
       "  totalTestsPeopleAntigen totalTestsPeopleViral totalTestsPeopleViralIncrease\n",
       "1 NA                      4089675               17172                        \n",
       "2 NA                      4072503               19227                        \n",
       "3 NA                      4053276               16573                        \n",
       "4 NA                      4036703               15727                        \n",
       "5 NA                      4020976               20448                        \n",
       "6 NA                      4000528               23463                        \n",
       "  totalTestsViral totalTestsViralIncrease\n",
       "1 NA              0                      \n",
       "2 NA              0                      \n",
       "3 NA              0                      \n",
       "4 NA              0                      \n",
       "5 NA              0                      \n",
       "6 NA              0                      "
      ]
     },
     "execution_count": 22,
     "metadata": {},
     "output_type": "execute_result"
    }
   ],
   "source": []
  },
  {
   "cell_type": "markdown",
   "metadata": {},
   "source": [
    "**Q3.** Take the code you just made and extend it to summarize the **mean number of mortalities per day** (i.e., column named `deathIncrease`), for\n",
    "\n",
    "- the \"pre\" Holiday time period\n",
    "- the Holiday wave time period\n",
    "\n",
    "If you copy the code you created for Q1 and Q2, you'll overwrite \"pre\" and \"post\". **This is completely fine in this case**. \n",
    "\n",
    "The point of this exercise is for you to get used to extend a little bit of code *modestly*, run it, check the output, etc.\n",
    "\n",
    "Provide (and execute) your code below:\n",
    "\n"
   ]
  },
  {
   "cell_type": "code",
   "execution_count": 27,
   "metadata": {
    "collapsed": true
   },
   "outputs": [
    {
     "data": {
      "text/html": [
       "<table class=\"dataframe\">\n",
       "<caption>A tibble: 1 × 1</caption>\n",
       "<thead>\n",
       "\t<tr><th scope=col>mort_</th></tr>\n",
       "\t<tr><th scope=col>&lt;dbl&gt;</th></tr>\n",
       "</thead>\n",
       "<tbody>\n",
       "\t<tr><td>37.21681</td></tr>\n",
       "</tbody>\n",
       "</table>\n"
      ],
      "text/latex": [
       "A tibble: 1 × 1\n",
       "\\begin{tabular}{l}\n",
       " mort\\_\\\\\n",
       " <dbl>\\\\\n",
       "\\hline\n",
       "\t 37.21681\\\\\n",
       "\\end{tabular}\n"
      ],
      "text/markdown": [
       "\n",
       "A tibble: 1 × 1\n",
       "\n",
       "| mort_ &lt;dbl&gt; |\n",
       "|---|\n",
       "| 37.21681 |\n",
       "\n"
      ],
      "text/plain": [
       "  mort_   \n",
       "1 37.21681"
      ]
     },
     "execution_count": 27,
     "metadata": {},
     "output_type": "execute_result"
    }
   ],
   "source": []
  },
  {
   "cell_type": "code",
   "execution_count": 26,
   "metadata": {
    "collapsed": true
   },
   "outputs": [
    {
     "data": {
      "text/html": [
       "<table class=\"dataframe\">\n",
       "<caption>A tibble: 1 × 1</caption>\n",
       "<thead>\n",
       "\t<tr><th scope=col>mort_</th></tr>\n",
       "\t<tr><th scope=col>&lt;dbl&gt;</th></tr>\n",
       "</thead>\n",
       "<tbody>\n",
       "\t<tr><td>113.2967</td></tr>\n",
       "</tbody>\n",
       "</table>\n"
      ],
      "text/latex": [
       "A tibble: 1 × 1\n",
       "\\begin{tabular}{l}\n",
       " mort\\_\\\\\n",
       " <dbl>\\\\\n",
       "\\hline\n",
       "\t 113.2967\\\\\n",
       "\\end{tabular}\n"
      ],
      "text/markdown": [
       "\n",
       "A tibble: 1 × 1\n",
       "\n",
       "| mort_ &lt;dbl&gt; |\n",
       "|---|\n",
       "| 113.2967 |\n",
       "\n"
      ],
      "text/plain": [
       "  mort_   \n",
       "1 113.2967"
      ]
     },
     "execution_count": 26,
     "metadata": {},
     "output_type": "execute_result"
    }
   ],
   "source": []
  },
  {
   "cell_type": "markdown",
   "metadata": {},
   "source": [
    "**Q4.** Using `pre` and `post`, use simple R commands to calculate:\n",
    "\n",
    "- the difference between `post` and `pre` (i.e., post minus pre)\n",
    "- the ratio of post to pre (i.e., `post / pre`)\n",
    "- the difference above per 100K people: `1e5 * ((post - pre) / state_size )`\n",
    "\n",
    "For ease I've placed the sizes of the states in question here in the table below.\n",
    "\n",
    "Provide (and execute) your code below:\n",
    "\n"
   ]
  },
  {
   "cell_type": "code",
   "execution_count": 0,
   "metadata": {},
   "outputs": [],
   "source": []
  },
  {
   "cell_type": "markdown",
   "metadata": {},
   "source": [
    "|  |\n",
    "| :-- |\n",
    "\n"
   ]
  },
  {
   "cell_type": "markdown",
   "metadata": {},
   "source": [
    "#######################"
   ]
  },
  {
   "cell_type": "markdown",
   "metadata": {},
   "source": [
    "In the questions above, did this one state at a time. But now, let's unlock *the power of R* -- let's generate these summaries for EVERY STATE. "
   ]
  },
  {
   "cell_type": "markdown",
   "metadata": {},
   "source": [
    "**Q5.** Create a variable named `pre_allstates` which extracts\n",
    "\n",
    "- entries for ALL states\n",
    "- obtains entries earlier than 10\\-15\\-2020\n",
    "- Summarizes the  mean number of mortalities per day **by state**\n",
    "\n",
    "You can and should reuse the code you used for **Q1 and Q3** here \\(plus a new variable name\\)! You can do this with a single line change in code.\n",
    "\n",
    "Provide (and execute) your code below:\n",
    "\n"
   ]
  },
  {
   "cell_type": "code",
   "execution_count": 51,
   "metadata": {
    "collapsed": true
   },
   "outputs": [
    {
     "data": {
      "text/html": [
       "<table class=\"dataframe\">\n",
       "<caption>A tibble: 6 × 2</caption>\n",
       "<thead>\n",
       "\t<tr><th scope=col>state</th><th scope=col>mort_pre</th></tr>\n",
       "\t<tr><th scope=col>&lt;chr&gt;</th><th scope=col>&lt;dbl&gt;</th></tr>\n",
       "</thead>\n",
       "<tbody>\n",
       "\t<tr><td>AK</td><td> 0.2869955</td></tr>\n",
       "\t<tr><td>AL</td><td>12.1891892</td></tr>\n",
       "\t<tr><td>AR</td><td> 7.3273543</td></tr>\n",
       "\t<tr><td>AS</td><td> 0.0000000</td></tr>\n",
       "\t<tr><td>AZ</td><td>25.6533333</td></tr>\n",
       "\t<tr><td>CA</td><td>73.9511111</td></tr>\n",
       "</tbody>\n",
       "</table>\n"
      ],
      "text/latex": [
       "A tibble: 6 × 2\n",
       "\\begin{tabular}{ll}\n",
       " state & mort\\_pre\\\\\n",
       " <chr> & <dbl>\\\\\n",
       "\\hline\n",
       "\t AK &  0.2869955\\\\\n",
       "\t AL & 12.1891892\\\\\n",
       "\t AR &  7.3273543\\\\\n",
       "\t AS &  0.0000000\\\\\n",
       "\t AZ & 25.6533333\\\\\n",
       "\t CA & 73.9511111\\\\\n",
       "\\end{tabular}\n"
      ],
      "text/markdown": [
       "\n",
       "A tibble: 6 × 2\n",
       "\n",
       "| state &lt;chr&gt; | mort_pre &lt;dbl&gt; |\n",
       "|---|---|\n",
       "| AK |  0.2869955 |\n",
       "| AL | 12.1891892 |\n",
       "| AR |  7.3273543 |\n",
       "| AS |  0.0000000 |\n",
       "| AZ | 25.6533333 |\n",
       "| CA | 73.9511111 |\n",
       "\n"
      ],
      "text/plain": [
       "  state mort_pre  \n",
       "1 AK     0.2869955\n",
       "2 AL    12.1891892\n",
       "3 AR     7.3273543\n",
       "4 AS     0.0000000\n",
       "5 AZ    25.6533333\n",
       "6 CA    73.9511111"
      ]
     },
     "execution_count": 51,
     "metadata": {},
     "output_type": "execute_result"
    }
   ],
   "source": []
  },
  {
   "cell_type": "markdown",
   "metadata": {},
   "source": [
    "**Q6.** Create a variable named `post_allstates` which extracts\n",
    "\n",
    "- entires from your state only\n",
    "- obtains entries between 10\\-15\\-2020 and 01\\-15\\-2021\n",
    "- Summarizes the  mean number of mortalities per day **by state**\n",
    "\n",
    "You can and should reuse the code you used for **Q2** **and Q3** here \\(plus a new variable name\\)! You can do this with a single line change in code. \n",
    "\n",
    "Provide (and execute) your code below:\n",
    "\n"
   ]
  },
  {
   "cell_type": "code",
   "execution_count": 52,
   "metadata": {
    "collapsed": true
   },
   "outputs": [
    {
     "data": {
      "text/html": [
       "<table class=\"dataframe\">\n",
       "<caption>A tibble: 6 × 2</caption>\n",
       "<thead>\n",
       "\t<tr><th scope=col>state</th><th scope=col>mort_post</th></tr>\n",
       "\t<tr><th scope=col>&lt;chr&gt;</th><th scope=col>&lt;dbl&gt;</th></tr>\n",
       "</thead>\n",
       "<tbody>\n",
       "\t<tr><td>AK</td><td>  1.791209</td></tr>\n",
       "\t<tr><td>AL</td><td> 35.043956</td></tr>\n",
       "\t<tr><td>AR</td><td> 28.384615</td></tr>\n",
       "\t<tr><td>AS</td><td>  0.000000</td></tr>\n",
       "\t<tr><td>AZ</td><td> 55.670330</td></tr>\n",
       "\t<tr><td>CA</td><td>163.703297</td></tr>\n",
       "</tbody>\n",
       "</table>\n"
      ],
      "text/latex": [
       "A tibble: 6 × 2\n",
       "\\begin{tabular}{ll}\n",
       " state & mort\\_post\\\\\n",
       " <chr> & <dbl>\\\\\n",
       "\\hline\n",
       "\t AK &   1.791209\\\\\n",
       "\t AL &  35.043956\\\\\n",
       "\t AR &  28.384615\\\\\n",
       "\t AS &   0.000000\\\\\n",
       "\t AZ &  55.670330\\\\\n",
       "\t CA & 163.703297\\\\\n",
       "\\end{tabular}\n"
      ],
      "text/markdown": [
       "\n",
       "A tibble: 6 × 2\n",
       "\n",
       "| state &lt;chr&gt; | mort_post &lt;dbl&gt; |\n",
       "|---|---|\n",
       "| AK |   1.791209 |\n",
       "| AL |  35.043956 |\n",
       "| AR |  28.384615 |\n",
       "| AS |   0.000000 |\n",
       "| AZ |  55.670330 |\n",
       "| CA | 163.703297 |\n",
       "\n"
      ],
      "text/plain": [
       "  state mort_post \n",
       "1 AK      1.791209\n",
       "2 AL     35.043956\n",
       "3 AR     28.384615\n",
       "4 AS      0.000000\n",
       "5 AZ     55.670330\n",
       "6 CA    163.703297"
      ]
     },
     "execution_count": 52,
     "metadata": {},
     "output_type": "execute_result"
    }
   ],
   "source": []
  },
  {
   "cell_type": "markdown",
   "metadata": {},
   "source": [
    "**Q7.** Create a new variable called `comp_allstates` that:\n",
    "- joins (full) `pre_allstates` and `post_allstates` by \"state\" (i.e., the state abbreviation)\n",
    "\n",
    "Provide (and execute) your code below:"
   ]
  },
  {
   "cell_type": "code",
   "execution_count": 44,
   "metadata": {},
   "outputs": [],
   "source": []
  },
  {
   "cell_type": "markdown",
   "metadata": {},
   "source": [
    "**Q8.** Create summaries as you did in **Q4** for ALL states:\n",
    "- the difference between post and pre (i.e., `post - pre`)\n",
    "- the ratio of post to pre (i.e., `post / pre`)\n",
    "\n",
    "(hint: mutate!) Provide (and execute) your code below:"
   ]
  },
  {
   "cell_type": "code",
   "execution_count": 46,
   "metadata": {
    "collapsed": true
   },
   "outputs": [
    {
     "data": {
      "text/html": [
       "<table class=\"dataframe\">\n",
       "<caption>A tibble: 56 × 3</caption>\n",
       "<thead>\n",
       "\t<tr><th scope=col>state</th><th scope=col>mort_pre</th><th scope=col>mort_post</th></tr>\n",
       "\t<tr><th scope=col>&lt;chr&gt;</th><th scope=col>&lt;dbl&gt;</th><th scope=col>&lt;dbl&gt;</th></tr>\n",
       "</thead>\n",
       "<tbody>\n",
       "\t<tr><td>AK</td><td>2.869955e-01</td><td>  1.79120879</td></tr>\n",
       "\t<tr><td>AL</td><td>1.218919e+01</td><td> 35.04395604</td></tr>\n",
       "\t<tr><td>AR</td><td>7.327354e+00</td><td> 28.38461538</td></tr>\n",
       "\t<tr><td>AS</td><td>0.000000e+00</td><td>  0.00000000</td></tr>\n",
       "\t<tr><td>AZ</td><td>2.565333e+01</td><td> 55.67032967</td></tr>\n",
       "\t<tr><td>CA</td><td>7.395111e+01</td><td>163.70329670</td></tr>\n",
       "\t<tr><td>CO</td><td>9.600000e+00</td><td> 34.65934066</td></tr>\n",
       "\t<tr><td>CT</td><td>2.043694e+01</td><td> 22.12087912</td></tr>\n",
       "\t<tr><td>DC</td><td>2.848214e+00</td><td>  2.24175824</td></tr>\n",
       "\t<tr><td>DE</td><td>2.959641e+00</td><td>  3.67032967</td></tr>\n",
       "\t<tr><td>FL</td><td>6.072308e+01</td><td> 88.45054945</td></tr>\n",
       "\t<tr><td>GA</td><td>3.320000e+01</td><td> 49.26373626</td></tr>\n",
       "\t<tr><td>GU</td><td>2.863850e-01</td><td>  0.68131868</td></tr>\n",
       "\t<tr><td>HI</td><td>7.688889e-01</td><td>  1.48351648</td></tr>\n",
       "\t<tr><td>IA</td><td>6.713004e+00</td><td> 30.16483516</td></tr>\n",
       "\t<tr><td>ID</td><td>2.306306e+00</td><td> 11.51648352</td></tr>\n",
       "\t<tr><td>IL</td><td>4.142222e+01</td><td>113.74725275</td></tr>\n",
       "\t<tr><td>IN</td><td>1.660606e+01</td><td> 58.65934066</td></tr>\n",
       "\t<tr><td>KS</td><td>3.757848e+00</td><td> 27.65934066</td></tr>\n",
       "\t<tr><td>KY</td><td>5.721973e+00</td><td> 19.18681319</td></tr>\n",
       "\t<tr><td>LA</td><td>2.565315e+01</td><td> 26.07692308</td></tr>\n",
       "\t<tr><td>MA</td><td>3.613109e+01</td><td> 41.32967033</td></tr>\n",
       "\t<tr><td>MD</td><td>1.795536e+01</td><td> 26.60439560</td></tr>\n",
       "\t<tr><td>ME</td><td>6.441441e-01</td><td>  3.48351648</td></tr>\n",
       "\t<tr><td>MI</td><td>3.187719e+01</td><td> 79.21978022</td></tr>\n",
       "\t<tr><td>MN</td><td>9.775785e+00</td><td> 39.75824176</td></tr>\n",
       "\t<tr><td>MO</td><td>1.090090e+01</td><td> 41.30769231</td></tr>\n",
       "\t<tr><td>MP</td><td>9.389671e-03</td><td>  0.00000000</td></tr>\n",
       "\t<tr><td>MS</td><td>1.414414e+01</td><td> 24.21978022</td></tr>\n",
       "\t<tr><td>MT</td><td>1.013514e+00</td><td>  9.30769231</td></tr>\n",
       "\t<tr><td>NC</td><td>1.713778e+01</td><td> 43.41758242</td></tr>\n",
       "\t<tr><td>ND</td><td>1.666667e+00</td><td> 10.95604396</td></tr>\n",
       "\t<tr><td>NE</td><td>2.168724e+00</td><td> 13.98901099</td></tr>\n",
       "\t<tr><td>NH</td><td>2.035556e+00</td><td>  4.76923077</td></tr>\n",
       "\t<tr><td>NJ</td><td>6.528629e+01</td><td> 44.57142857</td></tr>\n",
       "\t<tr><td>NM</td><td>4.111607e+00</td><td> 21.03296703</td></tr>\n",
       "\t<tr><td>NV</td><td>7.549107e+00</td><td> 21.53846154</td></tr>\n",
       "\t<tr><td>NY</td><td>1.127974e+02</td><td> 74.29670330</td></tr>\n",
       "\t<tr><td>OH</td><td>2.246875e+01</td><td> 54.41758242</td></tr>\n",
       "\t<tr><td>OK</td><td>5.099099e+00</td><td> 19.10989011</td></tr>\n",
       "\t<tr><td>OR</td><td>2.688889e+00</td><td> 12.08791209</td></tr>\n",
       "\t<tr><td>PA</td><td>3.721681e+01</td><td>113.29670330</td></tr>\n",
       "\t<tr><td>PR</td><td>3.483568e+00</td><td> 10.28571429</td></tr>\n",
       "\t<tr><td>RI</td><td>5.030702e+00</td><td>  9.30769231</td></tr>\n",
       "\t<tr><td>SC</td><td>1.596889e+01</td><td> 25.57142857</td></tr>\n",
       "\t<tr><td>SD</td><td>1.310811e+00</td><td> 14.39560440</td></tr>\n",
       "\t<tr><td>TN</td><td>1.262500e+01</td><td> 58.98901099</td></tr>\n",
       "\t<tr><td>TX</td><td>7.396903e+01</td><td>156.46153846</td></tr>\n",
       "\t<tr><td>UT</td><td>2.373874e+00</td><td> 10.23076923</td></tr>\n",
       "\t<tr><td>VA</td><td>1.290458e+01</td><td> 24.59340659</td></tr>\n",
       "\t<tr><td>VI</td><td>9.389671e-02</td><td>  0.04395604</td></tr>\n",
       "\t<tr><td>VT</td><td>2.566372e-01</td><td>  1.14285714</td></tr>\n",
       "\t<tr><td>WA</td><td>8.010870e+00</td><td> 17.76923077</td></tr>\n",
       "\t<tr><td>WI</td><td>6.845133e+00</td><td> 45.74725275</td></tr>\n",
       "\t<tr><td>WV</td><td>1.753363e+00</td><td> 14.38461538</td></tr>\n",
       "\t<tr><td>WY</td><td>2.500000e-01</td><td>  5.10989011</td></tr>\n",
       "</tbody>\n",
       "</table>\n"
      ],
      "text/latex": [
       "A tibble: 56 × 3\n",
       "\\begin{tabular}{lll}\n",
       " state & mort\\_pre & mort\\_post\\\\\n",
       " <chr> & <dbl> & <dbl>\\\\\n",
       "\\hline\n",
       "\t AK & 2.869955e-01 &   1.79120879\\\\\n",
       "\t AL & 1.218919e+01 &  35.04395604\\\\\n",
       "\t AR & 7.327354e+00 &  28.38461538\\\\\n",
       "\t AS & 0.000000e+00 &   0.00000000\\\\\n",
       "\t AZ & 2.565333e+01 &  55.67032967\\\\\n",
       "\t CA & 7.395111e+01 & 163.70329670\\\\\n",
       "\t CO & 9.600000e+00 &  34.65934066\\\\\n",
       "\t CT & 2.043694e+01 &  22.12087912\\\\\n",
       "\t DC & 2.848214e+00 &   2.24175824\\\\\n",
       "\t DE & 2.959641e+00 &   3.67032967\\\\\n",
       "\t FL & 6.072308e+01 &  88.45054945\\\\\n",
       "\t GA & 3.320000e+01 &  49.26373626\\\\\n",
       "\t GU & 2.863850e-01 &   0.68131868\\\\\n",
       "\t HI & 7.688889e-01 &   1.48351648\\\\\n",
       "\t IA & 6.713004e+00 &  30.16483516\\\\\n",
       "\t ID & 2.306306e+00 &  11.51648352\\\\\n",
       "\t IL & 4.142222e+01 & 113.74725275\\\\\n",
       "\t IN & 1.660606e+01 &  58.65934066\\\\\n",
       "\t KS & 3.757848e+00 &  27.65934066\\\\\n",
       "\t KY & 5.721973e+00 &  19.18681319\\\\\n",
       "\t LA & 2.565315e+01 &  26.07692308\\\\\n",
       "\t MA & 3.613109e+01 &  41.32967033\\\\\n",
       "\t MD & 1.795536e+01 &  26.60439560\\\\\n",
       "\t ME & 6.441441e-01 &   3.48351648\\\\\n",
       "\t MI & 3.187719e+01 &  79.21978022\\\\\n",
       "\t MN & 9.775785e+00 &  39.75824176\\\\\n",
       "\t MO & 1.090090e+01 &  41.30769231\\\\\n",
       "\t MP & 9.389671e-03 &   0.00000000\\\\\n",
       "\t MS & 1.414414e+01 &  24.21978022\\\\\n",
       "\t MT & 1.013514e+00 &   9.30769231\\\\\n",
       "\t NC & 1.713778e+01 &  43.41758242\\\\\n",
       "\t ND & 1.666667e+00 &  10.95604396\\\\\n",
       "\t NE & 2.168724e+00 &  13.98901099\\\\\n",
       "\t NH & 2.035556e+00 &   4.76923077\\\\\n",
       "\t NJ & 6.528629e+01 &  44.57142857\\\\\n",
       "\t NM & 4.111607e+00 &  21.03296703\\\\\n",
       "\t NV & 7.549107e+00 &  21.53846154\\\\\n",
       "\t NY & 1.127974e+02 &  74.29670330\\\\\n",
       "\t OH & 2.246875e+01 &  54.41758242\\\\\n",
       "\t OK & 5.099099e+00 &  19.10989011\\\\\n",
       "\t OR & 2.688889e+00 &  12.08791209\\\\\n",
       "\t PA & 3.721681e+01 & 113.29670330\\\\\n",
       "\t PR & 3.483568e+00 &  10.28571429\\\\\n",
       "\t RI & 5.030702e+00 &   9.30769231\\\\\n",
       "\t SC & 1.596889e+01 &  25.57142857\\\\\n",
       "\t SD & 1.310811e+00 &  14.39560440\\\\\n",
       "\t TN & 1.262500e+01 &  58.98901099\\\\\n",
       "\t TX & 7.396903e+01 & 156.46153846\\\\\n",
       "\t UT & 2.373874e+00 &  10.23076923\\\\\n",
       "\t VA & 1.290458e+01 &  24.59340659\\\\\n",
       "\t VI & 9.389671e-02 &   0.04395604\\\\\n",
       "\t VT & 2.566372e-01 &   1.14285714\\\\\n",
       "\t WA & 8.010870e+00 &  17.76923077\\\\\n",
       "\t WI & 6.845133e+00 &  45.74725275\\\\\n",
       "\t WV & 1.753363e+00 &  14.38461538\\\\\n",
       "\t WY & 2.500000e-01 &   5.10989011\\\\\n",
       "\\end{tabular}\n"
      ],
      "text/markdown": [
       "\n",
       "A tibble: 56 × 3\n",
       "\n",
       "| state &lt;chr&gt; | mort_pre &lt;dbl&gt; | mort_post &lt;dbl&gt; |\n",
       "|---|---|---|\n",
       "| AK | 2.869955e-01 |   1.79120879 |\n",
       "| AL | 1.218919e+01 |  35.04395604 |\n",
       "| AR | 7.327354e+00 |  28.38461538 |\n",
       "| AS | 0.000000e+00 |   0.00000000 |\n",
       "| AZ | 2.565333e+01 |  55.67032967 |\n",
       "| CA | 7.395111e+01 | 163.70329670 |\n",
       "| CO | 9.600000e+00 |  34.65934066 |\n",
       "| CT | 2.043694e+01 |  22.12087912 |\n",
       "| DC | 2.848214e+00 |   2.24175824 |\n",
       "| DE | 2.959641e+00 |   3.67032967 |\n",
       "| FL | 6.072308e+01 |  88.45054945 |\n",
       "| GA | 3.320000e+01 |  49.26373626 |\n",
       "| GU | 2.863850e-01 |   0.68131868 |\n",
       "| HI | 7.688889e-01 |   1.48351648 |\n",
       "| IA | 6.713004e+00 |  30.16483516 |\n",
       "| ID | 2.306306e+00 |  11.51648352 |\n",
       "| IL | 4.142222e+01 | 113.74725275 |\n",
       "| IN | 1.660606e+01 |  58.65934066 |\n",
       "| KS | 3.757848e+00 |  27.65934066 |\n",
       "| KY | 5.721973e+00 |  19.18681319 |\n",
       "| LA | 2.565315e+01 |  26.07692308 |\n",
       "| MA | 3.613109e+01 |  41.32967033 |\n",
       "| MD | 1.795536e+01 |  26.60439560 |\n",
       "| ME | 6.441441e-01 |   3.48351648 |\n",
       "| MI | 3.187719e+01 |  79.21978022 |\n",
       "| MN | 9.775785e+00 |  39.75824176 |\n",
       "| MO | 1.090090e+01 |  41.30769231 |\n",
       "| MP | 9.389671e-03 |   0.00000000 |\n",
       "| MS | 1.414414e+01 |  24.21978022 |\n",
       "| MT | 1.013514e+00 |   9.30769231 |\n",
       "| NC | 1.713778e+01 |  43.41758242 |\n",
       "| ND | 1.666667e+00 |  10.95604396 |\n",
       "| NE | 2.168724e+00 |  13.98901099 |\n",
       "| NH | 2.035556e+00 |   4.76923077 |\n",
       "| NJ | 6.528629e+01 |  44.57142857 |\n",
       "| NM | 4.111607e+00 |  21.03296703 |\n",
       "| NV | 7.549107e+00 |  21.53846154 |\n",
       "| NY | 1.127974e+02 |  74.29670330 |\n",
       "| OH | 2.246875e+01 |  54.41758242 |\n",
       "| OK | 5.099099e+00 |  19.10989011 |\n",
       "| OR | 2.688889e+00 |  12.08791209 |\n",
       "| PA | 3.721681e+01 | 113.29670330 |\n",
       "| PR | 3.483568e+00 |  10.28571429 |\n",
       "| RI | 5.030702e+00 |   9.30769231 |\n",
       "| SC | 1.596889e+01 |  25.57142857 |\n",
       "| SD | 1.310811e+00 |  14.39560440 |\n",
       "| TN | 1.262500e+01 |  58.98901099 |\n",
       "| TX | 7.396903e+01 | 156.46153846 |\n",
       "| UT | 2.373874e+00 |  10.23076923 |\n",
       "| VA | 1.290458e+01 |  24.59340659 |\n",
       "| VI | 9.389671e-02 |   0.04395604 |\n",
       "| VT | 2.566372e-01 |   1.14285714 |\n",
       "| WA | 8.010870e+00 |  17.76923077 |\n",
       "| WI | 6.845133e+00 |  45.74725275 |\n",
       "| WV | 1.753363e+00 |  14.38461538 |\n",
       "| WY | 2.500000e-01 |   5.10989011 |\n",
       "\n"
      ],
      "text/plain": [
       "   state mort_pre     mort_post   \n",
       "1  AK    2.869955e-01   1.79120879\n",
       "2  AL    1.218919e+01  35.04395604\n",
       "3  AR    7.327354e+00  28.38461538\n",
       "4  AS    0.000000e+00   0.00000000\n",
       "5  AZ    2.565333e+01  55.67032967\n",
       "6  CA    7.395111e+01 163.70329670\n",
       "7  CO    9.600000e+00  34.65934066\n",
       "8  CT    2.043694e+01  22.12087912\n",
       "9  DC    2.848214e+00   2.24175824\n",
       "10 DE    2.959641e+00   3.67032967\n",
       "11 FL    6.072308e+01  88.45054945\n",
       "12 GA    3.320000e+01  49.26373626\n",
       "13 GU    2.863850e-01   0.68131868\n",
       "14 HI    7.688889e-01   1.48351648\n",
       "15 IA    6.713004e+00  30.16483516\n",
       "16 ID    2.306306e+00  11.51648352\n",
       "17 IL    4.142222e+01 113.74725275\n",
       "18 IN    1.660606e+01  58.65934066\n",
       "19 KS    3.757848e+00  27.65934066\n",
       "20 KY    5.721973e+00  19.18681319\n",
       "21 LA    2.565315e+01  26.07692308\n",
       "22 MA    3.613109e+01  41.32967033\n",
       "23 MD    1.795536e+01  26.60439560\n",
       "24 ME    6.441441e-01   3.48351648\n",
       "25 MI    3.187719e+01  79.21978022\n",
       "26 MN    9.775785e+00  39.75824176\n",
       "27 MO    1.090090e+01  41.30769231\n",
       "28 MP    9.389671e-03   0.00000000\n",
       "29 MS    1.414414e+01  24.21978022\n",
       "30 MT    1.013514e+00   9.30769231\n",
       "31 NC    1.713778e+01  43.41758242\n",
       "32 ND    1.666667e+00  10.95604396\n",
       "33 NE    2.168724e+00  13.98901099\n",
       "34 NH    2.035556e+00   4.76923077\n",
       "35 NJ    6.528629e+01  44.57142857\n",
       "36 NM    4.111607e+00  21.03296703\n",
       "37 NV    7.549107e+00  21.53846154\n",
       "38 NY    1.127974e+02  74.29670330\n",
       "39 OH    2.246875e+01  54.41758242\n",
       "40 OK    5.099099e+00  19.10989011\n",
       "41 OR    2.688889e+00  12.08791209\n",
       "42 PA    3.721681e+01 113.29670330\n",
       "43 PR    3.483568e+00  10.28571429\n",
       "44 RI    5.030702e+00   9.30769231\n",
       "45 SC    1.596889e+01  25.57142857\n",
       "46 SD    1.310811e+00  14.39560440\n",
       "47 TN    1.262500e+01  58.98901099\n",
       "48 TX    7.396903e+01 156.46153846\n",
       "49 UT    2.373874e+00  10.23076923\n",
       "50 VA    1.290458e+01  24.59340659\n",
       "51 VI    9.389671e-02   0.04395604\n",
       "52 VT    2.566372e-01   1.14285714\n",
       "53 WA    8.010870e+00  17.76923077\n",
       "54 WI    6.845133e+00  45.74725275\n",
       "55 WV    1.753363e+00  14.38461538\n",
       "56 WY    2.500000e-01   5.10989011"
      ]
     },
     "execution_count": 46,
     "metadata": {},
     "output_type": "execute_result"
    }
   ],
   "source": []
  },
  {
   "cell_type": "markdown",
   "metadata": {},
   "source": [
    "**Q9.** In your directory, we have provided you a file of state population sizes from the 2010 census: \n",
    "\n",
    "**2010_census_bystate.txt**\n",
    "\n",
    "- load this data set into R. This file has a header, separated by the tab character, i.e., \"\\t\".\n",
    "- merge this with the variable **comp_allstates** you created in **Q7**\n",
    "- calculate the difference above per 100K people: `1e5 * ((post - pre) / state_size )` for all states\n",
    "\n",
    "(hint: mutate!) Provide (and execute) your code below:\n",
    "\n"
   ]
  },
  {
   "cell_type": "code",
   "execution_count": 48,
   "metadata": {
    "collapsed": true
   },
   "outputs": [
    {
     "name": "stderr",
     "output_type": "stream",
     "text": [
      "\u001b[1mRows: \u001b[22m\u001b[34m56\u001b[39m \u001b[1mColumns: \u001b[22m\u001b[34m3\u001b[39m\n",
      "\u001b[36m──\u001b[39m \u001b[1mColumn specification\u001b[22m \u001b[36m────────────────────────────────────────────────────────\u001b[39m\n",
      "\u001b[1mDelimiter:\u001b[22m \"\\t\"\n",
      "\u001b[31mchr\u001b[39m (2): state_name, state\n",
      "\u001b[32mdbl\u001b[39m (1): population_2010\n",
      "\n",
      "\u001b[36mℹ\u001b[39m Use `spec()` to retrieve the full column specification for this data.\n",
      "\u001b[36mℹ\u001b[39m Specify the column types or set `show_col_types = FALSE` to quiet this message.\n"
     ]
    }
   ],
   "source": []
  },
  {
   "cell_type": "code",
   "execution_count": 50,
   "metadata": {
    "collapsed": true
   },
   "outputs": [
    {
     "data": {
      "text/html": [
       "<table class=\"dataframe\">\n",
       "<caption>A tibble: 56 × 6</caption>\n",
       "<thead>\n",
       "\t<tr><th scope=col>state</th><th scope=col>mort_pre</th><th scope=col>mort_post</th><th scope=col>state_name</th><th scope=col>population_2010</th><th scope=col>dif</th></tr>\n",
       "\t<tr><th scope=col>&lt;chr&gt;</th><th scope=col>&lt;dbl&gt;</th><th scope=col>&lt;dbl&gt;</th><th scope=col>&lt;chr&gt;</th><th scope=col>&lt;dbl&gt;</th><th scope=col>&lt;dbl&gt;</th></tr>\n",
       "</thead>\n",
       "<tbody>\n",
       "\t<tr><td>AK</td><td>2.869955e-01</td><td>  1.79120879</td><td>Alaska                 </td><td>  710231</td><td> 0.211792118</td></tr>\n",
       "\t<tr><td>AL</td><td>1.218919e+01</td><td> 35.04395604</td><td>Alabama                </td><td> 4779736</td><td> 0.478159607</td></tr>\n",
       "\t<tr><td>AR</td><td>7.327354e+00</td><td> 28.38461538</td><td>Arkansas               </td><td> 2915918</td><td> 0.722148604</td></tr>\n",
       "\t<tr><td>AS</td><td>0.000000e+00</td><td>  0.00000000</td><td>American Samoa         </td><td>   55519</td><td> 0.000000000</td></tr>\n",
       "\t<tr><td>AZ</td><td>2.565333e+01</td><td> 55.67032967</td><td>Arizona                </td><td> 6392017</td><td> 0.469601322</td></tr>\n",
       "\t<tr><td>CA</td><td>7.395111e+01</td><td>163.70329670</td><td>California             </td><td>37253956</td><td> 0.240919879</td></tr>\n",
       "\t<tr><td>CO</td><td>9.600000e+00</td><td> 34.65934066</td><td>Colorado               </td><td> 5029196</td><td> 0.498277273</td></tr>\n",
       "\t<tr><td>CT</td><td>2.043694e+01</td><td> 22.12087912</td><td>Connecticut            </td><td> 3574097</td><td> 0.047115179</td></tr>\n",
       "\t<tr><td>DC</td><td>2.848214e+00</td><td>  2.24175824</td><td>District of Columbia   </td><td>  601723</td><td>-0.100786582</td></tr>\n",
       "\t<tr><td>DE</td><td>2.959641e+00</td><td>  3.67032967</td><td>Delaware               </td><td>  897934</td><td> 0.079147066</td></tr>\n",
       "\t<tr><td>FL</td><td>6.072308e+01</td><td> 88.45054945</td><td>Florida                </td><td>18801310</td><td> 0.147476280</td></tr>\n",
       "\t<tr><td>GA</td><td>3.320000e+01</td><td> 49.26373626</td><td>Georgia                </td><td> 9687653</td><td> 0.165816594</td></tr>\n",
       "\t<tr><td>GU</td><td>2.863850e-01</td><td>  0.68131868</td><td>Guam                   </td><td>  159358</td><td> 0.247827975</td></tr>\n",
       "\t<tr><td>HI</td><td>7.688889e-01</td><td>  1.48351648</td><td>Hawaii                 </td><td> 1360301</td><td> 0.052534520</td></tr>\n",
       "\t<tr><td>IA</td><td>6.713004e+00</td><td> 30.16483516</td><td>Iowa                   </td><td> 3046355</td><td> 0.769832494</td></tr>\n",
       "\t<tr><td>ID</td><td>2.306306e+00</td><td> 11.51648352</td><td>Idaho                  </td><td> 1567582</td><td> 0.587540378</td></tr>\n",
       "\t<tr><td>IL</td><td>4.142222e+01</td><td>113.74725275</td><td>Illinois               </td><td>12830632</td><td> 0.563690320</td></tr>\n",
       "\t<tr><td>IN</td><td>1.660606e+01</td><td> 58.65934066</td><td>Indiana                </td><td> 6483802</td><td> 0.648589825</td></tr>\n",
       "\t<tr><td>KS</td><td>3.757848e+00</td><td> 27.65934066</td><td>Kansas                 </td><td> 2853118</td><td> 0.837732373</td></tr>\n",
       "\t<tr><td>KY</td><td>5.721973e+00</td><td> 19.18681319</td><td>Kentucky               </td><td> 4339367</td><td> 0.310295029</td></tr>\n",
       "\t<tr><td>LA</td><td>2.565315e+01</td><td> 26.07692308</td><td>Louisiana              </td><td> 4533372</td><td> 0.009347786</td></tr>\n",
       "\t<tr><td>MA</td><td>3.613109e+01</td><td> 41.32967033</td><td>Massachusetts          </td><td> 6547629</td><td> 0.079396438</td></tr>\n",
       "\t<tr><td>MD</td><td>1.795536e+01</td><td> 26.60439560</td><td>Maryland               </td><td> 5773552</td><td> 0.149804461</td></tr>\n",
       "\t<tr><td>ME</td><td>6.441441e-01</td><td>  3.48351648</td><td>Maine                  </td><td> 1328361</td><td> 0.213750053</td></tr>\n",
       "\t<tr><td>MI</td><td>3.187719e+01</td><td> 79.21978022</td><td>Michigan               </td><td> 9883640</td><td> 0.478999511</td></tr>\n",
       "\t<tr><td>MN</td><td>9.775785e+00</td><td> 39.75824176</td><td>Minnesota              </td><td> 5303925</td><td> 0.565288103</td></tr>\n",
       "\t<tr><td>MO</td><td>1.090090e+01</td><td> 41.30769231</td><td>Missouri               </td><td> 5988927</td><td> 0.507716848</td></tr>\n",
       "\t<tr><td>MP</td><td>9.389671e-03</td><td>  0.00000000</td><td>Northern Mariana Islans</td><td>   53883</td><td>-0.017426037</td></tr>\n",
       "\t<tr><td>MS</td><td>1.414414e+01</td><td> 24.21978022</td><td>Mississippi            </td><td> 2967297</td><td> 0.339556036</td></tr>\n",
       "\t<tr><td>MT</td><td>1.013514e+00</td><td>  9.30769231</td><td>Montana                </td><td>  989415</td><td> 0.838291192</td></tr>\n",
       "\t<tr><td>NC</td><td>1.713778e+01</td><td> 43.41758242</td><td>North Carolina         </td><td> 9535483</td><td> 0.275600141</td></tr>\n",
       "\t<tr><td>ND</td><td>1.666667e+00</td><td> 10.95604396</td><td>North Dakota           </td><td>  672591</td><td> 1.381133154</td></tr>\n",
       "\t<tr><td>NE</td><td>2.168724e+00</td><td> 13.98901099</td><td>Nebraska               </td><td> 1826341</td><td> 0.647211376</td></tr>\n",
       "\t<tr><td>NH</td><td>2.035556e+00</td><td>  4.76923077</td><td>New Hampshire          </td><td> 1316470</td><td> 0.207651919</td></tr>\n",
       "\t<tr><td>NJ</td><td>6.528629e+01</td><td> 44.57142857</td><td>New Jersey             </td><td> 8791894</td><td>-0.235613188</td></tr>\n",
       "\t<tr><td>NM</td><td>4.111607e+00</td><td> 21.03296703</td><td>New Mexico             </td><td> 2059179</td><td> 0.821752742</td></tr>\n",
       "\t<tr><td>NV</td><td>7.549107e+00</td><td> 21.53846154</td><td>Nevada                 </td><td> 2700551</td><td> 0.518018523</td></tr>\n",
       "\t<tr><td>NY</td><td>1.127974e+02</td><td> 74.29670330</td><td>New York               </td><td>19378102</td><td>-0.198681241</td></tr>\n",
       "\t<tr><td>OH</td><td>2.246875e+01</td><td> 54.41758242</td><td>Ohio                   </td><td>11536504</td><td> 0.276936864</td></tr>\n",
       "\t<tr><td>OK</td><td>5.099099e+00</td><td> 19.10989011</td><td>Oklahoma               </td><td> 3751351</td><td> 0.373486539</td></tr>\n",
       "\t<tr><td>OR</td><td>2.688889e+00</td><td> 12.08791209</td><td>Oregon                 </td><td> 3831074</td><td> 0.245336509</td></tr>\n",
       "\t<tr><td>PA</td><td>3.721681e+01</td><td>113.29670330</td><td>Pennsylvania           </td><td>12702379</td><td> 0.598942050</td></tr>\n",
       "\t<tr><td>PR</td><td>3.483568e+00</td><td> 10.28571429</td><td>Puerto Rico            </td><td> 3725789</td><td> 0.182569282</td></tr>\n",
       "\t<tr><td>RI</td><td>5.030702e+00</td><td>  9.30769231</td><td>Rhode Island           </td><td> 1052567</td><td> 0.406339031</td></tr>\n",
       "\t<tr><td>SC</td><td>1.596889e+01</td><td> 25.57142857</td><td>South Carolina         </td><td> 4625364</td><td> 0.207606140</td></tr>\n",
       "\t<tr><td>SD</td><td>1.310811e+00</td><td> 14.39560440</td><td>South Dakota           </td><td>  814180</td><td> 1.607113118</td></tr>\n",
       "\t<tr><td>TN</td><td>1.262500e+01</td><td> 58.98901099</td><td>Tennessee              </td><td> 6346105</td><td> 0.730590039</td></tr>\n",
       "\t<tr><td>TX</td><td>7.396903e+01</td><td>156.46153846</td><td>Texas                  </td><td>25145561</td><td> 0.328059938</td></tr>\n",
       "\t<tr><td>UT</td><td>2.373874e+00</td><td> 10.23076923</td><td>Utah                   </td><td> 2763885</td><td> 0.284269981</td></tr>\n",
       "\t<tr><td>VA</td><td>1.290458e+01</td><td> 24.59340659</td><td>Virginia               </td><td> 8001024</td><td> 0.146091631</td></tr>\n",
       "\t<tr><td>VI</td><td>9.389671e-02</td><td>  0.04395604</td><td>US Virgin Islands      </td><td>  106405</td><td>-0.046934514</td></tr>\n",
       "\t<tr><td>VT</td><td>2.566372e-01</td><td>  1.14285714</td><td>Vermont                </td><td>  625741</td><td> 0.141627283</td></tr>\n",
       "\t<tr><td>WA</td><td>8.010870e+00</td><td> 17.76923077</td><td>Washington             </td><td> 6724540</td><td> 0.145115669</td></tr>\n",
       "\t<tr><td>WI</td><td>6.845133e+00</td><td> 45.74725275</td><td>Wisconsin              </td><td> 5686986</td><td> 0.684055139</td></tr>\n",
       "\t<tr><td>WV</td><td>1.753363e+00</td><td> 14.38461538</td><td>West Virginia          </td><td> 1852994</td><td> 0.681667191</td></tr>\n",
       "\t<tr><td>WY</td><td>2.500000e-01</td><td>  5.10989011</td><td>Wyoming                </td><td>  563626</td><td> 0.862254422</td></tr>\n",
       "</tbody>\n",
       "</table>\n"
      ],
      "text/latex": [
       "A tibble: 56 × 6\n",
       "\\begin{tabular}{llllll}\n",
       " state & mort\\_pre & mort\\_post & state\\_name & population\\_2010 & dif\\\\\n",
       " <chr> & <dbl> & <dbl> & <chr> & <dbl> & <dbl>\\\\\n",
       "\\hline\n",
       "\t AK & 2.869955e-01 &   1.79120879 & Alaska                  &   710231 &  0.211792118\\\\\n",
       "\t AL & 1.218919e+01 &  35.04395604 & Alabama                 &  4779736 &  0.478159607\\\\\n",
       "\t AR & 7.327354e+00 &  28.38461538 & Arkansas                &  2915918 &  0.722148604\\\\\n",
       "\t AS & 0.000000e+00 &   0.00000000 & American Samoa          &    55519 &  0.000000000\\\\\n",
       "\t AZ & 2.565333e+01 &  55.67032967 & Arizona                 &  6392017 &  0.469601322\\\\\n",
       "\t CA & 7.395111e+01 & 163.70329670 & California              & 37253956 &  0.240919879\\\\\n",
       "\t CO & 9.600000e+00 &  34.65934066 & Colorado                &  5029196 &  0.498277273\\\\\n",
       "\t CT & 2.043694e+01 &  22.12087912 & Connecticut             &  3574097 &  0.047115179\\\\\n",
       "\t DC & 2.848214e+00 &   2.24175824 & District of Columbia    &   601723 & -0.100786582\\\\\n",
       "\t DE & 2.959641e+00 &   3.67032967 & Delaware                &   897934 &  0.079147066\\\\\n",
       "\t FL & 6.072308e+01 &  88.45054945 & Florida                 & 18801310 &  0.147476280\\\\\n",
       "\t GA & 3.320000e+01 &  49.26373626 & Georgia                 &  9687653 &  0.165816594\\\\\n",
       "\t GU & 2.863850e-01 &   0.68131868 & Guam                    &   159358 &  0.247827975\\\\\n",
       "\t HI & 7.688889e-01 &   1.48351648 & Hawaii                  &  1360301 &  0.052534520\\\\\n",
       "\t IA & 6.713004e+00 &  30.16483516 & Iowa                    &  3046355 &  0.769832494\\\\\n",
       "\t ID & 2.306306e+00 &  11.51648352 & Idaho                   &  1567582 &  0.587540378\\\\\n",
       "\t IL & 4.142222e+01 & 113.74725275 & Illinois                & 12830632 &  0.563690320\\\\\n",
       "\t IN & 1.660606e+01 &  58.65934066 & Indiana                 &  6483802 &  0.648589825\\\\\n",
       "\t KS & 3.757848e+00 &  27.65934066 & Kansas                  &  2853118 &  0.837732373\\\\\n",
       "\t KY & 5.721973e+00 &  19.18681319 & Kentucky                &  4339367 &  0.310295029\\\\\n",
       "\t LA & 2.565315e+01 &  26.07692308 & Louisiana               &  4533372 &  0.009347786\\\\\n",
       "\t MA & 3.613109e+01 &  41.32967033 & Massachusetts           &  6547629 &  0.079396438\\\\\n",
       "\t MD & 1.795536e+01 &  26.60439560 & Maryland                &  5773552 &  0.149804461\\\\\n",
       "\t ME & 6.441441e-01 &   3.48351648 & Maine                   &  1328361 &  0.213750053\\\\\n",
       "\t MI & 3.187719e+01 &  79.21978022 & Michigan                &  9883640 &  0.478999511\\\\\n",
       "\t MN & 9.775785e+00 &  39.75824176 & Minnesota               &  5303925 &  0.565288103\\\\\n",
       "\t MO & 1.090090e+01 &  41.30769231 & Missouri                &  5988927 &  0.507716848\\\\\n",
       "\t MP & 9.389671e-03 &   0.00000000 & Northern Mariana Islans &    53883 & -0.017426037\\\\\n",
       "\t MS & 1.414414e+01 &  24.21978022 & Mississippi             &  2967297 &  0.339556036\\\\\n",
       "\t MT & 1.013514e+00 &   9.30769231 & Montana                 &   989415 &  0.838291192\\\\\n",
       "\t NC & 1.713778e+01 &  43.41758242 & North Carolina          &  9535483 &  0.275600141\\\\\n",
       "\t ND & 1.666667e+00 &  10.95604396 & North Dakota            &   672591 &  1.381133154\\\\\n",
       "\t NE & 2.168724e+00 &  13.98901099 & Nebraska                &  1826341 &  0.647211376\\\\\n",
       "\t NH & 2.035556e+00 &   4.76923077 & New Hampshire           &  1316470 &  0.207651919\\\\\n",
       "\t NJ & 6.528629e+01 &  44.57142857 & New Jersey              &  8791894 & -0.235613188\\\\\n",
       "\t NM & 4.111607e+00 &  21.03296703 & New Mexico              &  2059179 &  0.821752742\\\\\n",
       "\t NV & 7.549107e+00 &  21.53846154 & Nevada                  &  2700551 &  0.518018523\\\\\n",
       "\t NY & 1.127974e+02 &  74.29670330 & New York                & 19378102 & -0.198681241\\\\\n",
       "\t OH & 2.246875e+01 &  54.41758242 & Ohio                    & 11536504 &  0.276936864\\\\\n",
       "\t OK & 5.099099e+00 &  19.10989011 & Oklahoma                &  3751351 &  0.373486539\\\\\n",
       "\t OR & 2.688889e+00 &  12.08791209 & Oregon                  &  3831074 &  0.245336509\\\\\n",
       "\t PA & 3.721681e+01 & 113.29670330 & Pennsylvania            & 12702379 &  0.598942050\\\\\n",
       "\t PR & 3.483568e+00 &  10.28571429 & Puerto Rico             &  3725789 &  0.182569282\\\\\n",
       "\t RI & 5.030702e+00 &   9.30769231 & Rhode Island            &  1052567 &  0.406339031\\\\\n",
       "\t SC & 1.596889e+01 &  25.57142857 & South Carolina          &  4625364 &  0.207606140\\\\\n",
       "\t SD & 1.310811e+00 &  14.39560440 & South Dakota            &   814180 &  1.607113118\\\\\n",
       "\t TN & 1.262500e+01 &  58.98901099 & Tennessee               &  6346105 &  0.730590039\\\\\n",
       "\t TX & 7.396903e+01 & 156.46153846 & Texas                   & 25145561 &  0.328059938\\\\\n",
       "\t UT & 2.373874e+00 &  10.23076923 & Utah                    &  2763885 &  0.284269981\\\\\n",
       "\t VA & 1.290458e+01 &  24.59340659 & Virginia                &  8001024 &  0.146091631\\\\\n",
       "\t VI & 9.389671e-02 &   0.04395604 & US Virgin Islands       &   106405 & -0.046934514\\\\\n",
       "\t VT & 2.566372e-01 &   1.14285714 & Vermont                 &   625741 &  0.141627283\\\\\n",
       "\t WA & 8.010870e+00 &  17.76923077 & Washington              &  6724540 &  0.145115669\\\\\n",
       "\t WI & 6.845133e+00 &  45.74725275 & Wisconsin               &  5686986 &  0.684055139\\\\\n",
       "\t WV & 1.753363e+00 &  14.38461538 & West Virginia           &  1852994 &  0.681667191\\\\\n",
       "\t WY & 2.500000e-01 &   5.10989011 & Wyoming                 &   563626 &  0.862254422\\\\\n",
       "\\end{tabular}\n"
      ],
      "text/markdown": [
       "\n",
       "A tibble: 56 × 6\n",
       "\n",
       "| state &lt;chr&gt; | mort_pre &lt;dbl&gt; | mort_post &lt;dbl&gt; | state_name &lt;chr&gt; | population_2010 &lt;dbl&gt; | dif &lt;dbl&gt; |\n",
       "|---|---|---|---|---|---|\n",
       "| AK | 2.869955e-01 |   1.79120879 | Alaska                  |   710231 |  0.211792118 |\n",
       "| AL | 1.218919e+01 |  35.04395604 | Alabama                 |  4779736 |  0.478159607 |\n",
       "| AR | 7.327354e+00 |  28.38461538 | Arkansas                |  2915918 |  0.722148604 |\n",
       "| AS | 0.000000e+00 |   0.00000000 | American Samoa          |    55519 |  0.000000000 |\n",
       "| AZ | 2.565333e+01 |  55.67032967 | Arizona                 |  6392017 |  0.469601322 |\n",
       "| CA | 7.395111e+01 | 163.70329670 | California              | 37253956 |  0.240919879 |\n",
       "| CO | 9.600000e+00 |  34.65934066 | Colorado                |  5029196 |  0.498277273 |\n",
       "| CT | 2.043694e+01 |  22.12087912 | Connecticut             |  3574097 |  0.047115179 |\n",
       "| DC | 2.848214e+00 |   2.24175824 | District of Columbia    |   601723 | -0.100786582 |\n",
       "| DE | 2.959641e+00 |   3.67032967 | Delaware                |   897934 |  0.079147066 |\n",
       "| FL | 6.072308e+01 |  88.45054945 | Florida                 | 18801310 |  0.147476280 |\n",
       "| GA | 3.320000e+01 |  49.26373626 | Georgia                 |  9687653 |  0.165816594 |\n",
       "| GU | 2.863850e-01 |   0.68131868 | Guam                    |   159358 |  0.247827975 |\n",
       "| HI | 7.688889e-01 |   1.48351648 | Hawaii                  |  1360301 |  0.052534520 |\n",
       "| IA | 6.713004e+00 |  30.16483516 | Iowa                    |  3046355 |  0.769832494 |\n",
       "| ID | 2.306306e+00 |  11.51648352 | Idaho                   |  1567582 |  0.587540378 |\n",
       "| IL | 4.142222e+01 | 113.74725275 | Illinois                | 12830632 |  0.563690320 |\n",
       "| IN | 1.660606e+01 |  58.65934066 | Indiana                 |  6483802 |  0.648589825 |\n",
       "| KS | 3.757848e+00 |  27.65934066 | Kansas                  |  2853118 |  0.837732373 |\n",
       "| KY | 5.721973e+00 |  19.18681319 | Kentucky                |  4339367 |  0.310295029 |\n",
       "| LA | 2.565315e+01 |  26.07692308 | Louisiana               |  4533372 |  0.009347786 |\n",
       "| MA | 3.613109e+01 |  41.32967033 | Massachusetts           |  6547629 |  0.079396438 |\n",
       "| MD | 1.795536e+01 |  26.60439560 | Maryland                |  5773552 |  0.149804461 |\n",
       "| ME | 6.441441e-01 |   3.48351648 | Maine                   |  1328361 |  0.213750053 |\n",
       "| MI | 3.187719e+01 |  79.21978022 | Michigan                |  9883640 |  0.478999511 |\n",
       "| MN | 9.775785e+00 |  39.75824176 | Minnesota               |  5303925 |  0.565288103 |\n",
       "| MO | 1.090090e+01 |  41.30769231 | Missouri                |  5988927 |  0.507716848 |\n",
       "| MP | 9.389671e-03 |   0.00000000 | Northern Mariana Islans |    53883 | -0.017426037 |\n",
       "| MS | 1.414414e+01 |  24.21978022 | Mississippi             |  2967297 |  0.339556036 |\n",
       "| MT | 1.013514e+00 |   9.30769231 | Montana                 |   989415 |  0.838291192 |\n",
       "| NC | 1.713778e+01 |  43.41758242 | North Carolina          |  9535483 |  0.275600141 |\n",
       "| ND | 1.666667e+00 |  10.95604396 | North Dakota            |   672591 |  1.381133154 |\n",
       "| NE | 2.168724e+00 |  13.98901099 | Nebraska                |  1826341 |  0.647211376 |\n",
       "| NH | 2.035556e+00 |   4.76923077 | New Hampshire           |  1316470 |  0.207651919 |\n",
       "| NJ | 6.528629e+01 |  44.57142857 | New Jersey              |  8791894 | -0.235613188 |\n",
       "| NM | 4.111607e+00 |  21.03296703 | New Mexico              |  2059179 |  0.821752742 |\n",
       "| NV | 7.549107e+00 |  21.53846154 | Nevada                  |  2700551 |  0.518018523 |\n",
       "| NY | 1.127974e+02 |  74.29670330 | New York                | 19378102 | -0.198681241 |\n",
       "| OH | 2.246875e+01 |  54.41758242 | Ohio                    | 11536504 |  0.276936864 |\n",
       "| OK | 5.099099e+00 |  19.10989011 | Oklahoma                |  3751351 |  0.373486539 |\n",
       "| OR | 2.688889e+00 |  12.08791209 | Oregon                  |  3831074 |  0.245336509 |\n",
       "| PA | 3.721681e+01 | 113.29670330 | Pennsylvania            | 12702379 |  0.598942050 |\n",
       "| PR | 3.483568e+00 |  10.28571429 | Puerto Rico             |  3725789 |  0.182569282 |\n",
       "| RI | 5.030702e+00 |   9.30769231 | Rhode Island            |  1052567 |  0.406339031 |\n",
       "| SC | 1.596889e+01 |  25.57142857 | South Carolina          |  4625364 |  0.207606140 |\n",
       "| SD | 1.310811e+00 |  14.39560440 | South Dakota            |   814180 |  1.607113118 |\n",
       "| TN | 1.262500e+01 |  58.98901099 | Tennessee               |  6346105 |  0.730590039 |\n",
       "| TX | 7.396903e+01 | 156.46153846 | Texas                   | 25145561 |  0.328059938 |\n",
       "| UT | 2.373874e+00 |  10.23076923 | Utah                    |  2763885 |  0.284269981 |\n",
       "| VA | 1.290458e+01 |  24.59340659 | Virginia                |  8001024 |  0.146091631 |\n",
       "| VI | 9.389671e-02 |   0.04395604 | US Virgin Islands       |   106405 | -0.046934514 |\n",
       "| VT | 2.566372e-01 |   1.14285714 | Vermont                 |   625741 |  0.141627283 |\n",
       "| WA | 8.010870e+00 |  17.76923077 | Washington              |  6724540 |  0.145115669 |\n",
       "| WI | 6.845133e+00 |  45.74725275 | Wisconsin               |  5686986 |  0.684055139 |\n",
       "| WV | 1.753363e+00 |  14.38461538 | West Virginia           |  1852994 |  0.681667191 |\n",
       "| WY | 2.500000e-01 |   5.10989011 | Wyoming                 |   563626 |  0.862254422 |\n",
       "\n"
      ],
      "text/plain": [
       "   state mort_pre     mort_post    state_name              population_2010\n",
       "1  AK    2.869955e-01   1.79120879 Alaska                    710231       \n",
       "2  AL    1.218919e+01  35.04395604 Alabama                  4779736       \n",
       "3  AR    7.327354e+00  28.38461538 Arkansas                 2915918       \n",
       "4  AS    0.000000e+00   0.00000000 American Samoa             55519       \n",
       "5  AZ    2.565333e+01  55.67032967 Arizona                  6392017       \n",
       "6  CA    7.395111e+01 163.70329670 California              37253956       \n",
       "7  CO    9.600000e+00  34.65934066 Colorado                 5029196       \n",
       "8  CT    2.043694e+01  22.12087912 Connecticut              3574097       \n",
       "9  DC    2.848214e+00   2.24175824 District of Columbia      601723       \n",
       "10 DE    2.959641e+00   3.67032967 Delaware                  897934       \n",
       "11 FL    6.072308e+01  88.45054945 Florida                 18801310       \n",
       "12 GA    3.320000e+01  49.26373626 Georgia                  9687653       \n",
       "13 GU    2.863850e-01   0.68131868 Guam                      159358       \n",
       "14 HI    7.688889e-01   1.48351648 Hawaii                   1360301       \n",
       "15 IA    6.713004e+00  30.16483516 Iowa                     3046355       \n",
       "16 ID    2.306306e+00  11.51648352 Idaho                    1567582       \n",
       "17 IL    4.142222e+01 113.74725275 Illinois                12830632       \n",
       "18 IN    1.660606e+01  58.65934066 Indiana                  6483802       \n",
       "19 KS    3.757848e+00  27.65934066 Kansas                   2853118       \n",
       "20 KY    5.721973e+00  19.18681319 Kentucky                 4339367       \n",
       "21 LA    2.565315e+01  26.07692308 Louisiana                4533372       \n",
       "22 MA    3.613109e+01  41.32967033 Massachusetts            6547629       \n",
       "23 MD    1.795536e+01  26.60439560 Maryland                 5773552       \n",
       "24 ME    6.441441e-01   3.48351648 Maine                    1328361       \n",
       "25 MI    3.187719e+01  79.21978022 Michigan                 9883640       \n",
       "26 MN    9.775785e+00  39.75824176 Minnesota                5303925       \n",
       "27 MO    1.090090e+01  41.30769231 Missouri                 5988927       \n",
       "28 MP    9.389671e-03   0.00000000 Northern Mariana Islans    53883       \n",
       "29 MS    1.414414e+01  24.21978022 Mississippi              2967297       \n",
       "30 MT    1.013514e+00   9.30769231 Montana                   989415       \n",
       "31 NC    1.713778e+01  43.41758242 North Carolina           9535483       \n",
       "32 ND    1.666667e+00  10.95604396 North Dakota              672591       \n",
       "33 NE    2.168724e+00  13.98901099 Nebraska                 1826341       \n",
       "34 NH    2.035556e+00   4.76923077 New Hampshire            1316470       \n",
       "35 NJ    6.528629e+01  44.57142857 New Jersey               8791894       \n",
       "36 NM    4.111607e+00  21.03296703 New Mexico               2059179       \n",
       "37 NV    7.549107e+00  21.53846154 Nevada                   2700551       \n",
       "38 NY    1.127974e+02  74.29670330 New York                19378102       \n",
       "39 OH    2.246875e+01  54.41758242 Ohio                    11536504       \n",
       "40 OK    5.099099e+00  19.10989011 Oklahoma                 3751351       \n",
       "41 OR    2.688889e+00  12.08791209 Oregon                   3831074       \n",
       "42 PA    3.721681e+01 113.29670330 Pennsylvania            12702379       \n",
       "43 PR    3.483568e+00  10.28571429 Puerto Rico              3725789       \n",
       "44 RI    5.030702e+00   9.30769231 Rhode Island             1052567       \n",
       "45 SC    1.596889e+01  25.57142857 South Carolina           4625364       \n",
       "46 SD    1.310811e+00  14.39560440 South Dakota              814180       \n",
       "47 TN    1.262500e+01  58.98901099 Tennessee                6346105       \n",
       "48 TX    7.396903e+01 156.46153846 Texas                   25145561       \n",
       "49 UT    2.373874e+00  10.23076923 Utah                     2763885       \n",
       "50 VA    1.290458e+01  24.59340659 Virginia                 8001024       \n",
       "51 VI    9.389671e-02   0.04395604 US Virgin Islands         106405       \n",
       "52 VT    2.566372e-01   1.14285714 Vermont                   625741       \n",
       "53 WA    8.010870e+00  17.76923077 Washington               6724540       \n",
       "54 WI    6.845133e+00  45.74725275 Wisconsin                5686986       \n",
       "55 WV    1.753363e+00  14.38461538 West Virginia            1852994       \n",
       "56 WY    2.500000e-01   5.10989011 Wyoming                   563626       \n",
       "   dif         \n",
       "1   0.211792118\n",
       "2   0.478159607\n",
       "3   0.722148604\n",
       "4   0.000000000\n",
       "5   0.469601322\n",
       "6   0.240919879\n",
       "7   0.498277273\n",
       "8   0.047115179\n",
       "9  -0.100786582\n",
       "10  0.079147066\n",
       "11  0.147476280\n",
       "12  0.165816594\n",
       "13  0.247827975\n",
       "14  0.052534520\n",
       "15  0.769832494\n",
       "16  0.587540378\n",
       "17  0.563690320\n",
       "18  0.648589825\n",
       "19  0.837732373\n",
       "20  0.310295029\n",
       "21  0.009347786\n",
       "22  0.079396438\n",
       "23  0.149804461\n",
       "24  0.213750053\n",
       "25  0.478999511\n",
       "26  0.565288103\n",
       "27  0.507716848\n",
       "28 -0.017426037\n",
       "29  0.339556036\n",
       "30  0.838291192\n",
       "31  0.275600141\n",
       "32  1.381133154\n",
       "33  0.647211376\n",
       "34  0.207651919\n",
       "35 -0.235613188\n",
       "36  0.821752742\n",
       "37  0.518018523\n",
       "38 -0.198681241\n",
       "39  0.276936864\n",
       "40  0.373486539\n",
       "41  0.245336509\n",
       "42  0.598942050\n",
       "43  0.182569282\n",
       "44  0.406339031\n",
       "45  0.207606140\n",
       "46  1.607113118\n",
       "47  0.730590039\n",
       "48  0.328059938\n",
       "49  0.284269981\n",
       "50  0.146091631\n",
       "51 -0.046934514\n",
       "52  0.141627283\n",
       "53  0.145115669\n",
       "54  0.684055139\n",
       "55  0.681667191\n",
       "56  0.862254422"
      ]
     },
     "execution_count": 50,
     "metadata": {},
     "output_type": "execute_result"
    }
   ],
   "source": []
  },
  {
   "cell_type": "markdown",
   "metadata": {},
   "source": [
    "Congrats! You've just made your first tidyverse data parsing job... and maybe even a pipeline! As good habit, report the session details of R you used.\n",
    "\n",
    "Execute the below command:"
   ]
  },
  {
   "cell_type": "code",
   "execution_count": 30,
   "metadata": {
    "collapsed": true
   },
   "outputs": [
    {
     "data": {
      "text/plain": [
       "R version 4.2.1 (2022-06-23)\n",
       "Platform: x86_64-pc-linux-gnu (64-bit)\n",
       "Running under: Ubuntu 20.04.5 LTS\n",
       "\n",
       "Matrix products: default\n",
       "BLAS:   /usr/lib/x86_64-linux-gnu/openblas-pthread/libblas.so.3\n",
       "LAPACK: /usr/lib/x86_64-linux-gnu/openblas-pthread/liblapack.so.3\n",
       "\n",
       "locale:\n",
       " [1] LC_CTYPE=C.UTF-8       LC_NUMERIC=C           LC_TIME=C.UTF-8       \n",
       " [4] LC_COLLATE=C.UTF-8     LC_MONETARY=C.UTF-8    LC_MESSAGES=C.UTF-8   \n",
       " [7] LC_PAPER=C.UTF-8       LC_NAME=C              LC_ADDRESS=C          \n",
       "[10] LC_TELEPHONE=C         LC_MEASUREMENT=C.UTF-8 LC_IDENTIFICATION=C   \n",
       "\n",
       "attached base packages:\n",
       "[1] stats     graphics  grDevices utils     datasets  methods   base     \n",
       "\n",
       "other attached packages:\n",
       "[1] forcats_0.5.2   stringr_1.4.1   dplyr_1.0.10    purrr_0.3.4    \n",
       "[5] readr_2.1.2     tidyr_1.2.1     tibble_3.1.7    ggplot2_3.3.6  \n",
       "[9] tidyverse_1.3.1\n",
       "\n",
       "loaded via a namespace (and not attached):\n",
       " [1] pbdZMQ_0.3-7     tidyselect_1.1.2 repr_1.1.4       haven_2.5.1     \n",
       " [5] colorspace_2.0-3 vctrs_0.4.1      generics_0.1.3   htmltools_0.5.3 \n",
       " [9] base64enc_0.1-3  utf8_1.2.2       rlang_1.0.5      pillar_1.8.1    \n",
       "[13] glue_1.6.2       withr_2.5.0      DBI_1.1.3        bit64_4.0.5     \n",
       "[17] dbplyr_2.2.1     modelr_0.1.9     readxl_1.4.1     uuid_1.1-0      \n",
       "[21] lifecycle_1.0.2  munsell_0.5.0    gtable_0.3.1     cellranger_1.1.0\n",
       "[25] rvest_1.0.3      evaluate_0.16    tzdb_0.3.0       fastmap_1.1.0   \n",
       "[29] parallel_4.2.1   fansi_1.0.3      broom_1.0.1      IRdisplay_1.1   \n",
       "[33] backports_1.4.1  scales_1.2.1     IRkernel_1.3     vroom_1.5.7     \n",
       "[37] jsonlite_1.8.0   bit_4.0.4        fs_1.5.2         hms_1.1.2       \n",
       "[41] digest_0.6.29    stringi_1.7.8    getPass_0.2-2    grid_4.2.1      \n",
       "[45] cli_3.4.0        tools_4.2.1      magrittr_2.0.3   crayon_1.5.1    \n",
       "[49] pkgconfig_2.0.3  ellipsis_0.3.2   xml2_1.3.3       reprex_2.0.2    \n",
       "[53] lubridate_1.8.0  rstudioapi_0.14  assertthat_0.2.1 httr_1.4.4      \n",
       "[57] R6_2.5.1         compiler_4.2.1  "
      ]
     },
     "execution_count": 30,
     "metadata": {},
     "output_type": "execute_result"
    }
   ],
   "source": [
    "sessionInfo()"
   ]
  },
  {
   "cell_type": "code",
   "execution_count": 0,
   "metadata": {},
   "outputs": [],
   "source": []
  }
 ],
 "metadata": {
  "anaconda-cloud": {},
  "kernelspec": {
   "display_name": "R (system-wide)",
   "language": "r",
   "metadata": {
    "cocalc": {
     "description": "R statistical programming language",
     "priority": 10,
     "url": "https://www.r-project.org/"
    }
   },
   "name": "ir",
   "resource_dir": "/ext/jupyter/kernels/ir"
  },
  "language_info": {
   "codemirror_mode": "r",
   "file_extension": ".r",
   "mimetype": "text/x-r-source",
   "name": "R",
   "pygments_lexer": "r",
   "version": "4.2.1"
  },
  "name": "Sagemathcloud_Setup_Assignment.ipynb"
 },
 "nbformat": 4,
 "nbformat_minor": 4
}
