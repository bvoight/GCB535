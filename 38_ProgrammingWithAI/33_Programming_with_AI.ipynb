{
 "cells": [
  {
   "cell_type": "markdown",
   "metadata": {},
   "source": [
    "### Programming with Generative Artificial Intelligence (in-class)\n",
    "\n",
    "Learning objectives:\n",
    "\n",
    "From this in-class activity, student will be able to see how generative AI can be used for several programming applications, including\n",
    "\n",
    "1. Generating new code that performs a prompted task (e.g., plot generating, data frame creation, data wrangling)\n",
    "2. Debugging code \n",
    "3. Making code more computationally efficient \n",
    "4. Annotating code with comments\n",
    "5. Converting code between languages (e.g. Python and R)  "
   ]
  },
  {
   "cell_type": "markdown",
   "metadata": {},
   "source": [
    "### Use case 1: Generating new code for a given prompt\n",
    "\n",
    "One way that generative AI can be used is for generating code of a particular new prompt that the user has. For example, we can ask GPT 4 to perform virtually any coding task, such as loading in a file. In this exercise, we will use the `orig_151_pokemon.txt` file that was used for HW II.   \n",
    "\n",
    "As the purpose of this in-class exercise is to practice using the generative AI tool for coding, we will provide sample code for the tasks as a way to check whether your GPT-4 prompt is similar to a GPT-4 prompt that we used to perform the tasks correctly."
   ]
  },
  {
   "cell_type": "markdown",
   "metadata": {},
   "source": [
    "**Q1.** Ask GPT-4 to perform the following task and insert the generated code below. You can prompt it using the following instructions, or use a paraphasing of these instructions. \n",
    "\n",
    "- Using the R programming language, load in the data from `orig_151_pokemon.txt` \n",
    "- Save this in a variable called `pokemon_df`\n",
    "- Sort the dataframe in alphabetical order by the column \"name\"."
   ]
  },
  {
   "cell_type": "code",
   "execution_count": null,
   "metadata": {},
   "outputs": [],
   "source": []
  },
  {
   "cell_type": "code",
   "execution_count": 2,
   "metadata": {},
   "outputs": [],
   "source": [
    "## The code should ideally look something like this. \n",
    "## If not, please try to change the prompt (i.e., prompt engineering) so that GPT-4 produces code like the following below. \n",
    "## For example, you might need to tell GPT-4 that the file is tab-delimited!\n",
    "\n",
    "pokemon_df <- read.delim(\"orig_151_pokemon.txt\", sep = \"\\t\")\n",
    "pokemon_df <- pokemon_df[order(pokemon_df$name), ]"
   ]
  },
  {
   "cell_type": "markdown",
   "metadata": {},
   "source": [
    "Trust, but verify! Provide code below to report the first 5 rows of `pokemon_df`."
   ]
  },
  {
   "cell_type": "code",
   "execution_count": null,
   "metadata": {
    "scrolled": true
   },
   "outputs": [],
   "source": [
    "## your code here:"
   ]
  },
  {
   "cell_type": "markdown",
   "metadata": {},
   "source": [
    "**Q2.** Now, prompt GPT-4 to:\n",
    "\n",
    "- Sort the `pokemon_df` variable by their type 1 and type 2\n",
    "- Produce a barplot using ggplot, make this barplot in terms of increasing count."
   ]
  },
  {
   "cell_type": "code",
   "execution_count": null,
   "metadata": {},
   "outputs": [],
   "source": []
  },
  {
   "cell_type": "markdown",
   "metadata": {},
   "source": [
    "### Use case 2: Debugging code\n",
    "\n",
    "We can use the AI assistant tool for a code block to fix it. For example, in the code block below, we are trying to sort the `pokemon_df` variable by type."
   ]
  },
  {
   "cell_type": "markdown",
   "metadata": {},
   "source": [
    "**Q3a.** First, run the block below, which should produce an error."
   ]
  },
  {
   "cell_type": "code",
   "execution_count": null,
   "metadata": {},
   "outputs": [],
   "source": [
    "# sort the pokemon_df by type1 and type2\n",
    "\n",
    "type_counts <- pokemon_df %>%\n",
    "  group_by(type_1, type_2) %>%\n",
    "  summarise(count = n(), .groups = 'drop') %>%\n",
    "  arrange(count)"
   ]
  },
  {
   "cell_type": "markdown",
   "metadata": {},
   "source": [
    "**Q3b.** Now, we will use GPT\\-4 to fix this error. Using the assistant tool on the top right on the code block, select Explain. This should explain what the code is doing line by line. \n",
    "\n",
    "Then select \"Fix bugs\", which should identify potential issues with the code. Read these carefully to see what the potential errors are, and then modify the code below accordingly so that it works."
   ]
  },
  {
   "cell_type": "code",
   "execution_count": null,
   "metadata": {},
   "outputs": [],
   "source": [
    "# sort the pokemon_df by type1 and type2\n",
    "\n",
    "type_counts <- pokemon_df %>%\n",
    "  group_by(type_1, type_2) %>%\n",
    "  summarise(count = n(), .groups = 'drop') %>%\n",
    "  arrange(count)"
   ]
  },
  {
   "cell_type": "markdown",
   "metadata": {},
   "source": [
    "### Use case 3: Making code more efficient\n",
    "\n",
    "A third use case for generative AI is making code more efficient. \n",
    "\n",
    "Many functions in R allow for vectorization, meaning that a repetitive computation is performed on multiple values simultaneously, rather than one at a time. \n",
    "\n",
    "**Q4a.** Let's explore the case below, in which we have a vector and take the square root of each value. Execute the set of cells below:"
   ]
  },
  {
   "cell_type": "code",
   "execution_count": 27,
   "metadata": {},
   "outputs": [],
   "source": [
    "# set a seed for reproducibility\n",
    "set.seed(42)\n",
    "n <- 1e7 # number of values to randomly generate\n",
    "x <- runif(n) # generate n random values between 0 and 1"
   ]
  },
  {
   "cell_type": "code",
   "execution_count": 28,
   "metadata": {},
   "outputs": [],
   "source": [
    "for_loop_method <- function(vec) {\n",
    "    \n",
    "    result <- numeric(length(vec)) # create a vector the same length of input vector\n",
    "    \n",
    "    # for each value one-by-one in the input vector, square the result\n",
    "    for (i in seq_along(vec)) {\n",
    "        result[i] <- vec[i]^2 \n",
    "    }\n",
    "    \n",
    "    return(result)\n",
    "}"
   ]
  },
  {
   "cell_type": "code",
   "execution_count": null,
   "metadata": {},
   "outputs": [],
   "source": [
    "# measure the time for for loop operation\n",
    "\n",
    "start_time <- proc.time()\n",
    "\n",
    "# run the for loop method\n",
    "for_loop_result <- for_loop_method(x)\n",
    "\n",
    "\n",
    "end_time <- proc.time()\n",
    "\n",
    "# end time in milliseconds\n",
    "elapsed_time <- (end_time - start_time)[3] * 1000\n",
    "\n",
    "print(paste0(\"The for loop operation took \", elapsed_time, \" milliseconds\"))"
   ]
  },
  {
   "cell_type": "markdown",
   "metadata": {},
   "source": [
    "**Q4b.** Now, ask GPT-4o Mini to:\n",
    "\n",
    "- Provide a vectorized form of the function. \n",
    "- Create a code block in which you run the vectorized operation. \n",
    "- Compare the amount of time that this function takes compared to the non-vectorized for-loop version."
   ]
  },
  {
   "cell_type": "code",
   "execution_count": 30,
   "metadata": {},
   "outputs": [],
   "source": [
    "## provide vectorized function\n"
   ]
  },
  {
   "cell_type": "code",
   "execution_count": null,
   "metadata": {},
   "outputs": [],
   "source": [
    "## provide time comparison\n"
   ]
  },
  {
   "cell_type": "markdown",
   "metadata": {},
   "source": [
    "##### As you can see, the vectorized function is many times faster than using a for-loop!"
   ]
  },
  {
   "cell_type": "markdown",
   "metadata": {},
   "source": [
    "### Use case 4: Annotating code\n",
    "\n",
    "A good practice in writing any code is to carefully document what the code is performing. This is useful for functions that only you may be using, as it will make it easier for you to understand what you were trying to do when you first wrote the function (this is akin to writing notes for laboratory experiments). However, sometimes even with well-documented code, it can be hard to remember what some lines of code are doing. In addition, when working with code written by other people, there can be some differences in how people comment their code and this can lead to confusion. Generative AI models are very good for walking through code line by line and trying to explain what they do.\n",
    "\n",
    "Here, we will look at an example of uncommented code, and ask GPT-4o Mini to explain it.   "
   ]
  },
  {
   "cell_type": "markdown",
   "metadata": {},
   "source": [
    "**Q5a.** Below is some pretty poorly written code\\(which we prompted GP\\-4 to produc\\). It's not commented and the second command is a bit convoluted. \n",
    "\n",
    "- Ask GPT-4 to explain the code. You can do this using the \"Assistant\" tool in the top right and then selecting \"Explain\". "
   ]
  },
  {
   "cell_type": "code",
   "execution_count": null,
   "metadata": {},
   "outputs": [],
   "source": [
    "vec <- c(3, 1, 4, 1, 5, 9)\n",
    "\n",
    "result <- Reduce(`+`, \n",
    "                 Map(function(x, y) (x - y)^2, \n",
    "                     vec, \n",
    "                     rev(vec)))\n",
    "print(result)"
   ]
  },
  {
   "cell_type": "markdown",
   "metadata": {},
   "source": [
    "**Q5b.** Now, based on the explanation from GPT-4, comment the code. If easier for you, re-write the code in a way that is easier for you to understand (and make sure to comment that new code!). Of course, you could also prompt GPT-4 to \"write the comment in a easier to understand way\", but writing it yourself would be more useful!"
   ]
  },
  {
   "cell_type": "code",
   "execution_count": null,
   "metadata": {},
   "outputs": [],
   "source": []
  },
  {
   "cell_type": "markdown",
   "metadata": {},
   "source": [
    "### Use case 5: Converting between programming languages\n",
    "\n",
    "In this course, we focused on writing code using the R programming language and the command line. There are of course many other languages, with one of the most popular programming languages being Python. While we strongly recommend learning Python in a more traditional format, the nice thing about generative AI tools is that they can convert quite well being programming languages (and between spoken languages also). \n",
    "\n",
    "For example, you can create a function in R and then ask GPT-4 to make a python version of it.  "
   ]
  },
  {
   "cell_type": "code",
   "execution_count": null,
   "metadata": {},
   "outputs": [],
   "source": [
    "# this is an R function that returns the mean of a vector\n",
    "\n",
    "compute_mean <- function(vec) {\n",
    "    mean_vec <- mean(vec)\n",
    "    return(mean_vec)\n",
    "}\n",
    "\n",
    "# use the function on an example vector\n",
    "vec <- c(3, 4, 5, 7, 9)\n",
    "\n",
    "compute_mean(vec)"
   ]
  },
  {
   "cell_type": "markdown",
   "metadata": {},
   "source": [
    "**Q6.** Prompt GPT-4 to produce the code for the function and the computation on the example vector in Python. Paste the generated code below. \n",
    "\n",
    "**To run the code, you need to change your kernel from R system-wide (in the top left corner of Cocalc) to Python 3. It may take a minute or so for your Python 3 kernel to start.**  "
   ]
  },
  {
   "cell_type": "code",
   "execution_count": null,
   "metadata": {},
   "outputs": [],
   "source": []
  },
  {
   "cell_type": "markdown",
   "metadata": {},
   "source": [
    "While we did all of this work in CoCalc, the generative AI tools are already out there in the public domain, so you can access and use them on their own (without the CoCalc environment). You'd have to make an account, but try them out! Claude.ai (https://claude.ai/) is one in particular that we recommend."
   ]
  }
 ],
 "metadata": {
  "kernelspec": {
   "display_name": "R",
   "language": "R",
   "name": "ir"
  },
  "language_info": {
   "codemirror_mode": "r",
   "file_extension": ".r",
   "mimetype": "text/x-r-source",
   "name": "R",
   "pygments_lexer": "r",
   "version": "3.6.1"
  }
 },
 "nbformat": 4,
 "nbformat_minor": 4
}
