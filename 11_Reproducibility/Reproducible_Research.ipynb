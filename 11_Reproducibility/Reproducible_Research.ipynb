{
 "cells": [
  {
   "cell_type": "markdown",
   "metadata": {},
   "source": [
    "# In-class: Reproducible Computational Research #"
   ]
  },
  {
   "cell_type": "markdown",
   "metadata": {},
   "source": [
    "Today, you we will be covering several practical principles and guidelines to making your code reproducible.\n",
    "\n",
    "1. Making your code clear: Comments, variable names.\n",
    "2. Versioning and reusing code: Creating a new notebook\n",
    "3. Notebook documentation: Who, what, where, why, when.\n",
    "4. A little automation: Making your code \"generic\"\n",
    "\n",
    "Your homework will build upon these, to practice making a new pipeline (and writing it so that is clear to you)."
   ]
  },
  {
   "cell_type": "markdown",
   "metadata": {},
   "source": [
    "## Part 1: Making your code clear"
   ]
  },
  {
   "cell_type": "markdown",
   "metadata": {},
   "source": [
    "When writing code (or an analysis pipeline), it is essential that each part of what your pipeline is doing is clearly documented and understandable to someone who is knowledgable enough to read code. \n",
    "\n",
    "The best way that I think about this is the \"Future Self: 3 month from now\" principle. You will frequently find yourself in a position where you have generated what you *think* is a final result (for a scientific paper), only to realize 3 months later that you need to do something else (tweak the code, reanalyze data again, etc.).\n",
    "\n",
    "It is precisely this situation that leaving yourself reminders ('clues') as to what you were doing (and thinking) at the time you were writing particular bits of code really help you quickly get back up to speed on what you were previously doing (hours instead of days; minutes, instead of hours), but also confidence that you can reproduce exactly what you had done previously."
   ]
  },
  {
   "cell_type": "markdown",
   "metadata": {},
   "source": [
    "In all programming languages, you can add \"comments\" your code. In R, which we will focus on today, that can be done using the `#` symbol. \n",
    "\n",
    "For every block of code in R, it is very good practice to have comments describing what it does. For instance:"
   ]
  },
  {
   "cell_type": "code",
   "execution_count": 0,
   "metadata": {},
   "outputs": [],
   "source": [
    "# Prints the next even number after a\n",
    "a <- 9\n",
    "if(a %% 2 == 0) {\n",
    "    print(a + 2)\n",
    "} else { \n",
    "    print(a + 1) }"
   ]
  },
  {
   "cell_type": "markdown",
   "metadata": {},
   "source": [
    "**Q1.** Now, look at the following 3 blocks of R code. For each block:\n",
    "\n",
    "- Figure out what the following code blocks are doing, and add a comment describing, in human terms, what it is doing.\n",
    "- In addition, rename any variables with sub-optimal names (i.e., those we named \"badvariable\")\n",
    "\n",
    "Variables names should be short and descriptive when possible. For instance, a variable that contains a list of prime numbers could be called primes. However, if you have a variable that just stores the value 5, something simple, like \"a\" would be fine. In order to figure out what the code is doing, run the code blocks. If needed, you can replace the \"Hello Students\" strings or x value with whatever you think would be useful in helping you figure it out.\n",
    "\n",
    "One important thing to note: If you reuse variable names, make sure that's intentional - a common source of 'bugs' happens when you forget that you used a variable elsewhere, and then use it again later. A great way to avoid this is to create unique names variables whenever possible."
   ]
  },
  {
   "cell_type": "code",
   "execution_count": 0,
   "metadata": {},
   "outputs": [],
   "source": [
    "w = \"Hello Students\" \n",
    "s <- strsplit(w, \" \")\n",
    "substr(s[[1]], 1, 2)"
   ]
  },
  {
   "cell_type": "code",
   "execution_count": 0,
   "metadata": {},
   "outputs": [],
   "source": [
    "w = \"Hello Students\"\n",
    "badlynamedvariable1 <- c(\"a\", \"e\", \"i\", \"o\", \"u\")\n",
    "badlynamedvariable2 <- tolower(strsplit(w, \"\")[[1]])\n",
    "badlynamedvariable3 <- badlynamedvariable2[badlynamedvariable2 %in% badlynamedvariable1]\n",
    "print(badlynamedvariable3)"
   ]
  },
  {
   "cell_type": "code",
   "execution_count": 0,
   "metadata": {},
   "outputs": [],
   "source": [
    "x <- 18\n",
    "nums <- c(5, 10, 16, 19, 11)\n",
    "badlynamedvariable4 <- abs(nums - x)\n",
    "which.min(badlynamedvariable4)"
   ]
  },
  {
   "cell_type": "markdown",
   "metadata": {},
   "source": [
    "**Q2a.** We have provided you a list of numbers in the variable `mylist`. \n",
    "\n",
    "- Write some code in R that calculates the sample standard deviation, by hand:\n",
    "\n",
    "![Caption for the picture.](https://wikimedia.org/api/rest_v1/media/math/render/svg/1bffdcb1ecd0b326bb7ad67397b073af9c15fa6e)\n",
    "\n",
    "x_i: each *i* elements in your list\n",
    "\n",
    "xbar: the mean of your list \n",
    "\n",
    "N: the size of your list\n",
    "\n",
    "- After each block of code that you write, use code comments to document what is being done.\n",
    "\n",
    "There are potentially many ways to do this. One approach that you might care to refresh your memory about is \"looping in R\"; see the pre-lab assignment for Module 9...\n",
    "\n",
    "**Q2b.** Savvy users will note that R has a built in functions for `mean()` and `sd()`. Use this function to check your work (with a comment stating as such!)"
   ]
  },
  {
   "cell_type": "code",
   "execution_count": 0,
   "metadata": {},
   "outputs": [],
   "source": [
    "# We're giving you a list of numbers. Make sure to run this cell to have mylist available to you.\n",
    "mylist <- c(71, 27, 363, 12, 3, 976)"
   ]
  },
  {
   "cell_type": "code",
   "execution_count": 0,
   "metadata": {},
   "outputs": [],
   "source": []
  },
  {
   "cell_type": "markdown",
   "metadata": {},
   "source": [
    "## Part 2: Versioning and reusing code: Creating a new notebook"
   ]
  },
  {
   "cell_type": "markdown",
   "metadata": {},
   "source": [
    "In class, you have been working with notebooks that we have been providing you. \n",
    "\n",
    "But in reality, you will have to make notebooks entirely on your own, ones that execute the code that you want to run. Literally, a \"blank slate\". In this section, we'll walk you through the process of creating your own notebook, and good practices there."
   ]
  },
  {
   "cell_type": "markdown",
   "metadata": {},
   "source": [
    "**Q3a.** Using CoCalc, create a new notebook. You can do this by \n",
    "\n",
    "- clicking on the \"+ new\" button\n",
    "- name your workbook \"my_new_notebook\"\n",
    "- click the \"Jupyter Notebook\" button\n",
    "- Then select \"R (System-wide) as your kernal (so that you can execute R code within your notebook)"
   ]
  },
  {
   "cell_type": "markdown",
   "metadata": {},
   "source": [
    "Your notebook consists of \"cells\" in which you can input information. These cells have specific types: For example, they can be set to process basic text (\"Markdown\"), or be set to execute computer code (\"Code\"). "
   ]
  },
  {
   "cell_type": "markdown",
   "metadata": {},
   "source": [
    "**Q3b.** Change the first cell type to \"Text\". You can do this by \n",
    "\n",
    "- clicking on the cell (so that the cursor is visible)\n",
    "- then select \"Text\" from the drop-down box (found between the execute all cells button `>>` and keyboard icons).\n",
    "\n",
    "The \"text\" language that is used here is call `Markdown`. Markdown has some handy features and functionality for customization. It's handy, because it knows a little of .html so can connect to the internet to load materials. \n",
    "\n",
    "For a 'cheat sheet' of Markdown usage, you can check out [this page](https://github.com/adam-p/markdown-here/wiki/Markdown-Cheatsheet). "
   ]
  },
  {
   "cell_type": "markdown",
   "metadata": {},
   "source": [
    "## Part 3: Notebook Documentation"
   ]
  },
  {
   "cell_type": "markdown",
   "metadata": {},
   "source": [
    "Each time you create a new notebook, computational pipeline, or code for analysis, it is important that you include the following details at the start of the document - the \"header\". There, you should provide:\n",
    "\n",
    "- A title for the workbook (ideally, the same name as the file) \n",
    "- Who wrote the document/code\n",
    "- When they created it\n",
    "- When it was last modified\n",
    "- What the code is designed to do, the objectives, and rationale (why)\n",
    "- List any data file that the code and pipeline was designed to use, or analyze.\n"
   ]
  },
  {
   "cell_type": "markdown",
   "metadata": {},
   "source": [
    "**Q4a.** As the name of our first notebook implies, let's imagine that we are writing this book to calculate a mean and sample standard deviation for the list that we provided above. In cell that you just set to Markdown (Text):\n",
    "\n",
    "- Add details into the document (title, your name, when created, the above information) to your notebook.\n",
    "- Next, create a new cell. You can do this through the `Insert` menu >> `Insert cell Above/Below`, or you can click on the `+` button.\n",
    "\n",
    "Remember, you want to make sure you add comments where you think they are appropriate. For example, what analysis are you trying to do? What results do you get and how you interpret them?\n",
    "\n",
    "There is no right or perfect way to organize or comment your code in jupyter notebooks: as long as it is easy to read and descriptive! Think about what would be the most helpful to *you*, three months in the future if you were looking at this again.\n",
    "\n",
    "**Q4b.** Finally, copy the code you wrote in **Q2b** above into this new cell. Execute the code to make sure it works!"
   ]
  },
  {
   "cell_type": "markdown",
   "metadata": {},
   "source": [
    "## Part 4: A small step toward automation"
   ]
  },
  {
   "cell_type": "markdown",
   "metadata": {},
   "source": [
    "Ok, so now you have code that will calculate a mean and sd for a given list of numbers. That's cool. But let's make it cooler.\n",
    "\n",
    "**Q5.** Suppose that instead, your data is located in a file called `mylist.csv`, a file that is separated by commas.\n",
    "- Read this file into R into a variable called `mylist`.\n",
    "- Report the first few line of that data with `head()` here."
   ]
  },
  {
   "cell_type": "code",
   "execution_count": null,
   "metadata": {},
   "outputs": [],
   "source": []
  },
  {
   "cell_type": "markdown",
   "metadata": {},
   "source": [
    "**Q6.** Based on this:\n",
    "\n",
    "- add a new block of code in your new notebook to calculate the mean and sample standard deviation for each row in the file `mylist.csv`. Create a new cell (`Code`) to achieve this task.\n",
    "- You will want to use the \"read file\" code you just created above to your new notebook.\n",
    "- Be sure to add R comments to your new code!"
   ]
  },
  {
   "cell_type": "markdown",
   "metadata": {},
   "source": [
    "Sometimes, you will want to run the same bit of code on a couple of data files. In the code we have written, this isn't very obviously amenable to this. \n",
    "\n",
    "What we'd like to do is start by providing the file name, and then the code will \"run\" using data contained in the file. That way, all we'd have to do is change the file name (at the start of the program). Or eventually, read the file from the command line (in UNIX).\n",
    "\n",
    "**Q7.** Modify your code in your file in the following way:\n",
    "\n",
    "- Copy your code into a new cell.\n",
    "- Create a new variable called `myfile`, and assign to it the name of your input file: `mylist.csv`.\n",
    "- Modify the function that you used to read the file into R, to instead refer to the *variable* `myfile`, rather than explicitly name of the file.\n",
    "- Execute your code to make sure it works."
   ]
  }
 ],
 "metadata": {
  "kernelspec": {
   "display_name": "R",
   "language": "R",
   "name": "ir"
  },
  "language_info": {
   "codemirror_mode": "r",
   "file_extension": ".r",
   "mimetype": "text/x-r-source",
   "name": "R",
   "pygments_lexer": "r",
   "version": "3.6.1"
  },
  "name": "HW_Reproducible_Research.ipynb"
 },
 "nbformat": 4,
 "nbformat_minor": 1
}
