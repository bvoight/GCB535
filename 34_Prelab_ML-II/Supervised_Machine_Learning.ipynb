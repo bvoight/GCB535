{
 "cells": [
  {
   "cell_type": "markdown",
   "metadata": {},
   "source": [
    "# Welcome to Supervised Learning!\n",
    "\n",
    "We talked about machine learning and the unsupervised k-means approach last time. Now we're going to talk about one way that we can perform supervised machine learning.\n",
    "\n",
    "## Support Vector Machines (SVM)\n",
    "\n",
    "Let's dig into how we actually build a model. In this case, we're going to use a method for classification. This means that we have items divided into groups, and we want to find the rules that allow us to assign new items into those groups.\n",
    "\n",
    "This video explains the concepts behind SVMs: https://youtu.be/EbVs31qq1Is\n",
    "\n",
    "_Q1: What is the intuition behind how SVM decides where to draw the decision boundary?_"
   ]
  },
  {
   "cell_type": "markdown",
   "metadata": {},
   "source": []
  },
  {
   "cell_type": "markdown",
   "metadata": {},
   "source": [
    "### SVM - C Parameter\n",
    "\n",
    "In the previous video, the best place to put the decision boundary was relatively clear, but what if it wasn't? What if we had to choose between either a small gap between points and the line or a large gap that didn't correctly classify all points? SVMs have a parameter, C, that controls this decision.\n",
    "\n",
    "This video discusses C and provides some hypothetical examples: https://youtu.be/5oVQBF_p6kY"
   ]
  },
  {
   "cell_type": "markdown",
   "metadata": {},
   "source": [
    "_Q2: I am running an SVM and it predicts all of the points that I provided correctly, but it doesn't work on new points. Should I raise or lower C?_"
   ]
  },
  {
   "cell_type": "markdown",
   "metadata": {},
   "source": []
  },
  {
   "cell_type": "markdown",
   "metadata": {},
   "source": [
    "## Supervised Machine Learning Evaluation\n",
    "\n",
    "When we build a model, we'd really like to know how accurate it is. Specifically: how accurate are its predictions where we don't know the answer? If we'd like to predict this, we need to have a way to estimate this performance.\n",
    "\n",
    "This video discusses how we can assess performance: https://youtu.be/s_qpzxbVViI"
   ]
  },
  {
   "cell_type": "markdown",
   "metadata": {},
   "source": [
    "_Q3: A paper says: \"We constructed a support vector machine classifier using gene expression data to identify genes associated with long term memory. We used 105 examples from the screen (45 positives, 60 negatives) to construct the classifier and correctly classified 85 of them. We applied the classifier to all other genes, including 45 that we had screen information on. Of the remaining positives, 15 were correctly identified as memory associated by the classifier while 5 were missed. Of the negatives, 2 were identifed as memory associated by the classifier while 23 were not.\"_\n",
    "\n",
    "_In this case, what are the training and testing accuracies?_"
   ]
  },
  {
   "cell_type": "markdown",
   "metadata": {},
   "source": []
  },
  {
   "cell_type": "markdown",
   "metadata": {},
   "source": [
    "### Cross Validation\n",
    "\n",
    "Sometimes we want to build and evaluate our models in a manner that lets us use all of our data. With the strategy discussed in the previous video, we have to divide our data into a training and a testing set. This lets us get an accurate idea of the quality of our predictions, but also means that we're only using a portion of our data to make those predictions.\n",
    "\n",
    "Cross-validation is a strategy that allows us to use all of our data, at the cost of a bit of complexity, which is discussed at the end of our video: https://youtu.be/rMZYrneij-E"
   ]
  },
  {
   "cell_type": "markdown",
   "metadata": {},
   "source": [
    "_Q4: In five-fold cross validation, how many times are examples used for training?\"_"
   ]
  },
  {
   "cell_type": "markdown",
   "metadata": {},
   "source": []
  },
  {
   "cell_type": "markdown",
   "metadata": {},
   "source": [
    "_Q5: In five-fold cross validation, how many times are examples used for testing?\"_"
   ]
  },
  {
   "cell_type": "markdown",
   "metadata": {},
   "source": []
  }
 ],
 "metadata": {
  "anaconda-cloud": {},
  "kernelspec": {
   "display_name": "Python 3",
   "language": "python",
   "name": "python3"
  },
  "language_info": {
   "codemirror_mode": {
    "name": "ipython",
    "version": 3
   },
   "file_extension": ".py",
   "mimetype": "text/x-python",
   "name": "python",
   "nbconvert_exporter": "python",
   "pygments_lexer": "ipython3",
   "version": "3.7.3"
  },
  "name": "Supervised_Machine_Learning.ipynb"
 },
 "nbformat": 4,
 "nbformat_minor": 1
}
