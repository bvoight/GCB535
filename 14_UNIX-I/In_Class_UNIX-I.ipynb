{
 "cells": [
  {
   "cell_type": "markdown",
   "metadata": {},
   "source": [
    "# Introduction to Unix I - In Class Exercises"
   ]
  },
  {
   "cell_type": "markdown",
   "metadata": {},
   "source": [
    "For these exercises, we will ask you to write the Unix commands necessary to accomplish certain tasks. Just write in the appropriate commands in the cells that currently just contain the '$' character.\n",
    "\n",
    "Note: We encourate you use the \"split screen\" for this, it will let you work in terminal and keep your notebook open!"
   ]
  },
  {
   "cell_type": "markdown",
   "metadata": {},
   "source": [
    "**Q1.** First, move to the directory called \"exercises_move_here\":"
   ]
  },
  {
   "cell_type": "raw",
   "metadata": {},
   "source": [
    "$"
   ]
  },
  {
   "cell_type": "markdown",
   "metadata": {},
   "source": [
    "**Q2.** Then, check what files and directories are present in this directory:"
   ]
  },
  {
   "cell_type": "raw",
   "metadata": {},
   "source": [
    "$"
   ]
  },
  {
   "cell_type": "markdown",
   "metadata": {},
   "source": [
    "**Q3.** Notice that the data is split into three separate directories. Write the command to check the man pages for 'ls' to see how we can **recursively list the subdirectories**:"
   ]
  },
  {
   "cell_type": "raw",
   "metadata": {},
   "source": [
    "$ "
   ]
  },
  {
   "cell_type": "markdown",
   "metadata": {},
   "source": [
    "**Q4.** Now write the command using this flag to show us what files are in each directory:"
   ]
  },
  {
   "cell_type": "raw",
   "metadata": {},
   "source": [
    "$ "
   ]
  },
  {
   "cell_type": "markdown",
   "metadata": {},
   "source": [
    "**Q5.** Notice how each directory contains some lists of fruits and vegetables. Let's reorganize these files so that the fruit files and the vegetable files each have their own directories. Write the command(s) to make two directories, one called fruit_data and one called vegetable_data. Note that this can be done using a single command or two separate ones. "
   ]
  },
  {
   "cell_type": "raw",
   "metadata": {},
   "source": [
    "$"
   ]
  },
  {
   "cell_type": "raw",
   "metadata": {},
   "source": [
    "$"
   ]
  },
  {
   "cell_type": "markdown",
   "metadata": {},
   "source": [
    "**Q6.** Now, write a command to **copy** all the fruit data into the fruit_data directory using wildcards. Note that wildcards can be used as part of the path to a file; for example, we can list all the data files from each directory using the command:"
   ]
  },
  {
   "cell_type": "raw",
   "metadata": {},
   "source": [
    "$ ls */*.txt"
   ]
  },
  {
   "cell_type": "markdown",
   "metadata": {},
   "source": [
    "**Q7.** Armed with this knowledge, we can write a command to copy all the fruit data into the fruit_data directory:"
   ]
  },
  {
   "cell_type": "raw",
   "metadata": {},
   "source": [
    "$ cp */fruit*.txt fruit_data/"
   ]
  },
  {
   "cell_type": "markdown",
   "metadata": {},
   "source": [
    "**Q8.** Now write a similar command to copy all the vegetable data into the vegetable_data directory using wildcards:"
   ]
  },
  {
   "cell_type": "raw",
   "metadata": {},
   "source": [
    "$"
   ]
  },
  {
   "cell_type": "markdown",
   "metadata": {},
   "source": [
    "**Q9.** Now, move into the fruit_data directory:"
   ]
  },
  {
   "cell_type": "raw",
   "metadata": {},
   "source": [
    "$"
   ]
  },
  {
   "cell_type": "markdown",
   "metadata": {},
   "source": [
    "**Q10.** Let's check how many lines are in each of the files. Note that you can do this with three separate commands (just insert new lines starting with '$' if you do this), three arguments to the command, or using wildcards:"
   ]
  },
  {
   "cell_type": "raw",
   "metadata": {},
   "source": [
    "$"
   ]
  },
  {
   "cell_type": "markdown",
   "metadata": {},
   "source": [
    "**Q11.** These are pretty long files, so we probably don't want to just \"cat\" them. Write a command to look at the files using a tool meant to scroll through large files. Remember, **less** is **more**.."
   ]
  },
  {
   "cell_type": "raw",
   "metadata": {},
   "source": [
    "$ "
   ]
  },
  {
   "cell_type": "markdown",
   "metadata": {},
   "source": [
    "Also, try using whichever command you used above with a wildcard argument. You can then scroll through the files by typing \":\" followed by \"n\" to move to the next one, or \"p\" to move to the previous one. This is very useful for data exploration purposes!\n",
    "\n",
    "**Q12.** We can see that these files contain lists of many fruits, and are not sorted. However, the lists are spread across three different data files, so first let's write a command to put them into a single file called full_fruit_list.txt:"
   ]
  },
  {
   "cell_type": "raw",
   "metadata": {},
   "source": [
    "$"
   ]
  },
  {
   "cell_type": "markdown",
   "metadata": {},
   "source": [
    "**Q13.** Now, write a command to sort this file and pipe that output into one of the tools meant to scroll through large files:"
   ]
  },
  {
   "cell_type": "raw",
   "metadata": {},
   "source": [
    "$"
   ]
  },
  {
   "cell_type": "markdown",
   "metadata": {},
   "source": [
    "**Q14.** So we can see that the entries are not unique (i.e. some of the fruits show up more than once in this list). We'd like a sorted, unique list, but first write a command to check how many times each entry was found, after sorting:"
   ]
  },
  {
   "cell_type": "raw",
   "metadata": {},
   "source": [
    "$"
   ]
  },
  {
   "cell_type": "markdown",
   "metadata": {},
   "source": [
    "**Q15.** Finally, write a command to sort the list, get the unique entries (the set of all fruits in the list, with only one entry per fruit), and write that output to a file called sorted_unique_fruit_list.txt:"
   ]
  },
  {
   "cell_type": "raw",
   "metadata": {},
   "source": [
    "$"
   ]
  },
  {
   "cell_type": "markdown",
   "metadata": {},
   "source": [
    "**Q16.** However, if you scroll through this list, you may notice that there are some non-fruit items! Write a command to open the file in a text editor, then go through and remove all the things that aren't fruit. Finally, save this file with a new name, true_fruit_list.txt. Note that in nano, you can save to a new file using `^o` (`[Control]`+`[o]`):"
   ]
  },
  {
   "cell_type": "raw",
   "metadata": {},
   "source": [
    "$"
   ]
  },
  {
   "cell_type": "markdown",
   "metadata": {},
   "source": [
    "**Q17.** Now, move into the vegetable_data directory:"
   ]
  },
  {
   "cell_type": "raw",
   "metadata": {},
   "source": [
    "$"
   ]
  },
  {
   "cell_type": "markdown",
   "metadata": {},
   "source": [
    "**Q18.** Check the number of lines in each file:"
   ]
  },
  {
   "cell_type": "raw",
   "metadata": {},
   "source": [
    "$"
   ]
  },
  {
   "cell_type": "markdown",
   "metadata": {},
   "source": [
    "**Q19.** Combine the three data files into a single file called full_vegetable_list.txt:"
   ]
  },
  {
   "cell_type": "raw",
   "metadata": {},
   "source": [
    "$"
   ]
  },
  {
   "cell_type": "markdown",
   "metadata": {},
   "source": [
    "**Q20.** Now sort this list, get the unique entries (using the same definition as before: the list of all the vegetables that are in this list, with one entry per vegetable), and write it to a file called sorted_unique_vegetable_list.txt:"
   ]
  },
  {
   "cell_type": "raw",
   "metadata": {},
   "source": [
    "$"
   ]
  },
  {
   "cell_type": "markdown",
   "metadata": {},
   "source": [
    "**Q21.** Open this file and remove any errant non-vegetables that may have shown up:"
   ]
  },
  {
   "cell_type": "raw",
   "metadata": {},
   "source": [
    "$"
   ]
  },
  {
   "cell_type": "markdown",
   "metadata": {},
   "source": [
    "**Q22.** Finally, move back into the directory from whence you came (the one for this module):"
   ]
  },
  {
   "cell_type": "raw",
   "metadata": {},
   "source": [
    "$"
   ]
  }
 ],
 "metadata": {
  "anaconda-cloud": {},
  "kernelspec": {
   "display_name": "R",
   "language": "R",
   "name": "ir"
  },
  "language_info": {
   "codemirror_mode": "r",
   "file_extension": ".r",
   "mimetype": "text/x-r-source",
   "name": "R",
   "pygments_lexer": "r",
   "version": "3.6.1"
  },
  "name": "Unix Module I - In Class.ipynb"
 },
 "nbformat": 4,
 "nbformat_minor": 1
}
