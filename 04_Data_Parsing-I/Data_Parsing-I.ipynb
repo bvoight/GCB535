{
 "cells": [
  {
   "cell_type": "markdown",
   "metadata": {},
   "source": [
    "# GCB535: Data Parsing - I"
   ]
  },
  {
   "cell_type": "markdown",
   "metadata": {},
   "source": [
    "## Instructions"
   ]
  },
  {
   "cell_type": "markdown",
   "metadata": {},
   "source": [
    "Your research assistant has somehow 'accidentally' managed to do some very strange things to a .fasta data file of core core circadian clock gene sequences in a novel model organism that you have generated (Madeupicus remediare).\n",
    "\n",
    "**core_clock_sequences.fasta**\n",
    "\n",
    "Unfortunately, these data haven't been uploaded to NCBI, and there's no backup of the data! \n",
    "\n",
    "So, you are going to need to take a look at the file and figure out what has gone wrong.\n",
    "\n",
    "Luckily, you know that:\n",
    "* The sequence of genes you collected were the same ones listed in **my_clock_genelist.txt**\n",
    "* The list of gene sequences were only DNA sequences\n",
    "\n",
    "In the following question:\n",
    "\n",
    "(Part 1) Report (in human terms) each issue you uncover and have to fix for the .fasta file. \n",
    "\n",
    "(Part 2) Use UNIX code to fix **one** of the issues you observed. Totally OK to create an intermediate file that leaves some issues unresolved -- but addresses the problem you identified."
   ]
  },
  {
   "cell_type": "markdown",
   "metadata": {
    "collapsed": true
   },
   "source": [
    "**(Part 1)** Explanation (issues in each file, each issue should be described 10 words or less):"
   ]
  },
  {
   "cell_type": "raw",
   "metadata": {
    "collapsed": true
   },
   "source": []
  },
  {
   "cell_type": "markdown",
   "metadata": {
    "collapsed": true
   },
   "source": [
    "**(Part 2)** Correction step Code + Result:"
   ]
  },
  {
   "cell_type": "code",
   "execution_count": null,
   "metadata": {},
   "outputs": [],
   "source": []
  }
 ],
 "metadata": {
  "anaconda-cloud": {},
  "kernelspec": {
   "display_name": "Python 3",
   "language": "python",
   "name": "python3"
  },
  "language_info": {
   "codemirror_mode": {
    "name": "ipython",
    "version": 3
   },
   "file_extension": ".py",
   "mimetype": "text/x-python",
   "name": "python",
   "nbconvert_exporter": "python",
   "pygments_lexer": "ipython3",
   "version": "3.8.5"
  },
  "name": "Sagemathcloud_Setup_Assignment.ipynb"
 },
 "nbformat": 4,
 "nbformat_minor": 1
}
