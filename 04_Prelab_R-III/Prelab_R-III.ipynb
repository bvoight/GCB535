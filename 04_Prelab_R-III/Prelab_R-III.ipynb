{
 "cells": [
  {
   "cell_type": "markdown",
   "metadata": {},
   "source": [
    "# Prelab: An introduction to the tidyverse"
   ]
  },
  {
   "cell_type": "markdown",
   "metadata": {},
   "source": [
    "In the previous sections, you learned about some functionality of in the 'base' of R. However, there is a much more extensive, useable and useful infrastructure that is available in R that we will use for much of the course (and you should use for your future scientific careers!).\n",
    "\n",
    "In the following modules, we will be learning the basics of a cluster of R packages collectively known as the [\"tidyverse\"](https://www.tidyverse.org/). This is a set of tools that makes data manipulation and visualization in R easier and more flexible than in the basic R language. \n",
    "\n",
    "This framework encapsulates a number of extremely useful libraries and are coded to allow for their interoperabilty. These packages includ `dplyr()`, `tidyr()`, `readr()`, `tibble()`, and `ggplot2()`, to name a few. The capabilities of these packages are much greater than what we can cover in this module, and there is a list of resources at the end of this prelab to help you continue to learn beyond the basics."
   ]
  },
  {
   "cell_type": "markdown",
   "metadata": {},
   "source": [
    "## Loading packages and data"
   ]
  },
  {
   "cell_type": "markdown",
   "metadata": {},
   "source": [
    "As you will remember from our previous R modules, we need to load the libraries we will be using before we begin any analysis."
   ]
  },
  {
   "cell_type": "code",
   "execution_count": 0,
   "metadata": {},
   "outputs": [],
   "source": [
    "library(tidyverse)\n",
    "options(repr.plot.width=10, repr.plot.height=3) #set size for plots in this notebook"
   ]
  },
  {
   "cell_type": "markdown",
   "metadata": {},
   "source": [
    "For this prelab, we will be using some cancer incidence statistics (downloaded from https://www.cdc.gov/cancer/npcr/uscs/download_data.htm). This dataset contains statistics for a set of seven types of cancer, stratified by year, race, and sex. "
   ]
  },
  {
   "cell_type": "code",
   "execution_count": 0,
   "metadata": {},
   "outputs": [],
   "source": [
    "data = read.table(\"Cancer_Incidence.txt\",header=T,sep=\"\\t\")\n",
    "head(data)"
   ]
  },
  {
   "cell_type": "markdown",
   "metadata": {},
   "source": [
    "## Manipulating data with dplyr"
   ]
  },
  {
   "cell_type": "markdown",
   "metadata": {},
   "source": [
    "First, we will convert our data from the standard \"data frame\" format R creates when you use read.table into the \"tbl\" (table, or sometimes pronounce \"tibble\") format designed for use in dplyr, using the command `as_tibble()`."
   ]
  },
  {
   "cell_type": "code",
   "execution_count": 0,
   "metadata": {},
   "outputs": [],
   "source": [
    "data = as_tibble(data)"
   ]
  },
  {
   "cell_type": "markdown",
   "metadata": {},
   "source": [
    "A key difference in dplyr from basic R is the \"pipe\" command (`%>%`). This command let's us string together commands, resulting in clearer and more modular code. Let's combine `%>%` with the command `select()`, which allows use to select a subset of columns from our data frame. Below we take our entire dataset, then select two columns, then pipe that to head to just see the first few rows. Notice how we can string together multiple pipes, with our old friend `head()` at the end to print just the beginning of the tbl:"
   ]
  },
  {
   "cell_type": "code",
   "execution_count": 0,
   "metadata": {},
   "outputs": [],
   "source": [
    "data %>% select(YEAR,RACE) %>% head()"
   ]
  },
  {
   "cell_type": "markdown",
   "metadata": {},
   "source": [
    "Note here that we're not storing the result to the existing variable (or to a new one!), but simply doing basic manipulations to the original table. \n",
    "\n",
    "**If you want to store the output, use variable assignment! (e.g., `myresult = data %>% ...`)**"
   ]
  },
  {
   "cell_type": "markdown",
   "metadata": {},
   "source": [
    "We can also use `select()` to remove the SEX and YEAR columns using `-`:"
   ]
  },
  {
   "cell_type": "code",
   "execution_count": 0,
   "metadata": {},
   "outputs": [],
   "source": [
    "data %>% select(-SEX,-YEAR) %>% head()"
   ]
  },
  {
   "cell_type": "markdown",
   "metadata": {},
   "source": [
    "Now let's try the `filter()` command, which let's us subset the data by choosing rows which follow the given conditions. Here we subset the data to only look at the female statistics. Note that we use the boolean condition `==` because are evaluating a true/false statement, rather than setting a variable's value."
   ]
  },
  {
   "cell_type": "code",
   "execution_count": 0,
   "metadata": {},
   "outputs": [],
   "source": [
    "table(data$SEX) #prints the counts of each unique value in the SEX column\n",
    "female = data %>% filter(SEX==\"Female\") #filter to only include rows where the SEX column is \"Female\"\n",
    "table(female$SEX) #now we only have females after using filter"
   ]
  },
  {
   "cell_type": "markdown",
   "metadata": {},
   "source": [
    "The command `arrange()` will sort the tbl by a given column. Let's filter to include only data on females of all races in the year 1999, and look at the most and least common cancers."
   ]
  },
  {
   "cell_type": "code",
   "execution_count": null,
   "metadata": {},
   "outputs": [],
   "source": [
    "#arrange: for 1999, Females, All Races, sort by rate lowest->highest\n",
    "data %>% filter(SEX==\"Female\",YEAR==1999,RACE==\"All Races\") %>% arrange(AGE_ADJUSTED_RATE) %>% head()\n",
    "#arrange: for 1999, Females, All Races, sort by rate highest->lowest\n",
    "data %>% filter(SEX==\"Female\",YEAR==1999,RACE==\"All Races\") %>% arrange(desc(AGE_ADJUSTED_RATE)) %>% head()"
   ]
  },
  {
   "cell_type": "markdown",
   "metadata": {},
   "source": [
    "The `mutate()` command creates a new column by performing a specified calculation on each row. Here we calculate the crude rate for each row by dividing the count by the total population size, and name our new column \"NEW_RATE\". You can see that the reported CRUDE_RATE is multiplied by 1e5 (so the \"RATE\" is per 100,000 individuals)."
   ]
  },
  {
   "cell_type": "code",
   "execution_count": 0,
   "metadata": {},
   "outputs": [],
   "source": [
    "data %>% mutate(NEW_RATE = COUNT/POPULATION) %>% head()"
   ]
  },
  {
   "cell_type": "markdown",
   "metadata": {},
   "source": [
    "The `group_by()` command allows you subset your data by a variable and calculate any summary statistics (via `summarise()`) for each group. For example, below we remove the \"all races\" category, then group by sex and calculate the mean of the reported CRUDE_RATE for each sex."
   ]
  },
  {
   "cell_type": "code",
   "execution_count": null,
   "metadata": {},
   "outputs": [],
   "source": [
    "data %>% filter(RACE==\"All Races\") %>% group_by(SEX) %>% summarise(meanRate = mean(CRUDE_RATE)) %>% head()"
   ]
  },
  {
   "cell_type": "markdown",
   "metadata": {},
   "source": [
    "Notice that this string of commands resulted in only 2 columns, because we only grouped by SEX, thus combining all other variables (e.g. SITE, the type of cancer). Let's try grouping by multiple variables. Here we don't use `head()`, and will get the whole table as output:"
   ]
  },
  {
   "cell_type": "code",
   "execution_count": 0,
   "metadata": {},
   "outputs": [],
   "source": [
    "#group by sex and site\n",
    "data %>% filter(RACE==\"All Races\") %>% group_by(SEX,SITE) %>% summarise(meanRate = mean(CRUDE_RATE))"
   ]
  },
  {
   "cell_type": "markdown",
   "metadata": {},
   "source": [
    "## A couple of other tidyverse functions that are helpful"
   ]
  },
  {
   "cell_type": "markdown",
   "metadata": {},
   "source": [
    "There are a couple other functions that we'll use in the course that we want to introduce to you here that are helpful.\n",
    "\n",
    "**Note: As above, we're not storing the result to the existing variable (or to a new one!) - just doing basic manipulations to the original table. Use variable assignment if you want to save the output! (e.g., `myresult = data %>% ...`)**\n",
    "\n",
    "The first is `rename()`: this function allows you to rename one of your headers."
   ]
  },
  {
   "cell_type": "code",
   "execution_count": null,
   "metadata": {},
   "outputs": [],
   "source": [
    "data %>% rename(AGE_ADJ_CI_LOW = AGE_ADJUSTED_CI_LOWER)"
   ]
  },
  {
   "cell_type": "markdown",
   "metadata": {},
   "source": [
    "Second, is `relocate()`: this function allows you to change the order of columns in your table. The input is the list of column names you want to shift (even as a block or individually), then use either `.before=` or `.after=` to define the column that the block will be placed before or after, respectively:"
   ]
  },
  {
   "cell_type": "code",
   "execution_count": null,
   "metadata": {},
   "outputs": [],
   "source": [
    "data %>% head()\n",
    "data %>% relocate(AGE_ADJUSTED_RATE, .before=AGE_ADJUSTED_CI_LOWER) #shift the rate to list in front of the confidence interval\n",
    "data %>% relocate(YEAR, RACE, SEX, .after=SITE) #shift the block to list after site"
   ]
  },
  {
   "cell_type": "markdown",
   "metadata": {},
   "source": [
    "There are a number of table merging operations that are handy. These include `left_join()`, `right_join()`, `inner_join()`, and `full_join()`.\n",
    "\n",
    "These merge a \"left\" table (listed on the left, called 'x') to the table on the \"right\" (provided on the right, called 'y') in various ways and rules, using `.by` as the key. Briefly:\n",
    "\n",
    "`left_join()`: includes all rows in x.\n",
    "\n",
    "`right_join()`: includes all rows in y.\n",
    "\n",
    "`inner_join()`: includes all rows in x **and** y.\n",
    "\n",
    "`full_join()`: includes all rows in x **or** y."
   ]
  },
  {
   "cell_type": "markdown",
   "metadata": {},
   "source": [
    "Let's make a table or two to demonstrate."
   ]
  },
  {
   "cell_type": "code",
   "execution_count": null,
   "metadata": {},
   "outputs": [],
   "source": [
    "TISSUE_GCK <- c(\"Liver\", \"Bladder\", \"Pancreas\")\n",
    "GEXP_GCK <- c(5000,5,10)\n",
    "\n",
    "TISSUE_HNF4A <- c(\"Liver\", \"Bladder\", \"Toenail\")\n",
    "GEXP_HNF4A <- c(1000,10,0)\n",
    "\n",
    "left_table <- tibble(TISSUE_GCK, GEXP_GCK) %>% rename(TISSUE = TISSUE_GCK)\n",
    "right_table <- tibble(TISSUE_HNF4A, GEXP_HNF4A) %>% rename(TISSUE = TISSUE_HNF4A)"
   ]
  },
  {
   "cell_type": "code",
   "execution_count": null,
   "metadata": {},
   "outputs": [],
   "source": [
    "#matches right contents with left by the key TISSUE\n",
    "#thus, Toenail is dropped and NA for GEXP_HNF4A in Pancreas since not present\n",
    "left_join(left_table, right_table, by=\"TISSUE\") "
   ]
  },
  {
   "cell_type": "code",
   "execution_count": null,
   "metadata": {},
   "outputs": [],
   "source": [
    "#you can also use pipes for these too! what is piped into the function is \"left\" by default:\n",
    "#thus, same as the above\n",
    "left_table %>% left_join(right_table, by=\"TISSUE\")"
   ]
  },
  {
   "cell_type": "code",
   "execution_count": null,
   "metadata": {},
   "outputs": [],
   "source": [
    "#matches left contents with right by the key TISSUE\n",
    "#thus, pancreas is dropped and NA for GEXP_GCK in Toenail since not present\n",
    "right_join(left_table, right_table, by=\"TISSUE\") "
   ]
  },
  {
   "cell_type": "code",
   "execution_count": null,
   "metadata": {},
   "outputs": [],
   "source": [
    "#matches the intersection of left and right tables by the key TISSUE\n",
    "#thus, save the Liver and Bladder content since they are the only ones that are common in both tables\n",
    "#note that you'd get the same result if you swapped the order of tables provided as arguemnts\n",
    "inner_join(left_table, right_table, by=\"TISSUE\")"
   ]
  },
  {
   "cell_type": "code",
   "execution_count": null,
   "metadata": {},
   "outputs": [],
   "source": [
    "#includes all contents and merge by the key TISSUE\n",
    "#thus, Liver, Bladder, Pancreas, and Toenail are represented in a merged table with NA as missing accordingly\n",
    "#note that you'd get the same result if you swapped the order of tables provided as arguemnts\n",
    "full_join(left_table, right_table, by=\"TISSUE\")"
   ]
  },
  {
   "cell_type": "markdown",
   "metadata": {},
   "source": [
    "Sometimes, you will want to execute function for each row, rather than on columns. For that, the ecclectic `rowwise()` grouping function can be used where each group consists of a single row."
   ]
  },
  {
   "cell_type": "code",
   "execution_count": null,
   "metadata": {},
   "outputs": [],
   "source": [
    "df <- tibble(x = 1:2, y = 3:4, z = 5:6)\n",
    "df %>% rowwise() # note the grouping specified here\n",
    "\n",
    "# Note the output of m. This is the mean of of x, y, and z tabulated across all rows! \n",
    "# Perhaps not what you want\n",
    "df %>% mutate(m = mean(c(x, y, z)))\n",
    "\n",
    "# If you want to calculate mean by \"grouping\" on the row, use rowwise()\n",
    "# ah, the result is what I was looking for\n",
    "df %>% rowwise() %>% mutate(m = mean(c(x, y, z)))"
   ]
  },
  {
   "cell_type": "markdown",
   "metadata": {},
   "source": [
    "There are some handy helper functions that you can read about with this function (e.g., use of `c_across()` for example): \n",
    "\n",
    "https://dplyr.tidyverse.org/articles/rowwise.html"
   ]
  },
  {
   "cell_type": "markdown",
   "metadata": {},
   "source": [
    "## Plotting in ggplot"
   ]
  },
  {
   "cell_type": "markdown",
   "metadata": {},
   "source": [
    "Now that we can easily manipulate our data, let's play around with making graphs! ggplot allows you to build graphs easily in a modular fashion. The basic format for a ggplot command includes calling ggplot and then adding the type of graph or feature you want to include.\n",
    "\n",
    "In this module, you will have a first introduction to ggplot2 - a crash run through syntax and some of the capabilities. If this looks strange and unusual - don't panic! In subsequent modules, we will have further directed work with ggplot2 to show you how it works a bit more and for you to get familiar with the syntax, etc.\n",
    "\n",
    "But to get started: the below code makes a tbl called \"rates\", which is filtered to include only rates for all races and male and females combined. \n",
    "\n",
    "Then we call `ggplot(rates)` to say what data we want to plot, and call `geom_point()` to add points to our plot by specifying variables for the X and Y coordinates. \n",
    "\n",
    "Anytime we want to plot something where each row is a data point, as in this plot, we put the variables we are using in the aesthetic call (`aes()`). So here, we are telling ggplot to plot a point for each row, with the X value as the YEAR and the Y value as the AGE_ADJUSTED_RATE."
   ]
  },
  {
   "cell_type": "code",
   "execution_count": 0,
   "metadata": {},
   "outputs": [],
   "source": [
    "rates = data %>% filter(RACE==\"All Races\",SEX==\"Male and Female\") #filter data to all races, male and female\n",
    "head(rates)\n",
    "ggplot(rates) + geom_point(aes(x=YEAR,y=AGE_ADJUSTED_RATE)) #make a plot of the year and adjusted rates!"
   ]
  },
  {
   "cell_type": "markdown",
   "metadata": {},
   "source": [
    "Looking at the data in rates, we have multiple types of cancers (SITE), but we plotted them all together without telling ggplot to differentiate them in any way. Let's add an additional `color` aesthetic, which will color the points by whatever variable we provide."
   ]
  },
  {
   "cell_type": "code",
   "execution_count": 0,
   "metadata": {},
   "outputs": [],
   "source": [
    "ggplot(rates) + geom_point(aes(x=YEAR,y=AGE_ADJUSTED_RATE,color=SITE)) #make a plot of the year and adjusted rates!"
   ]
  },
  {
   "cell_type": "markdown",
   "metadata": {},
   "source": [
    "Now we can see each site separately! And ggplot has automatically added a nice legend for us. This will happen any time you use `color` or another aesthetic (in the `aes()` call) to differentiate by a variable.\n",
    "\n",
    "Notice what happens when we put the `color` call outside `aes()`, below. We get an error because anything specified by a variable within the data must be called within `aes()`."
   ]
  },
  {
   "cell_type": "code",
   "execution_count": 0,
   "metadata": {},
   "outputs": [],
   "source": [
    "ggplot(rates) + geom_point(aes(x=YEAR,y=AGE_ADJUSTED_RATE),color=SITE) #make a plot of the year and adjusted rates!"
   ]
  },
  {
   "cell_type": "markdown",
   "metadata": {},
   "source": [
    "If you just want to make everything the same color regardless of its variables, you can use color outside `aes()`, and assign a particular color."
   ]
  },
  {
   "cell_type": "code",
   "execution_count": 0,
   "metadata": {},
   "outputs": [],
   "source": [
    "ggplot(rates) + geom_point(aes(x=YEAR,y=AGE_ADJUSTED_RATE),color=\"red\") #make a plot of the year and adjusted rates!"
   ]
  },
  {
   "cell_type": "markdown",
   "metadata": {},
   "source": [
    "Now let's connect the points with lines. ggplot is \"buildable\", meaning if you want to add something you can just add an extra command."
   ]
  },
  {
   "cell_type": "code",
   "execution_count": 0,
   "metadata": {},
   "outputs": [],
   "source": [
    "ggplot(rates) + geom_point(aes(x=YEAR,y=AGE_ADJUSTED_RATE,color=SITE)) + geom_line(aes(x=YEAR,y=AGE_ADJUSTED_RATE,color=SITE))"
   ]
  },
  {
   "cell_type": "markdown",
   "metadata": {},
   "source": [
    "The rates reported in our dataset include confidence intervals. Let's try plotting the confidence intervals in our point and line plot. To do this, we simply add another call of `geom_point()` for the additional variables. To keep our plot from getting too busy, we'll filter the data down to just lymphomas in females. Notice how we have changed the size of our points and lines using the `size` argument."
   ]
  },
  {
   "cell_type": "code",
   "execution_count": 0,
   "metadata": {},
   "outputs": [],
   "source": [
    "lymphFem = data %>% filter(SITE==\"Lymphomas\",SEX==\"Female\",RACE!=\"All Races\")\n",
    "ggplot(lymphFem) + geom_point(aes(x=YEAR,y=AGE_ADJUSTED_RATE,color=RACE),size=3) + geom_line(aes(x=YEAR,y=AGE_ADJUSTED_RATE,color=RACE),size=1) + geom_point(aes(x=YEAR,y=AGE_ADJUSTED_CI_LOWER,color=RACE),size=1)  + geom_point(aes(x=YEAR,y=AGE_ADJUSTED_CI_UPPER,color=RACE),size=1)"
   ]
  },
  {
   "cell_type": "markdown",
   "metadata": {},
   "source": [
    "Now, let's add line segments to connect our confidence intervals. For line segments we need to specify where the line starts and stops on both the `x` and `y` axes, thus there are now 4 variables going into the aesthetic call in addition to `color`."
   ]
  },
  {
   "cell_type": "code",
   "execution_count": 0,
   "metadata": {},
   "outputs": [],
   "source": [
    "ggplot(lymphFem) + geom_point(aes(x=YEAR,y=AGE_ADJUSTED_RATE,color=RACE),size=3) + geom_line(aes(x=YEAR,y=AGE_ADJUSTED_RATE,color=RACE),size=1) + geom_point(aes(x=YEAR,y=AGE_ADJUSTED_CI_LOWER,color=RACE),size=1)  + geom_point(aes(x=YEAR,y=AGE_ADJUSTED_CI_UPPER,color=RACE),size=1) + geom_segment(aes(x=YEAR,xend=YEAR,y=AGE_ADJUSTED_CI_LOWER,yend=AGE_ADJUSTED_CI_UPPER,color=RACE))"
   ]
  },
  {
   "cell_type": "markdown",
   "metadata": {},
   "source": [
    "ggplot can make many types of plots. Let's try another type, a boxplot. Let's plot the range of rates for each site/sex combination in a boxplot:"
   ]
  },
  {
   "cell_type": "code",
   "execution_count": 0,
   "metadata": {},
   "outputs": [],
   "source": [
    "ggplot(data) + geom_boxplot(aes(x=SITE,y= AGE_ADJUSTED_RATE,color=SEX))"
   ]
  },
  {
   "cell_type": "markdown",
   "metadata": {},
   "source": [
    "Different plot types use different aesthetics. For boxplots, if we want to color the whole box, we use `fill`. We can also combine a `filter()` command with our ggplot:"
   ]
  },
  {
   "cell_type": "code",
   "execution_count": 0,
   "metadata": {},
   "outputs": [],
   "source": [
    "ggplot(data %>% filter(RACE!=\"All Races\")) + geom_boxplot(aes(x=SITE,y= AGE_ADJUSTED_RATE,fill=RACE))"
   ]
  },
  {
   "cell_type": "markdown",
   "metadata": {},
   "source": [
    "What if we want to use our own colors instead of the ones ggplot chooses automatically? We can do that too, by adding another command to our code:"
   ]
  },
  {
   "cell_type": "code",
   "execution_count": 0,
   "metadata": {},
   "outputs": [],
   "source": [
    "myColors = c(\"red\",\"orange\",\"purple\",\"chartreuse\",\"magenta\")\n",
    "ggplot(data %>% filter(RACE!=\"All Races\")) + geom_boxplot(aes(x=SITE,y= AGE_ADJUSTED_RATE,fill=RACE)) + scale_fill_manual(values=myColors)"
   ]
  },
  {
   "cell_type": "markdown",
   "metadata": {},
   "source": [
    "We also might want to change the axes labels instead of using the names of the variables being plotted. To do that we can use `xlab()` and `ylab()`, again simply adding on to our existing code."
   ]
  },
  {
   "cell_type": "code",
   "execution_count": 0,
   "metadata": {},
   "outputs": [],
   "source": [
    "ggplot(data %>% filter(RACE!=\"All Races\")) + geom_boxplot(aes(x=SITE,y= AGE_ADJUSTED_RATE,fill=RACE)) + scale_fill_manual(values=myColors) + xlab(\"Cancer Site\") + ylab(\"Rate per 100,000\")"
   ]
  },
  {
   "cell_type": "markdown",
   "metadata": {},
   "source": [
    "## Question"
   ]
  },
  {
   "cell_type": "markdown",
   "metadata": {},
   "source": [
    "We've now gone through some basic features of dplyr and ggplot on an example dataset. How could you use these tools in your own work (or a made up example)? You don't need to write code, just give a sentence or two example."
   ]
  },
  {
   "cell_type": "raw",
   "metadata": {},
   "source": [
    "Your answer here!"
   ]
  },
  {
   "cell_type": "markdown",
   "metadata": {},
   "source": [
    "## Resources"
   ]
  },
  {
   "cell_type": "markdown",
   "metadata": {},
   "source": [
    "[R for Data Science](https://r4ds.had.co.nz/) is an online book which walk through the entirety of the tidyverse/ggplot data science architecture (albeit, not with biological examples). Recommended if you find yourself wanting to teach yourself more and working in this environment!\n",
    "\n",
    "tidyverse website - https://www.tidyverse.org/\n",
    "\n",
    "**REFERENCES to websites where if you searched in Google for a function (e.g., `rename function tidyverse`) you will invarably be taken:**\n",
    "\n",
    "dplyr website - search to lookup functions: https://dplyr.tidyverse.org/\n",
    "\n",
    "tidyr website - search to lookup functions: https://tidyr.tidyverse.org/\n",
    "\n",
    "ggplot2 website - search to lookup functions: https://ggplot2.tidyverse.org/\n",
    "\n",
    "dplyr function reference page: https://dplyr.tidyverse.org/reference/index.html\n",
    "\n",
    "tidyr function reference page: https://tidyr.tidyverse.org/reference/index.html\n",
    "\n",
    "ggplot2 function reference page: https://ggplot2.tidyverse.org/reference/index.html\n",
    "\n",
    "An set of ggplot2 extensions for packages/formatting: https://exts.ggplot2.tidyverse.org/gallery/\n",
    "\n",
    "**WE HIGHLY RECOMMENDED YOU TAKE A LOOK AT THESE CHEATSHEETS TO SEE THE MANY OPTIONS AVAILABLE IN DPLYR & GGPLOT:**\n",
    "\n",
    "Website with all cheatshees: https://www.rstudio.com/resources/cheatsheets/\n",
    "\n",
    "tidyr cheatsheet: https://raw.githubusercontent.com/rstudio/cheatsheets/main/tidyr.pdf\n",
    "\n",
    "dplyr cheatsheet: https://raw.githubusercontent.com/rstudio/cheatsheets/main/data-transformation.pdf\n",
    "\n",
    "ggplot cheatsheet: https://raw.githubusercontent.com/rstudio/cheatsheets/main/data-visualization.pdf\n",
    "\n",
    "**Additional tutorials:**\n",
    "\n",
    "A dplyr tutorial: http://genomicsclass.github.io/book/pages/dplyr_tutorial.html\n",
    "\n",
    "Data processing in tidyr & dplyr: https://rpubs.com/bradleyboehmke/data_wrangling\n",
    "\n",
    "DataCamp dplyr tutorial: https://www.datacamp.com/courses/dplyr-data-manipulation-r-tutorial/\n",
    "\n",
    "DataCamp ggplot tutorial: https://www.datacamp.com/courses/data-visualization-with-ggplot2-1\n"
   ]
  }
 ],
 "metadata": {
  "kernelspec": {
   "display_name": "R",
   "language": "R",
   "name": "ir"
  },
  "language_info": {
   "codemirror_mode": "r",
   "file_extension": ".r",
   "mimetype": "text/x-r-source",
   "name": "R",
   "pygments_lexer": "r",
   "version": "3.6.1"
  }
 },
 "nbformat": 4,
 "nbformat_minor": 1
}
