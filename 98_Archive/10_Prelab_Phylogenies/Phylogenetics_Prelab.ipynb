{
 "cells": [
  {
   "cell_type": "markdown",
   "metadata": {
    "collapsed": false
   },
   "source": [
    "# Prelab 5: Phylogenetics"
   ]
  },
  {
   "cell_type": "markdown",
   "metadata": {
    "collapsed": false
   },
   "source": [
    " ***First, read the lecture notes on phylogenetics and the documentation on PHYLIP and answer a few questions, then prepare the files you will need for next class.***"
   ]
  },
  {
   "cell_type": "markdown",
   "metadata": {
    "collapsed": false
   },
   "source": [
    "### Introduction to Multiple Sequence Alignment and Phylogenetics (GCB535_Phylogenetics.pdf on Canvas)"
   ]
  },
  {
   "cell_type": "markdown",
   "metadata": {
    "collapsed": false
   },
   "source": [
    "1) What do the branch lengths on trees indicate?"
   ]
  },
  {
   "cell_type": "raw",
   "metadata": {
    "collapsed": false
   },
   "source": [
   ]
  },
  {
   "cell_type": "markdown",
   "metadata": {
    "collapsed": false
   },
   "source": [
    "<img src=\"images/phylo_prelab_tree.png\" width=200px align=\"right\">\n",
    "2) An evolutionary concept we will use in this module is that of gene homologs, or genes that are related by descent from a common ancestral gene. Homologous genes within a species that arose from a duplication event are called **paralogs**, and homologous genes that arose through speciation are called **orthologs**. Based on what you learned about phylogenetic trees in the lecture and these definitions, what are the relationships (paralogs or orthologs) between the the following gene pairs from the tree on the right?\n",
    "\n",
    "a) Mouse geneA1 and mouse geneA2?\n",
    "\n",
    "b) Mouse geneA2 and human geneA?"
   ]
  },
  {
   "cell_type": "raw",
   "metadata": {
    "collapsed": false
   },
   "source": [
   ]
  },
  {
   "cell_type": "markdown",
   "metadata": {
    "collapsed": false
   },
   "source": [
    "### Get familiar with the PHYLIP package"
   ]
  },
  {
   "cell_type": "markdown",
   "metadata": {
    "collapsed": false
   },
   "source": [
    "The main PHYLIP web page, with  extended documentation, is:\n",
    "http://evolution.genetics.washington.edu/phylip/phylip.html\n",
    "Read about the following programs in the PHYLIP package that we will use in the lab: dnapars, drawtree, retree, seqboot and consense."
   ]
  },
  {
   "cell_type": "markdown",
   "metadata": {
    "collapsed": false
   },
   "source": [
    "3) What is the purpose of bootstrapping? Describe how it works."
   ]
  },
  {
   "cell_type": "raw",
   "metadata": {
    "collapsed": false
   },
   "source": [
   ]
  },
  {
   "cell_type": "markdown",
   "metadata": {
    "collapsed": false
   },
   "source": [
    "### Download and format your data file."
   ]
  },
  {
   "cell_type": "markdown",
   "metadata": {
    "collapsed": false
   },
   "source": [
    "***Task:*** Retrieve the mRNA sequences in FASTA format for the following genes:\n",
    "Hint: This may a useful place to start searching for your sequences:\n",
    "http://www.ncbi.nlm.nih.gov/nuccore\n",
    "- Twist [Fly] (NM_079092, splice form A)\n",
    "- Twist1 [Human] (NM_000474)\n",
    "- Twist1 [Mouse] (NM_011658)\n",
    "- Twist2 [Human] (NM_057179)\n",
    "- Twist2 [Mouse] (NM_007855)"
   ]
  },
  {
   "cell_type": "markdown",
   "metadata": {
    "collapsed": false
   },
   "source": [
    "***Task:*** Create a single file called twist.fasta on your computer with all of the sequences using the following steps:\n",
    "\n",
    "- Copy and paste these sequences into one text file using any text editor (like gedit or nano). Please keep the same order as the above list (have fly listed first, then Human Twist1, etc.)\n",
    "- Change the header portion of each sequence entry to make your results more readable later on. Both ClustalW and PHYLIP will truncate the header information in their output after 9 characters. Something very short, like “HumanTw1” is a good idea here.\n",
    "- Save it as twist.fasta. If you made this file on your own computer, upload it into the the phylogenetics assignment directory.\n"
   ]
  }
 ],
 "metadata": {
  "anaconda-cloud": {
  },
  "kernelspec": {
   "display_name": "Python 2 (SageMath)",
   "language": "python",
   "name": "python2"
  },
  "language_info": {
   "codemirror_mode": {
    "name": "ipython",
    "version": 2
   },
   "file_extension": ".py",
   "mimetype": "text/x-python",
   "name": "python",
   "nbconvert_exporter": "python",
   "pygments_lexer": "ipython2",
   "version": "2.7.14"
  },
  "name": "Phylogenetics pre-lab.ipynb"
 },
 "nbformat": 4,
 "nbformat_minor": 0
}