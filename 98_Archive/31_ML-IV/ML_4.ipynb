{
 "cells": [
  {
   "cell_type": "markdown",
   "metadata": {},
   "source": [
    "### In Class: Game time - Continued!\n",
    "\n",
    "Much how you went out on your own in the Python module to implement a guessing game, now we're going to head off into the wilds of machine learning! Given what you've learned in the prelab (and feeling free to borrow some code from there, or earlier work), use your time in class to try to build an accurate model from these data.\n",
    "\n",
    "The code below will load the data again."
   ]
  },
  {
   "cell_type": "code",
   "execution_count": 46,
   "metadata": {
    "collapsed": true
   },
   "outputs": [],
   "source": [
    "# numpy provides python tools to easily load comma separated files.\n",
    "import numpy as np\n",
    "\n",
    "# use numpy to load disease #1 data\n",
    "d1 = np.loadtxt(open(\"../31_Data_ML-IV/D1.csv\", \"rb\"), delimiter=\",\")\n",
    "\n",
    "# features are all rows for columns before 200\n",
    "# The canonical way to name this is that X is our matrix of\n",
    "# examples by features.\n",
    "X1 = d1[:,:200]\n",
    "\n",
    "# labels are in all rows at the 200th column\n",
    "# The canonical way to name this is that y is our vector of\n",
    "# labels.\n",
    "y1 = d1[:,200]\n",
    "\n",
    "# use numpy to load disease #2 data\n",
    "d2 = np.loadtxt(open(\"../31_Data_ML-IV/D2.csv\", \"rb\"), delimiter=\",\")\n",
    "\n",
    "# features are all rows for columns before 200\n",
    "X2 = d2[:,:200]\n",
    "# labels are in all rows at the 200th column\n",
    "y2 = d2[:,200]"
   ]
  },
  {
   "cell_type": "markdown",
   "metadata": {},
   "source": [
    "### Try some things!\n",
    "\n",
    "Use most of your time in class to figure out what parameter settings you like. Feel free to share successful strategies around the table. The idea is that you start to build accurate predictors during this time. Note: just change the random state won't be enough!"
   ]
  },
  {
   "cell_type": "code",
   "execution_count": 0,
   "metadata": {
    "collapsed": true
   },
   "outputs": [],
   "source": [
    "# CODE FOR DATASET 1 GOES HERE"
   ]
  },
  {
   "cell_type": "code",
   "execution_count": 0,
   "metadata": {
    "collapsed": true
   },
   "outputs": [],
   "source": [
    "# CODE FOR DATASET 2 GOES HERE"
   ]
  },
  {
   "cell_type": "markdown",
   "metadata": {
    "collapsed": true
   },
   "source": [
    "## Homework\n",
    "\n",
    "### Training Your Final Classifiers!\n",
    "\n",
    "Once you have parameters that you're happy with for each dataset, go ahead and make one final classifier. You **must set the random state**, and your code **must produce a classifier named `d1_classifier` for the disease 1 dataset and `d2_classifier` from the disease two dataset**. Each one should assume that data have been loaded into variables named `X1` and `X2` respectively for features, and `y1` and `y2` for labels. You can assume that these have already been loaded (just like we did above). You don't have to report everything you try below, but **include the training score and testing score** (using classifier.score) **and accuracy + 2x standard deviation** from cross validation (as in prelab) for your final classifiers."
   ]
  },
  {
   "cell_type": "code",
   "execution_count": 0,
   "metadata": {
    "collapsed": true
   },
   "outputs": [],
   "source": [
    "# CODE TO CREATE THE d1_classifier"
   ]
  },
  {
   "cell_type": "code",
   "execution_count": 0,
   "metadata": {
    "collapsed": true
   },
   "outputs": [],
   "source": [
    "# CODE TO CREATE THE d2_classifier"
   ]
  }
 ],
 "metadata": {
  "anaconda-cloud": {},
  "kernelspec": {
   "display_name": "Python 2 (GCB535)",
   "language": "python",
   "name": "python-kernel-GCB535"
  },
  "language_info": {
   "codemirror_mode": {
    "name": "ipython",
    "version": 2
   },
   "file_extension": ".py",
   "mimetype": "text/x-python",
   "name": "python",
   "nbconvert_exporter": "python",
   "pygments_lexer": "ipython2",
   "version": "2.7.13"
  },
  "name": "ML_4.ipynb"
 },
 "nbformat": 4,
 "nbformat_minor": 1
}
