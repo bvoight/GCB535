{
 "cells": [
  {
   "cell_type": "markdown",
   "metadata": {},
   "source": [
    "# ML I: Introduction to Unsupervised Machine Learning #"
   ]
  },
  {
   "cell_type": "markdown",
   "metadata": {},
   "source": [
    "**In the prelab, you learned about the different types of machine learning and what each can be useful for.**"
   ]
  },
  {
   "cell_type": "markdown",
   "metadata": {},
   "source": [
    "Now, we'll meet our first machine learning algorithm: **k-means clustering.** K-means has many applications, but has been used to identify subtypes of disease from genomic data. Watch Casey Greene's introduction to k-means video, in which he discusses [this paper by Tothill et al.](https://pubmed.ncbi.nlm.nih.gov/18698038/)\n",
    "\n",
    "**K-means Introduction:** https://youtu.be/qL7TBaMtooM\n"
   ]
  },
  {
   "cell_type": "markdown",
   "metadata": {},
   "source": [
    "**Q1.** In 4 sentences or fewer (or if you prefer, 4 bulletpoints), summarize how the k-means algorithm works."
   ]
  },
  {
   "cell_type": "markdown",
   "metadata": {},
   "source": []
  },
  {
   "cell_type": "markdown",
   "metadata": {},
   "source": [
    "### k-Means Demo Code"
   ]
  },
  {
   "cell_type": "markdown",
   "metadata": {},
   "source": [
    "Now, we'll actually use some code that will perform k-means clustering. First, we load the necessary R packages into our environment:"
   ]
  },
  {
   "cell_type": "code",
   "execution_count": null,
   "metadata": {},
   "outputs": [],
   "source": [
    "library(tidyverse)\n",
    "library(RColorBrewer)\n",
    "options(repr.plot.width=10, repr.plot.height=3) #set size for plots in this notebook"
   ]
  },
  {
   "cell_type": "markdown",
   "metadata": {},
   "source": [
    "The next function is used to assign an observation (point) to the centroid closest to it. "
   ]
  },
  {
   "cell_type": "code",
   "execution_count": null,
   "metadata": {},
   "outputs": [],
   "source": [
    "assign_nearest <- function(centroids, point){\n",
    "  # Assigns point to its closest centroid\n",
    "  # Inputs: \n",
    "  #   centroids-- list of centroids, where each is a vector c(x_location, y_location)\n",
    "  #   point -- vector describing location of input point c(x_location, y_location)\n",
    "  # Outputs: \n",
    "  #   Index of closest centroid to the point\n",
    "  \n",
    "  nearestindex = 1\n",
    "  nearestdist = .Machine$double.xmax # largest float number\n",
    "  \n",
    "  # point coordinates\n",
    "  x2 = point[1]\n",
    "  y2 = point[2]\n",
    "  \n",
    "  for (i in 1:length(centroids)){\n",
    "    # Centroid coordinates\n",
    "    x1 = centroids[[i]][1]\n",
    "    y1 = centroids[[i]][2]\n",
    "    \n",
    "    dist = sqrt((x1-x2)^2 + (y1-y2)^2) # Euclidean distance between point and centroid\n",
    "    if(dist < nearestdist){\n",
    "      nearestindex = i\n",
    "      nearestdist = dist\n",
    "    }\n",
    "  }\n",
    "  return(nearestindex)\n",
    "}"
   ]
  },
  {
   "cell_type": "markdown",
   "metadata": {},
   "source": [
    "The next function actually performs k-means clustering. You need to understand how the algorithm works at the level of the video lecture. You don't need to understand every line of this, but you should feel free to dive in if you're interested!"
   ]
  },
  {
   "cell_type": "code",
   "execution_count": null,
   "metadata": {},
   "outputs": [],
   "source": [
    "kmeans_function <- function(data, k){\n",
    "  # Performs k-means clustering for two-dimensional data\n",
    "  # Inputs:\n",
    "  #   data -- array object containing columns X and Y containing x and y\n",
    "  #           coordinates of points in the population, respectively \n",
    "  #   k -- the number of clusters to find\n",
    "  # Outputs:\n",
    "  #   a list of 3 elements: \n",
    "  #   'centroids' -- vector of final centroid positions\n",
    "  #   'members' -- a list (with one entry per centroid) of vectors containing \n",
    "  #                points belonging to each centroid at the end of clustering\n",
    "  #   'paths' -- a list (with one entry per centroid) of vectors containing \n",
    "  #              the points occupied by each centroid\n",
    "  \n",
    "  if(length(dim(data)) != 2){\n",
    "    print(\"ERROR: Please enter a two-dimensional dataframe\")\n",
    "  }\n",
    "  colnames(data) = c(\"X\", \"Y\")\n",
    "  \n",
    "  centroids = list()\n",
    "  centroidSumsEmpty = list()\n",
    "  randomrows = sample(1:nrow(data), k) # Randomly sample k rows as initial centroids\n",
    "  for (i in 1:k){\n",
    "    centroids[[i]] = data[randomrows[i], ]\n",
    "    centroidSumsEmpty[[i]] = c(0,0)\n",
    "  }\n",
    "  \n",
    "  paths=list()\n",
    "  paths_Index = 1\n",
    "  pstates_Index = 1\n",
    "  previous_states = c()\n",
    "  centroidsflattened = as.vector(unlist(centroids))\n",
    "  \n",
    "  # continue until we see a set of centroids we've seen before\n",
    "  while(!(list(centroidsflattened) %in% previous_states)){\n",
    "    previous_states[[pstates_Index]] = centroidsflattened\n",
    "    \n",
    "    # Make assignments based on closeness to current centroids\n",
    "    assignments = c()\n",
    "    for(r in 1:nrow(data)){\n",
    "      point = data[r, ]\n",
    "      assignments = append(assignments, assign_nearest(centroids, point))\n",
    "    }\n",
    "    \n",
    "    # Initialize 0,0 sums for each centroid's coordinates\n",
    "    centroidSums = centroidSumsEmpty\n",
    "    # Intialize counts of members belonging to each centroid\n",
    "    centroidN = rep(0, k)\n",
    "    \n",
    "    # Increment centroid counts and sums based on assigned points \n",
    "    for(i in 1:length(assignments)){\n",
    "      centroid = assignments[i]\n",
    "      centroidN[centroid] = centroidN[centroid] + 1\n",
    "      centroidSums[[centroid]] = centroidSums[[centroid]] + data[i,]\n",
    "    }\n",
    "    \n",
    "    # Get average locations of points in each centroid to get  \n",
    "    # new centroid coordinates\n",
    "    for(i in 1:k){\n",
    "      newcentroid = centroidSums[[i]] / centroidN[i]\n",
    "      centroids[[i]] = newcentroid\n",
    "      \n",
    "      paths[[paths_Index]] = append(i, newcentroid)\n",
    "      paths_Index = paths_Index + 1\n",
    "\n",
    "    }\n",
    "    \n",
    "    \n",
    "    centroidsflattened = as.vector(unlist(centroids))\n",
    "    pstates_Index = pstates_Index + 1 # increment previous states index so we can keep adding them\n",
    "  }\n",
    " \n",
    "  \n",
    "  outputlist = list()\n",
    "  outputlist$centroids = centroids\n",
    "  outputlist$paths = do.call(rbind, paths)\n",
    "  outputlist$members = assignments\n",
    "  return(outputlist)\n",
    "}"
   ]
  },
  {
   "cell_type": "markdown",
   "metadata": {},
   "source": [
    "Finally, we'll need a function to plot the output of our k-means clustering. This function uses ggplot2 to show the points (colored by the cluster they're assigned to), the centroids of each cluster, and the paths the centroids took along the way. "
   ]
  },
  {
   "cell_type": "code",
   "execution_count": null,
   "metadata": {},
   "outputs": [],
   "source": [
    "plot_km <- function(km, data){\n",
    "  # Plots the results of the kmeans_function()\n",
    "  # Inputs:\n",
    "  #   km -- returned output object of kmeans_function() \n",
    "  #   data -- 2 dimensional dataframe used in kmeans_function() where rows are points,\n",
    "  #           columns are X, Y coordinates of those points\n",
    "  # Outputs: \n",
    "  #   Displays ggplot showing points in the population colored by cluster assignment, \n",
    "  #   designating centroids + their paths \n",
    "  k=length(km$centroids)\n",
    "  \n",
    "  # Get the appropriate number of colors to use in the plot (one for each centroid)\n",
    "  cluster_colors = brewer.pal(k, \"Dark2\")\n",
    "  \n",
    "  # Dataframe representing centroids themselves \n",
    "  centroidsDF = do.call(rbind, km$centroids)\n",
    "  centroidsDF$CentroidIndex = 1:k \n",
    "  centroidsDF$size=1\n",
    "  centroidsDF$shape = 4\n",
    "  # Dataframe representing paths of centroids, labeled by CentroidIndex\n",
    "  paths = data.frame(km$paths)\n",
    "  colnames(paths) = c(\"CentroidIndex\", \"X\", \"Y\")\n",
    "  paths = data.frame(apply(paths, 2, unlist ))\n",
    "  paths$CentroidIndex = as.factor(paths$CentroidIndex)\n",
    "  paths$shape = 1\n",
    "  \n",
    "  # Dataframe representing the points, labeled by CentroidIndex\n",
    "  points = data\n",
    "  points$CentroidIndex = km$members\n",
    "  colnames(points) = c(\"X\", \"Y\", \"CentroidIndex\")\n",
    "  points$size = .5\n",
    "  points$shape = 1\n",
    "  \n",
    "  # Define axes for plot \n",
    "  xmin = min(points$X)\n",
    "  xmax = max(points$X)\n",
    "  xstart = xmin - abs(xmax - xmin)*.1\n",
    "  xstop= xmax + abs(xmax - xmin)*.1\n",
    "  \n",
    "  ymin = min(points$Y)\n",
    "  ymax = max(points$Y)\n",
    "  ystart = min(points$Y) - abs(ymax - ymin)*.1\n",
    "  yend = max(points$Y) + abs(ymax - ymin)*.1\n",
    "  \n",
    "  centroidsDF$size=.4\n",
    "  centroidsDF$shape = 6\n",
    "  plot1 = ggplot(data=points, aes(x=X, y=Y, color=factor(CentroidIndex),  shape=factor(shape),  fill=factor(CentroidIndex))) + geom_point() + geom_point(data=centroidsDF, aes(x=X, y=Y, color=factor(CentroidIndex), size=size, shape=factor(shape), fill=factor(CentroidIndex))) + geom_line(data=paths, aes(x=X, y=Y, color=factor(CentroidIndex))) + scale_color_manual(values=cluster_colors)  + scale_shape_manual(values=c(16,4)) + theme(legend.position=\"none\")\n",
    "\n",
    "  return(plot1)\n",
    "}\n"
   ]
  },
  {
   "cell_type": "markdown",
   "metadata": {},
   "source": [
    "Let's load some data in and give it a try! Make sure you've run the above cells before you try this. If you run the 2nd and 3rd steps multiple times, you'll get slightly different results each time. "
   ]
  },
  {
   "cell_type": "code",
   "execution_count": null,
   "metadata": {},
   "outputs": [],
   "source": [
    "# Load in the data located in this directory\n",
    "KMeansPop = read.csv(\"kmeans-population.csv\", header=F)"
   ]
  },
  {
   "cell_type": "code",
   "execution_count": null,
   "metadata": {},
   "outputs": [],
   "source": [
    "# Call the k-means function with k=3\n",
    "kmeansobject = kmeans_function(KMeansPop, 3)"
   ]
  },
  {
   "cell_type": "code",
   "execution_count": null,
   "metadata": {
    "scrolled": true
   },
   "outputs": [],
   "source": [
    "# Plot the output\n",
    "plot_km(kmeansobject, KMeansPop)"
   ]
  },
  {
   "cell_type": "markdown",
   "metadata": {},
   "source": [
    "Now, go ahead and run the following cells (with the functions from the in-class still loaded): "
   ]
  },
  {
   "cell_type": "code",
   "execution_count": null,
   "metadata": {},
   "outputs": [],
   "source": [
    "# Call the k-means function with k=3\n",
    "kmeansobject = kmeans_function(KMeansPop, 3)\n",
    "# Plot the output\n",
    "plot_km(kmeansobject, KMeansPop)"
   ]
  },
  {
   "cell_type": "markdown",
   "metadata": {},
   "source": [
    "Run the k-means code enough times that you observe times where the centroids end up in the three groups of points and times where the clustering method fails to find the centers of the three groups. Keep an image from one of these 'runs' as indicated with the code below (i.e., where it works \"well\", and an example where it does not work as well). Use them as reference when referring to the subsequent questions."
   ]
  },
  {
   "cell_type": "code",
   "execution_count": null,
   "metadata": {},
   "outputs": [],
   "source": [
    "### Example: clustering seems to work \"well\"\n",
    "\n",
    "# Call the k-means function with k=3\n",
    "kmeansobject = kmeans_function(KMeansPop, 3)\n",
    "# Plot the output\n",
    "plot_km(kmeansobject, KMeansPop)"
   ]
  },
  {
   "cell_type": "code",
   "execution_count": null,
   "metadata": {},
   "outputs": [],
   "source": [
    "### Example: clustering seems to not work as well\n",
    "\n",
    "# Call the k-means function with k=3\n",
    "kmeansobject = kmeans_function(KMeansPop, 3)\n",
    "# Plot the output\n",
    "plot_km(kmeansobject, KMeansPop)"
   ]
  },
  {
   "cell_type": "markdown",
   "metadata": {},
   "source": [
    "**Q1.** What causes k-means to fail to find the appropriate centers? Think about perhaps how the data are laid out and where the centroids start when things fail."
   ]
  },
  {
   "cell_type": "code",
   "execution_count": null,
   "metadata": {},
   "outputs": [],
   "source": []
  },
  {
   "cell_type": "markdown",
   "metadata": {},
   "source": [
    "**Q2.** How might you diagnose situations where this has occured automatically? You don't need to actually write the code to do this; just provide a conceptual outline for a strategy that you might employ. Think a bit about the distances between data points and their corresponding centroids in the cases where things work and the cases where they fail."
   ]
  },
  {
   "cell_type": "code",
   "execution_count": null,
   "metadata": {},
   "outputs": [],
   "source": []
  },
  {
   "cell_type": "markdown",
   "metadata": {},
   "source": [
    "**Q3.** Describe a problem for which you might want to use k-means? What are some of its limitations?"
   ]
  },
  {
   "cell_type": "code",
   "execution_count": null,
   "metadata": {},
   "outputs": [],
   "source": []
  }
 ],
 "metadata": {
  "kernelspec": {
   "display_name": "R",
   "language": "R",
   "name": "ir"
  },
  "language_info": {
   "codemirror_mode": "r",
   "file_extension": ".r",
   "mimetype": "text/x-r-source",
   "name": "R",
   "pygments_lexer": "r",
   "version": "3.6.1"
  }
 },
 "nbformat": 4,
 "nbformat_minor": 4
}
