{
 "cells": [
  {
   "cell_type": "markdown",
   "metadata": {},
   "source": [
    "## With great power comes great responsibility!\n",
    "\n",
    "By this point, you've already built a near perfect classifier of tumor/normal status from about 2000 breast biopsies, and you've applied it to an independent validation set of approximately 500 samples from TCGA.\n",
    "\n",
    "**You could now build a biomarker panel to identify people with a disease, people who would benefit from a drug, or address many other use cases.** How's that for power? If we're going to use these algorithms, we should get a handle on how they can be applied, and what might go wrong.\n",
    "\n",
    "For this, let's take an example back from 2015: Prof. Voight was sitting in a conference room at the conference for the American Society of Human Genetics. On stage, Tuck Ngun was sharing the results of his analysis to identify epigenetic marks associated with sexual orientation. This paper would erupt into a twitterstorm of epic ferocity. The back and forth is captured in these three blog posts:\n",
    "\n",
    "* http://www.theatlantic.com/science/archive/2015/10/no-scientists-have-not-found-the-gay-gene/410059/\n",
    "* http://vizbang.tumblr.com/post/130904633310/a-responserebuttal-to-ed-yongs-article-in-the\n",
    "* http://andrewgelman.com/2015/10/10/gay-gene-tabloid-hype-update/\n",
    "\n",
    "Read and think about these blog posts in the context of what you've learned thus far. We've uploaded PDFs into CoCalc, in case you these are hard to find online."
   ]
  },
  {
   "cell_type": "markdown",
   "metadata": {},
   "source": [
    "**Q1.** Summarize the articles and describe in your own words what transpired."
   ]
  },
  {
   "cell_type": "raw",
   "metadata": {},
   "source": []
  },
  {
   "cell_type": "markdown",
   "metadata": {},
   "source": [
    "**Q2a.** What issues, if any, are raised here about the Scientific Reproducibility and Rigor of the conducted research?"
   ]
  },
  {
   "cell_type": "code",
   "execution_count": null,
   "metadata": {},
   "outputs": [],
   "source": []
  },
  {
   "cell_type": "markdown",
   "metadata": {},
   "source": [
    "**Q2b.** What issues, if any, are raised here regarding the way in which scientific communication happens with the lay/public audience and the media?"
   ]
  },
  {
   "cell_type": "code",
   "execution_count": null,
   "metadata": {},
   "outputs": [],
   "source": []
  },
  {
   "cell_type": "markdown",
   "metadata": {},
   "source": [
    "**Q2c.** What issues, if any, are raised here regarding the vehicles used for scientific discussion amongst actual scientist, including but not limited to: social media, blog posts, twitter/X, or other sources?"
   ]
  },
  {
   "cell_type": "code",
   "execution_count": null,
   "metadata": {},
   "outputs": [],
   "source": []
  },
  {
   "cell_type": "markdown",
   "metadata": {},
   "source": [
    "**Q2d.** As scientists, we *routinely* present our work at public meetings. Does this story bring pause to the approach we typically use to disseminate material in a scientific presentations? What are the responsibilities that fall to the presenter, audience, reviewers, and organizers?"
   ]
  },
  {
   "cell_type": "code",
   "execution_count": null,
   "metadata": {},
   "outputs": [],
   "source": []
  },
  {
   "cell_type": "markdown",
   "metadata": {},
   "source": [
    "**Q3.** Have you thought about how your work might be intepreted by the public audience? What are some concerns that you have and practices you might consider in your own work after reading this story?"
   ]
  },
  {
   "cell_type": "code",
   "execution_count": null,
   "metadata": {},
   "outputs": [],
   "source": []
  }
 ],
 "metadata": {
  "anaconda-cloud": {},
  "kernelspec": {
   "display_name": "Python 3",
   "language": "python",
   "name": "python3"
  },
  "language_info": {
   "codemirror_mode": {
    "name": "ipython",
    "version": 3
   },
   "file_extension": ".py",
   "mimetype": "text/x-python",
   "name": "python",
   "nbconvert_exporter": "python",
   "pygments_lexer": "ipython3",
   "version": "3.8.10"
  }
 },
 "nbformat": 4,
 "nbformat_minor": 1
}
