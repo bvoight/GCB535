{
 "cells": [
  {
   "cell_type": "markdown",
   "metadata": {},
   "source": [
    "## Let's find out how we did!\n",
    "\n",
    "We'll first need to load up our old classifier. We've supplied code below to load up the same data used by ML-4. You should be able to copy and paste in your code where noted below. First we're going to load up the appropriate data to train your models again."
   ]
  },
  {
   "cell_type": "code",
   "execution_count": 0,
   "metadata": {},
   "outputs": [],
   "source": [
    "# numpy provides python tools to easily load comma separated files.\n",
    "import numpy as np\n",
    "\n",
    "# use numpy to load disease #1 data\n",
    "d1 = np.loadtxt(open(\"../31_Data_ML-IV/D1.csv\", \"rb\"), delimiter=\",\")\n",
    "\n",
    "# features are all rows for columns before 200\n",
    "# The canonical way to name this is that X is our matrix of\n",
    "# examples by features.\n",
    "X1 = d1[:,:200]\n",
    "\n",
    "# labels are in all rows at the 200th column\n",
    "# The canonical way to name this is that y is our vector of\n",
    "# labels.\n",
    "y1 = d1[:,200]\n",
    "\n",
    "# use numpy to load disease #2 data\n",
    "d2 = np.loadtxt(open(\"../31_Data_ML-IV/D2.csv\", \"rb\"), delimiter=\",\")\n",
    "\n",
    "# features are all rows for columns before 200\n",
    "X2 = d2[:,:200]\n",
    "# labels are in all rows at the 200th column\n",
    "y2 = d2[:,200]"
   ]
  },
  {
   "cell_type": "markdown",
   "metadata": {},
   "source": [
    "#### Train your classifiers\n",
    "\n",
    "Next you need to copy/paste in the code from your ML-4 Homework to train your classifiers on the data. Because we're using exactly the same data and you set a random seed, we can expect to get the same classifiers."
   ]
  },
  {
   "cell_type": "code",
   "execution_count": 0,
   "metadata": {},
   "outputs": [],
   "source": [
    "# DATASET 1 CLASSIFIER CODE GOES HERE"
   ]
  },
  {
   "cell_type": "code",
   "execution_count": 0,
   "metadata": {},
   "outputs": [],
   "source": [
    "# DATASET 2 CLASSIFIER CODE GOES HERE"
   ]
  },
  {
   "cell_type": "markdown",
   "metadata": {},
   "source": [
    "#### Evaluate your classifiers\n",
    "\n",
    "If you've followed instructions thus far, you should be able to simply run the code below to report your results."
   ]
  },
  {
   "cell_type": "code",
   "execution_count": 0,
   "metadata": {},
   "outputs": [],
   "source": [
    "d1_test = np.loadtxt(open(\"../32_Data_ML-V/D1_test.csv\", \"rb\"), delimiter=\",\")\n",
    "X1_test = d1_test[:,:200]\n",
    "y1_test = d1_test[:,200]\n",
    "\n",
    "d2_test = np.loadtxt(open(\"../32_Data_ML-V/D2_test.csv\", \"rb\"), delimiter=\",\")\n",
    "X2_test = d2_test[:,:200]\n",
    "y2_test = d2_test[:,200]\n",
    "\n",
    "d1_score = d1_classifier.score(X1_test, y1_test)\n",
    "print(\"D1 Testing Accuracy: \" + str(d1_score))\n",
    "\n",
    "d2_score = d2_classifier.score(X2_test, y2_test)\n",
    "print(\"D2 Testing Accuracy: \" + str(d2_score))"
   ]
  },
  {
   "cell_type": "markdown",
   "metadata": {},
   "source": [
    "## Record your results!\n",
    "\n",
    "Once you've got your accuracies in hand, head over to the reporting form: https://goo.gl/forms/a6t9mxVGwYpdQAhH3\n",
    "\n",
    "Use the same code name and enter the actual accuracies that you observed for D1 and D2."
   ]
  },
  {
   "cell_type": "markdown",
   "metadata": {},
   "source": [
    "## Homework"
   ]
  },
  {
   "cell_type": "markdown",
   "metadata": {},
   "source": [
    "_Q1: How did the class do (check out this http://bit.ly/GCB535-Combinator)? Did we generally overestimate performance, underestimate, or accurately estimate performance?_ (2 pts)"
   ]
  },
  {
   "cell_type": "markdown",
   "metadata": {},
   "source": []
  },
  {
   "cell_type": "markdown",
   "metadata": {},
   "source": [
    "_Q2: Did you personally find it easier to get a good accuracy for D1 or D2? Which one required more tries to get good performance_ (2 pts)"
   ]
  },
  {
   "cell_type": "markdown",
   "metadata": {},
   "source": []
  },
  {
   "cell_type": "markdown",
   "metadata": {},
   "source": [
    "_Q3: In your final classifier, what type of algorithm did you use and what parameters did you supply?_ (2 pts)"
   ]
  },
  {
   "cell_type": "markdown",
   "metadata": {},
   "source": []
  },
  {
   "cell_type": "markdown",
   "metadata": {},
   "source": [
    "_Q4: What did you expect your own accuracy to be for each dataset? What did you observe? Was this surprising?_ (2 pts)"
   ]
  },
  {
   "cell_type": "markdown",
   "metadata": {},
   "source": []
  },
  {
   "cell_type": "markdown",
   "metadata": {},
   "source": [
    "_Q5: What are two items of feedback that you'd like to give on this exercise?_ (2 pts)"
   ]
  },
  {
   "cell_type": "markdown",
   "metadata": {},
   "source": []
  }
 ],
 "metadata": {
  "kernelspec": {
   "display_name": "Python 2",
   "language": "python",
   "name": "python2"
  },
  "language_info": {
   "codemirror_mode": {
    "name": "ipython",
    "version": 2
   },
   "file_extension": ".py",
   "mimetype": "text/x-python",
   "name": "python",
   "nbconvert_exporter": "python",
   "pygments_lexer": "ipython2",
   "version": "2.7.15"
  }
 },
 "nbformat": 4,
 "nbformat_minor": 1
}
