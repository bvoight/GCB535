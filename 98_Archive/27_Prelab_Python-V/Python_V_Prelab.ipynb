{
 "cells": [
  {
   "cell_type": "markdown",
   "metadata": {
    "collapsed": false
   },
   "source": [
    "# Lesson 5: Writing Modular Code"
   ]
  },
  {
   "cell_type": "markdown",
   "metadata": {
    "collapsed": false
   },
   "source": [
    "# 1. Functions"
   ]
  },
  {
   "cell_type": "markdown",
   "metadata": {
    "collapsed": false
   },
   "source": [
    "### 1) What is a function?"
   ]
  },
  {
   "cell_type": "markdown",
   "metadata": {
    "collapsed": false
   },
   "source": [
    "A function is a block of reusable code intended to perform similar operations multiple times. We saw some built-in functions in Python II, including round(), raw_input() and length(). Python has these functions by default, because the makers of python know that many users will want to do things like rounding a number.\n",
    "\n",
    "However, you can also create your own functions, tailored for what you need your code to do!\n"
   ]
  },
  {
   "cell_type": "markdown",
   "metadata": {
    "collapsed": false
   },
   "source": [
    "### 2) Why create & use functions?"
   ]
  },
  {
   "cell_type": "markdown",
   "metadata": {
    "collapsed": false
   },
   "source": [
    "* Allows you to re-use a certain piece of code in a different context without re-writing it.\n",
    "* Organizes your code into functional pieces. \n",
    "* Makes code easier to read and understand."
   ]
  },
  {
   "cell_type": "markdown",
   "metadata": {
    "collapsed": false
   },
   "source": [
    "### 3) How do you create a function?"
   ]
  },
  {
   "cell_type": "markdown",
   "metadata": {
    "collapsed": false
   },
   "source": [
    "The syntax is very simple. The first line has the string 'def', followed by whatever you want to call your function, followed by whatever you want to call your inputs, in parenthesis. \n",
    "\n",
    "Functions usually do something with the parameters they are given, and then return the result using a 'return' command. An example of this is the int function, which takes in a string, and returns that string converted to an integer.\n",
    "\n",
    "For instance, if I want a function that returns the highest of two numbers squared, the code would look like:"
   ]
  },
  {
   "cell_type": "code",
   "execution_count": 0,
   "metadata": {
    "collapsed": true
   },
   "outputs": [
   ],
   "source": [
    "def squareMax(num1, num2):\n",
    "    maxNum = max(num1, num2)\n",
    "    return maxNum*maxNum"
   ]
  },
  {
   "cell_type": "markdown",
   "metadata": {
    "collapsed": false
   },
   "source": [
    "Functions don't always require input. In the following example, the function outputs a string which we can store to a variable. Try running the following code:"
   ]
  },
  {
   "cell_type": "code",
   "execution_count": 0,
   "metadata": {
    "collapsed": false
   },
   "outputs": [
   ],
   "source": [
    "def noInput():\n",
    "    answer = \"abcd\"\n",
    "    return answer\n",
    "\n",
    "output = noInput()\n",
    "print output\n",
    "print answer"
   ]
  },
  {
   "cell_type": "markdown",
   "metadata": {
    "collapsed": false
   },
   "source": [
    "Why are we able to print the \"output\" variable, but not the \"answer\" variable? When a variable is defined within a function, it is not stored outside the function. Only the values passed through return() are accessible outside the function."
   ]
  },
  {
   "cell_type": "markdown",
   "metadata": {
    "collapsed": false
   },
   "source": [
    "### 4) How do you call a function?"
   ]
  },
  {
   "cell_type": "markdown",
   "metadata": {
    "collapsed": false
   },
   "source": [
    "I can then call this function with the syntax: squareMax(num1, num2). Now run the following functions, so that the result is printed below."
   ]
  },
  {
   "cell_type": "code",
   "execution_count": 0,
   "metadata": {
    "collapsed": false
   },
   "outputs": [
   ],
   "source": [
    "print squareMax(5,2)"
   ]
  },
  {
   "cell_type": "code",
   "execution_count": 0,
   "metadata": {
    "collapsed": true
   },
   "outputs": [
   ],
   "source": [
   ]
  },
  {
   "cell_type": "code",
   "execution_count": 0,
   "metadata": {
    "collapsed": false
   },
   "outputs": [
   ],
   "source": [
    "print squareMax(3,3)"
   ]
  },
  {
   "cell_type": "code",
   "execution_count": 0,
   "metadata": {
    "collapsed": true
   },
   "outputs": [
   ],
   "source": [
   ]
  },
  {
   "cell_type": "markdown",
   "metadata": {
    "collapsed": false
   },
   "source": [
    "## 5) How do you use a function within a larger python project?"
   ]
  },
  {
   "cell_type": "markdown",
   "metadata": {
    "collapsed": false
   },
   "source": [
    "Functions are often used within a larger python script. For instance, I may want to square the maximum of two numbers obtained from some other python operation. To do this, the function must be defined first, followed by the rest of the code. \n",
    "\n",
    "For example, in the following code, the length of two lists is calculated, and then squareMax is used to find the square of the larger of those two lengths. Even though the function squareMax is defined first, the computer starts running the code on the first line of code that is not part of the function. So in this case, it starts at the line where the list a is initialized."
   ]
  },
  {
   "cell_type": "code",
   "execution_count": 0,
   "metadata": {
    "collapsed": true
   },
   "outputs": [
   ],
   "source": [
    "def squareMax(num1, num2):\n",
    "    maxNum = max(num1, num2)\n",
    "    return maxNum*maxNum\n",
    "\n",
    "a = [\"blue\",\"red\"]\n",
    "b = [\"green\",\"purple\",\"blue\",\"yellow\"]\n",
    "aSize = len(a)\n",
    "bSize  = len(b)\n",
    "print squareMax(aSize,bSize)"
   ]
  },
  {
   "cell_type": "markdown",
   "metadata": {
    "collapsed": false
   },
   "source": [
    "## 6) Test your understanding."
   ]
  },
  {
   "cell_type": "code",
   "execution_count": 0,
   "metadata": {
    "collapsed": false
   },
   "outputs": [
   ],
   "source": [
    "import random\n",
    "\n",
    "#Removes a random letter from the given word\n",
    "def removeLetter(word):\n",
    "    wSize = len(word)\n",
    "    posToRemove = random.randint(0,wSize-1) #choose which character to remove\n",
    "    return word[:posToRemove] + word[(posToRemove+1):] #adds the string before that character to the string after\n",
    "    \n",
    "print removeLetter(\"abc\")    \n",
    "    "
   ]
  },
  {
   "cell_type": "markdown",
   "metadata": {
    "collapsed": false
   },
   "source": [
    "1) What possible strings could be returned by this function?"
   ]
  },
  {
   "cell_type": "code",
   "execution_count": 0,
   "metadata": {
    "collapsed": true
   },
   "outputs": [
   ],
   "source": [
   ]
  },
  {
   "cell_type": "markdown",
   "metadata": {
    "collapsed": false
   },
   "source": [
    "2) What could go wrong with the removeLetter function if it is used in another context? (Hint: think about which lengths of strings it could be passed, and try to think of a valid string that would cause an error)"
   ]
  },
  {
   "cell_type": "code",
   "execution_count": 0,
   "metadata": {
    "collapsed": true
   },
   "outputs": [
   ],
   "source": [
   ]
  }
 ],
 "metadata": {
  "kernelspec": {
   "display_name": "Python 2 (SageMath)",
   "language": "python",
   "name": "python2"
  },
  "language_info": {
   "codemirror_mode": {
    "name": "ipython",
    "version": 2
   },
   "file_extension": ".py",
   "mimetype": "text/x-python",
   "name": "python",
   "nbconvert_exporter": "python",
   "pygments_lexer": "ipython2",
   "version": "2.7.14"
  }
 },
 "nbformat": 4,
 "nbformat_minor": 0
}