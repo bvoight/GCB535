{
 "cells": [
  {
   "cell_type": "markdown",
   "metadata": {
    "collapsed": false
   },
   "source": [
    "# Lesson 1 In-class Exercises\n",
    "***\n"
   ]
  },
  {
   "cell_type": "markdown",
   "metadata": {},
   "source": [
    "**Instructions: For each problem, write code in the provided code block. Don't forget to run your code to make sure it works.**"
   ]
  },
  {
   "cell_type": "markdown",
   "metadata": {},
   "source": [
    "***\n",
    "**1\\.** Write code to print the following string:\n",
    "```\n",
    "Insert some funny string here\n",
    "```"
   ]
  },
  {
   "cell_type": "code",
   "execution_count": null,
   "metadata": {
    "collapsed": true
   },
   "outputs": [],
   "source": []
  },
  {
   "cell_type": "markdown",
   "metadata": {},
   "source": [
    "***\n",
    "**2\\.** The following code blocks have errors. Fix each one so that it runs without error."
   ]
  },
  {
   "cell_type": "code",
   "execution_count": null,
   "metadata": {
    "collapsed": false
   },
   "outputs": [],
   "source": [
    "print \"I bought\" + 10 + \"pizzas\""
   ]
  },
  {
   "cell_type": "code",
   "execution_count": null,
   "metadata": {
    "collapsed": false
   },
   "outputs": [],
   "source": [
    "1stPerson = \"Joe\"\n",
    "print 1stPerson"
   ]
  },
  {
   "cell_type": "code",
   "execution_count": null,
   "metadata": {
    "collapsed": false
   },
   "outputs": [],
   "source": [
    "fruit = \"Banana\"\n",
    "print \"I bought a\", friut"
   ]
  },
  {
   "cell_type": "markdown",
   "metadata": {},
   "source": [
    "***\n",
    "**3\\.** The equation for a line is\n",
    "```\n",
    "y = mx + b\n",
    "```\n",
    "Write code to solve for y for a given m, x, and b. Use the code below as a starting point, and fill in the rest of the needed code."
   ]
  },
  {
   "cell_type": "code",
   "execution_count": null,
   "metadata": {
    "collapsed": false
   },
   "outputs": [],
   "source": [
    "m = \n",
    "x = \n",
    "b = \n"
   ]
  },
  {
   "cell_type": "markdown",
   "metadata": {},
   "source": [
    "***\n",
    "# Homework exercise (10 Points)"
   ]
  },
  {
   "cell_type": "markdown",
   "metadata": {},
   "source": [
    "Write code to calculate the quadratic formula:\n",
    "![quadratic formula](quadratic_formula.PNG)\n",
    "Your code should output both possible values for x. The program should start by defining the values of a, b, and c. For example, the first three lines of your script might look like\n",
    "this:\n",
    "```\n",
    "a = -2\n",
    "b = 2\n",
    "c = 1\n",
    "```\n",
    "If you use these values, the answers should be -0.366025403784 and 1.36602540378 (check and make sure you get this). Try a few different values of these variables. Note, you will get an error message if\n",
    "`b2 - 4ac` is negative, since you can't take the square root of a negative number. This is fine for now -- later we'll go over ways to prevent bugs like that from occurring. Also note that we don't require you to round the output, but if you want to, you can google the 'round' function in Python (as an aside, a lot of the day-to-day work of coding is knowing how to use google to solve your problems!). \n",
    "\n",
    "*Hint: There are a few different ways to find the square root in Python. Try googling it.*"
   ]
  },
  {
   "cell_type": "code",
   "execution_count": null,
   "metadata": {
    "collapsed": true
   },
   "outputs": [],
   "source": [
    "a = -2\n",
    "b = 2\n",
    "c = 1\n"
   ]
  }
 ],
 "metadata": {
  "kernelspec": {
   "display_name": "Python 2",
   "language": "python",
   "name": "python2"
  },
  "language_info": {
   "codemirror_mode": {
    "name": "ipython",
    "version": 2
   },
   "file_extension": ".py",
   "mimetype": "text/x-python",
   "name": "python",
   "nbconvert_exporter": "python",
   "pygments_lexer": "ipython2",
   "version": "2.7.10"
  },
  "name": "Lesson1_exercises.ipynb"
 },
 "nbformat": 4,
 "nbformat_minor": 0
}
