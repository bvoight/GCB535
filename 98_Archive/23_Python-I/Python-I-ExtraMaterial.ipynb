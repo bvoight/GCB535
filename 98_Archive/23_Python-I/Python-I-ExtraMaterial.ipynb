{
 "cells": [
  {
   "cell_type": "markdown",
   "metadata": {},
   "source": [
    "# Lesson 1: Extra material\n",
    "---"
   ]
  },
  {
   "cell_type": "markdown",
   "metadata": {},
   "source": [
    "## Error messages\n",
    "---\n",
    "\n",
    "In the main lesson, we ran the following example:"
   ]
  },
  {
   "cell_type": "code",
   "execution_count": null,
   "metadata": {
    "collapsed": false,
    "scrolled": true
   },
   "outputs": [],
   "source": [
    "print \"5\" + 5"
   ]
  },
  {
   "cell_type": "markdown",
   "metadata": {},
   "source": [
    "In the example above, we had an error in our code and Python printed an error message. The format of these messages will vary depending on how you're running your code (in a notebook, in a script, or in the interpreter), but there will usually be a few key pieces of useful information contained in the message that will hint at what the problem was: \n",
    "\n",
    "   1. The line of code where the error occured. The error message above indicates this with a green `---->` (if there were more than one line of code here, this would be more informative!). \n",
    "   2. The general type of error. Above, this is `TypeError`.\n",
    "   3. A little about what that error means. This usually follows the error type. Above, this is \"`cannot concatenate 'str' and 'int' objects`\"). \n",
    "   \n",
    "A good place to start in fixing an error is to go to the problematic line of code and see if you can spot anything wrong, especially involving whatever is hinted at in the message. If that fails, and you really don't understand what the error means, try googling \"python [NameOfErrorType]\" (e.g. \"python TypeError\"). This will usually pull up several forums with people who had the same general type of error. When reading through these forums, don't focus too much on the specifics of the problem (it will never been the exact same situation as you) but rather try to look for types of things that can cause the error and how to fix them."
   ]
  },
  {
   "cell_type": "markdown",
   "metadata": {},
   "source": [
    "## Variations on the print statement\n",
    "---\n",
    "\n",
    "Here's a reference table summarizing the different variations of the print statement. Don't worry about memorizing this; just be aware of the different kinds of things that are possible:\n",
    "\n",
    "![print variations](print_variations_table.PNG)"
   ]
  }
 ],
 "metadata": {
  "kernelspec": {
   "display_name": "Python 2",
   "language": "python",
   "name": "python2"
  },
  "language_info": {
   "codemirror_mode": {
    "name": "ipython",
    "version": 2
   },
   "file_extension": ".py",
   "mimetype": "text/x-python",
   "name": "python",
   "nbconvert_exporter": "python",
   "pygments_lexer": "ipython2",
   "version": "2.7.10"
  },
  "name": "Lesson1.ipynb"
 },
 "nbformat": 4,
 "nbformat_minor": 0
}
