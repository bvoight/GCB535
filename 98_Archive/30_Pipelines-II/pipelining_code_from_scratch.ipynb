{
 "cells": [
  {
   "cell_type": "markdown",
   "metadata": {},
   "source": [
    "# GCB535 - Creating a pipeline for analysis ... from scratch!"
   ]
  },
  {
   "cell_type": "markdown",
   "metadata": {},
   "source": [
    "## Instructions"
   ]
  },
  {
   "cell_type": "markdown",
   "metadata": {},
   "source": [
    "In this adventure, you will create your own analysis pipeline to analyze the included set of data from scratch!\n",
    "\n",
    "For this purpose, don't worry about making an Rscript pipeline. Use your notebooks (or save/utilized UNIX command) to do your work.\n",
    "\n",
    "We have provided data for you to analyze:\n",
    "* Median expression (summarized from n=226 subjects) for n=56,200 transcripts (TPM) from GTEx (v8) in Liver \n",
    "\n",
    "        30_Data_Pipelines-II/GTEx_Analysis_2017-06-05_v8_RNASeQCv1.1.9_gene_tpm_liveronly_medonly.gct\n",
    "        \n",
    "* ATAC-Seq Peak calls (PMID: 30890710) from HEPG2 cells:\n",
    "\n",
    "        30_Data_Pipelines-II/HEPG2_encode.bed\n",
    "                       \n",
    "We'd like to do the following:\n",
    "\n",
    "1. Obtain the set of genes that are in the top 10% of genes expressed in Liver from GTEx v7 as measured by the median TPM expression. (Refer to this as the set of \"highly expressed\" liver genes.)\n",
    "\n",
    "\n",
    "2. Obtain the gene boundaries (i.e., `start_position` to `end_position`) for this list of highly expressed liver genes. Remove any entries that have strange chromosome labels (e.g. are not \"1\", \"2\", ..., \"Y\"; but may be \"CHR_XXX\").\n",
    "\n",
    "\n",
    "3. Identify the set of regions of accessible chromatin ascertained in the HEPG2 cell line that overlap with the start / end positions of the list of highly expressed liver genes.\n",
    "\n",
    "\n",
    "4. Assess the enrichment of overlap between the regions of accessible chromatin from HEPG2 with the gene boundaries of highly expressed liver genes.\n",
    "\n",
    "\n",
    "5. Identify the subset of genes which are both highly expressed in liver *and* have regions of accessible chromatin in HEPG2 overlapping with them, as observed from your analysis in item 3, above. "
   ]
  },
  {
   "cell_type": "markdown",
   "metadata": {},
   "source": [
    "**Provide your pipeline / code below.**"
   ]
  },
  {
   "cell_type": "code",
   "execution_count": null,
   "metadata": {},
   "outputs": [],
   "source": []
  },
  {
   "cell_type": "markdown",
   "metadata": {},
   "source": [
    "**This may feel like a daunting task! But you're ready and you have everything that you need to get started.**\n",
    "\n",
    "Some points that may help you:\n",
    "\n",
    "* Starting by writing down what you need to accomplish. Use comments (`#`) to articulate these tasks.\n",
    "\n",
    "\n",
    "* Then, take each task and break them down further. If you get to a point where you have a specific piece of code in mind, you are in good shape.\n",
    "\n",
    "\n",
    "* For ease, you might also consider making each of these \"points\" in their own \"cell\" in your notebook. That way, you don't need to re-execute all of your code each time you want to test if a *specific* block of code you write does what you want.\n",
    "\n",
    "\n",
    "* Remember when you are coding, write a *little* bit, then test it. Once a little bit of code works, build upon it until you get a longer chain that works and complete the task you want to accomplish.\n",
    "\n",
    "\n",
    "* Print statements are your friend! `print()`, or `head()` to make sure the data, table, or variables you have created *actually* are what you want / intend.\n",
    "\n",
    "\n",
    "* For parts of item 3/4/5, you might consider using `bedtools` for this, which means that your pipeline might have a series of R that you run, then you step out into UNIX to do some work. You can always do that work, then return to your R pipeline in your notebook once that work is complete!\n",
    "\n",
    "\n",
    "* For Item 5, you might check out the `-wa` argument in `bedtools intersect`. This might help you output the specific list of gene intervals that you can use as a cross-reference!"
   ]
  }
 ],
 "metadata": {
  "kernelspec": {
   "display_name": "R",
   "language": "R",
   "name": "ir"
  },
  "language_info": {
   "codemirror_mode": "r",
   "file_extension": ".r",
   "mimetype": "text/x-r-source",
   "name": "R",
   "pygments_lexer": "r",
   "version": "4.0.3"
  }
 },
 "nbformat": 4,
 "nbformat_minor": 4
}
