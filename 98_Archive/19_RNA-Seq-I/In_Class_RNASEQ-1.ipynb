{
 "cells": [
  {
   "cell_type": "markdown",
   "metadata": {
    "collapsed": false
   },
   "source": [
    "# IN-CLASS RNASEQ 1\n",
    "\n",
    "---\n",
    "\n",
    "## 0. Set up\n",
    "\n",
    "**1. Open a new terminal.**\n",
    "\n",
    "**2. Add two scripts directories to your $PATH as follows. Make sure to copy, paste, and execute each line one at a time in UNIX.**"
   ]
  },
  {
   "cell_type": "raw",
   "metadata": {
    "collapsed": false
   },
   "source": [
    "echo 'export PATH=\"/ext/data/RNASEQ/norm_scripts:$PATH\"' >> $HOME/.bashrc\n",
    "echo 'export PATH=$HOME/19_RNA-Seq-I/scripts:$PATH' >>$HOME/.bashrc\n",
    "\n",
    "source $HOME/.bashrc"
   ]
  },
  {
   "cell_type": "markdown",
   "metadata": {
    "collapsed": false
   },
   "source": [
    "Use the following command to view the list of directories in your path. We do this to make sure we have properly modified the PATH variable."
   ]
  },
  {
   "cell_type": "raw",
   "metadata": {
    "collapsed": false
   },
   "source": [
    "echo $PATH"
   ]
  },
  {
   "cell_type": "markdown",
   "metadata": {
    "collapsed": false
   },
   "source": [
    "**(1)  Enter the result of the echo $PATH command in the following text box:**"
   ]
  },
  {
   "cell_type": "raw",
   "metadata": {
    "collapsed": true
   },
   "source": [
   ]
  },
  {
   "cell_type": "markdown",
   "metadata": {
    "collapsed": false
   },
   "source": [
    "**<a href=\"https://github.com/itmat/Normalization\" target=_blank>PORT</a> requires input files to be organized into a specific directory structure that looks like this.  We will create this directory structure now.**\n",
    "\n",
    "    STUDY\n",
    "    └── reads\n",
    "        ├── Sample_1\n",
    "        │   ├── Unaligned reads\n",
    "        │   └── Aligned.sam/bam\n",
    "        ├── Sample_2\n",
    "        │   ├── Unaligned reads\n",
    "        │   └── Aligned.sam/bam\n",
    "        ├── Sample_3\n",
    "        │   ├── Unaligned reads\n",
    "        │   └── Aligned.sam/bam\n",
    "        └── Sample_4\n",
    "            ├── Unaligned reads\n",
    "            └── Aligned.sam/bam\n",
    "<br>\n",
    "**First give STUDY directory a unique name as follows:**"
   ]
  },
  {
   "cell_type": "raw",
   "metadata": {
    "collapsed": true
   },
   "source": [
    "mkdir $HOME/RNASEQ/\n",
    "cd $HOME/RNASEQ"
   ]
  },
  {
   "cell_type": "markdown",
   "metadata": {
    "collapsed": true
   },
   "source": [
    "**Create sample directories and link them to the files of unaligned reads.**\n",
    "\n",
    "We are not actually copying the raw data into your folders, we are making what are called \"symbolic links\" in order\n",
    "to avoid making many copies of the same large files.  But it should look just like the files are present in your folders.\n",
    "\n",
    "The folders of raw data will live inside `$HOME/RNASEQ/reads`.\n",
    "\n",
    "Copy the following lines into your terminal.  You should be able to copy/paste them all at once, so you don't have to do them one line at a time."
   ]
  },
  {
   "cell_type": "raw",
   "metadata": {
    "collapsed": true
   },
   "source": [
    "mkdir -p $HOME/RNASEQ/reads/sample1\n",
    "mkdir -p $HOME/RNASEQ/reads/sample2\n",
    "mkdir -p $HOME/RNASEQ/reads/sample3\n",
    "mkdir -p $HOME/RNASEQ/reads/sample4\n",
    "\n",
    "ln -s /ext/data/RNASEQ/reads/sample1/*fq $HOME/RNASEQ/reads/sample1/\n",
    "ln -s /ext/data/RNASEQ/reads/sample2/*fq $HOME/RNASEQ/reads/sample2/\n",
    "ln -s /ext/data/RNASEQ/reads/sample3/*fq $HOME/RNASEQ/reads/sample3/\n",
    "ln -s /ext/data/RNASEQ/reads/sample4/*fq $HOME/RNASEQ/reads/sample4/"
   ]
  },
  {
   "cell_type": "markdown",
   "metadata": {
    "collapsed": false
   },
   "source": [
    "You now have all of the files of raw data in place.  These files have the short reads that come off the machine.  Let's look at the forward read of the first read-pair in the first sample.\n",
    "\n",
    "**(2) run the command below and and paste the result in the box below.**\n",
    "\n",
    "    head -4 $HOME/RNASEQ/reads/sample1/sample1_forward.fq "
   ]
  },
  {
   "cell_type": "raw",
   "metadata": {
    "collapsed": false,
    "scrolled": true
   },
   "source": [
   ]
  },
  {
   "cell_type": "markdown",
   "metadata": {
    "collapsed": false
   },
   "source": [
    "The first row is the name of the read, the second row is the read itself, the fourth row is the \"quality string\" for the read.\n",
    "\n",
    "Now, we only have raw reads so far, so we do not yet know where in the genome each read comes from.  So the first job is to align the reads to the genome."
   ]
  },
  {
   "cell_type": "markdown",
   "metadata": {
    "collapsed": false
   },
   "source": [
    "---\n",
    "## 1. Align\n",
    "<br>\n",
    "**First we must create a text file that contains the names of the sample directories.  Do this as follows:**\n",
    "\n",
    "Copy and paste the below into UNIX."
   ]
  },
  {
   "cell_type": "raw",
   "metadata": {
    "collapsed": false
   },
   "source": [
    "echo 'sample1' >$HOME/RNASEQ/sample_dirs.txt\n",
    "echo 'sample2' >>$HOME/RNASEQ/sample_dirs.txt\n",
    "echo 'sample3' >>$HOME/RNASEQ/sample_dirs.txt\n",
    "echo 'sample4' >>$HOME/RNASEQ/sample_dirs.txt"
   ]
  },
  {
   "cell_type": "markdown",
   "metadata": {
    "collapsed": false
   },
   "source": [
    "** (3) When you make a file like we just did, you should always check that it worked. **\n",
    "\n",
    "So do that by \n",
    "\n",
    "    cat $HOME/RNASEQ/sample_dirs.txt\n",
    "\n",
    "and make sure it has the four lines it should have, no more and no less.  Paste the result of the cat command in the box below."
   ]
  },
  {
   "cell_type": "raw",
   "metadata": {
    "collapsed": false
   },
   "source": [
   ]
  },
  {
   "cell_type": "markdown",
   "metadata": {
    "collapsed": false
   },
   "source": [
    "**Now we are ready to align the data with STAR.**"
   ]
  },
  {
   "cell_type": "raw",
   "metadata": {
    "collapsed": false
   },
   "source": [
    "perl /ext/data/RNASEQ/norm_scripts/runstar_all.pl $HOME/RNASEQ/sample_dirs.txt $HOME/RNASEQ/reads/ /ext/data/RNASEQ/star_chr1and2andM/"
   ]
  },
  {
   "cell_type": "markdown",
   "metadata": {
    "collapsed": false
   },
   "source": [
    "**Now we  wait while STAR does the aligning.  Depending on how many reads you have this can take minutes to hours.**\n",
    "\n",
    "We can monitor the progress in several ways.\n",
    "\n",
    "First off the `bjobs` command displays the current status of the pending, running or suspended jobs that you own.\n",
    "\n",
    "**(4) Run that command now and paste what you see in the box below.  You should see a header line and up to four lines showing active jobs.  Some of the jobs may have already finished so you may not see all four.**"
   ]
  },
  {
   "cell_type": "raw",
   "metadata": {
    "collapsed": false
   },
   "source": [
    "bjobs"
   ]
  },
  {
   "cell_type": "raw",
   "metadata": {
    "collapsed": false
   },
   "source": [
   ]
  },
  {
   "cell_type": "markdown",
   "metadata": {
    "collapsed": false
   },
   "source": [
    "** (5) Secondly, to monitor progress, you can check the log files in the `$HOME/RNASEQ/logs` directory.**\n",
    "\n",
    "** Run the command below on that directory now and enter the result in the box below.**"
   ]
  },
  {
   "cell_type": "raw",
   "metadata": {
    "collapsed": false
   },
   "source": [
    "ls -ltr $HOME/RNASEQ/logs/"
   ]
  },
  {
   "cell_type": "raw",
   "metadata": {
    "collapsed": false
   },
   "source": [
   ]
  },
  {
   "cell_type": "markdown",
   "metadata": {
    "collapsed": false
   },
   "source": [
    "**We ran a script that in turn ran all four STAR alignments for us so we didn't have to do them by hand one-by-one.**\n",
    "\n",
    "** (6)  But you could, if you wanted, run the four STAR jobs one-by-one directly at the command line.  The the Perl script wrote the command to run STAR into a shell script.  You could execute the line in that shell script directly at the command prompt, if you wanted to.  To see the command run the following and paste the result in the box below:**"
   ]
  },
  {
   "cell_type": "raw",
   "metadata": {
    "collapsed": false
   },
   "source": [
    "more $HOME/RNASEQ/shell_scripts/sample1.runstar.sh"
   ]
  },
  {
   "cell_type": "raw",
   "metadata": {
    "collapsed": false
   },
   "source": [
   ]
  },
  {
   "cell_type": "markdown",
   "metadata": {
    "collapsed": false
   },
   "source": [
    "---\n",
    "\n",
    "# Homework\n",
    "---\n",
    "\n",
    "In this assignment you will work with the alignment files that STAR produces.\n",
    "\n",
    "These files are in \"SAM format\".\n",
    "\n",
    "_You will have to refer to the `SAMv1.pdf` file that you can find in this week's folder_\n",
    "\n",
    "**[Q1] Your first task is to just look at the top ten rows of the following SAM file:  **"
   ]
  },
  {
   "cell_type": "raw",
   "metadata": {
    "collapsed": false
   },
   "source": [
    "$HOME/RNASEQ/reads/sample1/Aligned.out.sam"
   ]
  },
  {
   "cell_type": "markdown",
   "metadata": {
    "collapsed": false
   },
   "source": [
    "So execute the following command and paste the result in the box below:"
   ]
  },
  {
   "cell_type": "raw",
   "metadata": {
    "collapsed": false
   },
   "source": [
    "head $HOME/RNASEQ/reads/sample1/Aligned.out.sam"
   ]
  },
  {
   "cell_type": "raw",
   "metadata": {
    "collapsed": true
   },
   "source": [
   ]
  },
  {
   "cell_type": "markdown",
   "metadata": {
    "collapsed": false
   },
   "source": [
    "**[Q2] You can see from the first few lines which chromosomes have reads aligned to them.  Type those chromosome names into the box below, one per line (from the results of the head command):**"
   ]
  },
  {
   "cell_type": "raw",
   "metadata": {
    "collapsed": false
   },
   "source": [
   ]
  },
  {
   "cell_type": "markdown",
   "metadata": {
    "collapsed": false
   },
   "source": [
    "**[Q3] Now your next task is to count the number of alignments (rows) for which the read aligned perfectly without gaps.  **\n",
    "\n",
    "\n",
    "There is a particular field in the SAM file called the \"CIGAR String\" that gives us this information.  If the CIGAR string is \"100M\" then the read aligned perfectly with no gaps.\n",
    " \n",
    " So your job is to count the number of rows that have 100M as their CIGAR string.\n",
    " \n",
    " You will have to refer to the SAMv1.pdf document to find out where the CIGAR string is in each row.\n",
    " \n",
    "Then you should write one UNIX command that will return the answer.  You will have to pipe together a few basic UNIX commands to make this work.\n",
    "\n",
    "**a. Construct the UNIX command and paste it into the box below.**"
   ]
  },
  {
   "cell_type": "raw",
   "metadata": {
    "collapsed": true
   },
   "source": [
   ]
  },
  {
   "cell_type": "markdown",
   "metadata": {
    "collapsed": false
   },
   "source": [
    "**b. Now execute the command and paste the answer in the box below.  Because it is a large file it may take several minutes for the command to finish.**"
   ]
  },
  {
   "cell_type": "raw",
   "metadata": {
    "collapsed": false
   },
   "source": [
   ]
  }
 ],
 "metadata": {
  "anaconda-cloud": {
  },
  "kernelspec": {
   "display_name": "R (R-Project)",
   "language": "r",
   "name": "ir"
  },
  "language_info": {
   "codemirror_mode": "r",
   "file_extension": ".r",
   "mimetype": "text/x-r-source",
   "name": "R",
   "pygments_lexer": "r",
   "version": "3.3.2"
  },
  "name": "In_Class_RNASEQ-1.ipynb"
 },
 "nbformat": 4,
 "nbformat_minor": 0
}