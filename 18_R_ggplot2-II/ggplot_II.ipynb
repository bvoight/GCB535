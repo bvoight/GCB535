{
 "cells": [
  {
   "cell_type": "markdown",
   "metadata": {},
   "source": [
    "# In Class: ggplot2 - II"
   ]
  },
  {
   "cell_type": "markdown",
   "metadata": {},
   "source": [
    "## Loading packages and data"
   ]
  },
  {
   "cell_type": "markdown",
   "metadata": {},
   "source": [
    "In this session, we will continue our analysis of COVID-19 data in the US, but this time look more locally at individual case data from Montgomery county in Pennsylvania (Data which one of your course directors may or may not have been obsessively analyzing since March 2020).\n",
    "\n",
    "We will look at the number of cases across townships, the age distribution of these cases and how outcomes are associated with age.\n",
    "\n",
    "Unlike the previous session, where we used mostly geoms with 'identity' stats (e.g. geom_point), here we will use functions that calculate different stats from the data including counts, bins and density.\n",
    "\n",
    "We have already downloaded the data for you. As before, load the data using the code below and take a look at it so you can get an idea of how it is structured.\n",
    "\n",
    "Execute the following code below to get started:"
   ]
  },
  {
   "cell_type": "code",
   "execution_count": null,
   "metadata": {
    "scrolled": true
   },
   "outputs": [],
   "source": [
    "library(tidyverse)\n",
    "options(repr.plot.width=10, repr.plot.height=3) #set size for plots in this notebook\n",
    "data <- as_tibble(read.csv('data.csv'))\n",
    "head(data)"
   ]
  },
  {
   "cell_type": "markdown",
   "metadata": {},
   "source": [
    "As before, run the code below to convert the column DateReported to Class \"Date\"."
   ]
  },
  {
   "cell_type": "code",
   "execution_count": null,
   "metadata": {
    "scrolled": true
   },
   "outputs": [],
   "source": [
    "data$DateReported = as.Date(data$DateReported,format = '%Y-%m-%d')"
   ]
  },
  {
   "cell_type": "markdown",
   "metadata": {},
   "source": [
    "In this dataset, every line is a single confirmed COVID-19 case. \n",
    "\n",
    "First, let us plot the number of cases in the county as a function of time. In the last in class session, we had the total number cases reportd each day as a variable, so it was very intutive to plot that number over the date using geom_point.\n",
    "\n",
    "Here, we would need to summarize the number of rows reported each day. You have already done this two classes ago! (Hint: you would like to make a bar plot)"
   ]
  },
  {
   "cell_type": "markdown",
   "metadata": {},
   "source": [
    "**Q1.** Write the ggplot code that:\n",
    "- creates a barplot for the number of cases reported per day.\n",
    "\n",
    "Provide and execute your code below:"
   ]
  },
  {
   "cell_type": "code",
   "execution_count": null,
   "metadata": {},
   "outputs": [],
   "source": []
  },
  {
   "cell_type": "markdown",
   "metadata": {},
   "source": [
    "**Q2.** What statistic is being used as a summary in this plot? *(Hint: check the documentation for geom_bar)*"
   ]
  },
  {
   "cell_type": "markdown",
   "metadata": {},
   "source": []
  },
  {
   "cell_type": "markdown",
   "metadata": {},
   "source": [
    "Next, let us investigate how many cases have been reported in each township (indicated in the column labelled *Name*). \n",
    "\n",
    "To do that, we need to produce a new table (call it **count_data**) with two columns: \n",
    "\n",
    "the column \"Name\" that contains the name of each township \n",
    "\n",
    "and the column \"n\" that contains the number of cases (which is the number of rows reported by each township)."
   ]
  },
  {
   "cell_type": "markdown",
   "metadata": {},
   "source": [
    "Remember back in R-III how we used different functions in dplyr (tidyverse) to summarize and group data? If you don't recall, look back at your R-III prelab or inclass assignment to help you answer this next question:\n",
    "\n",
    "**Q3.** Use dplyr's **group_by()** and **summarize()** function, make a new table that\n",
    "- groups the data by *Name*\n",
    "- summarizes the total count (name this \"n\") for each Name (hint: n() might be helpful here) \n",
    "- stores the output in a new variable called **count_data**.\n",
    "- check the output of **count_data** using the **head()** function\n",
    "\n",
    "Provide and Execute your code below:"
   ]
  },
  {
   "cell_type": "code",
   "execution_count": null,
   "metadata": {},
   "outputs": [],
   "source": []
  },
  {
   "cell_type": "markdown",
   "metadata": {},
   "source": [
    "Now let's add an additional piece of data. It would be interesting to compare the number of confirmed cases with the population size in each township and calculate the percent of population that had a confirmed infection. \n",
    "\n",
    "For that, we will need to add a column to our **count_data** with the population size for each township, and another column with the ratio of these numbers.\n",
    "\n",
    "Execute the code below to load a table with population size."
   ]
  },
  {
   "cell_type": "code",
   "execution_count": null,
   "metadata": {},
   "outputs": [],
   "source": [
    "pop_size <- as_tibble(read.csv('montco_2010_census.csv'))\n",
    "head(pop_size)"
   ]
  },
  {
   "cell_type": "markdown",
   "metadata": {},
   "source": [
    "(This data is from the 2010 census, but not much happens in the suburbs....)\n",
    "\n",
    "Now you will have to *join* the two tables and add another column - *pct_infected* - with the ratio. \n",
    "\n",
    "**Q4.** Modify the code below (to the contents of the mutate function) and add the missing part to calculate the ratio.\n",
    "\n",
    "Execute the code after you have modified it."
   ]
  },
  {
   "cell_type": "code",
   "execution_count": null,
   "metadata": {},
   "outputs": [],
   "source": [
    "count_data <- count_data %>% inner_join(pop_size) %>% mutate(___________________)\n",
    "head(count_data)"
   ]
  },
  {
   "cell_type": "markdown",
   "metadata": {},
   "source": [
    "(Note the variable that was used to join the two tables. This time it was easy because both tables had a single shared variable, but in other cases you might need to specify which variable to use for the join.)"
   ]
  },
  {
   "cell_type": "markdown",
   "metadata": {},
   "source": [
    "Now, let's compare the size of each township with the percent of confirmed infections.\n",
    "\n",
    "**Q5.** Produce a ggplot2 dot plot to compare these two variables.\n",
    "\n",
    "Provide and Execute the code below:"
   ]
  },
  {
   "cell_type": "code",
   "execution_count": null,
   "metadata": {},
   "outputs": [],
   "source": []
  },
  {
   "cell_type": "markdown",
   "metadata": {},
   "source": [
    "Looking at this plot, do you think there is a clear relationship? Why or why not?"
   ]
  },
  {
   "cell_type": "markdown",
   "metadata": {},
   "source": []
  },
  {
   "cell_type": "markdown",
   "metadata": {},
   "source": [
    "Next, let's choose the top four townships with the highest number of infections for further analysis. \n",
    "\n",
    "Execute the code below to sort **count_data** by the total number of confirmed infections."
   ]
  },
  {
   "cell_type": "code",
   "execution_count": null,
   "metadata": {},
   "outputs": [],
   "source": [
    "count_data <- count_data %>% arrange(n)\n",
    "head(count_data)"
   ]
  },
  {
   "cell_type": "markdown",
   "metadata": {},
   "source": [
    "ooops... the code sorted the column n by an ascending order!\n",
    "\n",
    "**Q6.** Modify the code below (to the contents of arrange) such that the order would be reversed. (hint: is there a descending function in tidyverse?)\n",
    "\n",
    "Execeute the code below after you modify."
   ]
  },
  {
   "cell_type": "code",
   "execution_count": null,
   "metadata": {},
   "outputs": [],
   "source": [
    "count_data <- count_data %>% arrange(______)\n",
    "head(count_data)"
   ]
  },
  {
   "cell_type": "markdown",
   "metadata": {},
   "source": [
    "Great! Now that we know which four townships have the highest number of infections, we will focus on them for addtional analysis.\n",
    "\n",
    "**Q7.** Reuse the code from **Q1** and replot these four townships, such that each will have a seperate plot:\n",
    "- Filter the **data** variable to include only these four townships\n",
    "- Use **facet_wrap()** to plot the data for the four townships separatly\n",
    "\n",
    "Remember that you can use %>% to input data directly into ggplot, try to write this in one command without saving any addtional variables.\n",
    "\n",
    "Provide and execute the code below:"
   ]
  },
  {
   "cell_type": "code",
   "execution_count": null,
   "metadata": {},
   "outputs": [],
   "source": []
  },
  {
   "cell_type": "markdown",
   "metadata": {},
   "source": [
    "Each bar in our plot contains all the cases reported on that specific day, we can easily add information to these bars by dividing them according to an addtional categorical variable. For example, say we would like to know which age groups the cases reported on each day belong to. \n",
    "\n",
    "**Q8.** Build on the code in **Q7** to:\n",
    "- add one additional aesthetic mapping using the paramater \"fill\", and assigning the variable *Age_Range* to it.\n",
    "\n",
    "Provide and execute the code below:"
   ]
  },
  {
   "cell_type": "code",
   "execution_count": null,
   "metadata": {},
   "outputs": [],
   "source": []
  },
  {
   "cell_type": "markdown",
   "metadata": {},
   "source": [
    "**Q9.** Look closely at these plots. \n",
    "\n",
    "Do you see a difference in age composition between the first and second wave in Lower Merion?"
   ]
  },
  {
   "cell_type": "markdown",
   "metadata": {},
   "source": []
  },
  {
   "cell_type": "markdown",
   "metadata": {},
   "source": [
    "Finally, we all know that there is a strong relationship between age and outcome of Sars-CoV2 infection. So let's check if this is reflected in the data. \n",
    "\n",
    "In the original dataset from montoco (**data**), there is a column called *Hospitalized* which contains some outcome data. \n",
    "\n",
    "Execute the code below to make a density plot of the age distribution for the different outcomes."
   ]
  },
  {
   "cell_type": "code",
   "execution_count": null,
   "metadata": {},
   "outputs": [],
   "source": [
    "ggplot(data) + geom_density(aes(x=Age,fill=Hospitalized))"
   ]
  },
  {
   "cell_type": "markdown",
   "metadata": {},
   "source": [
    "This is nice, but it is a bit hard to see the distribution of cases that were not hospitalized. \n",
    "\n",
    "However, we can add a parameter to 'geom' which will make the fill semi-transparent (hint: read about potential arguements you can provide to the **geom_density()** function). \n",
    "\n",
    "**Q10.** Modify the code from the plot above to add some transparency, and replot it here.\n",
    "\n",
    "Provide and execute the code below:"
   ]
  },
  {
   "cell_type": "code",
   "execution_count": null,
   "metadata": {
    "scrolled": true
   },
   "outputs": [],
   "source": []
  },
  {
   "cell_type": "markdown",
   "metadata": {},
   "source": [
    "# Homework\n",
    "\n",
    "For homework, let's look at the rate of vaccination across different US states.\n",
    "\n",
    "Load the data from the file \n",
    "\n",
    "**us-daily-covid-vaccine-doses-administered.csv** \n",
    "\n",
    "This file contains the number of reported shots per day for each US state."
   ]
  },
  {
   "cell_type": "markdown",
   "metadata": {},
   "source": [
    "**Q11.** Plot the number of shots per day over time for four of your favorite states. \n",
    "\n",
    "Provide and Execute your code below:"
   ]
  },
  {
   "cell_type": "code",
   "execution_count": null,
   "metadata": {},
   "outputs": [],
   "source": []
  },
  {
   "cell_type": "markdown",
   "metadata": {},
   "source": [
    "**Q12.** Assuming:\n",
    "- That the vaccination rate estimated by the average in the last 7 recorded days persists until the end of the pandemic\n",
    "- and that everyone who is offered a vaccine accepts one \n",
    "\n",
    "How many days will it take for each of these states reach 75% vaccination, a level close to hopefully a level of 'herd immunity'? And what precise day is that? (Do note that the rates of vaccination are actually increasing as we go along. So the guess you are making here is in this way a very conservative one!)"
   ]
  },
  {
   "cell_type": "markdown",
   "metadata": {},
   "source": []
  }
 ],
 "metadata": {
  "kernelspec": {
   "display_name": "R",
   "language": "R",
   "name": "ir"
  },
  "language_info": {
   "codemirror_mode": "r",
   "file_extension": ".r",
   "mimetype": "text/x-r-source",
   "name": "R",
   "pygments_lexer": "r",
   "version": "4.0.3"
  }
 },
 "nbformat": 4,
 "nbformat_minor": 1
}
