{
 "cells": [
  {
   "cell_type": "markdown",
   "metadata": {},
   "source": [
    "# Prelab: ggplot 2\n",
    "\n",
    "**Facets**"
   ]
  },
  {
   "cell_type": "markdown",
   "metadata": {},
   "source": [
    "As discussed in the lecture, facets is an addtional layer of a graphic object in ggplot that enables you to split the plot according to different categorical variables.\n",
    "\n",
    "Here we will learn to use this feature using the famous mpg dataset. This dataset is already loaded when you load the tidyverse library.\n",
    "\n",
    "**To get complete credit for this prelab, execute the commands in your ipynb and answer the question at the bottom.**"
   ]
  },
  {
   "cell_type": "code",
   "execution_count": null,
   "metadata": {
    "scrolled": true
   },
   "outputs": [],
   "source": [
    "library(tidyverse)\n",
    "head(mpg)"
   ]
  },
  {
   "cell_type": "markdown",
   "metadata": {},
   "source": [
    "Let's start by plotting the highway miles per gallon (hwy) as a function of engine displacement (displ)."
   ]
  },
  {
   "cell_type": "code",
   "execution_count": null,
   "metadata": {},
   "outputs": [],
   "source": [
    "ggplot(mpg, aes(displ, hwy)) + geom_point()"
   ]
  },
  {
   "cell_type": "markdown",
   "metadata": {},
   "source": [
    "Now let's say that we would like to plot this separatly for different classes of cars. We can easily achive this by adding another layer to our graph called faced_wrap, where we will define facets to be a function of class."
   ]
  },
  {
   "cell_type": "code",
   "execution_count": null,
   "metadata": {},
   "outputs": [],
   "source": [
    "ggplot(mpg, aes(displ, hwy)) + geom_point() + facet_wrap(~class)"
   ]
  },
  {
   "cell_type": "markdown",
   "metadata": {},
   "source": [
    "Facets can be defined by more than one variable. For example, if we wanted to separate the plot above for cars with a different type of drive train (drv) we would simply add it to the facets as below."
   ]
  },
  {
   "cell_type": "code",
   "execution_count": null,
   "metadata": {},
   "outputs": [],
   "source": [
    "ggplot(mpg, aes(displ, hwy)) + geom_point() + facet_wrap(~class+drv)"
   ]
  },
  {
   "cell_type": "markdown",
   "metadata": {},
   "source": [
    "**Q1** facet_wrap has a parameter that enables you to define the number of columns or rows. Replot the previous plot such that you will have six plots in each line (six columns or two rows)."
   ]
  },
  {
   "cell_type": "code",
   "execution_count": null,
   "metadata": {},
   "outputs": [],
   "source": []
  }
 ],
 "metadata": {
  "anaconda-cloud": {},
  "kernelspec": {
   "display_name": "R",
   "language": "R",
   "name": "ir"
  },
  "language_info": {
   "codemirror_mode": "r",
   "file_extension": ".r",
   "mimetype": "text/x-r-source",
   "name": "R",
   "pygments_lexer": "r",
   "version": "4.0.4"
  },
  "name": "R_Prelab_1.ipynb"
 },
 "nbformat": 4,
 "nbformat_minor": 1
}
