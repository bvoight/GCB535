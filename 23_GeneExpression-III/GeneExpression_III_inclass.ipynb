{
 "cells": [
  {
   "cell_type": "markdown",
   "metadata": {},
   "source": [
    "## Analysis of Gene Expression Data via Arrays using Bioconductor/R - III"
   ]
  },
  {
   "cell_type": "markdown",
   "metadata": {},
   "source": [
    "**Today, this notebook constitutes your in-class activity AND homework.**\n",
    "\n",
    "We will pick up from where we left off with the analysis of our gene expression data set from last time.\n",
    "\n",
    "We left off having performed our differential gene-expression analysis. However, our results were in terms of \"probes\" rather than genes; we'd like to be able to know what genes are actually of interest in our analysis. Today, we'll connect our analysis to annotation data so that we can obtain this information."
   ]
  },
  {
   "cell_type": "markdown",
   "metadata": {},
   "source": [
    "**Q1.** Let's recover our pipeline from last time.\n",
    "\n",
    "- Copy code from the in-class assignment Gene Expr. II, from: Q1. These are the steps that correspond to: (i) loading R libraries, (ii) loading the file that maps phenotype to cel files (i.e., the .csv file), (iii) storing the list of cel files available, (iv) reading the cel files.\n",
    "\n",
    "- Copy code from the in-class assignment Gene Expr. II, from: Q2 and Q3. These steps correspond to (i) the normalization step, and (ii) creating a box-plot of the normalized array data.\n",
    "\n",
    "- Copy code from the in-class assignment Gene Expr. II, from: Q4 and Q5. These steps correspond to (i) the group/design analysis matrices, (ii) the analysis, (iii) the empirical Bayes correction, (iv) the top table construction, and (v) print the top five results to screen. "
   ]
  },
  {
   "cell_type": "code",
   "execution_count": 0,
   "metadata": {},
   "outputs": [],
   "source": []
  },
  {
   "cell_type": "markdown",
   "metadata": {},
   "source": [
    "**Q2.** Load the annotation library package biomaRt in R. \n",
    "\n",
    "\n",
    "**Provide and execute your R code below.**"
   ]
  },
  {
   "cell_type": "code",
   "execution_count": 0,
   "metadata": {
    "collapsed": true
   },
   "outputs": [],
   "source": []
  },
  {
   "cell_type": "markdown",
   "metadata": {},
   "source": [
    "**Q3.** OK, now let's obtain some annotation information\n",
    "\n",
    "- create a variable called `mymart`, **which loads the appropriate library from the ensembl database for mouse**. (Hint: `usemart())`\n",
    "- obtain a list of the affy probe ids for the top 100 results variable \"tt\" above, stored in a variable called pidsTophits\n",
    "- print the first 5 probe entries from pidsTophits\n",
    "\n",
    "**Provide and execute your R code below.**"
   ]
  },
  {
   "cell_type": "code",
   "execution_count": 0,
   "metadata": {},
   "outputs": [],
   "source": []
  },
  {
   "cell_type": "markdown",
   "metadata": {},
   "source": [
    "**Q4.** Continue obtaining annotation information. Note that getting all of the annotations will take some time!\n",
    "\n",
    "- obtain the following annotations from ensembl stored in a new variable called \"annot\" for your list of affy probe ids:\n",
    "\n",
    "        probeids (for the array technology used for this experiment, affy_mouse430_2)\n",
    "        chromosome\n",
    "        start position\n",
    "        end position\n",
    "        mgi gene symbol (mouse)\n",
    "        entrez gene id\n",
    "        Description\n",
    "        \n",
    "- print out to screen for the first 5 entries in your table: probeid, chr, start, end, mgi, and description\n",
    "\n",
    "**Provide and execute your R code below.**"
   ]
  },
  {
   "cell_type": "code",
   "execution_count": 0,
   "metadata": {},
   "outputs": [],
   "source": []
  },
  {
   "cell_type": "markdown",
   "metadata": {},
   "source": [
    "**Q5.** Output your annotations to file that reports everything but the description, without quotes, and separated by commas (useful for data parsing) to a file called `tt-annot-forparse.csv`\n",
    "\n",
    "**Provide and execute your R code below.**"
   ]
  },
  {
   "cell_type": "code",
   "execution_count": 0,
   "metadata": {},
   "outputs": [],
   "source": []
  },
  {
   "cell_type": "markdown",
   "metadata": {},
   "source": [
    "**Q6.** Now that we have annotations, we need to merge them together with the table that contained our association information. However, notice that the annot matrix lists the probe ids in a different order than the statistical association table.\n",
    "\n",
    "- Create a table called `tt_ids` which includes data from the `tt` variable with the variable `pidsTophits`. Store into a new variable called `tt_ids` (hint: `cbind()` in base R or `bind_cols()` in tidyverse)\n",
    "- Rename the column containing `pidTophits` to `affyprobeid` in the variable `tt_ids` (hint: colnames).\n",
    "- print the first five entries of tt_ids to the screen.\n",
    "\n",
    "**Provide and execute your R code below.**"
   ]
  },
  {
   "cell_type": "code",
   "execution_count": 0,
   "metadata": {},
   "outputs": [],
   "source": []
  },
  {
   "cell_type": "markdown",
   "metadata": {},
   "source": [
    "**Q7.** Now, we need to prepare and merge the annot file with tt_ids:\n",
    "\n",
    "- Rename the first column in the variable `annot` - the one that contains your probeid to `affyprobeid`.\n",
    "- output the first 5 entries in the variable `annot` to ensure that the name has been changed\n",
    "- Aggregate the table `tt_ids` with `annot` using `affyprobeid` as the key. Save the results into a new table called `tt_plus_annot`. (hint: `merge()` in base R or consider table joining functions in tidyverse)\n",
    "\n",
    "**Provide and execute your R code below.**"
   ]
  },
  {
   "cell_type": "code",
   "execution_count": 0,
   "metadata": {},
   "outputs": [],
   "source": []
  },
  {
   "cell_type": "markdown",
   "metadata": {},
   "source": [
    "**Q8.** Let's sort the table to get the most significant results to the top of the dable. \n",
    "\n",
    "- arrage the the table by the key `adj.P.Val`. Store the sorted table to a new variable called `tt_annot_s`. (Hint: `order()` in base R or `arrange()` in tidyverse might be helpful)\n",
    "- output the results of the first 5 row of `tt_annot_s`\n",
    "\n",
    "**Provide and execute your R code below.**"
   ]
  },
  {
   "cell_type": "code",
   "execution_count": 0,
   "metadata": {},
   "outputs": [],
   "source": []
  },
  {
   "cell_type": "markdown",
   "metadata": {},
   "source": [
    "**Q9.** What are the genes listed in the top 10 results? "
   ]
  },
  {
   "cell_type": "markdown",
   "metadata": {},
   "source": []
  },
  {
   "cell_type": "markdown",
   "metadata": {},
   "source": [
    "**Q10.** How many unique genes are given in the your top results variable tt_annot_s? \n",
    "\n",
    "- TIP: Think through (in human terms) the specific tasks/function calls you will need to do perform the task. \n",
    "- Create a variable called \"uniqgenelist\" that lists your mgi gene symbols. (Hint: Use the variable \"tt_annot_s\".)\n",
    "- Double check the list of genes that you have constructed. Do all of the entries have a gene listed? \n",
    "- Create a new variable called \"uniqgenelist_filt\" that excludes entries that are \"NA\" or are empty (i.e., \"\").\n",
    "\n",
    "- Hint #1: There may a very straight forward function to do this with tidyverse. \n",
    "- Hint #2: length(), unique(), and is.na() functions may be useful to you.\n",
    "- Hint #3: the \"!\" (she-bang) character computes ths inverse of the function. e.g. \"!is.na(list)\" means in human terms \"which elements in list are **NOT** NA?\"\n",
    "- Hint #4: you can use logical operations (i.e., ==, !=) to match 'empty' entries (i.e., \"\"), even within []. Try it!\n",
    "\n",
    "\n",
    "**Provide and execute your R code below.**"
   ]
  },
  {
   "cell_type": "code",
   "execution_count": 0,
   "metadata": {},
   "outputs": [],
   "source": []
  },
  {
   "cell_type": "markdown",
   "metadata": {},
   "source": [
    "**Q11.** Save the list of unique genes (filtered to exclude \"NA\"s) to a file called `mygenelist.txt`, no quotes, row names, or column names. \n",
    "\n",
    "**Provide and execute your R code below.**"
   ]
  },
  {
   "cell_type": "code",
   "execution_count": 0,
   "metadata": {},
   "outputs": [],
   "source": []
  },
  {
   "cell_type": "markdown",
   "metadata": {},
   "source": [
    "#### Now, let us use [WebGestalt](http://www.webgestalt.org/) to perform some ontology analysis using the unique set of genes created above.\n",
    "- Under \"Basic Parameters\" choose the appropriate organism, ORA as the method, and geneontology/Biological_process_noRedundant as the functional database.\n",
    "- Copy and paste (or upload) the list of genes in the \"Gene List\" section\n",
    "- Choose the appropriate reference set from the drop down menu in the \"Reference Gene List\" section. Hint: What is found in \"affyRaw\", the variable that stores your array data?\n",
    "- Under \"Advanced parameters\", choose BH (Benjamini-Hochberg) for multiple test correction and tell it to output the top 10 results. Leave the other options unchanged.\n",
    "- Hit submit."
   ]
  },
  {
   "cell_type": "markdown",
   "metadata": {},
   "source": [
    "**Q12.** What background gene list did you select? Why is this important? "
   ]
  },
  {
   "cell_type": "markdown",
   "metadata": {},
   "source": []
  },
  {
   "cell_type": "markdown",
   "metadata": {
    "collapsed": true
   },
   "source": [
    "**Q13.** Does that tool find all of the genes that you provided? Why or why not? How could you fix this?"
   ]
  },
  {
   "cell_type": "markdown",
   "metadata": {},
   "source": []
  },
  {
   "cell_type": "markdown",
   "metadata": {},
   "source": [
    "**Q14.** Do any of the top 10 associations pass a FDR (false discovery rate) of 0.002 or better? What does \"significance level\" mean? If yes, do any of these categories make plausible or intuitive sense for the gene expression analysis that you performed?"
   ]
  },
  {
   "cell_type": "markdown",
   "metadata": {},
   "source": []
  },
  {
   "cell_type": "markdown",
   "metadata": {},
   "source": [
    "**Q15.** Here, we selected the top 100 genes for enrichment analysis. Was this choice warrented? Why or why not? Having performed this analysis, what might you do differently?"
   ]
  },
  {
   "cell_type": "markdown",
   "metadata": {},
   "source": []
  },
  {
   "cell_type": "markdown",
   "metadata": {},
   "source": [
    "**Q16.** One final item in your pipeline to finish it off: run the R function `sessionInfo()` to record the functions and versions used for your analysis.\n",
    "\n",
    "**Provide and execute your R code below.**"
   ]
  },
  {
   "cell_type": "code",
   "execution_count": 0,
   "metadata": {},
   "outputs": [],
   "source": []
  },
  {
   "cell_type": "markdown",
   "metadata": {},
   "source": [
    "### Congrats! You have completed your first pipeline! High five yourself and breathe a sigh of relief. :)"
   ]
  }
 ],
 "metadata": {
  "anaconda-cloud": {},
  "kernelspec": {
   "display_name": "R",
   "language": "R",
   "name": "ir"
  },
  "language_info": {
   "codemirror_mode": "r",
   "file_extension": ".r",
   "mimetype": "text/x-r-source",
   "name": "R",
   "pygments_lexer": "r",
   "version": "3.6.1"
  }
 },
 "nbformat": 4,
 "nbformat_minor": 1
}
