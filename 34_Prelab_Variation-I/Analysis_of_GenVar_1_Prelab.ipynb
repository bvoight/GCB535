{
 "cells": [
  {
   "cell_type": "markdown",
   "metadata": {
    "collapsed": false
   },
   "source": [
    "# Prelab: Genetic variation, databases and tools for analysis #"
   ]
  },
  {
   "cell_type": "markdown",
   "metadata": {
    "collapsed": false
   },
   "source": [
    "This lab has two components. \n",
    "\n",
    "1.\tIn the first part we will use an open source tool called PLINK to analyze some genetic variation data, with an emphasis on basic data quality control (QC) filtering and genotype-phenotype association testing.\n",
    "2.\tIn the second part we will focus on various databases (UCSC Genome Browser, 1000 genomes, HapMap) to examine genetic variants. \n"
   ]
  },
  {
   "cell_type": "markdown",
   "metadata": {
    "collapsed": false
   },
   "source": [
    "## Part 1: PLINK"
   ]
  },
  {
   "cell_type": "markdown",
   "metadata": {
    "collapsed": false
   },
   "source": [
    "PLINK is a toolkit for whole genome association analysis. It is is very computationally efficient to do large-scale analyses. PLINK is freely available to researchers and can be downloaded from http://pngu.mgh.harvard.edu/~purcell/plink/. We have already installed the PLINK on CoCalc for you. You can open a terminal and type \"plink\" to run it.\n",
    "\n",
    "**Note:** There is no need to type `./plink` to run the program. Rather, simply type `plink` and you're on your way. `plink --help` is also useful, but the help page is long."
   ]
  },
  {
   "cell_type": "markdown",
   "metadata": {
    "collapsed": false
   },
   "source": [
    "*** Summary statistics on the sample dataset ***"
   ]
  },
  {
   "cell_type": "markdown",
   "metadata": {
    "collapsed": false
   },
   "source": [
    "You will find a zip file called “data.zip” in the folder \"plink_lab\". Unzip this file for the following analysis."
   ]
  },
  {
   "cell_type": "raw",
   "metadata": {
    "collapsed": false
   },
   "source": [
    "1. Quality control (QC)"
   ]
  },
  {
   "cell_type": "markdown",
   "metadata": {
    "collapsed": false
   },
   "source": [
    "We are ready to start exploring the data. First we want to examine and validate our data, we may simply run plink with the basic input (--file) and output (--out) commands and make sure there are no errors. The option --noweb tells the PLINK to skip the web check since we are using the command line."
   ]
  },
  {
   "cell_type": "code",
   "execution_count": 0,
   "metadata": {
    "collapsed": true
   },
   "outputs": [
   ],
   "source": [
    "plink --noweb --file ./plink_lab/hapmap1 --out ./plink_lab/validate"
   ]
  },
  {
   "cell_type": "markdown",
   "metadata": {
    "collapsed": false
   },
   "source": [
    "Plink should print a bunch of information as it runs in the terminal, which will be saved to a file plink.log. You will be able to revisit this run “log” at any time by typing:"
   ]
  },
  {
   "cell_type": "code",
   "execution_count": 0,
   "metadata": {
    "collapsed": true
   },
   "outputs": [
   ],
   "source": [
    "more ./plink_lab/validate.log"
   ]
  },
  {
   "cell_type": "markdown",
   "metadata": {
    "collapsed": false
   },
   "source": [
    "The following are a few things to pay special attention to:\n",
    "\n",
    "0 SNPs failed missingness test ( GENO > 1 )\n",
    "\n",
    "This step removes individual SNPs which are missing from too many samples. Initially GENO is set to >1, so no SNP columns are removed."
   ]
  },
  {
   "cell_type": "markdown",
   "metadata": {
    "collapsed": false
   },
   "source": [
    "0 SNPs failed frequency test ( MAF < 0 )\n",
    "\n",
    "MAF is the Minor Allele Frequency. It can be used to exclude SNPs which are not informative because they show little variation in the sample set being analyzed. For instance, if a SNP shows variation in only 1 of the 89 individuals, it is not useful statistically and should be removed. Initially, MAF is set to < 0, meaning that no SNPs are excluded. Let’s change this to make MAF < 0.01 grounds for excluding the SNP."
   ]
  },
  {
   "cell_type": "raw",
   "metadata": {
    "collapsed": false
   },
   "source": [
    "2. Filter SNPs in the data"
   ]
  },
  {
   "cell_type": "markdown",
   "metadata": {
    "collapsed": false
   },
   "source": [
    "We will now run plink putting explicit thresholds on SNP minor allele frequency (--maf), SNP genotyping rate (--geno) and missingness per individual/sample (--mind). Note that many missing genotypes at a SNP level are often indicative of underperforming SNP array probes, whereas many missing genotypes at an individual/sample level are usually indicative of poor sample quality. Similar to before, plink will output a log file in addition to a table of samples passing quality control filters (.imiss file) and a table of SNPs passing the filters (.lmiss file):"
   ]
  },
  {
   "cell_type": "code",
   "execution_count": 0,
   "metadata": {
    "collapsed": true
   },
   "outputs": [
   ],
   "source": [
    "plink --maf 0.01 --geno 0.1 --mind 0.1 --noweb --file ./plink_lab/hapmap1 --missing --out ./plink_lab/plink-filter"
   ]
  },
  {
   "cell_type": "markdown",
   "metadata": {
    "collapsed": false
   },
   "source": [
    "Geno > 0.1 criteria removes SNPs that were missing more than 10% of their genotypes across the sample set."
   ]
  },
  {
   "cell_type": "markdown",
   "metadata": {
    "collapsed": false
   },
   "source": [
    "MAF < 0.01 criteria removes SNPs that had a Minor Allele Frequency of < 1%."
   ]
  },
  {
   "cell_type": "markdown",
   "metadata": {
    "collapsed": false
   },
   "source": [
    "Note that these thresholds are somewhat arbitrary, but seem to be a good empirical starting point."
   ]
  },
  {
   "cell_type": "markdown",
   "metadata": {
    "collapsed": false
   },
   "source": [
    "*** Association analysis ***"
   ]
  },
  {
   "cell_type": "markdown",
   "metadata": {
    "collapsed": false
   },
   "source": [
    "We will now perform a basic analysis, to identify associations between SNP alleles and the disease phenotype. "
   ]
  },
  {
   "cell_type": "raw",
   "metadata": {
    "collapsed": false
   },
   "source": [
    "1. Genotype-phenotype association test "
   ]
  },
  {
   "cell_type": "markdown",
   "metadata": {
    "collapsed": false
   },
   "source": [
    "Run plink using the same quality control filters as before. We will now use the --assoc command in order to tell plink to perform basic genotype-phenotype association testing:"
   ]
  },
  {
   "cell_type": "code",
   "execution_count": 0,
   "metadata": {
    "collapsed": true
   },
   "outputs": [
   ],
   "source": [
    "plink --maf 0.01 --geno 0.1 --mind 0.1 --noweb --file ./plink_lab/hapmap1 --assoc --out ./plink_lab/plink-filter-assoc"
   ]
  },
  {
   "cell_type": "markdown",
   "metadata": {
    "collapsed": false
   },
   "source": [
    "The association output file (.assoc) stores a single SNP association result in each row. The fields are:\n",
    "\n",
    "Chromosome  \n",
    "SNP identifier  \n",
    "Location of the SNP on the chromosome (called physical distance and measured in bp)  \n",
    "Code for allele 1 (the more rare or 'minor' allele based on the entire sample frequencies)  \n",
    "The frequency of this variant in affected individuals (cases)  \n",
    "The frequency of this variant in unaffected individuals (control)  \n",
    "Code for allele 2 (the more common or 'major' allele)  \n",
    "The chi-squared statistic for this test (1 df)  \n",
    "The asymptotic p-value for this test  \n",
    "The odds ratio for this test  "
   ]
  },
  {
   "cell_type": "raw",
   "metadata": {
    "collapsed": false
   },
   "source": [
    "2. P-value and Odds Ratio (OR)"
   ]
  },
  {
   "cell_type": "markdown",
   "metadata": {
    "collapsed": false
   },
   "source": [
    "These are the most important fields. The p-value measures the statistical significance of the association of each SNP with the phenotype of interest, whereas the odds ratio measures the relative odds of falling into a given phenotype category based each SNP genotype. In this sense, the odds ratio measures the effect size of the SNP, but with an important caveat: “effect” is used liberally here, since association tests only measure correlation but do not prove causation!"
   ]
  },
  {
   "cell_type": "markdown",
   "metadata": {
    "collapsed": false
   },
   "source": [
    "Which SNPs are most strongly associated with the phenotype based on p-value? We can use the sort command to quickly sort files on the command line and find the top SNPs with the most signiciant p-values."
   ]
  },
  {
   "cell_type": "code",
   "execution_count": 0,
   "metadata": {
    "collapsed": true
   },
   "outputs": [
   ],
   "source": [
    "sort -k9g ./plink_lab/plink-filter-assoc.assoc | head"
   ]
  },
  {
   "cell_type": "markdown",
   "metadata": {
    "collapsed": false
   },
   "source": [
    "Where do these p-values come from? Remember that we are looking for SNPs that are over represented in the cases compared to the controls."
   ]
  },
  {
   "cell_type": "markdown",
   "metadata": {
    "collapsed": false
   },
   "source": [
    "<img src=\"chi-square.png\">"
   ]
  },
  {
   "cell_type": "markdown",
   "metadata": {
    "collapsed": false
   },
   "source": [
    "Where:\n",
    "mA is the # of A alleles in cases, nA is the # of A alleles in controls, mB is the # of B alleles in cases, nB is the # of B alleles in controls. M is the total number of cases, and N is the total number of controls\n",
    "\n",
    "A chi-squared test assesses if the underlying frequencies of alleles A and B are different enough to be statistically significant.\n",
    " \n",
    "Our null hypothesis is that this SNP is not associated with the disease, so our expected is that the frequency of the allele is the same in the case and controls. "
   ]
  },
  {
   "cell_type": "markdown",
   "metadata": {
    "collapsed": false
   },
   "source": [
    "<img src=\"chi.png\">"
   ]
  },
  {
   "cell_type": "markdown",
   "metadata": {
    "collapsed": false
   },
   "source": [
    "3. Viewing Results"
   ]
  },
  {
   "cell_type": "markdown",
   "metadata": {
    "collapsed": false
   },
   "source": [
    "Haploview is a viewer specifically for statistical genomics studies. One of its functions is to plot the results of an association analysis across the genome so that they can be visualized. Although covering Haploview goes beyond the scope of the lab (although it is easy to set up and use for anyone interested), a Haploview “Manhattan plot” (-log10 p-value vs. genomic coordinate) is shown below for the present dataset:"
   ]
  },
  {
   "cell_type": "markdown",
   "metadata": {
    "collapsed": false
   },
   "source": [
    "<img src=\"Haploview.png\">"
   ]
  },
  {
   "cell_type": "markdown",
   "metadata": {
    "collapsed": false
   },
   "source": [
    "The highest dot represents the most significant SNP 'rs12302542' on chromosome 12. If there were a true association, we would expect some of its neighboring SNPs to also be associated with the phenotype, as in the population we would expect some of those SNP alleles to be coinherited with the rs12302542 allele. This is indeed what we see, with a number of SNPs on chromosome 12 also having significant p-value!"
   ]
  },
  {
   "cell_type": "markdown",
   "metadata": {
    "collapsed": false
   },
   "source": [
    "## Part 2: Using Genome Browser  to examine genomic variations ##"
   ]
  },
  {
   "cell_type": "markdown",
   "metadata": {
    "collapsed": false
   },
   "source": [
    "The gene MAPK3 is a member of the MAP kinase family, which is also known as extracellular signal-regulated kinases and acts in signaling cascade that regulates various cellular processes such as proliferation, differentiation, and cell cycle progression in response to a variety of extracellular signals. MAPK3 is activated by upstream kinases, resulting in its translocation to the nucleus where it phosphorylates nuclear targets. We are going to use the UCSC Genome Browser to find SNPs in this gene."
   ]
  },
  {
   "cell_type": "markdown",
   "metadata": {
    "collapsed": false
   },
   "source": [
    "First, go to the UCSC Genome Browser and find the locus of the MAPK3 gene in human (make sure you select hg19 assembly). You will discover that several genes are called MAPK3. Click on the first isoform of the gene."
   ]
  },
  {
   "cell_type": "markdown",
   "metadata": {
    "collapsed": false
   },
   "source": [
    "Jump to the (chr16:30,128,215-30,128,325) 3rd  exon of MAPK3. Scroll down to the Variation and Repeats section, and set the \"All SNPs (150)\", “1000G Ph1 Vars” and “HapMap SNPs” options to \"full.”  Also, under Comparative Genomics, select “full’ for \"Cons 46-Way\". You are welcome to turn off other tracks to have a clear and less cluttered view. Click refresh."
   ]
  },
  {
   "cell_type": "markdown",
   "metadata": {
    "collapsed": true
   },
   "source": [
    "You will see many SNPs in this region. By looking at “Mammal Cons” scores at these SNPs, you can tell which SNPs are conserved.\n",
    "We can grab all the SNPs in a region using the Table Browser tool. Make the browser window jump back to the entire MAPK3 gene region then click on the Tools>Table Browser link.\n",
    "\n",
    "Set the group option to \"Variation\". The track option should be set to \"All SNPs (150)\" and the region options should be set to \"position\" and chr16:30,125,426-30,134,289, which forms the boundaries of the MAPK3 gene. Click on the \"get output\" button at the bottom of the screen. Notice that insertions and deletions are also returned using this technique (look at the reference allele in the \"refUCSC\" column vs. the \"observed\" allele)."
   ]
  },
  {
   "cell_type": "markdown",
   "metadata": {
    "collapsed": false
   },
   "source": [
    "### Appendix ###"
   ]
  },
  {
   "cell_type": "markdown",
   "metadata": {
    "collapsed": false
   },
   "source": [
    "We do not have the time to cover the dbSNP (http://www.ncbi.nlm.nih.gov/SNP/ ) and 1000 genomes (http://phase3browser.1000genomes.org/index.html) datasets, separately in the lab. \n",
    "\n",
    "However if you find a variant, and you want to look at it in more detail, then you must consult the dbSNP database for it. It has tons on information on the population genetics/variation aspect of the SNP, and other relevant stuff.\n",
    "\n",
    "1000 genomes browser has the most up to date information on the genetic variation present on a particular region of the genome. You can also use this to look at specific variation in a particular population or even further sub-classify variants by the frequency."
   ]
  }
 ],
 "metadata": {
  "kernelspec": {
  },
  "language_info": {
   "codemirror_mode": {
    "name": "ipython",
    "version": 2
   },
   "file_extension": ".py",
   "mimetype": "text/x-python",
   "name": "python",
   "nbconvert_exporter": "python",
   "pygments_lexer": "ipython2",
   "version": "2.7.11"
  },
  "name": "31_Analysis_of_Genetic_Variation_1_prelab.ipynb"
 },
 "nbformat": 4,
 "nbformat_minor": 0
}