{
 "cells": [
  {
   "cell_type": "markdown",
   "metadata": {},
   "source": [
    "# Homework Set - I"
   ]
  },
  {
   "cell_type": "markdown",
   "metadata": {},
   "source": [
    "### Section One. Finding Genomic information Online"
   ]
  },
  {
   "cell_type": "markdown",
   "metadata": {},
   "source": [
    "Your colleague, Sarah, is studying the geneotic etiology of Type 2 diabetes (T2D). She has identified a region with several mutations associated with T2D on chromosome 10, ranging from base pairs 112,900,000 to 113,900,000 using NCBI build 38 (hg38). Use UCSC Genome Browser and/or other public databases to view information about known genes in this region. Please exclude pseudogenes.[Hint: you can click the gene region and check the basic information of the genes to determine if a gene is a pseudogene].  "
   ]
  },
  {
   "cell_type": "markdown",
   "metadata": {},
   "source": [
    "**Q1.** What are the RefSeq (protein-coding) genes in this region? List at least 4 different genes."
   ]
  },
  {
   "cell_type": "raw",
   "metadata": {
    "vscode": {
     "languageId": "raw"
    }
   },
   "source": []
  },
  {
   "cell_type": "markdown",
   "metadata": {},
   "source": [
    "**Q2.1.** Are there any genes in this region which are known to be associated with T2D? If so, provide evidence from at least 2 different public databases. Be sure to include the URL to each database entry on which you base your answer.\n",
    "[Hint: There is Phenotype and Disease Associations category on UCSC genome browser. You can also check the RefSeq gene entries for information as well]\n"
   ]
  },
  {
   "cell_type": "raw",
   "metadata": {
    "vscode": {
     "languageId": "raw"
    }
   },
   "source": [
    "\n"
   ]
  },
  {
   "cell_type": "markdown",
   "metadata": {},
   "source": [
    "**Q2.2.** Sarah wants to know how coding mutations in the gene that you identified contribute to T2D risk. You remember that UniProt may contain relevant information for protein strctures. Based on the information from the database, what is the effect of most mutations on the protein? In other words, what is the most common way that variants alter the function of the protein? [Hint: You should search the gene symbol in the database, then go to the \"Disease & Variants\" section of the protein.]"
   ]
  },
  {
   "cell_type": "code",
   "execution_count": 0,
   "metadata": {
    "vscode": {
     "languageId": "r"
    }
   },
   "outputs": [],
   "source": []
  },
  {
   "cell_type": "markdown",
   "metadata": {},
   "source": [
    "### Section Two: Base R"
   ]
  },
  {
   "cell_type": "markdown",
   "metadata": {},
   "source": [
    "**For the following questions, write your code or the text answer in the cells indicated. Do not use tidyverse or ggplot for any of the questions in this section.**"
   ]
  },
  {
   "cell_type": "markdown",
   "metadata": {},
   "source": [
    "**Q3.** Create a vector containing all even numbers between 2 to 100, in order `(2, 4, 6, ... 100)` and assign it to a variable named `even`. Then, print `even` so that you can confirm that you created it correctly. (Hint: Don't just write out all the numbers. You can use mathematical operations to help create this vector if you want.)"
   ]
  },
  {
   "cell_type": "code",
   "execution_count": null,
   "metadata": {
    "vscode": {
     "languageId": "r"
    }
   },
   "outputs": [],
   "source": []
  },
  {
   "cell_type": "markdown",
   "metadata": {},
   "source": [
    "**Q4.** Using the `even` vector, create another vector containing all odd numbers between 1 and 100 `(1, 3, 5, ... 99)` and assign it to a variable called `odd`. Then, print the 5th number in the `odd` vector."
   ]
  },
  {
   "cell_type": "code",
   "execution_count": null,
   "metadata": {
    "vscode": {
     "languageId": "r"
    }
   },
   "outputs": [],
   "source": []
  },
  {
   "cell_type": "markdown",
   "metadata": {},
   "source": [
    "Remember that in R, you can perform mathematical operations on every element in a vector with a single command. These \"vectorized calculations\" are a very useful feature of R. With this feature, we don't need to write a \"for\" loop to do the same calculation, which can take longer to complete."
   ]
  },
  {
   "cell_type": "markdown",
   "metadata": {},
   "source": [
    "A robust version of the mean is trimmed mean. That is, trim some small values and large values before calculating the mean. \n",
    "\n",
    "In R, the trimmed mean can be calculate with the `trim` parameter. "
   ]
  },
  {
   "cell_type": "markdown",
   "metadata": {},
   "source": [
    "**Q5.** We have created a `numbers` vector for you below. Using the help page of `mean()`, caculate the mean value of `numbers` with `trim=0.1`, and save the trimmed mean in a new variable named `trim_mean`."
   ]
  },
  {
   "cell_type": "code",
   "execution_count": null,
   "metadata": {
    "vscode": {
     "languageId": "r"
    }
   },
   "outputs": [],
   "source": [
    "# Just run this code, don't worry about how it works\n",
    "set.seed(0)\n",
    "numbers <- rt(100, 50, df=10) "
   ]
  },
  {
   "cell_type": "code",
   "execution_count": null,
   "metadata": {
    "vscode": {
     "languageId": "r"
    }
   },
   "outputs": [],
   "source": []
  },
  {
   "cell_type": "markdown",
   "metadata": {},
   "source": [
    "**Q6.1.** Next, we will use a recently publised single cell RNA-Seq dataset. Load `single_cell_rnaseq_hw1.txt` into a variable named `scdata`, using the function `read.table`. \n",
    "Note: \n",
    "1. we have provided you this file in your problem set folder; \n",
    "2. this file has the first line as the header; "
   ]
  },
  {
   "cell_type": "code",
   "execution_count": null,
   "metadata": {
    "vscode": {
     "languageId": "r"
    }
   },
   "outputs": [],
   "source": []
  },
  {
   "cell_type": "markdown",
   "metadata": {},
   "source": [
    "**Q6.2.** Before working with a data table, it's important to know the basic shape of the table. Write code to print the names of the columns of `scdata`, and write another line of code to print the number of rows in scdata. (Note - you can normally see both of these things by just printing the whole data table - but we don't want you to do that here! Your code should print ONLY the column names and the number of rows.)\n",
    "\n"
   ]
  },
  {
   "cell_type": "code",
   "execution_count": null,
   "metadata": {
    "vscode": {
     "languageId": "r"
    }
   },
   "outputs": [],
   "source": []
  },
  {
   "cell_type": "markdown",
   "metadata": {},
   "source": [
    "**Q7.** Use `[]` to output the first 5 rows and all columns of `scdata`. Note that the columns are genes and the rows are samples.\n"
   ]
  },
  {
   "cell_type": "code",
   "execution_count": null,
   "metadata": {
    "vscode": {
     "languageId": "r"
    }
   },
   "outputs": [],
   "source": []
  },
  {
   "cell_type": "markdown",
   "metadata": {},
   "source": [
    "**Q7.2.** To access columns in a `matrix` or a `data.frame`, we can use the position index \\(i.e., `2` represents the second column\\), or the name index, if the column name exists. For a `data.frame`, we can also use dollar sign to access a named column. Please provide three ways to show the first five rows of the `Scg2` gene. Make sure you get the same results. Which approach do you think is the least readable, and why?\n"
   ]
  },
  {
   "cell_type": "code",
   "execution_count": null,
   "metadata": {
    "vscode": {
     "languageId": "r"
    }
   },
   "outputs": [],
   "source": []
  },
  {
   "cell_type": "markdown",
   "metadata": {},
   "source": [
    "**Q8.** Use `[]` and `<-` to change the value of the object in the second row, third column in scdata to 422. Use `[]` to output the first 5 rows and all columns again."
   ]
  },
  {
   "cell_type": "code",
   "execution_count": null,
   "metadata": {
    "vscode": {
     "languageId": "r"
    }
   },
   "outputs": [],
   "source": []
  },
  {
   "cell_type": "markdown",
   "metadata": {},
   "source": [
    "**Q9.** Note the above action is dangerous! We cannot retrieve the original values after changing the object \\(and save it under the same object\\). Fortunately, we have not modified the raw file itself. So we will reload the data. Reload the file `single_cell_rnaseq_hw1.txt` into the `scdata` variable and output the first 5 rows for a second time. Is the value in the second row, second column 422, or the original value? Why? Write your code in the first cell and answer in the second cell.\n"
   ]
  },
  {
   "cell_type": "code",
   "execution_count": null,
   "metadata": {
    "vscode": {
     "languageId": "r"
    }
   },
   "outputs": [],
   "source": []
  },
  {
   "cell_type": "raw",
   "metadata": {
    "vscode": {
     "languageId": "raw"
    }
   },
   "source": []
  },
  {
   "cell_type": "markdown",
   "metadata": {},
   "source": [
    "**Q10.** Calculate the summary statistics for each gene. What are the mean values for gene `Sub1` and `Aldoa` from the summary statistics? Write down the code in the first cell and your answers in the second cell."
   ]
  },
  {
   "cell_type": "code",
   "execution_count": null,
   "metadata": {
    "vscode": {
     "languageId": "r"
    }
   },
   "outputs": [],
   "source": []
  },
  {
   "cell_type": "raw",
   "metadata": {
    "vscode": {
     "languageId": "raw"
    }
   },
   "source": []
  },
  {
   "cell_type": "markdown",
   "metadata": {},
   "source": [
    "**Q11.1.** If we want to use t-test to test the statistical difference of `Sub1` and `Aldoa`, what is the null hypothesis and alternative hypothesis in this case? Write your answer in the following cell."
   ]
  },
  {
   "cell_type": "raw",
   "metadata": {
    "vscode": {
     "languageId": "raw"
    }
   },
   "source": []
  },
  {
   "cell_type": "markdown",
   "metadata": {},
   "source": [
    "**Q11.2.** Perform the t-test to compare the mean values of `Sub1` and `Aldoa`. Save the output to a variable called `t_result`  "
   ]
  },
  {
   "cell_type": "code",
   "execution_count": null,
   "metadata": {
    "vscode": {
     "languageId": "r"
    }
   },
   "outputs": [],
   "source": []
  },
  {
   "cell_type": "markdown",
   "metadata": {},
   "source": [
    "**Q11.3.** Ouput the t-statistic and p-value from the above test. What is your conclusion?"
   ]
  },
  {
   "cell_type": "code",
   "execution_count": null,
   "metadata": {
    "vscode": {
     "languageId": "r"
    }
   },
   "outputs": [],
   "source": []
  },
  {
   "cell_type": "raw",
   "metadata": {
    "vscode": {
     "languageId": "raw"
    }
   },
   "source": []
  },
  {
   "cell_type": "markdown",
   "metadata": {},
   "source": [
    "**Q12.** Plot the expression level of `Sub1` and `Aldoa` using a scatter plot (put `Sub1` on y-axis and `Aldoa` on x-axis), using the `plot()` function in base R. \n",
    "Note: please use base R functions for questions **Q12** to **Q15** (NOT tidyverse/ggplot)."
   ]
  },
  {
   "cell_type": "code",
   "execution_count": null,
   "metadata": {
    "vscode": {
     "languageId": "r"
    }
   },
   "outputs": [],
   "source": []
  },
  {
   "cell_type": "markdown",
   "metadata": {},
   "source": [
    "**Q13.1.** Perform a simple linear regression between `Sub1` and `Aldoa`; consider `Sub1` as the response variable and `Aldoa` as the explanatory variable. Save the linear regression results into a variable named `linear_regression_result`"
   ]
  },
  {
   "cell_type": "code",
   "execution_count": null,
   "metadata": {
    "vscode": {
     "languageId": "r"
    }
   },
   "outputs": [],
   "source": []
  },
  {
   "cell_type": "markdown",
   "metadata": {},
   "source": [
    "**Q13.2.** Plot the regression line on the previous scatter plot."
   ]
  },
  {
   "cell_type": "code",
   "execution_count": null,
   "metadata": {
    "vscode": {
     "languageId": "r"
    }
   },
   "outputs": [],
   "source": []
  },
  {
   "cell_type": "markdown",
   "metadata": {},
   "source": [
    "**Q13.3.** From the regression results, ouput:\n",
    "\n",
    "- The p-value \n",
    "- The R-squared value\n",
    "\n",
    "Hint: you may find the `summary()` function useful."
   ]
  },
  {
   "cell_type": "code",
   "execution_count": null,
   "metadata": {
    "vscode": {
     "languageId": "r"
    }
   },
   "outputs": [],
   "source": []
  },
  {
   "cell_type": "markdown",
   "metadata": {},
   "source": [
    "**Q13.4.** Given the results from the regression, interpret the correlation between `Sub1` and `Aldoa` providing a justification of that interpretation with the data."
   ]
  },
  {
   "cell_type": "raw",
   "metadata": {
    "vscode": {
     "languageId": "raw"
    }
   },
   "source": []
  },
  {
   "cell_type": "markdown",
   "metadata": {},
   "source": [
    "**Q14.1.** Use a boxplot to plot the expression levels of `Sub1` and `Aldoa`. Make sure to properly label both the x and the y axes."
   ]
  },
  {
   "cell_type": "code",
   "execution_count": null,
   "metadata": {
    "vscode": {
     "languageId": "r"
    }
   },
   "outputs": [],
   "source": []
  },
  {
   "cell_type": "markdown",
   "metadata": {},
   "source": [
    "**Q14.2.** Which gene has larger median?"
   ]
  },
  {
   "cell_type": "raw",
   "metadata": {
    "vscode": {
     "languageId": "raw"
    }
   },
   "source": []
  },
  {
   "cell_type": "markdown",
   "metadata": {},
   "source": [
    "**Q15.1.** Plot the distributions of gene `Sub1` and `Aldoa` with histograms."
   ]
  },
  {
   "cell_type": "code",
   "execution_count": null,
   "metadata": {
    "vscode": {
     "languageId": "r"
    }
   },
   "outputs": [],
   "source": []
  },
  {
   "cell_type": "markdown",
   "metadata": {},
   "source": [
    "**Q15.2.** Do these genes look normally distributed? Why or why not? If the data is not normal, which distribution would be better to model this count-based expression data?"
   ]
  },
  {
   "cell_type": "raw",
   "metadata": {
    "vscode": {
     "languageId": "raw"
    }
   },
   "source": []
  },
  {
   "cell_type": "markdown",
   "metadata": {},
   "source": [
    "### Section Three: ggplot2"
   ]
  },
  {
   "cell_type": "markdown",
   "metadata": {},
   "source": [
    "**Q16.1.** Remake the scatterplot from **Q13.2** using ggplot. "
   ]
  },
  {
   "cell_type": "code",
   "execution_count": null,
   "metadata": {
    "vscode": {
     "languageId": "r"
    }
   },
   "outputs": [],
   "source": []
  },
  {
   "cell_type": "markdown",
   "metadata": {},
   "source": [
    "**Q16.2.** Remake the boxplot from **Q14.1** with ggplot. For scientific pulications, the `theme_minimal()` or `theme_classic()` are usually preferred. Please set the plot theme by the `theme_minimal()` or `theme_classic()` function. Also, give different fill colors for each gene, and specify the colors manually to `#ff6361` and `darkblue`. "
   ]
  },
  {
   "cell_type": "code",
   "execution_count": null,
   "metadata": {
    "vscode": {
     "languageId": "r"
    }
   },
   "outputs": [],
   "source": []
  },
  {
   "cell_type": "markdown",
   "metadata": {},
   "source": [
    "**Q17.1.** For the histograms in **Q15.1**, combine the histograms into a single plot using ggplot. To do this, you'll need to use the \n",
    "\n",
    "* Use the `geom_histogram()` function in ggplot, providing the argument `binwidth=3` \n",
    "* Color Aldoa and Sub1 different colors but otherwise leave the default settings of geom_histogram in place. \n",
    "* Color the bars themselves and not the bar outlines (Hint: there are different aesthetic parameters used for each of these two things!)"
   ]
  },
  {
   "cell_type": "code",
   "execution_count": null,
   "metadata": {
    "vscode": {
     "languageId": "r"
    }
   },
   "outputs": [],
   "source": []
  },
  {
   "cell_type": "markdown",
   "metadata": {},
   "source": [
    "**Q17.2.** Compare the plot you just made to the histograms from **Q15.1**. What do you notice about the style (plotting type) of how the expression data for the two genes are plotted?"
   ]
  },
  {
   "cell_type": "raw",
   "metadata": {
    "vscode": {
     "languageId": "raw"
    }
   },
   "source": []
  },
  {
   "cell_type": "markdown",
   "metadata": {},
   "source": [
    "**Q17.3.** In a new plot, modify geom_histogram() function call from your previous plot and:\n",
    "\n",
    "* include the arguments `alpha=0.6` and `position=\"identity\"`\n",
    "\n",
    "Describe in your own words what changes each of these separate arguments have done to the plot."
   ]
  },
  {
   "cell_type": "code",
   "execution_count": null,
   "metadata": {
    "vscode": {
     "languageId": "r"
    }
   },
   "outputs": [],
   "source": []
  },
  {
   "cell_type": "raw",
   "metadata": {},
   "source": []
  },
  {
   "cell_type": "markdown",
   "metadata": {},
   "source": [
    "The ggplot2 package is known for its great flexibility in generating publication-level figures. There are mutliple useful resources online for you to use the package, for example, the ggplot2 cheat sheet (https://rstudio.github.io/cheatsheets/html/data-visualization.html). Go to the website and download the cheatsheet, and answer the question below. \n",
    "\n",
    "**Q17.4.** You have conducted a set of experiments to determine the mouse weight in treatment and control group. In each group, you have five replicates. In reporting your results, you want to add error bars to the plot to show the variation within each group. Which ggplot function can help you plot errorbars in this setting?"
   ]
  },
  {
   "cell_type": "raw",
   "metadata": {
    "vscode": {
     "languageId": "raw"
    }
   },
   "source": []
  },
  {
   "cell_type": "markdown",
   "metadata": {},
   "source": [
    "### Section Four: Tidyverse"
   ]
  },
  {
   "cell_type": "markdown",
   "metadata": {},
   "source": [
    "**Q18.1.** Load (read) data into R is a critical first step. The data may of different structure, thus requiring different function settings for loading the data. Please take a look at the file `Iditarod.txt`, which is The 2017 Iditarod Trail race data. Does it have a header (column names)? What is the separator? Given this knowledge, load the data into your notebook, and then, load the `tidyverse()` library. \n",
    "\n",
    "You may want to use `head()` or `tail()` on the dataframe to view the first/last few rows, to make sure the data structure loaded is desired."
   ]
  },
  {
   "cell_type": "code",
   "execution_count": null,
   "metadata": {
    "vscode": {
     "languageId": "r"
    }
   },
   "outputs": [],
   "source": []
  },
  {
   "cell_type": "markdown",
   "metadata": {},
   "source": [
    "**Q18.2.** Use pipes (`%>%`) to print all dogs with speed >11, and then use the `head()` function to print the first few instances."
   ]
  },
  {
   "cell_type": "code",
   "execution_count": null,
   "metadata": {
    "vscode": {
     "languageId": "r"
    }
   },
   "outputs": [],
   "source": []
  },
  {
   "cell_type": "markdown",
   "metadata": {},
   "source": [
    "**Q18.3.** There are issues in this table. Some dogs with missing data resulted in a `Time` of zero. This may cause issues in our downstream results. Thus, we should clean up the data. Given this information, we should filter out the rows with `Time == 0` and `Speed` is `NA`. You will find the `is.na()` function useful. Please remember to save the filtered data back to the variable, or your change is not saved. "
   ]
  },
  {
   "cell_type": "code",
   "execution_count": null,
   "metadata": {
    "vscode": {
     "languageId": "r"
    }
   },
   "outputs": [],
   "source": []
  },
  {
   "cell_type": "markdown",
   "metadata": {},
   "source": [
    "**Q18.4.** Use pipes (`%>%`) to find the average value of `Time` for every country, and then sort the countries by average time (ascending or descending).\n",
    "\n",
    "HINT: You'll need to use `mean()` with `na.rm = TRUE`, because some dogs have a time of `NA`. "
   ]
  },
  {
   "cell_type": "code",
   "execution_count": null,
   "metadata": {
    "vscode": {
     "languageId": "r"
    }
   },
   "outputs": [],
   "source": []
  },
  {
   "cell_type": "markdown",
   "metadata": {},
   "source": [
    "**Q18.5.** Using these data, create a new plot which uses \n",
    "\n",
    "- Use at least two pipes (`%>%`) and two dplyr commands (`mutate()`, `group_by()`, `summarise()`, `filter()`, `arrange()`, ...) to manipulate the dataset.\n",
    "\n",
    "- Use a different plot type (`geom_line()`, `geom_point()`, `geom_boxplot()`, `geom_bar()`, or more! [This website](http://r-statistics.co/Top50-Ggplot2-Visualizations-MasterList-R-Code.html) describes a large spectrum of plotting types).\n",
    "\n",
    "- Use color, shape, or size as an aesthetic."
   ]
  },
  {
   "cell_type": "code",
   "execution_count": null,
   "metadata": {
    "vscode": {
     "languageId": "r"
    }
   },
   "outputs": [],
   "source": []
  },
  {
   "cell_type": "markdown",
   "metadata": {},
   "source": [
    "### Section Five: Concepts from RNA-seq  ###"
   ]
  },
  {
   "cell_type": "markdown",
   "metadata": {},
   "source": [
    "**Q19.** What issue does PCR amplification prior to sequencing resolve in an RNA-seq experiment? What is the key-drawback of including a PCR-amplication step in an RNA-seq experiment? What types of transcripts suffer most from this shortcoming of PCR amplification?"
   ]
  },
  {
   "cell_type": "raw",
   "metadata": {
    "vscode": {
     "languageId": "raw"
    }
   },
   "source": []
  },
  {
   "cell_type": "markdown",
   "metadata": {},
   "source": [
    "**Q20.** What are the advantages of using poly-dT primers vs random primers during cDNA formation during RNA-seq? Which types of transcripts will each capture?"
   ]
  },
  {
   "cell_type": "raw",
   "metadata": {
    "vscode": {
     "languageId": "raw"
    }
   },
   "source": []
  },
  {
   "cell_type": "markdown",
   "metadata": {},
   "source": [
    "### Section Six: Multiple Hypothesis Testing"
   ]
  },
  {
   "cell_type": "markdown",
   "metadata": {},
   "source": [
    "**Q21.** What is the difference between Bonferroni correction and FDR correction?"
   ]
  },
  {
   "cell_type": "raw",
   "metadata": {
    "vscode": {
     "languageId": "raw"
    }
   },
   "source": []
  },
  {
   "cell_type": "markdown",
   "metadata": {},
   "source": [
    "**Q22.** What is an example of an analysis where Bonferroni correction would be appropriate, but FDR correction is not? Why?"
   ]
  },
  {
   "cell_type": "raw",
   "metadata": {
    "vscode": {
     "languageId": "raw"
    }
   },
   "source": []
  },
  {
   "cell_type": "markdown",
   "metadata": {},
   "source": [
    "**Q23.** What is an example of an analysis where FDR correction would be appropriate, but Bonferroni correction might not be recommended? Why?"
   ]
  },
  {
   "cell_type": "raw",
   "metadata": {
    "vscode": {
     "languageId": "raw"
    }
   },
   "source": []
  },
  {
   "cell_type": "markdown",
   "metadata": {},
   "source": [
    "**Q24.** Determine if the following statements are true or false. If a statement is false, correct it so that it is true.\n",
    "\n",
    "1. A p-value is the probability that the data you observed was generated by the the null hypothesis.\n",
    "2. In an analysis where 1,000 tests are conducted, approximately 50 tests are expected to be significant at a significance level of 0.01, even if the null hypothesis is true.\n",
    "3. Biologists should decide which tests to perform BEFORE looking at the data, because visually examining the data to decide which tests to conduct is a form of \"multiple testing\" and will inflate false positive rates."
   ]
  },
  {
   "cell_type": "markdown",
   "metadata": {},
   "source": []
  }
 ],
 "metadata": {
  "kernelspec": {
   "display_name": "R",
   "language": "R",
   "name": "ir"
  },
  "language_info": {
   "codemirror_mode": "r",
   "file_extension": ".r",
   "mimetype": "text/x-r-source",
   "name": "R",
   "pygments_lexer": "r",
   "version": "4.5.1"
  },
  "name": "Online_database_in_class.ipynb"
 },
 "nbformat": 4,
 "nbformat_minor": 4
}
