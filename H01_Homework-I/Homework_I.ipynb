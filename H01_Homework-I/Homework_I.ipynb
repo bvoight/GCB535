{
 "cells": [
  {
   "cell_type": "markdown",
   "metadata": {},
   "source": [
    "# Homework Set - I"
   ]
  },
  {
   "cell_type": "markdown",
   "metadata": {},
   "source": [
    "### Section One. Finding Genomic information Online"
   ]
  },
  {
   "cell_type": "markdown",
   "metadata": {},
   "source": [
    "Your colleague has just finished an extensive karyotyping study across samples from many different types of human cancers. She specifically looked for regions of the genome that have a statistically significant rate of chromosomal aberrations (including inversions, deletions, and translocations). She has asked you to help her analyze her results, starting with a region she identified on chromosome 6, ranging from base pairs 108,510,000 to 109,500,000 using NCBI build 36 (hg18). Use UCSC Genome Browser and/or other public databases to view information about known genes in this region."
   ]
  },
  {
   "cell_type": "markdown",
   "metadata": {},
   "source": [
    "**Q1.** What are the genes in this region?"
   ]
  },
  {
   "cell_type": "raw",
   "metadata": {},
   "source": []
  },
  {
   "cell_type": "markdown",
   "metadata": {},
   "source": [
    "**Q2.** Hypothesize which gene you think is the most likely candidate to be related to human cancers, and provide evidence from at least 3 different public databases. Be sure to include the URL to each database entry on which you base your answer.\n",
    "[Hint: There is Phenotype and Disease Associations category on UCSC genome browser.]\n"
   ]
  },
  {
   "cell_type": "raw",
   "metadata": {},
   "source": []
  },
  {
   "cell_type": "markdown",
   "metadata": {},
   "source": [
    "### Section Two: Base R"
   ]
  },
  {
   "cell_type": "markdown",
   "metadata": {},
   "source": [
    "**For the following questions, write your code or the text answer in the cells indicated. Do not use tidyverse or ggplot for any of the questions in this section.**"
   ]
  },
  {
   "cell_type": "markdown",
   "metadata": {},
   "source": [
    "**Q3.** Create a vector with elements 5,6,7,8,9,10 and assign it to a variable `vec`."
   ]
  },
  {
   "cell_type": "code",
   "execution_count": 2,
   "metadata": {
    "vscode": {
     "languageId": "r"
    }
   },
   "outputs": [],
   "source": []
  },
  {
   "cell_type": "markdown",
   "metadata": {},
   "source": [
    "**Q4.** Multiply the contents of all elements of `vec` by 10, and assign the updated values to `vec`. Print the results."
   ]
  },
  {
   "cell_type": "code",
   "execution_count": null,
   "metadata": {
    "vscode": {
     "languageId": "r"
    }
   },
   "outputs": [],
   "source": []
  },
  {
   "cell_type": "markdown",
   "metadata": {},
   "source": [
    "You can see that each element in \"vec\" is multipled by 10 with this command. Vectorized calculation is a very useful feature of R. With this feature, we don't need to write a \"for\" loop to do the same calculation, which can take longer to complete."
   ]
  },
  {
   "cell_type": "markdown",
   "metadata": {},
   "source": [
    "A robust version of the mean is trimmed mean. That is, trim some small values and large values before calculating the mean. \n",
    "\n",
    "In R, the trimmed mean can be calculate with the `trim` parameter. "
   ]
  },
  {
   "cell_type": "markdown",
   "metadata": {},
   "source": [
    "**Q5.** Using the help page of `mean()`, caculate the mean value of `vec` with `trim=0.1`."
   ]
  },
  {
   "cell_type": "code",
   "execution_count": null,
   "metadata": {
    "vscode": {
     "languageId": "r"
    }
   },
   "outputs": [],
   "source": []
  },
  {
   "cell_type": "markdown",
   "metadata": {},
   "source": [
    "**Q6.** Next, we will use a recently publised single cell RNA-Seq dataset. Load `single_cell_rnaseq_hw1.txt` into a variable named `scdata`. Note: we have provided you this file in your problem set folder, and that this file has the first line as the header."
   ]
  },
  {
   "cell_type": "code",
   "execution_count": null,
   "metadata": {
    "vscode": {
     "languageId": "r"
    }
   },
   "outputs": [],
   "source": []
  },
  {
   "cell_type": "markdown",
   "metadata": {},
   "source": [
    "**Q7.** Use `[]` to output the first 5 rows and all columns of `scdata`. Note that the columns are genes and rows are samples."
   ]
  },
  {
   "cell_type": "code",
   "execution_count": null,
   "metadata": {
    "vscode": {
     "languageId": "r"
    }
   },
   "outputs": [],
   "source": []
  },
  {
   "cell_type": "markdown",
   "metadata": {},
   "source": [
    "**Q8.** Use `[]` and `=` to change the value of the object in the second row, second column in scdata to 333. Use `[]` to output the first 5 rows and all columns again."
   ]
  },
  {
   "cell_type": "code",
   "execution_count": null,
   "metadata": {
    "vscode": {
     "languageId": "r"
    }
   },
   "outputs": [],
   "source": []
  },
  {
   "cell_type": "markdown",
   "metadata": {},
   "source": [
    "**Q9.** Reload the file `single_cell_rnaseq_hw1.txt` into the `scdata` variable and output the first 5 rows for a second time. Is the value in the second row, second column 333, or the original value? Why? Write your code in the first cell and answer in the second cell."
   ]
  },
  {
   "cell_type": "code",
   "execution_count": null,
   "metadata": {
    "vscode": {
     "languageId": "r"
    }
   },
   "outputs": [],
   "source": []
  },
  {
   "cell_type": "raw",
   "metadata": {},
   "source": []
  },
  {
   "cell_type": "markdown",
   "metadata": {},
   "source": [
    "**Q10.** Calculate the summary statistics for each gene. What are the mean values for gene `Sub1` and `Scg2` from the summary statistics? Write down the code in the first cell and your answers in the second cell."
   ]
  },
  {
   "cell_type": "code",
   "execution_count": null,
   "metadata": {
    "vscode": {
     "languageId": "r"
    }
   },
   "outputs": [],
   "source": []
  },
  {
   "cell_type": "raw",
   "metadata": {},
   "source": []
  },
  {
   "cell_type": "markdown",
   "metadata": {},
   "source": [
    "**Q11.1.** If we want to use t-test to test the statistical difference of `Sub1` and `Scg2`, what is the null hypothesis and alternative hypothesis in this case? Write your answer in the following cell."
   ]
  },
  {
   "cell_type": "raw",
   "metadata": {},
   "source": []
  },
  {
   "cell_type": "markdown",
   "metadata": {},
   "source": [
    "**Q11.2.** `attach` the variable `scdata` (otherwise you can't access the columns just by their column names), and perform the t-test to compare the mean values of `Sub1` and `Scg2`. Save the output to a variable called `result`  "
   ]
  },
  {
   "cell_type": "code",
   "execution_count": 8,
   "metadata": {
    "vscode": {
     "languageId": "r"
    }
   },
   "outputs": [],
   "source": []
  },
  {
   "cell_type": "markdown",
   "metadata": {},
   "source": [
    "**Q11.3.** Ouput the t-statistic and p-value from the above test. What is your conclusion?"
   ]
  },
  {
   "cell_type": "code",
   "execution_count": null,
   "metadata": {
    "vscode": {
     "languageId": "r"
    }
   },
   "outputs": [],
   "source": []
  },
  {
   "cell_type": "raw",
   "metadata": {},
   "source": []
  },
  {
   "cell_type": "markdown",
   "metadata": {},
   "source": [
    "**Q12.** Plot the expression level of `Sub1` and `Scg2` using a scatter plot (put `Sub1` on y-axis and `Scg2` on x-axis)."
   ]
  },
  {
   "cell_type": "code",
   "execution_count": 1,
   "metadata": {
    "vscode": {
     "languageId": "r"
    }
   },
   "outputs": [],
   "source": [
    "# For plotting purposes, execute the following line\n",
    "options(repr.plot.width=6, repr.plot.height=6)"
   ]
  },
  {
   "cell_type": "markdown",
   "metadata": {},
   "source": [
    "**Q13.1.** Perform a simple linear regression between `Sub1` and `Scg2`; consider `Sub1` as the response variable and `Scg2` as the explanatory variable."
   ]
  },
  {
   "cell_type": "code",
   "execution_count": null,
   "metadata": {
    "vscode": {
     "languageId": "r"
    }
   },
   "outputs": [],
   "source": []
  },
  {
   "cell_type": "markdown",
   "metadata": {},
   "source": [
    "**Q13.2.** Plot the regression line on the previous scatter plot."
   ]
  },
  {
   "cell_type": "code",
   "execution_count": null,
   "metadata": {
    "vscode": {
     "languageId": "r"
    }
   },
   "outputs": [],
   "source": []
  },
  {
   "cell_type": "markdown",
   "metadata": {},
   "source": [
    "**Q13.3.** From the regression results, ouput:\n",
    "\n",
    "- The p-value \n",
    "- The R-squared value"
   ]
  },
  {
   "cell_type": "code",
   "execution_count": null,
   "metadata": {
    "vscode": {
     "languageId": "r"
    }
   },
   "outputs": [],
   "source": []
  },
  {
   "cell_type": "markdown",
   "metadata": {},
   "source": [
    "**Q13.4.** Given the results from the regression, interpret the correlation between `Sub1` and `Scg2` providing a justification of that interpretation with the data."
   ]
  },
  {
   "cell_type": "raw",
   "metadata": {
    "vscode": {
     "languageId": "r"
    }
   },
   "source": []
  },
  {
   "cell_type": "markdown",
   "metadata": {},
   "source": [
    "**Q14.1.** Use a boxplot to plot the expression levels of `Sub1` and `Scg2`."
   ]
  },
  {
   "cell_type": "code",
   "execution_count": null,
   "metadata": {
    "vscode": {
     "languageId": "r"
    }
   },
   "outputs": [],
   "source": []
  },
  {
   "cell_type": "markdown",
   "metadata": {},
   "source": [
    "**Q14.2.** Which gene has larger median?"
   ]
  },
  {
   "cell_type": "raw",
   "metadata": {},
   "source": []
  },
  {
   "cell_type": "markdown",
   "metadata": {},
   "source": [
    "**Q15.1.** Plot the distributions of gene `Sub1` and `Scg2` with histograms."
   ]
  },
  {
   "cell_type": "code",
   "execution_count": null,
   "metadata": {
    "vscode": {
     "languageId": "r"
    }
   },
   "outputs": [],
   "source": []
  },
  {
   "cell_type": "markdown",
   "metadata": {},
   "source": [
    "**Q15.2.** Do these genes look normally distributed? Why or why not? If the data is not normal, which distribution would be better to model this count-based expression data?"
   ]
  },
  {
   "cell_type": "raw",
   "metadata": {},
   "source": []
  },
  {
   "cell_type": "markdown",
   "metadata": {},
   "source": [
    "### Section Three: ggplot2"
   ]
  },
  {
   "cell_type": "markdown",
   "metadata": {},
   "source": [
    "**Q16.1.** Remake the scatterplot from **Q13.2** using ggplot. "
   ]
  },
  {
   "cell_type": "code",
   "execution_count": null,
   "metadata": {
    "vscode": {
     "languageId": "r"
    }
   },
   "outputs": [],
   "source": []
  },
  {
   "cell_type": "markdown",
   "metadata": {},
   "source": [
    "**Q16.2.** Remake the boxplot from **Q14.1** with ggplot."
   ]
  },
  {
   "cell_type": "code",
   "execution_count": null,
   "metadata": {
    "vscode": {
     "languageId": "r"
    }
   },
   "outputs": [],
   "source": []
  },
  {
   "cell_type": "markdown",
   "metadata": {},
   "source": [
    "**Q17.1.** For the histograms in **Q15.1**, combine the histograms into a single plot using ggplot. To do this, you'll need to use the \n",
    "\n",
    "* Use the `geom_histogram()` function in ggplot, providing the argument `binwidth=3` \n",
    "* Color Scg2 and Sub1 different colors but otherwise leave the default settings of geom_histogram in place. \n",
    "* Color the bars themselves and not the bar outlines (Hint: there are different aesthetic parameters used for each of these two things!)"
   ]
  },
  {
   "cell_type": "code",
   "execution_count": null,
   "metadata": {
    "vscode": {
     "languageId": "r"
    }
   },
   "outputs": [],
   "source": []
  },
  {
   "cell_type": "markdown",
   "metadata": {},
   "source": [
    "**Q17.2.** Compare the plot you just made to the histograms from **Q15.1**. What do you notice about the style (plotting type) of how the expression data for the two genes are plotted?"
   ]
  },
  {
   "cell_type": "raw",
   "metadata": {
    "vscode": {
     "languageId": "r"
    }
   },
   "source": []
  },
  {
   "cell_type": "markdown",
   "metadata": {},
   "source": [
    "**Q17.3.** In a new plot, modify geom_histogram() function call from your previous plot and:\n",
    "\n",
    "* include the arguments `alpha=0.6` and `position=\"identity\"`\n",
    "\n",
    "Describe in your own words what changes each of these separate arguments have done to the plot."
   ]
  },
  {
   "cell_type": "code",
   "execution_count": null,
   "metadata": {
    "vscode": {
     "languageId": "r"
    }
   },
   "outputs": [],
   "source": []
  },
  {
   "cell_type": "markdown",
   "metadata": {},
   "source": [
    "### Section Four: Tidyverse"
   ]
  },
  {
   "cell_type": "markdown",
   "metadata": {},
   "source": [
    "**Q18.1.** Load into your notebook:\n",
    "- The 2017 Iditarod Trail race data (`Iditarod.txt`)\n",
    "- the `tidyverse()` library\n",
    "\n",
    "You may want to use `head()` or `tail()` on the dataframe to view the first/last few rows."
   ]
  },
  {
   "cell_type": "code",
   "execution_count": null,
   "metadata": {
    "vscode": {
     "languageId": "r"
    }
   },
   "outputs": [],
   "source": []
  },
  {
   "cell_type": "markdown",
   "metadata": {},
   "source": [
    "**Q18.2.** Use pipes (`%>%`) to print all dogs with a speed greater than 12."
   ]
  },
  {
   "cell_type": "code",
   "execution_count": null,
   "metadata": {
    "vscode": {
     "languageId": "r"
    }
   },
   "outputs": [],
   "source": []
  },
  {
   "cell_type": "markdown",
   "metadata": {},
   "source": [
    "**Q18.3.** Use pipes (`%>%`) to find the average value of `Time` for every country, and then sort the countries by average time (ascending or descending).\n",
    "\n",
    "HINT: You'll need to use `mean()` with `na.rm = TRUE`, because some dogs have a time of `NA`. "
   ]
  },
  {
   "cell_type": "code",
   "execution_count": null,
   "metadata": {
    "vscode": {
     "languageId": "r"
    }
   },
   "outputs": [],
   "source": []
  },
  {
   "cell_type": "markdown",
   "metadata": {},
   "source": [
    "**Q18.4.** Using these data, create a new plot which uses \n",
    "\n",
    "- Use at least two pipes (`%>%`) and two dplyr commands (`mutate()`, `group_by()`, `summarise()`, `filter()`, `arrange()`, ...) to manipulate the dataset.\n",
    "\n",
    "- Use a different plot type (`geom_line()`, `geom_point()`, `geom_boxplot()`, `geom_bar()`, or more! [This website](http://r-statistics.co/Top50-Ggplot2-Visualizations-MasterList-R-Code.html) describes a large spectrum of plotting types).\n",
    "\n",
    "- Use color, shape, or size as an aesthetic."
   ]
  },
  {
   "cell_type": "raw",
   "metadata": {
    "vscode": {
     "languageId": "r"
    }
   },
   "source": []
  },
  {
   "cell_type": "markdown",
   "metadata": {},
   "source": [
    "### Section Five: Concepts from RNA-seq  ###"
   ]
  },
  {
   "cell_type": "markdown",
   "metadata": {},
   "source": [
    "**Q19.** What issue does PCR amplification prior to sequencing resolve in an RNA-seq experiment? What is the key-drawback of including a PCR-amplication step in an RNA-seq experiment? What types of transcripts suffer most from this shortcoming of PCR amplification?"
   ]
  },
  {
   "cell_type": "raw",
   "metadata": {},
   "source": []
  },
  {
   "cell_type": "markdown",
   "metadata": {},
   "source": [
    "**Q20.** What are the advantages of using poly-dT primers vs random primers during cDNA formation during RNA-seq? Which types of transcripts will each capture?"
   ]
  },
  {
   "cell_type": "raw",
   "metadata": {},
   "source": []
  },
  {
   "cell_type": "markdown",
   "metadata": {},
   "source": [
    "### Section Six: Multiple Hypothesis Testing"
   ]
  },
  {
   "cell_type": "markdown",
   "metadata": {},
   "source": [
    "**Q21.** What is the difference between Bonferroni correction and FDR correction?"
   ]
  },
  {
   "cell_type": "raw",
   "metadata": {},
   "source": []
  },
  {
   "cell_type": "markdown",
   "metadata": {},
   "source": [
    "**Q22.** What is an example of an analysis where Bonferroni correction would be appropriate, but FDR correction is not? Why?"
   ]
  },
  {
   "cell_type": "raw",
   "metadata": {},
   "source": []
  },
  {
   "cell_type": "markdown",
   "metadata": {},
   "source": [
    "**Q23.** What is an example of an analysis where FDR correction would be appropriate, but Bonferroni correction might not be recommended? Why?"
   ]
  },
  {
   "cell_type": "raw",
   "metadata": {},
   "source": []
  },
  {
   "cell_type": "markdown",
   "metadata": {},
   "source": [
    "**Q24.** Determine if the following statements are true or false. If a statement is false, correct it so that it is true.\n",
    "\n",
    "1. A p-value is the probability that a result is true under the assumption of random sampling.\n",
    "2. In an analysis where 1,000 tests are conducted, approximately 50 tests are expected to be significant at a significance level of 0.01, even if the null hypothesis is true.\n",
    "3. In order to reduce multiple testing correction, biologists should first visually examine data, but without testing, in order to decide which hypothesis tests are most likely to be significant."
   ]
  },
  {
   "cell_type": "raw",
   "metadata": {},
   "source": []
  }
 ],
 "metadata": {
  "kernelspec": {
   "display_name": "R",
   "language": "R",
   "name": "ir"
  },
  "language_info": {
   "codemirror_mode": "r",
   "file_extension": ".r",
   "mimetype": "text/x-r-source",
   "name": "R",
   "pygments_lexer": "r",
   "version": "3.6.2"
  },
  "name": "Online_database_in_class.ipynb"
 },
 "nbformat": 4,
 "nbformat_minor": 4
}
