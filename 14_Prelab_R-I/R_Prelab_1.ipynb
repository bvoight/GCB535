{
 "cells": [
  {
   "cell_type": "markdown",
   "metadata": {
    "collapsed": false
   },
   "source": [
    "# Prelab: Introduction to R #\n",
    "\n",
    "# Table of Contents #\n",
    "\n",
    "1. Preamble\n",
    "2. Using R in CoCalc\n",
    "3. Basic usage\n",
    "4. Getting help\n",
    "5. Loading files\n",
    "6. T-test\n",
    "7. Appendix"
   ]
  },
  {
   "cell_type": "markdown",
   "metadata": {
    "collapsed": false
   },
   "source": [
    "**1. Preamble**:"
   ]
  },
  {
   "cell_type": "markdown",
   "metadata": {
    "collapsed": false
   },
   "source": [
    "Thus far you've been running a lot of command line tools. These are programs that are already written. Now that you're becoming comfortable with this, it's time to take on a new challenge. You've got your yellow belt.\n",
    "\n",
    "Now let's earn that orange belt! You can also write programs yourself! With R, we're going to be writing programs that perform a few steps to produce an output.\n",
    "\n",
    "R provides a platform containing many tools to perform statistical tasks including the manipulation, hypothesis testing, graphical display of data, as well as statistical programming. There are many extensions (packages) for R which can add more specialized functionality for a variety of tasks. We are going to introduce you to the basics of R, and at the end of this document there is a list of resources for further information and more comprehensive coverage of these basics."
   ]
  },
  {
   "cell_type": "markdown",
   "metadata": {
    "collapsed": false
   },
   "source": [
    "Following this lecture note, we anticipate that the user will be able to:\n",
    "-\tOpen the R programming environment and run commands interactively\n",
    "-\tCreate and work with basic data types in R, including vectors and tables (data frames)\n",
    "-\tRun basic functions for statistical computing, like “mean”, “sd”, and “t.test”\n",
    "-\tPlot data as a scatterplot and add a regression line\n",
    "-\tVisualize distributions of data by histogram or boxplot\n",
    "-\tFind additional documentation on any command – e.g. help(mean) or ?mean"
   ]
  },
  {
   "cell_type": "markdown",
   "metadata": {
    "collapsed": false
   },
   "source": [
    "**To get complete credit for this prelab, execute the code cells in all examples below. Feel free to add your own code to try out more commands.**"
   ]
  },
  {
   "cell_type": "markdown",
   "metadata": {
    "collapsed": false
   },
   "source": [
    "** 2. Using R in CoCalc**"
   ]
  },
  {
   "cell_type": "markdown",
   "metadata": {
    "collapsed": false
   },
   "source": [
    "We will be using R in iPython notebooks directly on CoCalc. The kernel of your ipynb should be set to \"R (SageMath)\". If your kernel is set, you can execute the code in a cell by clicking the cell and then clicking \"run cell\" or typing Shift+Enter. To make sure R is working in your ipynb, run the code block below. The answer should appear below the cell."
   ]
  },
  {
   "cell_type": "code",
   "execution_count": 0,
   "metadata": {
    "collapsed": false
   },
   "outputs": [
   ],
   "source": [
    "3*4"
   ]
  },
  {
   "cell_type": "markdown",
   "metadata": {
    "collapsed": false
   },
   "source": [
    "You can also use R on your personal computer. Go to https://cran.rstudio.com/ and find the right version for your computer (Linux, Mac or Windows)."
   ]
  },
  {
   "cell_type": "markdown",
   "metadata": {
    "collapsed": false
   },
   "source": [
    "**3. Basic Usage**"
   ]
  },
  {
   "cell_type": "markdown",
   "metadata": {
    "collapsed": false
   },
   "source": [
    "At its simplest level, R can function as a handy calculator. Try some basic arithmetic operations e.g."
   ]
  },
  {
   "cell_type": "code",
   "execution_count": 0,
   "metadata": {
    "collapsed": false
   },
   "outputs": [
   ],
   "source": [
    "7*12+2"
   ]
  },
  {
   "cell_type": "markdown",
   "metadata": {
    "collapsed": false
   },
   "source": [
    "R can also hold information in variables; try assigning the result to a variable ‘x’ by using \"<-\" or \"=\" (either way is OK, but `<-` is preferred):"
   ]
  },
  {
   "cell_type": "code",
   "execution_count": 0,
   "metadata": {
    "collapsed": false
   },
   "outputs": [
   ],
   "source": [
    "x <- 7*12+2\n",
    "x = 7*12+2"
   ]
  },
  {
   "cell_type": "markdown",
   "metadata": {
    "collapsed": false
   },
   "source": [
    "The variable ‘x’ now contains the result of that operation, so we can just refer to the variable to retrieve it:"
   ]
  },
  {
   "cell_type": "code",
   "execution_count": 0,
   "metadata": {
    "collapsed": false
   },
   "outputs": [
   ],
   "source": [
    "x"
   ]
  },
  {
   "cell_type": "markdown",
   "metadata": {
    "collapsed": false
   },
   "source": [
    "To see all the variables currently in use, try the ls() command."
   ]
  },
  {
   "cell_type": "code",
   "execution_count": 0,
   "metadata": {
    "collapsed": false
   },
   "outputs": [
   ],
   "source": [
    "ls()"
   ]
  },
  {
   "cell_type": "markdown",
   "metadata": {
    "collapsed": false
   },
   "source": [
    "By using vectors, we can work with many numbers at once. In R, the simplest way to create a vector is to use \"c()\" command. Try creating a vector, in this case think of the vector as a list of numbers:"
   ]
  },
  {
   "cell_type": "code",
   "execution_count": 0,
   "metadata": {
    "collapsed": false
   },
   "outputs": [
   ],
   "source": [
    "myvec <- c(1,8,3,2,6,4,5,7)\n",
    "myvec"
   ]
  },
  {
   "cell_type": "markdown",
   "metadata": {
    "collapsed": false
   },
   "source": [
    "For consecutive values such as a vector of 1,2,3,4, we can use one of the three ways:"
   ]
  },
  {
   "cell_type": "code",
   "execution_count": 0,
   "metadata": {
    "collapsed": false
   },
   "outputs": [
   ],
   "source": [
    "myvec <- c(1,2,3,4,5,6,7,8)\n",
    "myvec <- seq(1,8)\n",
    "myvec <- 1:8\n",
    "myvec"
   ]
  },
  {
   "cell_type": "markdown",
   "metadata": {
    "collapsed": false
   },
   "source": [
    "The seq function generates sequences of numbers given a starting and stopping point. For example, seq(1,8) is to generate a sequence numbers (a vector) from 1 to 8. For more information try:"
   ]
  },
  {
   "cell_type": "code",
   "execution_count": 0,
   "metadata": {
    "collapsed": false
   },
   "outputs": [
   ],
   "source": [
    "help(seq)"
   ]
  },
  {
   "cell_type": "markdown",
   "metadata": {
    "collapsed": false
   },
   "source": [
    "We can use the index to take out elements from the vector with \"[]\". For example, if we want the second element of a vector:"
   ]
  },
  {
   "cell_type": "code",
   "execution_count": 0,
   "metadata": {
    "collapsed": false
   },
   "outputs": [
   ],
   "source": [
    "myvec[2]"
   ]
  },
  {
   "cell_type": "markdown",
   "metadata": {
    "collapsed": false
   },
   "source": [
    "If we want more than one elements, we can use a vector of index. For example, if we want the first and third elements:"
   ]
  },
  {
   "cell_type": "code",
   "execution_count": 0,
   "metadata": {
    "collapsed": false
   },
   "outputs": [
   ],
   "source": [
    "myvec[c(1,3)]"
   ]
  },
  {
   "cell_type": "markdown",
   "metadata": {
    "collapsed": false
   },
   "source": [
    "If we want the first,second and third elements:"
   ]
  },
  {
   "cell_type": "code",
   "execution_count": 0,
   "metadata": {
    "collapsed": false
   },
   "outputs": [
   ],
   "source": [
    "myvec[c(1,2,3)]"
   ]
  },
  {
   "cell_type": "code",
   "execution_count": 0,
   "metadata": {
    "collapsed": false
   },
   "outputs": [
   ],
   "source": [
    "myvec[1:3]"
   ]
  },
  {
   "cell_type": "markdown",
   "metadata": {
    "collapsed": false
   },
   "source": [
    "We can use conditions to take out elements. For example, we want elements that larger than 5:"
   ]
  },
  {
   "cell_type": "code",
   "execution_count": 0,
   "metadata": {
    "collapsed": false
   },
   "outputs": [
   ],
   "source": [
    "myvec>5"
   ]
  },
  {
   "cell_type": "code",
   "execution_count": 0,
   "metadata": {
    "collapsed": false
   },
   "outputs": [
   ],
   "source": [
    "myvec[myvec>5]"
   ]
  },
  {
   "cell_type": "markdown",
   "metadata": {
    "collapsed": false
   },
   "source": [
    "Here are the logical operators in R:"
   ]
  },
  {
   "cell_type": "markdown",
   "metadata": {
    "collapsed": false
   },
   "source": [
    "| operator | function |\n",
    "|---|---|\n",
    "| < | less than |\n",
    "| <= | less than or equal to |\n",
    "| > | greater than |\n",
    "| >= | greater than or equal to |\n",
    "| == | equals |\n",
    "| != | does not equal |\n",
    "| !x | not x |\n",
    "| x &#124; y | x **or** y |\n",
    "| x & y | x **and** y |\n",
    "| isTRUE(x) | test if x is true |"
   ]
  },
  {
   "cell_type": "markdown",
   "metadata": {
    "collapsed": false
   },
   "source": [
    "R is very useful because it has lots of functions for statistical computing. For example, if we want to calculate the mean value of a numeric vector, we can use the \"mean()\" function:"
   ]
  },
  {
   "cell_type": "code",
   "execution_count": 0,
   "metadata": {
    "collapsed": false
   },
   "outputs": [
   ],
   "source": [
    "mean(myvec)"
   ]
  },
  {
   "cell_type": "markdown",
   "metadata": {
    "collapsed": false
   },
   "source": [
    "We can calculate the stadard deviation of a numeric vector with \"sd()\" function:"
   ]
  },
  {
   "cell_type": "code",
   "execution_count": 0,
   "metadata": {
    "collapsed": false
   },
   "outputs": [
   ],
   "source": [
    "sd(myvec)"
   ]
  },
  {
   "cell_type": "markdown",
   "metadata": {
    "collapsed": false
   },
   "source": [
    "We can calculate the sum of a numeric vector with \"sum()\" function:"
   ]
  },
  {
   "cell_type": "code",
   "execution_count": 0,
   "metadata": {
    "collapsed": false
   },
   "outputs": [
   ],
   "source": [
    "sum(myvec)"
   ]
  },
  {
   "cell_type": "markdown",
   "metadata": {
    "collapsed": false
   },
   "source": [
    "We can find the max of min of a numeric vector with \"max()\" or \"min()\" function:"
   ]
  },
  {
   "cell_type": "code",
   "execution_count": 0,
   "metadata": {
    "collapsed": false
   },
   "outputs": [
   ],
   "source": [
    "max(myvec)"
   ]
  },
  {
   "cell_type": "code",
   "execution_count": 0,
   "metadata": {
    "collapsed": false
   },
   "outputs": [
   ],
   "source": [
    "min(myvec)"
   ]
  },
  {
   "cell_type": "markdown",
   "metadata": {
    "collapsed": false
   },
   "source": [
    "A very useful function to calculate the summary statistic is \"summary()\". It calculates min, max, mean and quantiles of a numeric vector."
   ]
  },
  {
   "cell_type": "code",
   "execution_count": 0,
   "metadata": {
    "collapsed": false
   },
   "outputs": [
   ],
   "source": [
    "summary(myvec)"
   ]
  },
  {
   "cell_type": "markdown",
   "metadata": {
    "collapsed": false
   },
   "source": [
    "Besides vector, another very useful data type in R is matrix. Vector is one dimensional, but matrix is two dimensional. To create a 3x3 matrix (three rows and three columns):"
   ]
  },
  {
   "cell_type": "code",
   "execution_count": 0,
   "metadata": {
    "collapsed": false
   },
   "outputs": [
   ],
   "source": [
    "y <- matrix(1:9,ncol=3)\n",
    "y"
   ]
  },
  {
   "cell_type": "markdown",
   "metadata": {
    "collapsed": false
   },
   "source": [
    "Similarly, we can take out elements we want by using the index method with \"[]\".  Since matrix has row index and column index, we need to specify them separately. "
   ]
  },
  {
   "cell_type": "markdown",
   "metadata": {
    "collapsed": false
   },
   "source": [
    "Take out the element in the first row and first column:"
   ]
  },
  {
   "cell_type": "code",
   "execution_count": 0,
   "metadata": {
    "collapsed": false
   },
   "outputs": [
   ],
   "source": [
    "y[1,1]"
   ]
  },
  {
   "cell_type": "markdown",
   "metadata": {
    "collapsed": false
   },
   "source": [
    "Take out the elements in the second column:"
   ]
  },
  {
   "cell_type": "code",
   "execution_count": 0,
   "metadata": {
    "collapsed": false
   },
   "outputs": [
   ],
   "source": [
    "y[,2]"
   ]
  },
  {
   "cell_type": "markdown",
   "metadata": {
    "collapsed": false
   },
   "source": [
    "In the above examples, the first number in \"[]\" is the index number for rows and the second is for columns. If the number is not specified (empty), all rows or columns will be chosen.  For example, in y[,2], the row index is empty, so all rows are chosen."
   ]
  },
  {
   "cell_type": "markdown",
   "metadata": {
    "collapsed": false
   },
   "source": [
    "** 4. Getting help ** "
   ]
  },
  {
   "cell_type": "markdown",
   "metadata": {
    "collapsed": false
   },
   "source": [
    "There are so many functions in R, we can not remember every detail about the functions. If we aren’t sure from the name of the function or the output, we can try looking at `help(x)` or simply `?x`, where  x  is the function name of what you are interested in knowing more about."
   ]
  },
  {
   "cell_type": "code",
   "execution_count": 0,
   "metadata": {
    "collapsed": false
   },
   "outputs": [
   ],
   "source": [
    "help(mean)"
   ]
  },
  {
   "cell_type": "code",
   "execution_count": 0,
   "metadata": {
    "collapsed": false
   },
   "outputs": [
   ],
   "source": [
    "?mean"
   ]
  },
  {
   "cell_type": "markdown",
   "metadata": {
    "collapsed": false
   },
   "source": [
    "We will see a help page describing the mean function. At the bottom of the page, there are some examples of the function. If you don't know how to use this function, copy the example code and modify it to fit your purpose. "
   ]
  },
  {
   "cell_type": "markdown",
   "metadata": {
    "collapsed": false
   },
   "source": [
    "** 5. Loading files into R **"
   ]
  },
  {
   "cell_type": "markdown",
   "metadata": {
    "collapsed": false
   },
   "source": [
    "Now let’s consider a real dataset. A common use for R is to analyze gene expression data. There are many sophisticated tools for the analysis of gene expression data in the Bioconductor packages for R, but for our purposes we will just be looking at a small example. Start by loading the data into a variable called ‘genes’ (this file is in the directory for this prelab)."
   ]
  },
  {
   "cell_type": "code",
   "execution_count": 0,
   "metadata": {
    "collapsed": false
   },
   "outputs": [
   ],
   "source": [
    "genes <- read.table(\"genes.table\", header=TRUE)"
   ]
  },
  {
   "cell_type": "markdown",
   "metadata": {
    "collapsed": false
   },
   "source": [
    "The parameter of \"header=TRUE\" tells R to read the first line of the data as the header."
   ]
  },
  {
   "cell_type": "markdown",
   "metadata": {
    "collapsed": false
   },
   "source": [
    "Take a look at the data:"
   ]
  },
  {
   "cell_type": "code",
   "execution_count": 0,
   "metadata": {
    "collapsed": false
   },
   "outputs": [
   ],
   "source": [
    "genes"
   ]
  },
  {
   "cell_type": "markdown",
   "metadata": {
    "collapsed": false
   },
   "source": [
    "The line with \"geneA geneB ...\" is the header."
   ]
  },
  {
   "cell_type": "markdown",
   "metadata": {
    "collapsed": false
   },
   "source": [
    "To see the dimensions of this genes matrix, use:"
   ]
  },
  {
   "cell_type": "code",
   "execution_count": 0,
   "metadata": {
    "collapsed": false
   },
   "outputs": [
   ],
   "source": [
    "dim(genes)"
   ]
  },
  {
   "cell_type": "markdown",
   "metadata": {
    "collapsed": false
   },
   "source": [
    "The dim() function returns two numbers: number of rows and number of columns in the data. In our case, there are 500 rows(samples) and 4 columns (genes). "
   ]
  },
  {
   "cell_type": "markdown",
   "metadata": {
    "collapsed": false
   },
   "source": [
    "To take a look at the summary statistic about this data, try out the summary command:"
   ]
  },
  {
   "cell_type": "code",
   "execution_count": 0,
   "metadata": {
    "collapsed": false
   },
   "outputs": [
   ],
   "source": [
    "summary(genes)"
   ]
  },
  {
   "cell_type": "markdown",
   "metadata": {
    "collapsed": false
   },
   "source": [
    "The output is the summary statistic for each gene. "
   ]
  },
  {
   "cell_type": "markdown",
   "metadata": {
    "collapsed": false
   },
   "source": [
    "Attach this data frame to the R search path to make referring to the individual columns easier:"
   ]
  },
  {
   "cell_type": "code",
   "execution_count": 0,
   "metadata": {
    "collapsed": false
   },
   "outputs": [
   ],
   "source": [
    "attach(genes)"
   ]
  },
  {
   "cell_type": "markdown",
   "metadata": {
    "collapsed": false
   },
   "source": [
    "Then, we can take out the geneA column from the data matrix by simply typing the name of that column \"geneA\". Otherwise, we have to use the method that we mentioned before to take out certain columns with \"[]\"."
   ]
  },
  {
   "cell_type": "markdown",
   "metadata": {
    "collapsed": false
   },
   "source": [
    "Suppose we want to get the expression value for geneA from sample number 72. This can be accessed this way:"
   ]
  },
  {
   "cell_type": "code",
   "execution_count": 0,
   "metadata": {
    "collapsed": false
   },
   "outputs": [
   ],
   "source": [
    "geneA[72]"
   ]
  },
  {
   "cell_type": "markdown",
   "metadata": {
    "collapsed": false
   },
   "source": [
    "Suppose we want to get consecutive expression values for geneA through geneC, from sample number 72 to 82. This can be accessed this way:"
   ]
  },
  {
   "cell_type": "code",
   "execution_count": 0,
   "metadata": {
    "collapsed": false
   },
   "outputs": [
   ],
   "source": [
    "genes[72:82,1:3]"
   ]
  },
  {
   "cell_type": "markdown",
   "metadata": {
    "collapsed": false
   },
   "source": [
    "** 6. T-test**"
   ]
  },
  {
   "cell_type": "markdown",
   "metadata": {
    "collapsed": false
   },
   "source": [
    "** In the following exercise, we assume you have basic knowledge about hypothesis testing. If don't have such knowledge, please watch the pre-recorded stats lecture, which is the pre-lab for the first lecture. **"
   ]
  },
  {
   "cell_type": "markdown",
   "metadata": {
    "collapsed": false
   },
   "source": [
    "Next, we will perform a T-test to see if the true mean of the distribution of values for geneA is different from 0. Before doing the T-test, it is important to know that T-test has an assumpution: the data must follow a normal distribution. Otherwise, the T-test is not valid. The simple way to check if the data is normally distributed or not is to plot them. We will learn how to plot in R in the next lecture. For now, let's assume the data are normally distributed and it is safe to use  the t-test on them."
   ]
  },
  {
   "cell_type": "markdown",
   "metadata": {
    "collapsed": false
   },
   "source": [
    "In this case, the null hypothesis of the T-test is that the true mean of the distribution of values for geneA is 0 and alternative hypothesis is that the true mean of the distribution of values for geneA is not 0. If the test statistic is very large or the p value is very small, this indicates that the null hypothesis should be rejected. In other words,  the true mean for geneA is not 0. If the test statistic is small or the p value is large, it indicates that we don't have enough evidence to reject the null hypothesis. In other words,  the true mean for geneA is 0."
   ]
  },
  {
   "cell_type": "markdown",
   "metadata": {
    "collapsed": false
   },
   "source": [
    "The following command performs the above test:"
   ]
  },
  {
   "cell_type": "code",
   "execution_count": 0,
   "metadata": {
    "collapsed": false
   },
   "outputs": [
   ],
   "source": [
    "t.test(geneA, mu = 0)"
   ]
  },
  {
   "cell_type": "markdown",
   "metadata": {
    "collapsed": false
   },
   "source": [
    "From the output, you will see the name of the test is \"One Sample t-test\". The t-statistic is \"t = -1.423\" and the p value is \"p-value = 0.1554\". The alternative hypothesis and 95% confidence interval is also included in the output. Since the p value is relatively large (>0.05) or the 95% confidence interval for the estimate of the mean includes 0, we don't have enough evidence to reject the null hypothesis and thus conclude that the true mean of geneA is 0."
   ]
  },
  {
   "cell_type": "markdown",
   "metadata": {
    "collapsed": false
   },
   "source": [
    "In the above example, we did a one-sample T-test to compare the mean value of geneA to 0. We can also perform a two-sample T-test to compare the mean value of two genes. For example, we can compare the mean value of geneA with that of geneB. In thie case, the null hypothesis of the two-sample T-test is that the true mean of the distribution of values for geneA is the same as that for geneB. The alternative hypothesis is that the true mean of the distribution of values for geneA is not the same as that for geneB. If the test statistic is very large or the p value is very small, it indicates that the null hypothesis should be rejected. In other words,  the true mean for geneA is not the same as the true mean for geneB. If the test statistic is small or the p value is large, it indicates that we don't have enough evidence to reject the null hypothesis. In other words,  the true mean for geneA is the same as the true mean for geneB."
   ]
  },
  {
   "cell_type": "code",
   "execution_count": 0,
   "metadata": {
    "collapsed": false
   },
   "outputs": [
   ],
   "source": [
    "t.test(geneA, geneB)"
   ]
  },
  {
   "cell_type": "markdown",
   "metadata": {
    "collapsed": false
   },
   "source": [
    "The output is similar to one-sample T-test. You can see the name of the test is \"Two Sample t-test\". The t-statistic is \"t = 0.20203\" and the p value is \"p-value = 0.8399\". The alternative hypothesis and 95% confidence interval is also included in the output. Since the p value is relatively large (>0.05) or the 95% confidence interval includes 0, we don't have enough evidence to reject the null hypothesis and thus conclude that the true mean of geneA and geneB are the same."
   ]
  },
  {
   "cell_type": "markdown",
   "metadata": {
    "collapsed": false
   },
   "source": [
    "** 7. Appendix: some commonly used functions in R **"
   ]
  },
  {
   "cell_type": "markdown",
   "metadata": {
    "collapsed": false
   },
   "source": [
    "| function | comments | \n",
    "|---|---|---|---|\n",
    "| **read.table(\"filename\")** | reads file and creates data frame from contents |\n",
    "| **read.csv(\"filename\")** | read comma-delimited files |\n",
    "| **paste** | convert vectors to character and concatenate |\n",
    "| **strsplit(x,split)** | split character string into substring |\n",
    "| **na.omit(x)** | ignore observations with missing data |\n",
    "| **seq(a,b,by=i)** | creates sequence from **a** to **b** in increments of **i** |\n",
    "| **rep(x,t)** | replicate **x** **t** times |\n",
    "| **data.frame()** | create data frame from input |\n",
    "| **rbind()** | combine by rows |\n",
    "| **cbind()** | combine by columns |\n",
    "| **x[n]** | nth element of **x** |\n",
    "| **x[1:n]** | first n elements of **x** |\n",
    "| **x[x > 1 & x <= 4]** | elements of **x** within (1,4] |\n",
    "| **x[i,j]** | element at row i, column j |\n",
    "| **methods(as)** | view element types and how to convert |\n",
    "| **class(x)** | get the class of **x** |\n",
    "| **length(x)** | number of elements in **x** |\n",
    "| **unique(x)** | unique elements of **x** |\n",
    "| **max(x), min(x)** | maximum or minimum of **x** |\n",
    "| **var(x), sd(x)** | variance, standard deviation of elements of **x** |\n",
    "| **sum(x), diff(x), prod(x)** | sum, difference, product of elements of **x** |\n",
    "| **summary(x)** | statistical summary of **x** |\n",
    "| **log(x, b)** | logarithm of **x** with base **b** |\n",
    "| **plot(x,y)** | scatter plot of **x** on x axis, **Y** on y axis |\n",
    "| **hist(x)** | histogram of **x** |\n",
    "| **boxplot(x)** | box-and-whiskers plot |\n",
    "| **points(x,y)** | adds points to plot |\n",
    "| **lines(x,y)** | add lines to plot |\n",
    "| **text(x,y,labels)** | adds text to plot at coordinates **x,y** |\n",
    "| **abline(x)** | draws line given by **x** |\n",
    "| **lm(formula)** | fit linear model |\n",
    "| **help.search(\"test\")** | view statistical tests |\n",
    "| **rnorm(n,mean=0,sd=1)** | normal distribution; replace r with d (density), p (cum. prob. fun.), or q (quantile) |"
   ]
  }
 ],
 "metadata": {
  "anaconda-cloud": {
  },
  "kernelspec": {
   "display_name": "R (SageMath)",
   "language": "r",
   "name": "ir-sage"
  },
  "language_info": {
   "codemirror_mode": {
    "name": "ipython",
    "version": 3
   },
   "file_extension": ".py",
   "mimetype": "text/x-python",
   "name": "python",
   "nbconvert_exporter": "python",
   "pygments_lexer": "ipython3",
   "version": "3.6.3"
  },
  "name": "R_Prelab_1.ipynb"
 },
 "nbformat": 4,
 "nbformat_minor": 0
}