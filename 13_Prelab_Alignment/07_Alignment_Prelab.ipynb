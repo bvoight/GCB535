{
 "cells": [
  {
   "cell_type": "markdown",
   "metadata": {
    "collapsed": false
   },
   "source": [
    "# Prelab: Getting Started with BLAST"
   ]
  },
  {
   "cell_type": "markdown",
   "metadata": {
    "collapsed": false
   },
   "source": [
    "\n",
    "Instructions: For each problem, write your answers in the provided code block.\n",
    "\n",
    "**First, read the alignment lecture slides on canvas. They will assist you in answering the questions and understanding how BLAST works.**\n",
    "\n",
    "BLAST is a tool used to search for a query sequence\n",
    "in a larger database of sequences. For instance, it can help you find a gene of interest in many different species, find other genes that have sequence similarity to your gene of interest within the same species or help you align similar sequences. The official NCBI implementation of BLAST can be found at\n",
    "the URL: http://www.ncbi.nlm.nih.gov/blast/\n"
   ]
  },
  {
   "cell_type": "markdown",
   "metadata": {
    "collapsed": false
   },
   "source": [
    "- Go to the NCBI BLAST web page in your favorite browser\n",
    "http://www.ncbi.nlm.nih.gov/blast/\n",
    "\n",
    "Notice that BLAST is not really one single tool, but rather a suite of tools with slightly different\n",
    "functions depending on what type of sequence you want to align, and what type of database\n",
    "you want to search."
   ]
  },
  {
   "cell_type": "markdown",
   "metadata": {
    "collapsed": false
   },
   "source": [
    "We will begin with a very simple problem. You work in a frog lab and a frequently-confused high-school student claims to have successfully sequenced a frog gene that contains many novel mutations. However, you want to double check that this is in fact the gene they are claiming.  They give you the following nucleotide sequence they generated. \n",
    "\n",
    "***Task:*** You will need to figure out what gene they actually sequenced based on the nucleotide sequence. Below is the sequence whose origins you are investigating. Note that this is standard fasta format, with a carrot and sequence name on the first line, followed by the sequence on the next line.\n",
    "Your goal is to find the gene represented by this sequence, so you are looking for a highly\n",
    "similar match across all species. The most appropriate tool is “megablast”. This tool would also\n",
    "be appropriate for trying to find close homologs of a gene of interest across all species."
   ]
  },
  {
   "cell_type": "raw",
   "metadata": {
    "collapsed": false
   },
   "source": [
    ">GCB535, Sequence of Mystery\n",
    "AGTGGACTCACGCAGGCGCAGGAGACTACACTTCCCAGGAACTCCGGGCCGCGTTGTTCGCTGGTACCTC\n",
    "CTTCTGACTTCCGGTATTGCTGCGGTCTGTAGGGCCAATCGGGAGCCTGGAATTGCTTTCCCGGCGCTCT\n",
    "GATTGGTGCATTCGACTAGGCTGCCTGGGTTCAAAATTTCAACGATACTGAATGAGTCCCGCGGCGGGTT\n",
    "GGCTCGCGCTTCGTTGTCAGATCTGAGGCGAGGCTAGGTGAGCCGTGGGAAGAAAAGAGGGAGCAGCTAG\n",
    "GGCGCGGGTCTCCCTCCTCCCGGAGTTTGGAACGGCTGAAGTTCACCTTCCAGCCCCTAGCGCCGTTCGC\n",
    "GCCGCTAGGCCTGGCTTCTGAGGCGGTTGCGGTGCTCGGTCGCCGCCTAGGCGGGGCAGGGTGCGAGCAG\n",
    "GGGCTTCGGGCCACGCTTCTCTTGGCGACAGGATTTTGCTGTGAAGTCCGTCCGGGAAACGGAGGAAAAA\n",
    "AAGAGTTGCGGGAGGCTGTCGGCTAATAACGGTTCTTGATACATATTTGCCAGACTTCAAGATTTCAGAA\n",
    "AAGGGGTGAAAGAGAAGATTGCAACTTTGAGTCAGACCTGTAGGCCTGATAGACTGATTAAACCACAGAA\n",
    "GGTGACCTGCTGAGAAAAGTGGTACAAATACTGGGAAAAACCTGCTCTTCTGCGTTAAGTGGGAGACAAT\n",
    "GTCACAAGTTAAAAGCTCTTATTCCTATGATGCCCCCTCGGATTTCATCAATTTTTCATCCTTGGATGAT\n",
    "GAAGGAGATACTCAAAACATAGATTCATGGTTTGAGGAGAAGGCCAATTTGGAGAATAAGTTACTGGGGA\n",
    "AGAATGGAACTGGAGGGCTTTTTCAGGGCAAAACTCCTTTGAGAAAGGCTAATCTTCAGCAAGCTATTGT\n",
    "CACACCTTTGAAACCAGTTGACAACACTTACTACAAAGAGGCAGAAAAAGAAAATCTTGTGGAACAATCC\n",
    "ATTCCGTCAAATGCTTGTTCTTCCCTGGAAGTTGAGGCAGCCATATCAAGAAAAACTCCAGCCCAGCCTC\n",
    "AGAGAAGATCTCTTAGGCTTTCTGCTCAGAAGGATTTGGAACAGAAAGAAAAGCATCATGTAAAAATGAA\n",
    "AGCCAAGAGATGTGCCACTCCTGTAATCATCGATGAAATTCTACCCTCTAAGAAAATGAAAGTTTCTAAC\n",
    "AACAAAAAGAAGCCAGAGGAAGAAGGCAGTGCTCATCAAGATACTGCTGAAAAGAATGCATCTTCCCCAG\n",
    "AGAAAGCCAAGGGTAGACATACTGTGCCTTGTATGCCACCTGCAAAGCAGAAGTTTCTAAAAAGTACTGA\n",
    "GGAGCAAGAGCTGGAGAAGAGTATGAAAATGCAGCAAGAGGTGGTGGAGATGCGGAAAAAGAATGAAGAA\n",
    "TTCAAGAAACTTGCTCTGGCTGGAATAGGGCAACCTGTGAAGAAATCAGTGAGCCAGGTCACCAAATCAG\n",
    "TTGACTTCCACTTCCGCACAGATGAGCGAATCAAACAACATCCTAAGAACCAGGAGGAATATAAGGAAGT\n",
    "GAACTTTACATCTGAACTACGAAAGCATCCTTCATCTCCTGCCCGAGTGACTAAGGGATGTACCATTGTT\n",
    "AAGCCTTTCAACCTGTCCCAAGGAAAGAAAAGAACATTTGATGAAACAGTTTCTACATATGTGCCCCTTG\n",
    "CACAGCAAGTTGAAGACTTCCATAAACGAACCCCTAACAGATATCATTTGAGGAGCAAGAAGGATGATAT\n",
    "TAACCTGTTACCCTCCAAATCTTCTGTGACCAAGATTTGCAGAGACCCACAGACTCCTGTACTGCAAACC\n",
    "AAACACCGTGCACGGGCTGTGACCTGCAAAAGTACAGCAGAGCTGGAGGCTGAGGAGCTCGAGAAATTGC\n",
    "AACAATACAAATTCAAAGCACGTGAACTTGATCCCAGAATACTTGAAGGTGGGCCCATCTTGCCCAAGAA\n",
    "ACCACCTGTGAAACCACCCACCGAGCCTATTGGCTTTGATTTGGAAATTGAGAAAAGAATCCAGGAGCGA\n",
    "GAATCAAAGAAGAAAACAGAGGATGAACACTTTGAATTTCATTCCAGACCTTGCCCTACTAAGATTTTGG\n",
    "AAGATGTTGTGGGTGTTCCTGAAAAGAAGGTACTTCCAATCACCGTCCCCAAGTCACCAGCCTTTGCATT\n",
    "GAAGAACAGAATTCGAATGCCCACCAAAGAAGATGAGGAAGAGGACGAACCGGTAGTGATAAAAGCTCAA\n",
    "CCTGTGCCACATTATGGGGTGCCTTTTAAGCCCCAAATCCCAGAGGCAAGAACTGTGGAAATATGCCCTT\n",
    "TCTCGTTTGATTCTCGAGACAAAGAACGTCAGTTACAGAAGGAGAAGAAAATAAAAGAACTGCAGAAAGG\n",
    "GGAGGTGCCCAAGTTCAAGGCACTTCCCTTGCCTCATTTTGACACCATTAACCTGCCAGAGAAGAAGGTA\n",
    "AAGAATGTGACCCAGATTGAACCTTTCTGCTTGGAGACTGACAGAAGAGGTGCTCTGAAGGCACAGACTT\n",
    "GGAAGCACCAGCTGGAAGAAGAACTGAGACAGCAGAAAGAAGCAGCTTGTTTCAAGGCTCGTCCAAACAC\n",
    "CGTCATCTCTCAGGAGCCCTTTGTTCCCAAGAAAGAGAAGAAATCAGTTGCTGAGGGCCTTTCTGGTTCT\n",
    "CTAGTTCAGGAACCTTTTCAGCTGGCTACTGAGAAGAGAGCCAAAGAGCGGCAGGAGCTGGAGAAGAGAA\n",
    "TGGCTGAGGTAGAAGCCCAGAAAGCCCAGCAGTTGGAGGAGGCCAGACTACAGGAGGAAGAGCAGAAAAA\n",
    "AGAGGAGCTGGCCAGGCTACGGAGAGAACTGGTGCATAAGGCAAATCCAATACGCAAGTACCAGGGTCTG\n",
    "GAGATAAAGTCAAGTGACCAGCCTCTGACTGTGCCTGTATCTCCCAAATTCTCCACTCGATTCCACTGCT\n",
    "AAACTCAGCTGTGAGCTGCGGATACCGCCCGGCAATGGGACCTGCTCTTAACCTCAAACCTAGGACCGTC\n",
    "TTGCTTTGTCATTGGGCATGGAGAGAACCCATTTCTCCAGACTTTTACCTACCCGTGCCTGAGAAAGCAT\n",
    "ACTTGACAACTGTGGACTCCAGTTTTGTTGAGAATTGTTTTCTTACATTACTAAGGCTAATAATGAGATG\n",
    "TAACTCATGAATGTCTCGATTAGACTCCATGTAGTTACTTCCTTTAAACCATCAGCCGGCCTTTTATATG\n",
    "GGTCTTCACTCTGACTAGAATTTAGTCTCTGTGTCAGCACAGTGTAATCTCTATTGCTATTGCCCCTTAC\n",
    "GACTCTCACCCTCTCCCCACTTTTTTTAAAAATTTTAACCAGAAAATAAAGATAGTTAAATCCTAAGATA\n",
    "GAGATTAAGTCATGGTTTAAATGAGGAACAATCAGTAAATCAGATTCTGTCCTCTTCTCTGCATACCGTG\n",
    "AATTTATAGTTAAGGATCCCTTTGCTGTGAGGGTAGAAAACCTCACCAACTGCACCAGTGAGGAAGAAGA\n",
    "CTGCGTGGATTCATGGGGAGCCTCACAGCAGCCACGCAGCAGGCTCTGGGTGGGGCTGCCGTTAAGGCAC\n",
    "GTTCTTTCCTTACTGGTGCTGATAACAACAGGGAACCGTGCAGTGTGCATTTTAAGACCTGGCCTGGAAT\n",
    "AAATACGTTTTGTCTTTCCCTCAAAAAAAAAAAAAAAAAAAAAAA"
   ]
  },
  {
   "cell_type": "markdown",
   "metadata": {
    "collapsed": false
   },
   "source": [
    "- From the main BLAST page, click the link for “nucleotide blast” under \"Web BLAST\"\n",
    "\n",
    "- Copy and paste the fasta sequence with its header into the large text box below “Enter\n",
    "Query Sequence”.\n",
    "\n",
    "- In the section labeled “Choose Search Set”, click the “Database” option button for\n",
    "“Others”, and then set the drop-down list to “Reference RNA sequences (refseq_rna)”.\n",
    "RefSeq database is a manually curated, non-redundant database, as discussed\n",
    "in the powerpoint. Leave the other fields in this section blank, as they are there to limit\n",
    "which organisms are searched. In the section labeled “Program Selection” make sure\n",
    "the option button for “Highly similar sequences (megablast)” is selected.\n",
    "\n",
    "- Click the button labeled “BLAST”.\n",
    "\n",
    "- Now, wait for the results page to appear (you will be given a status update page until the job\n",
    "completes). Scroll down to scan through the “Descriptions” section. In this case, you are\n",
    "looking for a match with 100% identity."
   ]
  },
  {
   "cell_type": "markdown",
   "metadata": {
    "collapsed": false
   },
   "source": [
    "**Question 1:** What gene is contained in \"Sequence of Mystery\"?"
   ]
  },
  {
   "cell_type": "raw",
   "metadata": {
    "collapsed": false
   },
   "source": [
   ]
  },
  {
   "cell_type": "markdown",
   "metadata": {
    "collapsed": false
   },
   "source": [
    "**Question 2:** What species is it from?"
   ]
  },
  {
   "cell_type": "raw",
   "metadata": {
    "collapsed": false
   },
   "source": [
   ]
  }
 ],
 "metadata": {
  "anaconda-cloud": {
  },
  "kernelspec": {
   "display_name": "Python 2 (SageMath)",
   "language": "python",
   "name": "python2"
  },
  "language_info": {
   "codemirror_mode": {
    "name": "ipython",
    "version": 2
   },
   "file_extension": ".py",
   "mimetype": "text/x-python",
   "name": "python",
   "nbconvert_exporter": "python",
   "pygments_lexer": "ipython2",
   "version": "2.7.14"
  },
  "name": "13_Alignment_Prelab .ipynb"
 },
 "nbformat": 4,
 "nbformat_minor": 0
}