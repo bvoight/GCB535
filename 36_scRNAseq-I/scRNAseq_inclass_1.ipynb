{
 "cells": [
  {
   "cell_type": "markdown",
   "metadata": {
    "collapsed": false
   },
   "source": [
    "Thank you to Alex's Lemonade Stand and the Seurat team for their teaching resources, from which much of the material below is adapted."
   ]
  },
  {
   "cell_type": "markdown",
   "metadata": {
    "collapsed": false
   },
   "source": [
    "## scRNA-seq preprocessing and normalization\n",
    "\n",
    "It's always important to do rigorous preprocessing before analyzing our datasets, and more so for noisy scRNA-seq data. These steps are essential for producing interpretable results in the downstream analysis. In this class, we’ll perform quality control and normalization of scRNA-seq count data with Seurat. "
   ]
  },
  {
   "cell_type": "markdown",
   "metadata": {
    "collapsed": false
   },
   "source": [
    "### Setup\n",
    "\n",
    "Many tools have been developed for the analysis of scRNA-seq data - we'll focus on one of the most widely used and well-maintained packages. Seurat is an R package that can perform QC, clustering, exploration, and visualization of scRNA-seq data, and they are regularly adding more features. It's a good place to start for us!\n",
    "\n",
    "If you're interested, they have many more useful vigenettes on their website: https://satijalab.org/seurat/get_started.html\n",
    "\n",
    "We installed Seurat for you, but you need to access it by going to **Project settings --> Project control --> switch to \"Experimental\" software environment --> Save and Restart**"
   ]
  },
  {
   "cell_type": "code",
   "execution_count": 0,
   "metadata": {
    "collapsed": false
   },
   "outputs": [
   ],
   "source": [
    "library(Seurat)\n",
    "packageVersion(\"Seurat\") # Make sure this is v3.0.0\n",
    "library(ggplot2)"
   ]
  },
  {
   "cell_type": "markdown",
   "metadata": {
    "collapsed": false
   },
   "source": [
    "### Load in Darmanis et al. dataset\n",
    "\n",
    "We're going to continue using the dataset we started working on in the prelab. \n",
    "\n",
    "This dataset is generated from human primary glioblastoma tumor cells with the Smart-seq2 protocol (https://www.ncbi.nlm.nih.gov/pubmed/29091775). We're using a subset of this dataset (n=1854 cells). The raw count matrix provided has been quantified using Salmon. "
   ]
  },
  {
   "cell_type": "code",
   "execution_count": 0,
   "metadata": {
    "collapsed": false
   },
   "outputs": [
   ],
   "source": [
    "# Load in raw counts from Darmanis et al.\n",
    "sc_data <- read.table(\"data/unfiltered_darmanis_counts.tsv\", header=T, sep=\"\\t\", row.names=1)"
   ]
  },
  {
   "cell_type": "markdown",
   "metadata": {
    "collapsed": false
   },
   "source": [
    "Take a look at the data. How many genes and how many cells are there in the raw dataset? What is the prefix of cell names?"
   ]
  },
  {
   "cell_type": "raw",
   "metadata": {
    "collapsed": false
   },
   "source": [
   ]
  },
  {
   "cell_type": "markdown",
   "metadata": {
    "collapsed": false
   },
   "source": [
    "What percentage of the data matrix is 0? Is this surprising?"
   ]
  },
  {
   "cell_type": "raw",
   "metadata": {
    "collapsed": false
   },
   "source": [
   ]
  },
  {
   "cell_type": "markdown",
   "metadata": {
    "collapsed": true
   },
   "source": [
    "### Seurat can do our QC and normalization\n",
    "\n",
    "Recall from the prelab that we looked at two QC metrics of interest: 1. number of reads detected per cell and 2. number of genes detected per cell. Now that we have a better understanding of these QC metrics, we can make our lives easier by using Seurat to visualize these QC stats (and more!) and filter out cells and features that don't pass QC metrics.\n",
    "\n",
    "If you're interested, you can get a lot more information about the Seurat package and its capabilities here: https://satijalab.org/seurat/get_started.html\n",
    "\n",
    "Before we start Seurat, we first want to convert Ensembl gene ids to HGNC symbols for easier interpretation. Run the code below to replace Ensembl ids with hgnc symbols in rownames of our data matrix."
   ]
  },
  {
   "cell_type": "code",
   "execution_count": 0,
   "metadata": {
    "collapsed": false
   },
   "outputs": [
   ],
   "source": [
    "library(biomaRt)\n",
    "ensembl <- useMart(\"ensembl\", dataset=\"hsapiens_gene_ensembl\")\n",
    "bm <- getBM(attributes=c(\"ensembl_gene_id\", \"hgnc_symbol\"), values=rownames(sc_data), mart=ensembl)\n",
    "\n",
    "hgnc.symbols <- bm$hgnc_symbol[match(rownames(sc_data), bm$ensembl_gene_id)]\n",
    "sc_data <- as.matrix(sc_data)\n",
    "rownames(sc_data) <- hgnc.symbols"
   ]
  },
  {
   "cell_type": "markdown",
   "metadata": {
    "collapsed": false
   },
   "source": [
    "###### 1) We'll start by reading in our count data as a Seurat object. This object will hold our count matrix, as well as data for all downstream processing steps or analyses (normalization, scaling, PCA, clustering results, etc.). We can specify extra parameters to take only the features that are present in *min.cells* and the cells that have *min.features*. "
   ]
  },
  {
   "cell_type": "code",
   "execution_count": 0,
   "metadata": {
    "collapsed": false
   },
   "outputs": [
   ],
   "source": [
    "sc <- CreateSeuratObject(counts=sc_data, project=\"Darmanis\", min.cells=5, min.features=200)\n",
    "sc"
   ]
  },
  {
   "cell_type": "markdown",
   "metadata": {
    "collapsed": false
   },
   "source": [
    "The original count matrix is stored in *sc[[\"RNA\"]]@counts*\n",
    "\n",
    "\n",
    "Print the raw counts for the first 6 genes of the first 6 cells below:"
   ]
  },
  {
   "cell_type": "code",
   "execution_count": 0,
   "metadata": {
    "collapsed": false
   },
   "outputs": [
   ],
   "source": [
   ]
  },
  {
   "cell_type": "markdown",
   "metadata": {
    "collapsed": false
   },
   "source": [
    "###### 2) Seurat automatically generates the number of reads (nCount_RNA) and number of genes (nFeature_RNA) detected per cell. We can access this data in the *sc@meta.data* slot.\n",
    "\n",
    "\n",
    "Generate a density plot of nCount_RNA - it should exactly match the density plot we produced in the prelab for total read count!"
   ]
  },
  {
   "cell_type": "code",
   "execution_count": 0,
   "metadata": {
    "collapsed": false
   },
   "outputs": [
   ],
   "source": [
    "head(sc@meta.data)\n",
    "\n",
    "qplot(sc@meta.data$nCount_RNA, xlab=\"Total read counts\", geom=\"density\") +\n",
    "    geom_vline(xintercept=25000, color=\"red\") +\n",
    "    theme_classic()"
   ]
  },
  {
   "cell_type": "markdown",
   "metadata": {
    "collapsed": false
   },
   "source": [
    "###### 3) One final QC metric we're often interested in is the percentage of reads mapping to the mitochondrial genome. A high percentage often indicates low-quality or dying cells. Seurat allows us to search for mitochondrial gene names and calculate the percentage of reads mapping to those genes. We can then stash these stats into our Seurat object's metadata by assigning *sc[[<metadata_feature_name>]]*."
   ]
  },
  {
   "cell_type": "code",
   "execution_count": 0,
   "metadata": {
    "collapsed": false
   },
   "outputs": [
   ],
   "source": [
    "sc[[\"percent.mito\"]] <- PercentageFeatureSet(object=sc, pattern=\"^MT-\")"
   ]
  },
  {
   "cell_type": "markdown",
   "metadata": {
    "collapsed": false
   },
   "source": [
    "What would you have to change in the code above if we were working with mouse data?"
   ]
  },
  {
   "cell_type": "raw",
   "metadata": {
    "collapsed": false
   },
   "source": [
   ]
  },
  {
   "cell_type": "markdown",
   "metadata": {
    "collapsed": false
   },
   "source": [
    "###### 4) How is the quality of this experiment? How do you know? We can visualize some QC metrics of interest in a violin plot. We can also check that the number of genes detected correlates with read count."
   ]
  },
  {
   "cell_type": "code",
   "execution_count": 0,
   "metadata": {
    "collapsed": false
   },
   "outputs": [
   ],
   "source": [
    "VlnPlot(object=sc, features=c(\"nCount_RNA\", \"nFeature_RNA\", \"percent.mito\"), ncol=3, pt.size=0.5)\n",
    "FeatureScatter(object=sc, feature1=\"nCount_RNA\", feature2=\"nFeature_RNA\")"
   ]
  },
  {
   "cell_type": "markdown",
   "metadata": {
    "collapsed": false
   },
   "source": [
    "###### 5) Remove low-quality cells (high mitochondrial content), empty droplets (low number of genes), doublets/multiplets (abnormally high number of genes). \n",
    "\n",
    "Seurat lets us easily apply QC filters based on our custom criteria. In this case, we want cells with >250 genes, but less than 2500, and <10% mitochondrial content."
   ]
  },
  {
   "cell_type": "code",
   "execution_count": 0,
   "metadata": {
    "collapsed": false
   },
   "outputs": [
   ],
   "source": [
    "sc <- subset(sc, subset = nFeature_RNA > 250 & nFeature_RNA < 2500 & percent.mito < 10)\n",
    "sc"
   ]
  },
  {
   "cell_type": "markdown",
   "metadata": {
    "collapsed": false
   },
   "source": [
    "How many genes and cells remain after QC?"
   ]
  },
  {
   "cell_type": "raw",
   "metadata": {
    "collapsed": false
   },
   "source": [
   ]
  },
  {
   "cell_type": "markdown",
   "metadata": {
    "collapsed": false
   },
   "source": [
    "###### 6) Recover cell type annotations, stash in sc@meta.data\n",
    "\n",
    "Run the following code to add cell type annotations to our Seurat object metadata. This will be useful later when we're visualizing the different cell populations."
   ]
  },
  {
   "cell_type": "code",
   "execution_count": 0,
   "metadata": {
    "collapsed": false
   },
   "outputs": [
   ],
   "source": [
    "sc_metadata <- read.table(\"data/unfiltered_darmanis_metadata.tsv\", sep=\"\\t\", header=T)\n",
    "\n",
    "celltypes <- sc_metadata$cell.type.ch1[match(rownames(sc@meta.data), sc_metadata$geo_accession)]\n",
    "sc@meta.data$celltype <- celltypes"
   ]
  },
  {
   "cell_type": "markdown",
   "metadata": {
    "collapsed": false
   },
   "source": [
    "Print the metadata for the first 6 cells below:"
   ]
  },
  {
   "cell_type": "code",
   "execution_count": 0,
   "metadata": {
    "collapsed": false
   },
   "outputs": [
   ],
   "source": [
   ]
  },
  {
   "cell_type": "markdown",
   "metadata": {
    "collapsed": false
   },
   "source": [
    "###### 7) Normalization\n",
    "\n",
    "Seurat v3 implements a more sophisticated normalization method, SCTransform, but it is still a work in progress and doesn't work well on large datasets yet. Thus, we will use their original method that normalizes by sequencing depth and log transforms the result. We should note that normalization of scRNA-seq data is an active field of research with many distinct approaches and little benchmarking. "
   ]
  },
  {
   "cell_type": "code",
   "execution_count": 0,
   "metadata": {
    "collapsed": false
   },
   "outputs": [
   ],
   "source": [
    "sc <- NormalizeData(object=sc, normalization.method = \"LogNormalize\", scale.factor=10000)"
   ]
  },
  {
   "cell_type": "markdown",
   "metadata": {
    "collapsed": false
   },
   "source": [
    "###### 8) Identify highly variable features\n",
    "\n",
    "We'll specify that we want the top 2000 highly variable genes with nfeatures. These will be used as input genes for downstream dimensionality reduction (PCA)."
   ]
  },
  {
   "cell_type": "code",
   "execution_count": 0,
   "metadata": {
    "collapsed": false
   },
   "outputs": [
   ],
   "source": [
    "sc <- FindVariableFeatures(object=sc, selection.method=\"vst\", nfeatures=2000)\n",
    "\n",
    "# Plot top 10 most variable genes\n",
    "top10 <- head(x=VariableFeatures(object=sc), 10)\n",
    "plot1 <- VariableFeaturePlot(object=sc)\n",
    "plot2 <- LabelPoints(plot=plot1, points=top10, repel=TRUE)\n",
    "plot2"
   ]
  },
  {
   "cell_type": "markdown",
   "metadata": {
    "collapsed": false
   },
   "source": [
    "###### 9) Scale data\n",
    "\n",
    "Scaling is an essential pre-processing step for dimensionality reduction methods like PCA. Here, we not only scale the data, but also regress out unwanted sources of variation such as mitochondrial contamination (we could also do cell cycle stage!).\n",
    "\n",
    "We scale only the top 2000 highly variable genes for speed. This won't affect our PCA result, as PCA will use only the top variable genes as input anyway. However, if you need to plot heatmaps, you'll want to run ScaleData() on *all* the genes."
   ]
  },
  {
   "cell_type": "code",
   "execution_count": 0,
   "metadata": {
    "collapsed": false
   },
   "outputs": [
   ],
   "source": [
    "sc <- ScaleData(object=sc, vars.to.regress=\"percent.mito\")"
   ]
  },
  {
   "cell_type": "markdown",
   "metadata": {
    "collapsed": false
   },
   "source": [
    "Print the scaled counts for the first 6 genes of the first 6 cells below:"
   ]
  },
  {
   "cell_type": "raw",
   "metadata": {
    "collapsed": false
   },
   "source": [
   ]
  },
  {
   "cell_type": "markdown",
   "metadata": {
    "collapsed": false
   },
   "source": [
    "###### 10) Compare normalized data to raw count data\n",
    "\n",
    "Let's look at how proper data processing impacts our ability to draw interpretable conclusions about the biology. We'll generate PCA plots for both the raw count data and the normalized count data. What do you notice?"
   ]
  },
  {
   "cell_type": "code",
   "execution_count": 0,
   "metadata": {
    "collapsed": false
   },
   "outputs": [
   ],
   "source": [
    "# Run PCA on raw count data and normalized count data\n",
    "raw_pca <- prcomp(t(as.matrix(sc[[\"RNA\"]]@counts)))\n",
    "norm_pca <- prcomp(t((sc[[\"RNA\"]]@scale.data)))\n",
    "\n",
    "# Retrieve PCA loading scores\n",
    "raw_pca_scores <- data.frame(raw_pca$x[,1:2], cell_type=sc@meta.data$celltype)\n",
    "norm_pca_scores <- data.frame(norm_pca$x[,1:2], cell_type=sc@meta.data$celltype)\n",
    "\n",
    "# Plot PCA with cell labels\n",
    "ggplot(raw_pca_scores, aes(x=PC1, y=PC2, color=cell_type)) +\n",
    "    geom_point() +\n",
    "    ggtitle(\"Raw counts PCA\") +\n",
    "    theme_classic()\n",
    "#     colorblindr::scale_color_OkabeIto()\n",
    "\n",
    "# Plot PCA with cell labels\n",
    "ggplot(norm_pca_scores, aes(x=PC1, y=PC2, color=cell_type)) +\n",
    "    geom_point() +\n",
    "    ggtitle(\"Normalized counts PCA\") + \n",
    "    theme_classic()\n",
    "#     colorblindr::scale_color_OkabeIto()"
   ]
  },
  {
   "cell_type": "markdown",
   "metadata": {
    "collapsed": false
   },
   "source": [
    "###### 11) Finally, save your processed Seurat object for future downstream analysis."
   ]
  },
  {
   "cell_type": "code",
   "execution_count": 0,
   "metadata": {
    "collapsed": false
   },
   "outputs": [
   ],
   "source": [
    "saveRDS(sc, file=\"sc_Darmanis_normalized.rds\")"
   ]
  },
  {
   "cell_type": "markdown",
   "metadata": {
    "collapsed": false
   },
   "source": [
    "## Homework (10 pts)"
   ]
  },
  {
   "cell_type": "markdown",
   "metadata": {
    "collapsed": false
   },
   "source": [
    "###### We're going to be analyzing the Zheng et al. dataset in the next homework (https://www.nature.com/articles/ncomms14049). This dataset consists of 68k FACS-sorted immune cells from peripheral blood. We'll use a small downsampled subset to save time and memory. \n",
    "\n",
    "###### Using what you've learned above, process the Zheng et al. dataset. You DON'T need to rerun every step, only the ones essential for producing the final processed Seurat object. \n",
    "\n",
    "######  These steps include: \n",
    "1. Visualize QC metrics\n",
    "2. Filter out low-quality cells and lowly expressed genes. Criteria: nFeature_RNA > 500, nFeature_RNA < 2500, percent.mito < 10\n",
    "3. Normalize\n",
    "4. Scale, regress out mitochondrial content variable\n",
    "5. Save the filtered, processed Seurat object\n",
    "\n",
    "###### Make sure to include all essential code!"
   ]
  },
  {
   "cell_type": "code",
   "execution_count": 0,
   "metadata": {
    "collapsed": false
   },
   "outputs": [
   ],
   "source": [
    "# We loaded in the data for you\n",
    "Zheng_data <- read.table(\"data/Zheng_pbmc_downsample300_C9_filt.txt\", sep=\"\\t\", header=T, check.names=F)\n",
    "\n",
    "geneids <- as.character(Zheng_data[,ncol(Zheng_data)])\n",
    "Zheng_data$gene_symbols <- NULL\n",
    "Zheng_data <- as.matrix(Zheng_data)\n",
    "rownames(Zheng_data) <- geneids\n",
    "\n",
    "# Create Seurat object\n",
    "sc <- CreateSeuratObject(counts=Zheng_data, project=\"Zheng2017\")\n",
    "\n",
    "# Store type information in meta data object\n",
    "celltype <- sapply(strsplit(rownames(sc@meta.data), split=\"_\"), function(x) x[[2]])\n",
    "sc@meta.data$celltype <- celltype"
   ]
  },
  {
   "cell_type": "markdown",
   "metadata": {
    "collapsed": false
   },
   "source": [
    "###### Q1 (4 pts). Visualize QC metrics of interest and filter out poor-quality cells."
   ]
  },
  {
   "cell_type": "code",
   "execution_count": 0,
   "metadata": {
    "collapsed": false
   },
   "outputs": [
   ],
   "source": [
   ]
  },
  {
   "cell_type": "markdown",
   "metadata": {
    "collapsed": false
   },
   "source": [
    "###### Q2 (4 pts). Normalize the data, identify the top 2000 highly variable features, and scale the data based on those features. Make sure to regress out mitochondrial contamination in the scale step. Finally, use saveRDS() to save the Seurat object as an .rds object named *sc_Zheng_normlized.rds*."
   ]
  },
  {
   "cell_type": "code",
   "execution_count": 0,
   "metadata": {
    "collapsed": false
   },
   "outputs": [
   ],
   "source": [
   ]
  },
  {
   "cell_type": "markdown",
   "metadata": {
    "collapsed": false
   },
   "source": [
    "###### Q3 (2 pts). What are the primary sources of technical variability and biases you would be worried about in this experiment? See Zheng et al. for information about the experiment and Ziegenhain et al. for an overview of scRNA-seq technical biases (both papers are in your directory)."
   ]
  },
  {
   "cell_type": "raw",
   "metadata": {
    "collapsed": false
   },
   "source": [
   ]
  }
 ],
 "metadata": {
  "celltoolbar": "Raw Cell Format",
  "kernelspec": {
   "display_name": "R (R-Project)",
   "language": "r",
   "metadata": {
    "cocalc": {
     "description": "R statistical programming language",
     "priority": 10,
     "url": "https://www.r-project.org/"
    }
   },
   "name": "ir"
  },
  "language_info": {
   "codemirror_mode": "r",
   "file_extension": ".r",
   "mimetype": "text/x-r-source",
   "name": "R",
   "pygments_lexer": "r",
   "version": "3.4.4"
  }
 },
 "nbformat": 4,
 "nbformat_minor": 0
}