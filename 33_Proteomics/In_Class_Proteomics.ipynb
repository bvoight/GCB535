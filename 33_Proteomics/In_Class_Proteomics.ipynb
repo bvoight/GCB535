{
 "cells": [
  {
   "cell_type": "markdown",
   "metadata": {},
   "source": [
    "## Pipeline for Analysis of Proteomics data\n",
    "\n",
    "#### Data and R pipeline provided by Hossein Fazelinia, PhD \n",
    "\n",
    "In today's assignment, we will be analyzing data from a Data-Independent Acquisition Mass Spectrometry (DIA-MS) experiment. In this experiment heart tissue was collected from a wild type and mutant mice to evaluate the effect of a specific metabolic enzyme on mouse development. \n",
    "\n",
    "As you will see, we will follow steps that are very similar to the RNAseq analysis that you learned earlier in the course with some additional steps that are focused on challenges that are specific to proteomics data as missing values and data imputation."
   ]
  },
  {
   "cell_type": "markdown",
   "metadata": {},
   "source": [
    "First, we will need to install a couple of R packages locally to your account. For that, do the following:\n",
    "\n",
    "   - Open a Terminal and at the command prompt, type \"R\" followed by return (i.e., open R on the command line).\n",
    "   - Once R has spawned, enter the following command:\n",
    "    \n",
    "    install.packages('ComplexUpset')\n",
    "    \n",
    "    \n",
    "   - When prompted by the below, type \"yes\" followed by return: \n",
    "    \n",
    "    Would you like to use a personal library instead? (yes/No/cancel)\n",
    "    \n",
    "        \n",
    "   - When prompted by the below statement, type \"yes\" followed by return:\n",
    "    \n",
    "    Would you like to create a personal library ‘/home/user/R/x86_64-pc-linux-gnu-library/4.2’?\n",
    "    \n",
    "    \n",
    "    \n",
    "   - This will proceed to install the `ComplexUpset` package and will install quickly (<1 minute). You will know this is complete when you see \"* DONE (ComplexUpset)\" in the printed log (and you will have a fresh command prompt).\n",
    "   - Next, enter the following command:\n",
    "    \n",
    "    BiocManager::install('msImpute')\n",
    "    \n",
    "    \n",
    "   - This will proceed to install the `msImpute` package, along with some additional required packages. This will take some time to install (3-5 minutes). You will know this is complete when you see \"* DONE (msImpute)\" in the printed log (and you will have a fresh command prompt).\n",
    "   \n",
    "   \n",
    "   - Next, enter the following command:\n",
    "   \n",
    "    BiocManager::install('PCAtools')\n",
    "   \n",
    "   \n",
    "   - This will proceed to install the `PCAtools` package, along with some additional required packages. This will install pretty quickly (<1 minute). You will know this is complete when you see \"* DONE (PCAtools)\" in the printed log (and you will have a fresh command prompt).\n",
    "   \n",
    " \n",
    "   - Next, enter the following command:\n",
    "   \n",
    "    BiocManager::install(\"clusterProfiler\")\n",
    "\n",
    "\n",
    "   - This will proceed to install the `clusterProfiler` package, along with some additional required packages. This will install reasonably quickly (~1 minute). You will know this is complete when you see \"* DONE (clusterProfiler)\" in the printed log (and you will have a fresh command prompt).\n",
    " \n",
    "   - Now, enter the following command:\n",
    "    \n",
    "    BiocManager::install(\"org.Mm.eg.db\") \n",
    "\n",
    "\n",
    "   - This will proceed to install the `org.Mm.eg.db` package, along with some additional required packages. This will install reasonably quickly (<1 minute). You will know this is complete when you see \"* DONE (org.Mm.eg.db)\" in the printed log (and you will have a fresh command prompt).\n",
    " \n",
    "   - Finally, you will need to restart the R kernel in this jupyter notebook. To do this, head to the menu labelled `kernel` and select the option `Restart kernel...`. It will take ~10-20 seconds to reload your notebook.\n",
    "   \n",
    "And with that, you should be good to proceed! "
   ]
  },
  {
   "cell_type": "markdown",
   "metadata": {},
   "source": [
    "Similar to previous assignments, we will first load the required libraries and data."
   ]
  },
  {
   "cell_type": "code",
   "execution_count": null,
   "metadata": {},
   "outputs": [],
   "source": [
    "library(tidyverse)\n",
    "library(SummarizedExperiment)\n",
    "library(limma)\n",
    "library(pheatmap)\n",
    "library(ComplexUpset)\n",
    "library(msImpute)\n",
    "library(PCAtools)"
   ]
  },
  {
   "cell_type": "markdown",
   "metadata": {},
   "source": [
    "We will also load some addtional accesorry functions to help us with some tasks that are specific to analysis of proteomics data. The functions come from the package https://rdrr.io/bioc/DEP/.\n",
    "\n",
    "Run the line below to load those functions."
   ]
  },
  {
   "cell_type": "code",
   "execution_count": null,
   "metadata": {},
   "outputs": [],
   "source": [
    "source(\"functions.R\")"
   ]
  },
  {
   "cell_type": "markdown",
   "metadata": {},
   "source": [
    "#### Loading the data and basic filtering\n",
    "\n",
    "**Q1.** You will find two csv files in your working directory: \"WP_dDIA_protein_report.csv\" containing output from the program Spectronout with the calculated protein abundances and \"metadata_WP.csv\" with the meta information about each sample.\n",
    "\n",
    "Load the data in both files into two tibbles: \n",
    "\n",
    "`raw_data` and `meta_data` \n",
    "\n",
    "Use `mutate_at(vars(starts_with('sample_')), as.numeric)` to convert data values in `raw_data` to numeric values.\n",
    "\n",
    "\n",
    "Then, take a quick look at both data sets using `head()` or another strategy. "
   ]
  },
  {
   "cell_type": "code",
   "execution_count": null,
   "metadata": {},
   "outputs": [],
   "source": []
  },
  {
   "cell_type": "markdown",
   "metadata": {},
   "source": [
    "**Q2.** List the unique values in the column `FastaFiles`, and `select()` this column. Then, use `unique()` to list each value only once."
   ]
  },
  {
   "cell_type": "code",
   "execution_count": null,
   "metadata": {},
   "outputs": [],
   "source": []
  },
  {
   "cell_type": "markdown",
   "metadata": {},
   "source": [
    "As you can see, each entry in the `raw_data` table was either mapped to a list of verified mouse proteins (`UP000000589_mouse_reviewed_can_220920`), to a list of common contaminations (`MaxQuant Contaminants`) or to a combination of both. Here, we will only analyze proteins that are mapped with high confidence to verified mouse proteins."
   ]
  },
  {
   "cell_type": "markdown",
   "metadata": {},
   "source": [
    "Next, we will run through a few steps to clean up the data:\n",
    "- `filter()` all proteins that do not map exclusively to the list of verified mouse proteins\n",
    "- `select()` columns used for downstream analysis and samples that are specified in `meta_data`\n",
    "- replace any `NaN` values with `NA` (some programs use `NaN` instead of `NA`)\n",
    "- remove all proteins with missing values in all samples\n",
    "\n",
    "We have provided you the code to do this; please execute the cell below:"
   ]
  },
  {
   "cell_type": "code",
   "execution_count": null,
   "metadata": {},
   "outputs": [],
   "source": [
    "raw_data_filter <- raw_data %>% \n",
    "  filter(FastaFiles==\"UP000000589_mouse_reviewed_can_220920\") %>%\n",
    "  dplyr::select(Genes,ProteinGroups,ProteinDescriptions,ProteinNames, which(names(.) %in% meta_data$label)) %>% \n",
    "  mutate_all(~ifelse(is.nan(.), NA, .)) %>% \n",
    "  filter_at(vars(starts_with(\"sample\")), any_vars(.!= \"Na\")) "
   ]
  },
  {
   "cell_type": "markdown",
   "metadata": {},
   "source": [
    "Let's focus on the last line, in this line we remove all proteins that have missing values in all samples: `filter_at` is similar to `filter`, which you have used extensively before, but performs filtering on the list of columns that are provided in the first argument `vars(starts_with(\"sample\"))`. In the next argument we use the function `any_vars()` which is a logical operator that sums the results of the boolean function (a function that returns either `TRUE` or `FALSE`) `.!= \"Na\"`. The function `any_vars()` connects the results of running `.!= \"Na\"` on each variable with a union (`OR` operator). So as long as there is at least one value per protein the row will be retianed.\n",
    "\n",
    "**Q3.** The function `all_vars()` is a similar logical operator that uses `AND` instead of `OR`. Describe what would have happened if we would have used it instead of `any_vars()`."
   ]
  },
  {
   "cell_type": "markdown",
   "metadata": {},
   "source": []
  },
  {
   "cell_type": "markdown",
   "metadata": {},
   "source": [
    "The dataset you are using has unique Uniprot identifiers. However, those are not immediately informative. The associated gene names are more useful, yet these are not always unique mostly due to presence of protein isoforms. So, next we need to make some adjustments to make unique identifiers. Do do this, we have created a custom function to help with this `make_unique()`. (If you are curious what the code does, you can look at `functions.R`)\n",
    "\n",
    "Execute the code below to make all identifiers unique:"
   ]
  },
  {
   "cell_type": "code",
   "execution_count": null,
   "metadata": {},
   "outputs": [],
   "source": [
    "raw_data_filter <- make_unique(raw_data_filter, \"Genes\", \"ProteinGroups\", delim = \";\")"
   ]
  },
  {
   "cell_type": "markdown",
   "metadata": {},
   "source": [
    "#### Generate a SummarizedExperiment object\n",
    "\n",
    "In order to use standartized tools for expression analysis, we will save our data as a `SummarizedExperiment` (SE) object. If you need a quick reminder, go back to the first RNAseq module. Previously, we constructed this object directly from the output of the read mapping algorithm SALMON. But it turns out that it is possible to construct this object directly from a data matrix with expression values. To construct a SE object, we will use the another custom function `make_se()` that takes as arguments a data matrix, a list of data columns and an experimental design.\n",
    "\n",
    "Review and run the code below to construct a SE object."
   ]
  },
  {
   "cell_type": "code",
   "execution_count": null,
   "metadata": {},
   "outputs": [],
   "source": [
    "data_for_se <- raw_data_filter %>%\n",
    "    dplyr::select(-c(ProteinGroups, Genes, ProteinDescriptions,ProteinNames)) %>%\n",
    "    mutate_at(vars(-name, -ID), as.numeric) \n",
    "#note that the data was loaded as chr, in the last line we convert it to numerical values\n",
    "\n",
    "sample_columns_for_se <- grep(\"sample_\", colnames(data_for_se))\n",
    "\n",
    "#the experimental design is generated directly from the meta data that we loaded at the beginning\n",
    "experimental_design <- meta_data %>%\n",
    "  dplyr::select(label,condition,replicate)\n",
    "\n",
    "#now that we have everything we need lets generate our SE object\n",
    "data_se <- make_se(data_for_se, sample_columns_for_se, experimental_design)\n",
    "\n",
    "experimental_design\n",
    "head(data_for_se)\n",
    "data_se"
   ]
  },
  {
   "cell_type": "markdown",
   "metadata": {},
   "source": [
    "Note that the first column in the experimental design matches the column names for our samples.\n",
    "\n",
    "We also printed some information about the SE object, this also lists functions that we can use to extract data from this object as `assays`, `rownames` etc."
   ]
  },
  {
   "cell_type": "markdown",
   "metadata": {},
   "source": [
    "### Analyzing and visualizing missing values\n",
    "\n",
    "The first step in the analysis of proteomics data, before doing a quntitative analysis, is to simply ask how many proteins were identified in each sample and if there are proteins that are exclusive to only one sample.\n",
    "\n",
    "We will first extract the data from our SE object and save it as a `tibble`, so we can use our tidyverse skills to make some plots."
   ]
  },
  {
   "cell_type": "code",
   "execution_count": null,
   "metadata": {},
   "outputs": [],
   "source": [
    "data_tb <- assay(data_se) %>% as_tibble(rownames = 'gene')\n",
    "head(data_tb)"
   ]
  },
  {
   "cell_type": "markdown",
   "metadata": {},
   "source": [
    "**Q4.** Write code to plot a histogram of the number of samples each protein is identified in, here is one suggestion on how to do this:\n",
    "\n",
    "- Use the `gather()` function to tidy your data such that each row contain a single measurement with the gene name and sample\n",
    "- Add another column `found`; set the value of the entry to `0` if the value is `NA` and `1` if the value is numerical (Hint: use `mutate()` and `ifelse()`. `ifelse()` is a handy function which can pair with `is.na()`, though you will need to specify the correct arguments in the correct spots!)\n",
    "- Lastly `group_by()` gene name, summarize using the column `found`, and make a ggplot histogram with `bins = 10`, as there are 10 total samples (5 wildtype and 5 mutant).\n"
   ]
  },
  {
   "cell_type": "code",
   "execution_count": null,
   "metadata": {},
   "outputs": [],
   "source": []
  },
  {
   "cell_type": "markdown",
   "metadata": {},
   "source": [
    "It looks like most proteins are identified in almost all samples, that is great!\n",
    "\n",
    "Still, a useful QC step in the analysis of proteomics data is to visualize the pattern of missing values. We do this mainly to test two things:\n",
    "- If a specific sample has an large excess of missing values, then we may want to remove that sample.\n",
    "- Whether the data is Missing At Random (MAR) or missing not at random (MNAR). \n",
    "\n",
    "In MNAR, missing values will be mostly observed at low expression values, suggesting that these are proteins that are below the detection limit in specific samples. Proteomics data can me MNAR, MAR, or a combination of both. (The pattern of missing values may impact interpreation or the choice of  algorithms that you might use to _impute_ missing data instead).\n"
   ]
  },
  {
   "cell_type": "markdown",
   "metadata": {},
   "source": [
    "**Q5.** To visualize missing values we will use the function `pheatmap()` (i.e., \"Pretty\" heatmap). Use tidyverse with `data_tb` as the input to generate a new tibble `data_tb_plot` that we will use to plot the heatmap:\n",
    "\n",
    "- Add another column `total` with the function `rowSums()` (make sure you specifiy `na.rm=TRUE`! Otherwise, every row with `NA` will sum to `NA`)\n",
    "- `arrange` `data_tb_plot` at a descending order using the column `total`\n",
    "- remove the column `total` and the column `gene`\n",
    "- report the `head()` and `dim()` of `data_tb_plot`"
   ]
  },
  {
   "cell_type": "code",
   "execution_count": null,
   "metadata": {},
   "outputs": [],
   "source": []
  },
  {
   "cell_type": "markdown",
   "metadata": {},
   "source": [
    "Use the code below to plot the heatmap:"
   ]
  },
  {
   "cell_type": "code",
   "execution_count": null,
   "metadata": {},
   "outputs": [],
   "source": [
    "missing_values_heatmap <- pheatmap(as.data.frame(data_tb_plot),\n",
    "                                   cluster_rows = FALSE, \n",
    "                                   cluster_cols = FALSE, \n",
    "                                   show_rownames = FALSE, \n",
    "                                   legend= TRUE,\n",
    "                                   na_col = \"black\",\n",
    "                                   main = \"Missing values pattern for sorted proteins (based on intensity)\")"
   ]
  },
  {
   "cell_type": "markdown",
   "metadata": {},
   "source": [
    "**Q6.** What do you think? Does the data look MAR or MNAR?"
   ]
  },
  {
   "cell_type": "markdown",
   "metadata": {},
   "source": []
  },
  {
   "cell_type": "markdown",
   "metadata": {},
   "source": [
    "We will further filter the data to take only proteins that are represented in at least 3 replicates for at least on condition (wt or mutant), we will do this using the custom function `filter_missval()`. The argument `thr` sets the threshold for the allowed number of missing values in at least one condition.\n",
    "\n",
    "Run the code below:"
   ]
  },
  {
   "cell_type": "code",
   "execution_count": null,
   "metadata": {},
   "outputs": [],
   "source": [
    "data_se_filt <- filter_missval(data_se, thr = 1)"
   ]
  },
  {
   "cell_type": "markdown",
   "metadata": {
    "collapsed": true
   },
   "source": [
    "### Using UpSet plots to identify proteins that are exclusive to only one group\n",
    "\n",
    "Next, we will use an UpSet plot to visualize the intersection between the two conditions in the identified proteins. UpSet plots are an advanced version of Venn diagrams that can help with complex intersections (between multiple groups). While here we have a relatively simple comparison (only two groups), we want to get you familiar with this graphical representation. You can read more about these plots here: https://jokergoo.github.io/ComplexHeatmap-reference/book/upset-plot.html\n",
    "\n",
    "The input to generate a UpSet plot can be a list of sets or a binary association matrix (which we will use here).\n",
    "\n",
    "Our matrix will have proteins as rows and samples as comlums. The values in the matrix will be `1` if the protein was identified in the given sample, `0` otherwise.\n",
    "\n",
    "There are many ways to generate this matrix from our filtered SE using tidyverse. We provide code to you to do this below. In order to understand this code, it is best to run it line-by-line by inserting `head()` each time between the line and adding the assignment to a new variable only after you got a good idea of how this code works."
   ]
  },
  {
   "cell_type": "code",
   "execution_count": null,
   "metadata": {},
   "outputs": [],
   "source": [
    "assoc_mat <- assay(data_se_filt) %>% \n",
    "    as_tibble(rownames = 'gene') %>%\n",
    "    gather(sample, exp, -gene) %>% \n",
    "    separate(sample, c(\"group\", \"Replicate\")) %>% #we seperate sample to group and replicate id\n",
    "    group_by(gene, group) %>% \n",
    "    summarize(Mean = mean(exp, na.rm=TRUE)) %>%\n",
    "    ungroup() %>% \n",
    "    mutate(group = factor(group)) %>%\n",
    "    pivot_wider(names_from = group, values_from = Mean) %>% #here we go from the tidy dataset to a matrix again\n",
    "    mutate(across(where(is.numeric), ~replace_na(.,0))) %>%   \n",
    "    mutate(across(where(is.numeric), ~replace(., .>0,1)))"
   ]
  },
  {
   "cell_type": "markdown",
   "metadata": {},
   "source": [
    "Now use the code below to generate the plot:"
   ]
  },
  {
   "cell_type": "code",
   "execution_count": null,
   "metadata": {},
   "outputs": [],
   "source": [
    "upset(assoc_mat, colnames(assoc_mat), min_size=1,\n",
    "                                  themes=upset_modify_themes(list('Intersection size'=theme(\n",
    "                                    axis.text=element_text(size=12, face='bold'),\n",
    "                                    axis.title=element_text(size=10, face='italic')))))"
   ]
  },
  {
   "cell_type": "markdown",
   "metadata": {},
   "source": [
    "**Q7.** Now write code that will use `assoc_mat` to list the proteins that are exclusive to the `Mutant` and `wt`. "
   ]
  },
  {
   "cell_type": "code",
   "execution_count": null,
   "metadata": {},
   "outputs": [],
   "source": []
  },
  {
   "cell_type": "markdown",
   "metadata": {},
   "source": [
    "### Normalization, data imputation and PCA\n",
    "\n",
    "#### Normalization\n",
    "Similar to RNAseq data, also in genome-scale proteomics experiments, we assume that the majority of proteins do not change in abundance (across samples in the same project) and therefore samples should have very similar intensity distribution. \n",
    "\n",
    "**Q8.** Complete the code below to produce a violin plot to compare the intensity distribution accross samples (you have done this many time before, most recently in the exam!)"
   ]
  },
  {
   "cell_type": "code",
   "execution_count": null,
   "metadata": {},
   "outputs": [],
   "source": [
    "assay(data_se_filt) %>%\n",
    "    as_tibble(rownames = 'gene') %>%\n",
    "    \n",
    "    "
   ]
  },
  {
   "cell_type": "markdown",
   "metadata": {},
   "source": [
    "The data looks quite good but to make sure that it is indeed normalized we will use a simple median centering normalization. Run the code below to produce a normalized SE."
   ]
  },
  {
   "cell_type": "code",
   "execution_count": null,
   "metadata": {},
   "outputs": [],
   "source": [
    "data_se_filt_norm <- data_se_filt\n",
    "assay(data_se_filt_norm) <- scale(assay(data_se_filt_norm),center=FALSE, scale=FALSE)"
   ]
  },
  {
   "cell_type": "markdown",
   "metadata": {},
   "source": [
    "Note that we use `scale=FALSE`. Using `TRUE` would also standardize the data."
   ]
  },
  {
   "cell_type": "markdown",
   "metadata": {},
   "source": [
    "#### Data imputation\n",
    "\n",
    "There are many approaches for data imputation, the most simple would be to simply remove proteins with missing values. This is not recomended as the missing values could be due to low protein levels in specific samples. Another approach would be to replace missing values with very low values in the case that the data is MNAR. \n",
    "\n",
    "There are also many algorithms that try to model the data to computationally impute missing values, a recent comparison of these approaches can be found here: https://www.nature.com/articles/s41598-021-81279-4\n",
    "\n",
    "In our case, the task is relatively simple: Our data set does not have a lot of missing values, and those that are mostly MNAR.\n",
    "\n",
    "We will use the package `msImpute` as it can deal with both MAR and MNAR and work quite well with a resonable run time. Run the code below to replace the data in your SE object with imputed data."
   ]
  },
  {
   "cell_type": "code",
   "execution_count": null,
   "metadata": {},
   "outputs": [],
   "source": [
    "y <- assay(data_se_filt_norm)\n",
    "colnames(y)\n",
    "group <- as.factor(c(rep('Mutant',1,5),rep('Wt',1,5)))\n",
    "y_imp <- msImpute(y, method = \"v2-mnar\", group = group)\n",
    "\n",
    "data_se_filt_norm_imp <- data_se_filt_norm\n",
    "assay(data_se_filt_norm_imp) <- y_imp"
   ]
  },
  {
   "cell_type": "markdown",
   "metadata": {
    "collapsed": true
   },
   "source": [
    "#### PCA\n",
    "\n",
    "The last step is to make sure that no replicate samples are outliers. For that, we will produce a PCA plot to visualize the samples is a 2D plot. Here, we will use the package `PCAtools` which is very similar to the previous PCA plots we produced in the course.\n",
    "\n",
    "For this analysis we will need to produce two objects: a matrix with the data and the meta data object with information about each sample. The column names of the data need to match the row names of the meta data object!\n",
    "\n",
    "Review and run the code below, this will give you an addtional option to run a PCA analysis that does not require DESeq."
   ]
  },
  {
   "cell_type": "code",
   "execution_count": null,
   "metadata": {
    "scrolled": true
   },
   "outputs": [],
   "source": [
    "data_for_pca <- assay(data_se_filt_norm_imp)\n",
    "\n",
    "meta_data_pca <- meta_data %>%\n",
    "    mutate(condition_rep = paste(condition, replicate, sep = '_')) %>%\n",
    "    as.data.frame() %>%\n",
    "    column_to_rownames('condition_rep') %>%\n",
    "    select(replicate, condition) \n",
    "\n",
    "\n",
    "p <- pca(data_for_pca, metadata = meta_data_pca) \n",
    "\n",
    "biplot(p, labSize = 3, pointSize = 5, colby = \"condition\",\n",
    "       legendPosition = \"bottom\", legendLabSize = 8, legendTitleSize = 10, axisLabSize = 10)"
   ]
  },
  {
   "cell_type": "markdown",
   "metadata": {},
   "source": [
    "The samples nicely separate between WT and Mutant -- the first principal component (PC1) separates WT from mutants. \n",
    "\n",
    "\n",
    "But what about PC2? \n",
    "\n",
    "There seem to be additional variation that separates some set of WT/Mutants {Mutant 1/3/4 + WT 2/1} vs. {Mutant 2/5 + WT 4/5/3}. Could this reflect an effect of the batch on how the samples were potentially processed? More on this at the end of the course, so stay tuned! For now we will continue with the data as it is."
   ]
  },
  {
   "cell_type": "markdown",
   "metadata": {},
   "source": [
    "# Homework"
   ]
  },
  {
   "cell_type": "markdown",
   "metadata": {},
   "source": [
    "### Differential abundance analysis using Limma\n",
    "\n",
    "A popular application of proteomics, simiar to RNAseq, is to identify proteins that show differential abundance between conditions. Previously we used `DESeq2` to analyze RNAseq data: this package was written for RNAseq which expects count data (i.e., read counts). \n",
    "\n",
    "But the case of proteomics data, we have a continous measure of abundance. While could simply round up our proteomics data to produce pseudo-count data and use DESeq, this is quite ad-hoc. Instead, let us instead perform an alternative analysis using the `limma` package.\n",
    "\n",
    "Limma stands for \"Linear Models for Microarray Data\" and (as the name implies) was initially developed for the analysis of microarray data. Later, it was developed into a bioconductor package that can handle mutiple data types. You can read about the package in this NAR paper: https://academic.oup.com/nar/article/43/7/e47/2414268\n",
    "\n",
    "Limma calculates a gene-wise linear model based on the user-specified experimental design desired (e.g., stratifying treated/untreated, etc.). It uses an Empirical bayes statistical model to \"borrow\" information between genes that is used to calculate a posterior variance estimator for each gene in each sample. The algorithm has addtional features as sample weights that can put less emphasis on low quality samples, variance modeling and pre-processing functions that can be used to reduce the noise in the data."
   ]
  },
  {
   "cell_type": "markdown",
   "metadata": {},
   "source": [
    "To start using limma we will generate two variables: a design matrix and a data matrix:\n",
    "Run the code below to generate a design matrix.\n",
    "\n",
    "Here's a reference to a very good descriptor of creating design matricies using limma: https://www.ncbi.nlm.nih.gov/pmc/articles/PMC7873980/\n"
   ]
  },
  {
   "cell_type": "code",
   "execution_count": null,
   "metadata": {},
   "outputs": [],
   "source": [
    "#this is the sample information that we would like to include in our analysis\n",
    "group <- factor(meta_data$condition)\n",
    "\n",
    "#construct the design matrix\n",
    "design <- model.matrix(~0 + group)\n",
    "\n",
    "#adjust the column names of the design matrix\n",
    "colnames(design) <- levels(group)\n",
    "design"
   ]
  },
  {
   "cell_type": "markdown",
   "metadata": {},
   "source": [
    "**Q9.** Take a look at the design matrix, what do the entries in the design matrix mean?"
   ]
  },
  {
   "cell_type": "markdown",
   "metadata": {},
   "source": []
  },
  {
   "cell_type": "markdown",
   "metadata": {},
   "source": [
    "#### Running limma\n",
    "The code below will perform a full limma DE analysis, go through the code line-by-line to get an idea of the different steps."
   ]
  },
  {
   "cell_type": "code",
   "execution_count": null,
   "metadata": {},
   "outputs": [],
   "source": [
    "#generate the data in a matrix form for limma analysis\n",
    "data_limma <- assay(data_se_filt_norm_imp) %>% data.frame()\n",
    "\n",
    "#calculate a linear model for each gene using the data and design matrix\n",
    "fit <- lmFit(data_limma, design = design)\n",
    "\n",
    "# construct a contrast matrix, this will tell the algorith which comparison to make, here we compare Mutant to wt\n",
    "contrast_matrix <- makeContrasts(\"Mutatnt_vs_WT\" = Mutant - wt, levels = design)\n",
    "\n",
    "# Fit the model according to the contrasts matrix\n",
    "contrasts_fit <- contrasts.fit(fit, contrast_matrix)  \n",
    "\n",
    "# Re-smooth the Bayes according to the contrast matrix\n",
    "contrasts_fit <- eBayes(contrasts_fit)\n",
    "\n",
    "# Here we finally calculate differential abundance and produce the results table\n",
    "results_table <- topTable(contrasts_fit, number = nrow(data_limma))"
   ]
  },
  {
   "cell_type": "markdown",
   "metadata": {},
   "source": [
    "**Q10.** Generate a volcano plot of the results, how many proteins are differentially up and down regulated at an adusted p-value of 0.001?"
   ]
  },
  {
   "cell_type": "code",
   "execution_count": null,
   "metadata": {},
   "outputs": [],
   "source": []
  },
  {
   "cell_type": "markdown",
   "metadata": {},
   "source": [
    "### Enrichment analysis:\n",
    "\n",
    "Now that we have a list of differentially abundant proteins, we would like to test if these genes are enriched for specific biological function or in pathways, to help shed light on the biological processes that are disrupted in our mutant mice. Similar to RNA-seq, this will be done by looking for enriched gene annotations within the list of differentialy abundant proteins.\n",
    "\n",
    "Previously, we have done this using online tools. However, this analysis can also be done directly in your R coding environment. Several popular packages exist including `GSEAbase`, `gprofiler2` and `clusterProfiler`, which we will use here. `clusterProfiler` performs a Gene Ontology enrichemnt analysis comparing a list of differential genes to a background list of genes. We encourage you to try the other packages as well, either within this course or in your future work.\n",
    "\n",
    "Let's first load the required packages:"
   ]
  },
  {
   "cell_type": "code",
   "execution_count": null,
   "metadata": {},
   "outputs": [],
   "source": [
    "library(clusterProfiler)\n",
    "library(org.Mm.eg.db)\n",
    "library(ggnewscale)"
   ]
  },
  {
   "cell_type": "markdown",
   "metadata": {},
   "source": [
    "**Q11.** Generate two variables to start your enrichemnt analysis: \n",
    "- `gene_list_down` - list of gene names that have `adj.P.Val < 0.05` and `logFC < -0.5` (you might need to convert `results_table` to a tibble, filter it and take only the gene name column)\n",
    "- `background_set` - list of all genes identified in the proteomics data (make sure this list is unique!)\n",
    "\n",
    "(Tip - you can use the function `pull` to extract a single column from a tibble)"
   ]
  },
  {
   "cell_type": "code",
   "execution_count": null,
   "metadata": {},
   "outputs": [],
   "source": []
  },
  {
   "cell_type": "markdown",
   "metadata": {},
   "source": [
    "Run the code below to generate the object `ego` containing your enrichment analysis results."
   ]
  },
  {
   "cell_type": "code",
   "execution_count": null,
   "metadata": {},
   "outputs": [],
   "source": [
    "ego <- enrichGO(gene          = gene_list_down,\n",
    "                universe      = background_set,\n",
    "                OrgDb         = org.Mm.eg.db,\n",
    "                ont           = \"ALL\",\n",
    "                keyType       = \"SYMBOL\",\n",
    "                pAdjustMethod = \"fdr\",\n",
    "                pvalueCutoff  = 0.01,\n",
    "                qvalueCutoff  = 0.05,\n",
    "                readable      = TRUE)\n",
    "ego\n"
   ]
  },
  {
   "cell_type": "markdown",
   "metadata": {},
   "source": [
    "Above you can see a summary of the results, we can also visualize results from an enrichemnt analysis graphically, run the code below to generate a plot summarizing the results."
   ]
  },
  {
   "cell_type": "code",
   "execution_count": null,
   "metadata": {},
   "outputs": [],
   "source": [
    "enrichGO <- dotplot(ego, split=\"ONTOLOGY\", font.size = 6, label_format = function(x) stringr::str_wrap(x, width=60)) + facet_grid(ONTOLOGY~., scale=\"free\")\n",
    "enrichGO"
   ]
  },
  {
   "cell_type": "markdown",
   "metadata": {},
   "source": [
    "**Q12.** Briefly describe the results in the graph, what does each point represent, axis, how do the three graphs differ from each other."
   ]
  },
  {
   "cell_type": "markdown",
   "metadata": {},
   "source": []
  }
 ],
 "metadata": {
  "kernelspec": {
   "display_name": "R",
   "language": "R",
   "name": "ir"
  },
  "language_info": {
   "codemirror_mode": "r",
   "file_extension": ".r",
   "mimetype": "text/x-r-source",
   "name": "R",
   "pygments_lexer": "r",
   "version": "3.6.2"
  },
  "name": "pharm-screening-assignment.ipynb"
 },
 "nbformat": 4,
 "nbformat_minor": 1
}
