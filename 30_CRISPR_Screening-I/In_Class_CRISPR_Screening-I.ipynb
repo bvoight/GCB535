{
 "cells": [
  {
   "cell_type": "markdown",
   "metadata": {},
   "source": [
    "# CRISPR screening - GCB535"
   ]
  },
  {
   "cell_type": "markdown",
   "metadata": {},
   "source": [
    "In this module we will analyze data from an early CRISPR screening paper (<a href=\"https://science.sciencemag.org/content/350/6264/1096\">Wang T et al. Science 2015</a>) that compared gene essentiality between four different cell lines. We will use the (<a href=\"https://genomebiology.biomedcentral.com/articles/10.1186/s13059-014-0554-4\">MaGECK pipeline</a>) to analyze the data. We have already installed this pipeline for you in your unix environment.\n",
    "\n",
    "The MAGeCK pipeline can either start with raw FASTQ files or from a read count matrix, here we will start from a read count matrix. \n",
    "\n",
    "To use `MAGeCK`, you will need to use the command line (i.e., a terminal)!"
   ]
  },
  {
   "cell_type": "markdown",
   "metadata": {},
   "source": [
    "**Q1.** In your directory you will find the file `count_data.tab`. Open a UNIX terminal and take a look at the first few rows of this file.\n",
    "\n",
    "Each column contains the read counts from a single sample in a single time point, there are four cell lines, `KBM7`, `K562`, `Jiyoye` and `Raji`. For each cell line there are two time points `initial` and `final`, most cell lines have a single replicate other than `KBM7` which has two.\n",
    "\n",
    "How many sgRNA guides are listed in this file?"
   ]
  },
  {
   "cell_type": "raw",
   "metadata": {},
   "source": []
  },
  {
   "cell_type": "markdown",
   "metadata": {},
   "source": [
    "**Q2** Now, we would like to run the MAGeCK pipeline to compare *KBM7* final to initial time point. \n",
    "\n",
    "We expect that sgRNAs which target genes that are essential for *KBM7* growth to be depleted from the final time point. Take a look at the [tutorial](https://sourceforge.net/p/mageck/wiki/demo/#the-first-tutorial-starting-from-read-count-tables) on how to run MAGeCK when starting from a read count table. \n",
    "\n",
    "- Run this in the unix terminal and provide the one line of unix code below. \n",
    "\n",
    "- Use the two KBM7 final samples as your treatment (`KBM7_final_R1` and `KBM7_final_R2`) and two KBM7 initial samples (`KBM7_initial_R1` and `KBM7_initial_R2`) as your control.  \n",
    "\n",
    "- Use `KBM7` for the prefix of your output files."
   ]
  },
  {
   "cell_type": "raw",
   "metadata": {},
   "source": [
    "## My unix command is this\n",
    "$ "
   ]
  },
  {
   "cell_type": "markdown",
   "metadata": {},
   "source": [
    "After running the pipeline, you will find several output files in your directory all strating with `KBM7`. We will look into two files: \n",
    "- `KBM7.sgrna_summary.txt` which contains sgRNA level analysis, and \n",
    "- `KBM7.gene_summary.txt` which contains the gene level analysis."
   ]
  },
  {
   "cell_type": "markdown",
   "metadata": {},
   "source": [
    "**Q3.** Load the two data sets into your R environment and save them as two `tibbles` variables: `KBM7_sgRNA` and `KBM7_gene` \n",
    "    \n",
    "Use `read.table` with `header = TRUE`. Add your code to the code below:"
   ]
  },
  {
   "cell_type": "code",
   "execution_count": null,
   "metadata": {},
   "outputs": [],
   "source": [
    "library(tidyverse)"
   ]
  },
  {
   "cell_type": "markdown",
   "metadata": {},
   "source": [
    "**Q4.** After loading the data, we will first compare the sgRNA counts between early (control) and late (treatment) time points. Use `ggplot` to make a scatter plot comparing `control_mean` with `treat_mean`. Use a log scale for your axis. Do you see depletion of sgRNAs in the later (treated) sample? How would this depletion be affected by the time between the two time points?"
   ]
  },
  {
   "cell_type": "code",
   "execution_count": null,
   "metadata": {},
   "outputs": [],
   "source": []
  },
  {
   "cell_type": "markdown",
   "metadata": {},
   "source": [
    "**Q5.** Next, we will look at gene level data using `KBM7_gene`. MAGeCK calculates a separate score and p-value for increased or decreased representation. \n",
    "\n",
    "To make a volcano plot, we will have to combine the p-values into a single p-value. \n",
    "\n",
    "Use `tidyverse` and `ggplot` to:\n",
    "- Filter your data show you plot only genes with more than one sgRNA `num`.\n",
    "- Create a new column called \"mylogpval\" that returns the minimum of the two pvalues: `neg.p.value`,`pos.p.value`. (Hint: in tidyverse, `rowwise()` may be helpful here.)\n",
    "- Make a volcano plot with `pos.lfc` on the x-axis (lfc is the same for positive and negative) and the `-log10` of the minumum of the two p-values (`neg.p.value`,`pos.p.value`) on the y-axis. \n",
    "\n",
    "**Provide and Exceute your code below.**"
   ]
  },
  {
   "cell_type": "code",
   "execution_count": null,
   "metadata": {},
   "outputs": [],
   "source": []
  },
  {
   "cell_type": "markdown",
   "metadata": {},
   "source": [
    "This volcano plot show you that many more genes are depleted compared to enriched, this is expected as many gene are required for maintaining cell growth while fewer gene knockouts will result in increased cell growth. \n",
    "\n",
    "**Q6.** If we use a False discovery Rate (FDR) of 0.05 (which is already provided to you `neg.fdr`), how many gene knockouts result in decreased KBM7 cell growth?"
   ]
  },
  {
   "cell_type": "code",
   "execution_count": null,
   "metadata": {},
   "outputs": [],
   "source": []
  },
  {
   "cell_type": "markdown",
   "metadata": {},
   "source": [
    "**Q7.** What are the top 10 most depleted genes? Does their known function fit with your expectation?"
   ]
  },
  {
   "cell_type": "code",
   "execution_count": null,
   "metadata": {},
   "outputs": [],
   "source": []
  },
  {
   "cell_type": "markdown",
   "metadata": {},
   "source": [
    "We would like to compare gene essentiality between the four cell lines provided in our data sets. \n",
    "\n",
    "**Q8.** Run MAGeCK: \n",
    "\n",
    "- For each of the three additional cell lines: `K562`, `Jiyoye` and `Raji`. \n",
    "- Then, load the gene summary data and use `tidyverse` to construct a data set that contains the `neg.fdr` for each cell line.\n",
    "- At an FDR P < 0.05, how many genes are shared between all cell lines? "
   ]
  },
  {
   "cell_type": "code",
   "execution_count": null,
   "metadata": {},
   "outputs": [],
   "source": []
  },
  {
   "cell_type": "markdown",
   "metadata": {},
   "source": [
    "Take a look at the following [paper](https://cancerdiscovery.aacrjournals.org/content/6/8/824.long).\n",
    "\n",
    "Apparently, CRISPR screens for gene depletion can have false positives due to targeting of chromosomal regions that are amplified. The reason for that is that if you use Cas9 to target a region that is amplified many times, the excessive DNA damage induced by Cas9 can have a toxic effect. \n",
    "\n",
    "K562 cells are know to have an amplification in chromosome 22, so let's check if this is reflected in our data as well. We have provided you with genomic coordinates for all genes in the file `gene_start.tab`. "
   ]
  },
  {
   "cell_type": "markdown",
   "metadata": {},
   "source": [
    "**Q9.** Plot gene depletion scores (`-log10(neg.p.value)`) as a function of genomic location for chromosome 22. Do you observe any regions of the chromosome that displays clustered gene depletion? How would you assess the significance, if any, of these observations?"
   ]
  },
  {
   "cell_type": "code",
   "execution_count": null,
   "metadata": {},
   "outputs": [],
   "source": []
  }
 ],
 "metadata": {
  "anaconda-cloud": {},
  "kernelspec": {
   "display_name": "R",
   "language": "R",
   "name": "ir"
  },
  "language_info": {
   "codemirror_mode": "r",
   "file_extension": ".r",
   "mimetype": "text/x-r-source",
   "name": "R",
   "pygments_lexer": "r",
   "version": "4.3.1"
  }
 },
 "nbformat": 4,
 "nbformat_minor": 1
}
