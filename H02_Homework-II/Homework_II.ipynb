{
 "cells": [
  {
   "cell_type": "markdown",
   "metadata": {},
   "source": [
    "# Homework Set - II"
   ]
  },
  {
   "cell_type": "markdown",
   "metadata": {},
   "source": [
    "### Reproducibility"
   ]
  },
  {
   "cell_type": "markdown",
   "metadata": {},
   "source": [
    "In the following section, imagine you are working on a gene expression dataset. You want to do some analysis with this dataset and publish a paper. To make sure someone else can reproduce your analysis and results, you want to generate a report with the code and the output results. You will do so using a jupyter notebook, using R. \n",
    "\n",
    "You will be doing a basic analysis of the `genes.table` dataset."
   ]
  },
  {
   "cell_type": "markdown",
   "metadata": {},
   "source": [
    "**Q1.** First, created a new notebook analogous to what you did in Module 12.\n",
    "\n",
    "- create it in your HW2 folder, name this module \"my_hw2_notebook\", and set the kernel to R\n",
    "- Add a new section called \"Homework\", and include an appropriate header describing what is contained in this notebook. \n",
    "- Add your code and answers to the questions below to the Homework section. \n",
    "- Make sure the kernel is set to R (System-wide)."
   ]
  },
  {
   "cell_type": "markdown",
   "metadata": {},
   "source": [
    "**Q2.** Create new cells which contain R code \"chunks\" that perform the following tasks:\n",
    "\n",
    "- First, read in the `genes.table` file and stored into a variable. \n",
    "- Use the `head()` function to print out the first few rows of the table and check if you correctly load the table.\n",
    "- What are the columns? Write your answer in a markdown cell in your new notebook."
   ]
  },
  {
   "cell_type": "markdown",
   "metadata": {},
   "source": [
    "**Q3.** Next,\n",
    "\n",
    "- Using the `hist()` function, create a new cell and write code to plot the distribution of abundance for each gene. \n",
    "- Outside the code chunk, use comments to interpret what you observe from these plots. For example: do they look normally distributed?) \n",
    "- If you wanted to test for differences in expression between genes, which tests would you use for which comparisons? Why? (Hint: What does the t-test assume? What is an alternative to a t-test?). Write your answers in a markdown cell in your new notebook."
   ]
  },
  {
   "cell_type": "markdown",
   "metadata": {},
   "source": [
    "**Q4.** Now, create a new cell in your notebook and use the approprite statistical test to compare the expression patterns of the following pairs:\n",
    "\n",
    "**a. geneA vs geneB**\n",
    "\n",
    "**b. geneA vs geneC**\n",
    "\n",
    "**c. geneB vs geneC**\n",
    "\n",
    "**d. geneB vs geneD**\n",
    "\n",
    "(Hint: In R, the functions `t.test()` and `wilcox.test()` may be useful to you.)\n",
    "\n",
    "Outside the code chunks, write down what statistical test you use in the analysis and what results you get. \n",
    "\n",
    "Write your answers in a markdown cell in your new notebook."
   ]
  },
  {
   "cell_type": "markdown",
   "metadata": {},
   "source": [
    "**Q5.** Finally:\n",
    "\n",
    "- Create a new cell, call the `sessionInfo()` command. \n",
    "\n",
    "This command gives you a snapshot of the versions of libraries and various tools that you have installed (and run). \n",
    "Useful for reproducibility!"
   ]
  },
  {
   "cell_type": "markdown",
   "metadata": {},
   "source": [
    "**Q6a.** Now, make sure you hit the save button on your jupyter notebook!\n",
    "\n",
    "**Q6b.** Download your ipython notebook file as an html file. \n",
    "- To accomplish this, go to the \"File\" menu and select \"Download as\", and select HTML.\n",
    "- Copy this HTML file back into your homework directory.\n",
    "\n",
    "Try downloading this onto your own computer! Open in up in a web browser. As you can see, it looks very similar to the code in the jupyter notebook, except that you can not edit it.\n",
    "\n",
    ".html files can be opened by any web browser. Therefore, this html file can be useful for sharing your results with anyone who does not have jupyter installed on their computer. You can also download jupyter notebooks as .pdf files if you have jupyter installed on your own computer. However, the pdf convertor does not always work on CoCalc."
   ]
  },
  {
   "cell_type": "markdown",
   "metadata": {},
   "source": [
    "### Working in the UNIX environment"
   ]
  },
  {
   "cell_type": "markdown",
   "metadata": {},
   "source": [
    "In the below questions, write the UNIX command that you used to accomplish the task."
   ]
  },
  {
   "cell_type": "markdown",
   "metadata": {},
   "source": [
    "**Q7a.** Move to the directory called \"assignment_move_here\" "
   ]
  },
  {
   "cell_type": "raw",
   "metadata": {},
   "source": [
    "$ "
   ]
  },
  {
   "cell_type": "markdown",
   "metadata": {},
   "source": [
    "**Q7b.** Now list the files in this directory:"
   ]
  },
  {
   "cell_type": "raw",
   "metadata": {},
   "source": [
    "$ "
   ]
  },
  {
   "cell_type": "markdown",
   "metadata": {},
   "source": [
    "**Q7c.** See how there are several Pokémon-related files here, and a directory called output/. \n",
    "\n",
    "- Do a listing of this directory to see what is in that directory (if anything)."
   ]
  },
  {
   "cell_type": "raw",
   "metadata": {},
   "source": [
    "$ "
   ]
  },
  {
   "cell_type": "markdown",
   "metadata": {},
   "source": [
    "**Q8.** So we see that nothing is in the output directory, and so our job will be to fill this in ourselves! First, let's get a sense of what the data looks like. The main file is `orig_151_pokemon.txt`, so write a command to take a look at that file "
   ]
  },
  {
   "cell_type": "raw",
   "metadata": {},
   "source": [
    "$ "
   ]
  },
  {
   "cell_type": "markdown",
   "metadata": {},
   "source": [
    "**Q9.** Now, write a command to \n",
    "- extract the main type (type 1)\n",
    "- remove the header line\n",
    "- sort the types\n",
    "- count the number of Pokemon with each unique type (remember you can use the man pages if you forget a certain flag). \n",
    "- Finally, send the output of this command to a file called `output/type1_counts.txt`"
   ]
  },
  {
   "cell_type": "raw",
   "metadata": {},
   "source": [
    "$ "
   ]
  },
  {
   "cell_type": "markdown",
   "metadata": {},
   "source": [
    "**Q10.** Write a command to print this file."
   ]
  },
  {
   "cell_type": "raw",
   "metadata": {},
   "source": [
    "$ "
   ]
  },
  {
   "cell_type": "markdown",
   "metadata": {},
   "source": [
    "**Q11.** What's the most common main type for a Pokemon to have?"
   ]
  },
  {
   "cell_type": "raw",
   "metadata": {},
   "source": [
    "Most common main type: "
   ]
  },
  {
   "cell_type": "markdown",
   "metadata": {},
   "source": [
    "**Q12.** Now write a similar command for the secondary types (type 2 of each Pokemon), and send it to `output/type2_counts.txt`."
   ]
  },
  {
   "cell_type": "raw",
   "metadata": {},
   "source": [
    "$ "
   ]
  },
  {
   "cell_type": "markdown",
   "metadata": {},
   "source": [
    "**Q13.** How many Pokemon have no secondary type (denoted by 'None' in the type2 column)?"
   ]
  },
  {
   "cell_type": "raw",
   "metadata": {},
   "source": [
    "Number of Pokemon with no secondary type: "
   ]
  },
  {
   "cell_type": "markdown",
   "metadata": {},
   "source": [
    "**Q14.** What's the most common secondary type, other than None, for a Pokemon? "
   ]
  },
  {
   "cell_type": "raw",
   "metadata": {},
   "source": [
    "Most common secondary type: "
   ]
  },
  {
   "cell_type": "markdown",
   "metadata": {},
   "source": [
    "**Q15.** Now, let's look at combinations of types. Write a command to \n",
    "- extract both type fields from the file\n",
    "- remove the header line\n",
    "- remove Pokemon without a secondary type (i.e. without 'None' as it's secondary type)\n",
    "- sort the extracted combinations\n",
    "- count how many times each unique combination of types appears\n",
    "- and send this to `output/combo_type_counts.txt`\n",
    "(hint: you may need to review the manual for grep to accomplish this task)"
   ]
  },
  {
   "cell_type": "raw",
   "metadata": {},
   "source": [
    "$ "
   ]
  },
  {
   "cell_type": "markdown",
   "metadata": {},
   "source": [
    "**Q16.** What's the most common combination of types, where there actually is a secondary type (so ignore entries with 'None' in the second column)?"
   ]
  },
  {
   "cell_type": "raw",
   "metadata": {},
   "source": [
    "Most common combination of types: "
   ]
  },
  {
   "cell_type": "markdown",
   "metadata": {},
   "source": [
    "For the next part of this assignment, we are going to get some more practice with `grep` and file compression. For this, we will be using a data set from the city of Philadelphia about historic streets. This data set is located at:\n",
    "\n",
    "http://data.phl.opendata.arcgis.com/datasets/9409bce14c4e4768a11a8432e80bfa68_0.csv"
   ]
  },
  {
   "cell_type": "markdown",
   "metadata": {},
   "source": [
    "**Q17.** Move back into the main directory for this homework, make a folder called homework_data/, and move into it."
   ]
  },
  {
   "cell_type": "raw",
   "metadata": {},
   "source": [
    "$ "
   ]
  },
  {
   "cell_type": "markdown",
   "metadata": {},
   "source": [
    "**Q18.** Use wget with the `-O` flag, or with curl using the `-L` flag and output redirection to download this file into the current directory (`homework_data`) and name it `historic_streets.csv`.\n",
    "\n",
    "Print the first 10 lines of this file to see what it looks like."
   ]
  },
  {
   "cell_type": "raw",
   "metadata": {},
   "source": [
    "$ "
   ]
  },
  {
   "cell_type": "markdown",
   "metadata": {},
   "source": [
    "Notice how this is a comma separated file, containing information about historic streets in Philadelphia. Each row contains information about a given street such as the street name, where it comes from, and where it goes. \n",
    "\n",
    "**Q19.** Give a command to \n",
    "- cut out the 5th column of this file (remember that you need to specify that it is comma-delimited)\n",
    "- count how many different, unique streets there are in this column (remember you can pipe results to the wc command to get the number of lines)\n",
    "\n",
    "*Hint: Check to seee if the file has a header. If so, don't forget to account for this extra line.* "
   ]
  },
  {
   "cell_type": "raw",
   "metadata": {},
   "source": [
    "$ "
   ]
  },
  {
   "cell_type": "raw",
   "metadata": {},
   "source": [
    "Number of Unique streets is: "
   ]
  },
  {
   "cell_type": "markdown",
   "metadata": {},
   "source": [
    "**Q20.** Now give a command to count how many times each street appears in the 5th column."
   ]
  },
  {
   "cell_type": "raw",
   "metadata": {},
   "source": [
    "$ "
   ]
  },
  {
   "cell_type": "raw",
   "metadata": {},
   "source": [
    "The most common street is: "
   ]
  },
  {
   "cell_type": "markdown",
   "metadata": {},
   "source": [
    "**Q21.** Now use `grep` to find all the entries that contain 'ERIE AVE', either west or east."
   ]
  },
  {
   "cell_type": "raw",
   "metadata": {},
   "source": [
    "$ "
   ]
  },
  {
   "cell_type": "markdown",
   "metadata": {},
   "source": [
    "**Q22.** Let's look at the very last column, which describes what kind of road each entry is. Give a command to \n",
    "\n",
    "- cut out this column (which is the 16th column)\n",
    "- find all the unique classes\n",
    "- and count how many entries there are for each class"
   ]
  },
  {
   "cell_type": "raw",
   "metadata": {},
   "source": [
    "$ "
   ]
  },
  {
   "cell_type": "markdown",
   "metadata": {},
   "source": [
    "**Q23.** Next,\n",
    "\n",
    "- extract all the entries that have Red Brick in this column (including the \"Red Brick (Molded)\" entries) with `grep`\n",
    "- write this to a file called `red_brick_houses.txt`\n",
    "- compress this into a .tar.gz file called `red_brick_houses.tar.gz`\n",
    "\n",
    "Note that you can search the whole entry for Red Brick, not just specifically the last column (i.e. you don't need to use a cut command first)."
   ]
  },
  {
   "cell_type": "raw",
   "metadata": {},
   "source": [
    "$ "
   ]
  },
  {
   "cell_type": "markdown",
   "metadata": {},
   "source": [
    "### Analyzing ChIP-seq Resullts"
   ]
  },
  {
   "cell_type": "markdown",
   "metadata": {},
   "source": [
    "In the following section we ask questions related to the ChIP-seq analysis modules. All the data needed to answer these questions are included in the `chip-seq_data` folder."
   ]
  },
  {
   "cell_type": "markdown",
   "metadata": {},
   "source": [
    "**Q24.** From the folder from where you ended the last section, give and run the commands to navigate into the `chip-seq_data` folder and identify how many peaks we have in the file of p53 peaks under DMSO treatment which we used in the first ChIP-Seq module. **(1 point)**:"
   ]
  },
  {
   "cell_type": "raw",
   "metadata": {},
   "source": [
    "$ "
   ]
  },
  {
   "cell_type": "markdown",
   "metadata": {},
   "source": [
    "**Q25.** Next, give a command to pull out the first column of the bed file, sort it, and count how many peaks there are on each chromosome (**1 point**):"
   ]
  },
  {
   "cell_type": "raw",
   "metadata": {},
   "source": [
    "$ "
   ]
  },
  {
   "cell_type": "markdown",
   "metadata": {},
   "source": [
    "**Q26.** Next, upload this file to the UCSC genome browser (you can use the same uploading approach as the bedGraph file). Then, navigate to the genomic interval chr15:63,449,045-63,449,917 and look at the peak overlap. What gene does this peak overlap? **(1 point)**"
   ]
  },
  {
   "cell_type": "raw",
   "metadata": {},
   "source": []
  },
  {
   "cell_type": "markdown",
   "metadata": {},
   "source": [
    "**Q27.** Now go back to the p53-input.DMSO_peaks.narrowPeak file. Which peak name (in the fourth column) does this locus correspond to? **(1 point)**"
   ]
  },
  {
   "cell_type": "raw",
   "metadata": {},
   "source": []
  },
  {
   "cell_type": "markdown",
   "metadata": {},
   "source": [
    "**Q28.** What are the -log10 values of the p- and q-value for this peak? **(1 point)**"
   ]
  },
  {
   "cell_type": "raw",
   "metadata": {},
   "source": []
  },
  {
   "cell_type": "markdown",
   "metadata": {},
   "source": [
    "**Q29.** We have provided a bedgraph file of some of the reads from the p53 condition around this region, in the `partial_p53_chr15_reads.bedgraph` file (there are no reads from the input condition). Next, upload this file to the genome browser and look at this bedgraph file next to the called peak, making sure you're at the chr15:63,449,045-63,449,917 genomic interval. Do the raw read patterns seem to support the called peak? **(1 point)**"
   ]
  },
  {
   "cell_type": "raw",
   "metadata": {},
   "source": []
  },
  {
   "cell_type": "markdown",
   "metadata": {},
   "source": [
    "**Q30.** Short answer: Where along the gene does this peak seem to fall? Does it seem to differ between isoforms (make sure to look at the UCSC genes)? Given that this data reflects p53 binding, a transcription factor, what might this mean about the relationship between p53 and the gene? **(3 points)**"
   ]
  },
  {
   "cell_type": "raw",
   "metadata": {},
   "source": []
  },
  {
   "cell_type": "markdown",
   "metadata": {},
   "source": [
    "**Q31.** In the second ChIP-seq module you generated four bedgraph files, copies of which have also been provided in the data folder. Upload all four bedgraph files to UCSC Genome Browser and check the p21/CDKN1A gene locus using coordinate chr6:36,633,000-36,656,000. By visualizing the alignments in this region, can you roughly tell where p53 binds under Nutlin induced condition (i.e. the majority of the aligned reads are enriched in which following regions? the CDKN1A promoter, gene body, gene end or other non-coding region)? How about uninduced condition (DMSO)? **(2 points)**"
   ]
  },
  {
   "cell_type": "raw",
   "metadata": {},
   "source": []
  },
  {
   "cell_type": "markdown",
   "metadata": {},
   "source": [
    "**Q32.** Check the p21/CDKN1A locus using coordinate chr6:36,633,000-36,656,000 using the called peak files; you can upload these to the genome browser or just look at them directly. Where does p53 bind under induced and uninduced condition in this region (please give the exact peak coordinates)? Are they consistent with your answer in the first question? **(2 points)**"
   ]
  },
  {
   "cell_type": "raw",
   "metadata": {},
   "source": []
  },
  {
   "cell_type": "markdown",
   "metadata": {},
   "source": [
    "**Q33.** Give the bedtools intersect call to find the number of p53 peaks in the Nutlin condition that are present in the DMSO condition: **(1 point)**"
   ]
  },
  {
   "cell_type": "raw",
   "metadata": {},
   "source": [
    "$ "
   ]
  },
  {
   "cell_type": "markdown",
   "metadata": {},
   "source": [
    "**Q34.** What fraction of Nutlin p53 peaks is present in DMSO? **(1 point)**"
   ]
  },
  {
   "cell_type": "raw",
   "metadata": {},
   "source": []
  },
  {
   "cell_type": "markdown",
   "metadata": {},
   "source": [
    "**Q35.** Give the two bedtools intersect calls to compare the Nutlin and DMSO condition peak calls we generated with the published results: **(2 points)**"
   ]
  },
  {
   "cell_type": "raw",
   "metadata": {},
   "source": [
    "$ "
   ]
  },
  {
   "cell_type": "markdown",
   "metadata": {},
   "source": [
    "**Q36.** How many of the published peaks did you find in the induced (Nutlin) and uninduced (DMSO) conditions? **(1 point)**"
   ]
  },
  {
   "cell_type": "raw",
   "metadata": {},
   "source": []
  },
  {
   "cell_type": "markdown",
   "metadata": {},
   "source": [
    "**Q37.** Short answer: other than the fact that our data was a small fraction of the data from the published paper, what other factors might affect the peaks that we detected with our analysis? Can you suggest any other analyses that would be useful to further understand this data? **(1 point)**"
   ]
  },
  {
   "cell_type": "raw",
   "metadata": {},
   "source": []
  }
 ],
 "metadata": {
  "kernelspec": {
   "display_name": "R",
   "language": "R",
   "name": "ir"
  },
  "language_info": {
   "codemirror_mode": "r",
   "file_extension": ".r",
   "mimetype": "text/x-r-source",
   "name": "R",
   "pygments_lexer": "r",
   "version": "4.3.1"
  },
  "name": "Online_database_in_class.ipynb"
 },
 "nbformat": 4,
 "nbformat_minor": 4
}
