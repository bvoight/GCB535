{
 "cells": [
  {
   "cell_type": "markdown",
   "metadata": {},
   "source": [
    "## Analysis of Gene Expression Data via Arrays using Bioconductor/R - I"
   ]
  },
  {
   "cell_type": "markdown",
   "metadata": {},
   "source": [
    "Today, this notebook constitutes your in-class activity and homework. Over the next 3 days, we will be constructing your own gene expression analysis pipeline, using available tools in R, and available data from the gene expression omnibus (GEO): \n",
    "\n",
    "https://www.ncbi.nlm.nih.gov/geo/\n",
    "\n",
    "Let's take a look at a new data set to analyze: **GSE35961**"
   ]
  },
  {
   "cell_type": "markdown",
   "metadata": {},
   "source": [
    "**Q1.** Describe in your own words, the treatment groups, number of samples, and subjects that were characterized in this experiment."
   ]
  },
  {
   "cell_type": "markdown",
   "metadata": {},
   "source": []
  },
  {
   "cell_type": "markdown",
   "metadata": {},
   "source": [
    "**Q2.** What is the citation attached to this paper?"
   ]
  },
  {
   "cell_type": "markdown",
   "metadata": {},
   "source": []
  },
  {
   "cell_type": "markdown",
   "metadata": {},
   "source": [
    "**Q3.** What is NASH? What is Metformin? What is the hypothesis that this experiment was designed to test? "
   ]
  },
  {
   "cell_type": "markdown",
   "metadata": {},
   "source": []
  },
  {
   "cell_type": "markdown",
   "metadata": {},
   "source": [
    "**Let's use R to download this data set, use UNIX to prepare our associated input files and organize our directory.**"
   ]
  },
  {
   "cell_type": "markdown",
   "metadata": {},
   "source": [
    "**Q4.** Using R, load the libraries we will use for our analysis here. Provide/Execute your code below."
   ]
  },
  {
   "cell_type": "code",
   "execution_count": 0,
   "metadata": {
    "collapsed": true
   },
   "outputs": [],
   "source": []
  },
  {
   "cell_type": "markdown",
   "metadata": {},
   "source": [
    "**Q5.** Using R, download the data set GSE35961 from GEO. Provide/Execute your code below."
   ]
  },
  {
   "cell_type": "code",
   "execution_count": null,
   "metadata": {},
   "outputs": [],
   "source": []
  },
  {
   "cell_type": "markdown",
   "metadata": {},
   "source": [
    "**Q6.** Now, we need to process the data that we downloaded. Using a terminal in UNIX perform the following tasks, and provide your code below (but execute them in a terminal). \n",
    "\n",
    "- Navigate to the newly created directory GSE35961 \n",
    "- Expand the GSE35961_RAW.tar archive [UNIX]\n",
    "- Uncompress all of the .gz files [UNIX]\n",
    "- Delete the GSE35961_RAW.tar file [UNIX]"
   ]
  },
  {
   "cell_type": "markdown",
   "metadata": {},
   "source": []
  },
  {
   "cell_type": "markdown",
   "metadata": {},
   "source": [
    "**Q7.** We need to prepare our phenotype file for analysis. For this assignment, we will compare the samples of NASH to the NASH treated with metformin. \n",
    "\n",
    "- In UNIX, prepare a phenotype.csv file which references the appropriate CEL files for analysis (use the example phenotype file from the prelab as a reference).\n",
    "\n",
    "**How many samples are there?**"
   ]
  },
  {
   "cell_type": "code",
   "execution_count": null,
   "metadata": {
    "collapsed": true
   },
   "outputs": [],
   "source": []
  },
  {
   "cell_type": "markdown",
   "metadata": {},
   "source": [
    "**Then, using R:**\n",
    "\n",
    "- load this phenotype file into R and store it into a variable called phenoData. \n",
    "- and return a summary for the variable phenoData using the pData command.\n",
    "\n",
    "**Provide and execute your R code below.***"
   ]
  },
  {
   "cell_type": "code",
   "execution_count": 0,
   "metadata": {
    "collapsed": true
   },
   "outputs": [],
   "source": []
  },
  {
   "cell_type": "markdown",
   "metadata": {},
   "source": [
    "**There should be only 8 files!**"
   ]
  },
  {
   "cell_type": "markdown",
   "metadata": {},
   "source": [
    "**Q8.** Next, we need to load our CEL file data into our R pipeline. \n",
    "\n",
    "- read a list of cel files into an object called \"celFilelist\" (using list.celfiles(), where you give the name of the directory that contains the cel files) \n",
    "- create a new variable called \"celFiles\" which contains only the CEL files that you want to analyze (i.e., present in the phenoData variable in Q7, above) using brackets [] on celFileList\n",
    "- report the contents of the celFiles variables using print()\n",
    "- read intensity data from the list of celFiles into a variable called \"affyRaw\" using read.celfiles()\n",
    "\n",
    "**Provide and execute your R code below.**"
   ]
  },
  {
   "cell_type": "code",
   "execution_count": null,
   "metadata": {},
   "outputs": [],
   "source": []
  },
  {
   "cell_type": "markdown",
   "metadata": {},
   "source": [
    "### Homework Problems"
   ]
  },
  {
   "cell_type": "markdown",
   "metadata": {},
   "source": [
    "**Q9.** Now let's  take a look at the data. \n",
    "\n",
    "- Create a boxplot of the intensity data for all CEL files loaded.\n",
    "\n",
    "**Provide and execute your R code below.**"
   ]
  },
  {
   "cell_type": "code",
   "execution_count": 0,
   "metadata": {
    "collapsed": true
   },
   "outputs": [],
   "source": []
  },
  {
   "cell_type": "markdown",
   "metadata": {},
   "source": [
    "**Q10.** Next, create a histogram of the intensity data for all CEL files loaded. Provide and execute your R code below. "
   ]
  },
  {
   "cell_type": "code",
   "execution_count": 0,
   "metadata": {
    "collapsed": true
   },
   "outputs": [],
   "source": []
  },
  {
   "cell_type": "markdown",
   "metadata": {},
   "source": [
    "**Congrats! You have completed Part 1. Feel free to continue on to Part 2, so that you can get ahead! :)**"
   ]
  }
 ],
 "metadata": {
  "anaconda-cloud": {},
  "kernelspec": {
   "display_name": "R",
   "language": "R",
   "name": "ir"
  },
  "language_info": {
   "codemirror_mode": "r",
   "file_extension": ".r",
   "mimetype": "text/x-r-source",
   "name": "R",
   "pygments_lexer": "r",
   "version": "4.0.3"
  }
 },
 "nbformat": 4,
 "nbformat_minor": 1
}
