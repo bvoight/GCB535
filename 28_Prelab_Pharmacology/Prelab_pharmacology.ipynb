{
 "cells": [
  {
   "cell_type": "markdown",
   "metadata": {},
   "source": [
    "# Pre-lab: Bioinformatics in Pharmacology"
   ]
  },
  {
   "cell_type": "markdown",
   "metadata": {},
   "source": [
    "## I. Recorded Lecture"
   ]
  },
  {
   "cell_type": "markdown",
   "metadata": {},
   "source": [
    "Head to Canvas and review the slides and watch the recorded lecture \"Bioinformatics in Pharmacology\" (recorded by John Hogenesch). Then, answer the following questions. "
   ]
  },
  {
   "cell_type": "markdown",
   "metadata": {},
   "source": [
    "Q1. What gene has the most publications associated with it (as of 2007)? Do most genes have a lot of publications assoicated with them? Why do you think that is?"
   ]
  },
  {
   "cell_type": "raw",
   "metadata": {
    "collapsed": true
   },
   "source": []
  },
  {
   "cell_type": "markdown",
   "metadata": {},
   "source": [
    "Q2. Describe two genetics-based strategies that could be used to identify new, potential therapeutic drug targets for disease."
   ]
  },
  {
   "cell_type": "raw",
   "metadata": {},
   "source": []
  },
  {
   "cell_type": "markdown",
   "metadata": {},
   "source": [
    "Q3. What is the Z' factor? In what context is it utilized, and how?"
   ]
  },
  {
   "cell_type": "raw",
   "metadata": {},
   "source": []
  },
  {
   "cell_type": "markdown",
   "metadata": {
    "collapsed": true
   },
   "source": [
    "## II. Cell-based screening"
   ]
  },
  {
   "cell_type": "markdown",
   "metadata": {},
   "source": [
    "For our activity for this unit, we have decided to focus on the analysis of data from high-throughput cell screening data. In industry, this is routinely done, for drug discovery, target identification, lead compound optimization, assay development, and more. On Canvas, we have provided you two papers (as some brief overview) to describe the process, features, misconceptions, and examples. See Szymański et al (2012) and Macarron et al (2011). \n",
    "\n",
    "However, the analysis of these data requires data management and analytical processing at large input: hundreds, perhaps thousands of plates to analyze, and something that you can not readily do in excel, even though many of the calculations are relatively straight forward."
   ]
  }
 ],
 "metadata": {
  "kernelspec": {
   "display_name": "Python 2",
   "language": "python",
   "name": "python2"
  },
  "language_info": {
   "codemirror_mode": {
    "name": "ipython",
    "version": 2
   },
   "file_extension": ".py",
   "mimetype": "text/x-python",
   "name": "python",
   "nbconvert_exporter": "python",
   "pygments_lexer": "ipython2",
   "version": "2.7.10"
  },
  "name": "Online_database_in_class.ipynb"
 },
 "nbformat": 4,
 "nbformat_minor": 0
}
