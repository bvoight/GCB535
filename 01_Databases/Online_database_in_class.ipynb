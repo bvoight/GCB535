{
 "cells": [
  {
   "cell_type": "markdown",
   "metadata": {},
   "source": [
    "# Genomic Databases - In Class Exercises"
   ]
  },
  {
   "cell_type": "markdown",
   "metadata": {},
   "source": [
    "Imagine that you are a grad student who has just begun work in a mouse lab. Your advisor, Dr. Stoker, works on a novel mouse phenotype, which has been dubbed Vampiric. Mice with this phenotype have the physiological feature of exceptionally sharp teeth and the behavioral feature of biting other mice. Dr. Stoker has developed a genetic mutagenesis screen for this phenotype using sunlight as a negative selector. In one strain of Vampiric mice, the mutation has been narrowed to an approximately 250-kilobase (kb) region of chromosome 12. Your first task is to investigate what is known about candidate genes in this region."
   ]
  },
  {
   "cell_type": "markdown",
   "metadata": {},
   "source": [
    "#### Part I. Explore the basic functionality of the UCSC Genome Browser"
   ]
  },
  {
   "cell_type": "markdown",
   "metadata": {},
   "source": [
    "1. Go to http://genome.ucsc.edu in your favorite browser. Take a moment to read `Our History` from the `About Us` drop down menu.\n",
    "\n",
    "2. Then, check out `News` from the `About Us` drop down menu. You'll see that this database is pretty active, and is constantly and rapidly providing updates!\n",
    "\n",
    "3. Click the link at the top left that reads `Genomes` to access genomes of your choice. Your queries should go in the text box under `Position/Search term`. Read through the `Sample Position Queries` further down the page for an explanation of how to search for a particular region.\n",
    "\n",
    "***Be mindful! Genomes have versions and it is important that you know which version of the genome you want to query, or you may not find what you want!***\n",
    "\n",
    "3. Choose a different species from the `genome` drop-down list. Note that the entire page changes."
   ]
  },
  {
   "cell_type": "markdown",
   "metadata": {},
   "source": [
    "#### Part II. Investigate the genes in Dr. Stoker’s candidate region"
   ]
  },
  {
   "cell_type": "markdown",
   "metadata": {},
   "source": [
    "1.\tSearch for the region on: chromosome 12 between bases 56,532,042 and 56,785,902 in the most recent assembly of the Mouse genome. Choose `Mouse GRCm38/mm10` from the `genome` drop-down list. \n",
    "\n",
    "### BFV Start here ###\n",
    "Type or copy-paste `chr12:56532042-56785902` in the `search term` cell. Click `go`.\n",
    "\n",
    "2. You should be taken to a page with an image displaying tracks of annotation information for this region. Take a moment to explore this page. Controls for shifting the display region or zooming in/out are above the track image. Some tracks can be expanded or compressed by clicking on them. In other cases, individual annotations on tracks (such as genes) can be clicked for more details. Below the track image is a list of the available tracks for the genome assembly that you are viewing. You can control which tracks are shown by changing the drop-down boxes next to each track name and then clicking “refresh” (the button on the page, not on the browser toolbar). You can also guarantee that you are looking at the normal set of tracks by clicking the “default tracks” button. Base your answers to the following questions on information in the available tracks.\n"
   ]
  },
  {
   "cell_type": "markdown",
   "metadata": {},
   "source": [
    "To answer the following 3 questions, scroll down to the “Genes and Gene Prediction Tracks” and set RefSeq Genes to “pack”; and GenScan Genes to “dense”; also scroll down to “mRNA and EST Tracks” and set Mouse mRNAs to “pack”; You may want to hide other tracks to simplify the view."
   ]
  },
  {
   "cell_type": "markdown",
   "metadata": {},
   "source": [
    "Q1.\tWhat RefSeq Mouse Genes are in this region?"
   ]
  },
  {
   "cell_type": "raw",
   "metadata": {},
   "source": []
  },
  {
   "cell_type": "markdown",
   "metadata": {},
   "source": [
    "RefSeq genes are a good place to start your search for candidate genes, however it is possible that the mutation for Vampiric is in an unknown gene. Note that the Mouse mRNA track has many more annotations than the RefSeq track. RefSeq is a manually curated non-redundant gene database, while GenBank is a larger database with potentially redundant experimental data. For each gene in RefSeq there is typically one or more corresponding mRNA in GenBank that aligns to the same position in the genome. However, some mRNAs in GenBank may be unconfirmed as real genes, and therefore do not have a corresponding RefSeq entry. Such mRNAs would be further candidates for your mutation."
   ]
  },
  {
   "cell_type": "markdown",
   "metadata": {},
   "source": [
    "Q2.\tName an example GeneBank mRNAs in this region that does not correspond to a RefSeq genes. (Hint: Zoom in to see which mRNAs overlap with the smaller genes)"
   ]
  },
  {
   "cell_type": "raw",
   "metadata": {},
   "source": []
  },
  {
   "cell_type": "markdown",
   "metadata": {},
   "source": [
    "You should also consider the possibility that your mutation is in a gene that has never been characterized experimentally. GenScan is a computational tool for predicting genes, which we will discuss in more detail later in this course. For now, just take a look at the annotation track for genes predicted by GenScan. You should always take these predictions with a grain of salt, but they may be useful if you don’t get any interesting results from known genes or mRNAs."
   ]
  },
  {
   "cell_type": "markdown",
   "metadata": {},
   "source": [
    "Q3.\tHow many GenScan predicted genes are in this region?"
   ]
  },
  {
   "cell_type": "raw",
   "metadata": {},
   "source": []
  },
  {
   "cell_type": "markdown",
   "metadata": {},
   "source": [
    "** Part III.\tGet detailed information about one of the candidate genes, Pax9.**"
   ]
  },
  {
   "cell_type": "markdown",
   "metadata": {},
   "source": [
    "Now it’s time to look at what is known about our candidate genes. The RefSeq genes will have the most useful information as they are often based on multiple experiments and have been validated in some way. Click on Pax9 in the RefSeq track on the browser. "
   ]
  },
  {
   "cell_type": "markdown",
   "metadata": {},
   "source": [
    "Q4.\tWhat is the RefSeq Accession Number for Pax9?"
   ]
  },
  {
   "cell_type": "raw",
   "metadata": {},
   "source": []
  },
  {
   "cell_type": "markdown",
   "metadata": {},
   "source": [
    "Q5.\tWhat is the transcript size (the number of base pairs in the entire transcribed mRNA, including introns and untranslated regions) of Pax9?"
   ]
  },
  {
   "cell_type": "raw",
   "metadata": {},
   "source": []
  },
  {
   "cell_type": "markdown",
   "metadata": {},
   "source": [
    "Q6.\t Is Pax9 on the forward or reverse strand of chromosome 12?"
   ]
  },
  {
   "cell_type": "raw",
   "metadata": {},
   "source": []
  },
  {
   "cell_type": "markdown",
   "metadata": {},
   "source": [
    "Under 'mRNA/Genomic Alignments', click the 'browser' link. \n",
    "This will take you back to the track view, but will now be zoomed in on this specific gene. The intron/exon structure of this gene is clearly shown in the RefSeq track. The thickest lines represent exons, the medium lines represent untranslated regions, and the thin lines represent introns, with arrows indicating the direction of transcription."
   ]
  },
  {
   "cell_type": "markdown",
   "metadata": {},
   "source": [
    "Q7.\tHow many exons are in Pax9?"
   ]
  },
  {
   "cell_type": "raw",
   "metadata": {},
   "source": []
  },
  {
   "cell_type": "markdown",
   "metadata": {},
   "source": [
    "Return to the Pax9 information page, and click on the link embedded in the gene id under “Entrez Gene”.\n",
    "This brings you to an NCBI page with more detailed information on this gene. The NCBI Entrez Gene database is linked to GenBank, PubMed, and many other useful databases. Scroll down to the section marked “Genomic regions, transcripts, and products”. You should see an image composed with a green colored line for genomic information, purple for mRNA information and red for protein information. If you only see green lines (genes), click on them and the green line will expand to purple line and red line. Reconfirm the transcript length and the number of exons in Pax9 by mousing over the purple line."
   ]
  },
  {
   "cell_type": "markdown",
   "metadata": {},
   "source": [
    "Q8.\tHow many nucleotides are there in the mature Pax9 mRNA(without introns)? If there are multiple isoforms, choose the one corresponding to the RefSeq transcript we looked at in the UCSC Browser. How many amino acids are there in Pax9 protein? Do they follow the 3:1 ratio (as 3 mRNA nucleotides code for 1 amino acid)? If not, do you know which biological process causes the discrepancy?"
   ]
  },
  {
   "cell_type": "raw",
   "metadata": {},
   "source": []
  },
  {
   "cell_type": "markdown",
   "metadata": {},
   "source": [
    "If you hover over the purple line, you will see many options to display the genomic, mRNA, and protein information of Pax9 in different formats. If you select 'FASTA record,' you'll see the gene sequence corresponding to Pax9. "
   ]
  },
  {
   "cell_type": "markdown",
   "metadata": {},
   "source": [
    "Continue scrolling the NCBI gene page and investigating Pax9.\n",
    "Note that the GeneRIF, Gene Ontology, and Interactions, and Summary sections provide useful information on what is known about the function of this gene. Use the GeneRIF, Gene Ontology, and Interactions sections to answer the following questions about Pax9:"
   ]
  },
  {
   "cell_type": "markdown",
   "metadata": {},
   "source": [
    "Q9.\tWhat evidence (if any) supports Pax9 as a likely mutant related to the Vampiric phenotype?"
   ]
  },
  {
   "cell_type": "raw",
   "metadata": {},
   "source": []
  },
  {
   "cell_type": "markdown",
   "metadata": {},
   "source": [
    "Q10.\tWhat other basic biological function (if any) does Pax9 have?"
   ]
  },
  {
   "cell_type": "raw",
   "metadata": {},
   "source": []
  },
  {
   "cell_type": "markdown",
   "metadata": {},
   "source": [
    "Q11.\tWhat genes or proteins (if any) does Pax9 interact with? (Hint: look under heading Interactions)"
   ]
  },
  {
   "cell_type": "raw",
   "metadata": {},
   "source": []
  },
  {
   "cell_type": "markdown",
   "metadata": {},
   "source": [
    "** Part IV.\tGet information on Pax9 in other (non-mouse) species. **"
   ]
  },
  {
   "cell_type": "markdown",
   "metadata": {},
   "source": [
    "Imagine that you are able to confirm that Pax9 is in fact responsible for the Vampiric phenotype in Mouse. Now Dr. Stoker wants to try inducing this phenotype in other organisms. He asks you to find out which species have Pax9 genes in GenBank.\n",
    "1.\tGo to: http://www.ncbi.nlm.nih.gov/Genbank/\n",
    "Read the introductory information for GenBank. One common way to search GenBank is to submit a sequence as a BLAST search. However, we will cover BLAST and other sequence homology tools later on in the class. In the meantime, we will search the Gene database using keywords.\n",
    "2.\tGo to: http://www.ncbi.nlm.nih.gov/gene\n",
    "Read the “Help” section for extra hints on ways you can search.\n",
    "3.\tSearch for “Pax9” in the search bar at the top of the page.\n",
    "You will notice that you get a list of many genes but not all of them are called Pax9. This is because you have searched all fields in the database and are also seeing genes related to Pax9. Narrow your search by clicking “Advanced” search and modifying the Builder to “Gene Name”. You can also accomplish the same thing by changing your search string to: Pax9[sym], 'sym’ stands for the gene symbol. Species are typically listed on the first line of the item summary in brackets (e.g., [Gallus gallus])"
   ]
  },
  {
   "cell_type": "markdown",
   "metadata": {},
   "source": [
    "Dr. Stoker suggests trying to induce the Vampiric phenotype in human subjects but you point out that that would be against ethical guidelines. He agrees and suggests instead that you use the species Gallus gallus (Chicken)."
   ]
  },
  {
   "cell_type": "markdown",
   "metadata": {},
   "source": [
    "Q12.\tWhat chromosome is Pax9 on in Chicken? "
   ]
  },
  {
   "cell_type": "raw",
   "metadata": {},
   "source": []
  },
  {
   "cell_type": "markdown",
   "metadata": {},
   "source": [
    "Q13.\tIf you wanted to go back and view this region of the chicken genome in UCSC Genome Browser, what search string would you use?"
   ]
  },
  {
   "cell_type": "raw",
   "metadata": {},
   "source": []
  },
  {
   "cell_type": "markdown",
   "metadata": {},
   "source": [
    "** List of Genomic Databases **\n",
    "\n",
    "NCBI Entrez - http://www.ncbi.nlm.nih.gov/sites/gquery - huge database that encompasses other databases, including:\n",
    "- PubMed for Journal Articles - http://www.ncbi.nlm.nih.gov/pubmed/\n",
    "- GenBank for Raw Sequence - http://www.ncbi.nlm.nih.gov/genbank/\n",
    "- RefSeq for Non-Redundant Sequence - http://www.ncbi.nlm.nih.gov/RefSeq/\n",
    "- OMIM for Genetic Diseases - http://www.ncbi.nlm.nih.gov/omim?db=omim\n",
    "- dbSNP for Polymorphisms - http://www.ncbi.nlm.nih.gov/snp?db=snp\n",
    "- GEO for Gene Expression Data - http://www.ncbi.nlm.nih.gov/geo/\n",
    "\n",
    "ExPASy - http://expasy.org/ - Another large database encompassing other databases:\n",
    "- Uniprot for Protein Sequence/Annotation - http://www.uniprot.org/\n",
    "- PROSITE for Protein Sequence Patterns - http://prosite.expasy.org/\n",
    "\n",
    "ENSEMBL - http://useast.ensembl.org/index.html - An alternative to RefSeq and UniProt\n",
    "Genome Browser - http://genome.ucsc.edu/ - Track-based portal to databases of genomic sequence and annotations\n",
    "GeneCards - http://www.genecards.org/ - Gene-centered portal to information from many other databases\n",
    "ENCODE - http://www.genome.gov/10005107 - Encyclopedia of DNA Elements\n",
    "HapMap - http://hapmap.ncbi.nlm.nih.gov/ - Database of human variation across populations\n",
    "Gene Ontology (GO) - http://www.geneontology.org/ - Hierarchy of gene annotations\n",
    "MGED - http://www.mged.org/ - Database of gene expression/microarray results \n",
    "\n",
    "This list is by no means complete, for more databases see the most recent Database Summary Paper Alpha List: http://www.oxfordjournals.org/nar/database/a/"
   ]
  },
  {
   "cell_type": "markdown",
   "metadata": {},
   "source": [
    "# Homework exercise (**10 Points**)"
   ]
  },
  {
   "cell_type": "markdown",
   "metadata": {},
   "source": [
    "Your colleague has just finished an extensive karyotyping study across samples from many different types of human cancers. She specifically looked for regions of the genome that have a statistically significant rate of chromosomal aberrations (including inversions, deletions, and translocations). She has asked you to help her analyze her results, starting with a region she identified on chromosome 6, ranging from base pairs 108,510,000 to 109,500,000 using NCBI build 36 (hg18). Use UCSC Genome Browser and/or other public databases to view information about known genes in this region."
   ]
  },
  {
   "cell_type": "markdown",
   "metadata": {},
   "source": [
    "Q1. What are the genes in this region?  (3 points) "
   ]
  },
  {
   "cell_type": "raw",
   "metadata": {
    "collapsed": true
   },
   "source": []
  },
  {
   "cell_type": "markdown",
   "metadata": {},
   "source": [
    "Q2. Hypothesize which gene you think is the most likely candidate to be related to human cancers, and provide evidence from at least 3 different public databases. Be sure to include the URL to each database entry on which you base your answer. (7 points) \n",
    "[Hint: There is Phenotype and Disease Associations category on UCSC genome browser.]\n"
   ]
  },
  {
   "cell_type": "raw",
   "metadata": {
    "collapsed": true
   },
   "source": []
  }
 ],
 "metadata": {
  "kernelspec": {
   "display_name": "Python 3",
   "language": "python",
   "name": "python3"
  },
  "language_info": {
   "codemirror_mode": {
    "name": "ipython",
    "version": 3
   },
   "file_extension": ".py",
   "mimetype": "text/x-python",
   "name": "python",
   "nbconvert_exporter": "python",
   "pygments_lexer": "ipython3",
   "version": "3.7.3"
  },
  "name": "Online_database_in_class.ipynb"
 },
 "nbformat": 4,
 "nbformat_minor": 1
}
