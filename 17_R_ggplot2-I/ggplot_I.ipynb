{
 "cells": [
  {
   "cell_type": "markdown",
   "metadata": {},
   "source": [
    "# In Class: ggplot I"
   ]
  },
  {
   "cell_type": "markdown",
   "metadata": {},
   "source": [
    "## Loading packages and data"
   ]
  },
  {
   "cell_type": "markdown",
   "metadata": {},
   "source": [
    "Now thay we are all experts in dplyr and ggplot2, we will use our knowledge to analyze some real world data about the COVID-19 pandemic in the US. Our goal is to compare case numbers, testing and fatality rates between several US states.\n",
    "First we will load out libraries and data:"
   ]
  },
  {
   "cell_type": "code",
   "execution_count": null,
   "metadata": {},
   "outputs": [],
   "source": [
    "library(tidyverse)\n",
    "options(repr.plot.width=10, repr.plot.height=3) #set size for plots in this notebook"
   ]
  },
  {
   "cell_type": "markdown",
   "metadata": {},
   "source": [
    "Next we will load the data. The file \"all-states-history.csv\" contains daily reported data from each state which we have already downloaded for you from https://covidtracking.com/.\n",
    "The file is in .csv format, luckily R has a built in function to load .csv file. Use the code below to load this data and convert it as before to tibble."
   ]
  },
  {
   "cell_type": "code",
   "execution_count": null,
   "metadata": {},
   "outputs": [],
   "source": [
    "data <- read.csv('all-states-history.csv')\n",
    "data = as_tibble(data)\n",
    "head(data)"
   ]
  },
  {
   "cell_type": "markdown",
   "metadata": {},
   "source": [
    "Note that the first column, which we will use for plotting the change in COVID-19 cases over time, is of type \"chr\". This time, instead of converting it to a numerical value, we will use the class \"Date\" to keep those values as actual dates."
   ]
  },
  {
   "cell_type": "code",
   "execution_count": null,
   "metadata": {},
   "outputs": [],
   "source": [
    "data$date <- as.Date(data$date,format = '%Y-%m-%d')\n",
    "head(data)"
   ]
  },
  {
   "cell_type": "markdown",
   "metadata": {},
   "source": [
    "Note that now when you look at the data, the class type of the first column is \"date\"."
   ]
  },
  {
   "cell_type": "markdown",
   "metadata": {},
   "source": [
    "Next we will write dplyr filter in order to subset the big table into a smaller table that contains only a few states and reduces the number of columns to only variables that we will use in further analysis. \n",
    "Using the code below, make a vector containing 5 states, add one state of your choice to the four states below."
   ]
  },
  {
   "cell_type": "code",
   "execution_count": null,
   "metadata": {},
   "outputs": [],
   "source": [
    "state_vec = c('NY','PA','SD','CA')"
   ]
  },
  {
   "cell_type": "markdown",
   "metadata": {},
   "source": [
    "**Q1.** Write a dplyr filter to subset data into data_sub taking only rows reported from the states in state_vec (use filter with the operator %in%) and only the following columns: 'date','state','positiveIncrease','totalTestResultsIncrease','deathConfirmed'"
   ]
  },
  {
   "cell_type": "code",
   "execution_count": null,
   "metadata": {},
   "outputs": [],
   "source": []
  },
  {
   "cell_type": "markdown",
   "metadata": {},
   "source": [
    "**Q2.** Now we are ready to plot the number of cases as a function of time!\n",
    "make a plot using data_sub as your data. Use date,positiveIncrease and state as your x,y and color aesthetic mappings respectively. Use point geometry to present your data."
   ]
  },
  {
   "cell_type": "code",
   "execution_count": null,
   "metadata": {},
   "outputs": [],
   "source": []
  },
  {
   "cell_type": "markdown",
   "metadata": {},
   "source": [
    "**Q3.** Add a line geometry to the same plot to make it even more clear"
   ]
  },
  {
   "cell_type": "code",
   "execution_count": null,
   "metadata": {},
   "outputs": [],
   "source": []
  },
  {
   "cell_type": "markdown",
   "metadata": {},
   "source": [
    "The number of positive cases will strongly depend on the number of tests performed, next we will take a look at the number of tests performed as a function of time in each of the 5 states.\n",
    "\n",
    "**Q4.** Using a similar structure as the plot above, examine the number of tests (totalTestResultsIncrease) as a function of date."
   ]
  },
  {
   "cell_type": "code",
   "execution_count": null,
   "metadata": {},
   "outputs": [],
   "source": []
  },
  {
   "cell_type": "markdown",
   "metadata": {},
   "source": [
    "You can see that the number of tests have been more or less increasing during the pandemic. An important measure that has been suggested as an estimae for the severity of the pandemic across regions is the percent positive tests. Use the code below to add a new variable percentPositive."
   ]
  },
  {
   "cell_type": "code",
   "execution_count": null,
   "metadata": {},
   "outputs": [],
   "source": [
    "data_sub$percentPositive = data_sub$positiveIncrease/data_sub$totalTestResultsIncrease"
   ]
  },
  {
   "cell_type": "markdown",
   "metadata": {},
   "source": [
    "**Q5.** Now plot change in percent positive tests."
   ]
  },
  {
   "cell_type": "code",
   "execution_count": null,
   "metadata": {},
   "outputs": [],
   "source": []
  },
  {
   "cell_type": "markdown",
   "metadata": {},
   "source": [
    "What just happened to South Dekota?!\n",
    "\n",
    "Note the outliers and the warning message, we probably should have filtered the data before starting, we will get back to this as part of the homework."
   ]
  },
  {
   "cell_type": "markdown",
   "metadata": {},
   "source": [
    "One question that is on everyones mind is how likely it is, for an infected case, to be fatal.\n",
    "\n",
    "To investigate that, will examine the Incidence Fatality Rate (IFR): what is the percentage of reported cases that result in death. For this we will create a new table that contains the cummulative number of confirmed cases and deaths for all states that this data is reported.\n",
    "\n",
    "Use the code below to generate such table."
   ]
  },
  {
   "cell_type": "code",
   "execution_count": null,
   "metadata": {},
   "outputs": [],
   "source": [
    "data_for_ifr <- data %>% filter(date == '2021-02-17') %>% select('state','positiveCasesViral','death')\n",
    "head(data_for_ifr)"
   ]
  },
  {
   "cell_type": "markdown",
   "metadata": {},
   "source": [
    "**Q6.** Build a plot to compare the total infected (positiveCasesViral) to total death (death). **This time, save the plot object as a variable 'p'**\n",
    "\n",
    "(You will get a warning message, as some states have not reported these numbers on Feb 17, make sure you understand what the warning message means.)"
   ]
  },
  {
   "cell_type": "code",
   "execution_count": null,
   "metadata": {},
   "outputs": [],
   "source": []
  },
  {
   "cell_type": "markdown",
   "metadata": {},
   "source": [
    "Wouldn't it be nice to know which state is represented in each data point?\n",
    "\n",
    "Using ggplot we can easily annotate the plot by adding another geometry, text, to the already existing plot object, use the code below to annotate the previous graph. We are also adding a regression line to fit the data, as the slope of this line can give us a rough idea of the IFR."
   ]
  },
  {
   "cell_type": "code",
   "execution_count": null,
   "metadata": {},
   "outputs": [],
   "source": [
    "p + geom_text(aes(label=state)) + geom_smooth(method = \"lm\", se = FALSE)"
   ]
  },
  {
   "cell_type": "markdown",
   "metadata": {},
   "source": [
    "**Q7.** To better highlight the text, color it in red. Add text color to the code above. Note that this is not an aesthetic mapping! So should not be defined within the aes parentheses."
   ]
  },
  {
   "cell_type": "code",
   "execution_count": null,
   "metadata": {},
   "outputs": [],
   "source": []
  },
  {
   "cell_type": "markdown",
   "metadata": {},
   "source": [
    "Last thing, we would like to extract the slope of the fitted line, to get some estimate of the IFR. Unfourtunatly it is not trivial to get this parameters from the fitted line in geom_smooth, so as a preview to some of our future classes, we will directly calculate a regression line on the data and take a look at the fitted parameters using the code below."
   ]
  },
  {
   "cell_type": "code",
   "execution_count": null,
   "metadata": {},
   "outputs": [],
   "source": [
    "ft <- lm(death ~ positiveCasesViral,data = data_for_ifr)\n",
    "summary(ft)"
   ]
  },
  {
   "cell_type": "markdown",
   "metadata": {},
   "source": [
    "Can you identify the slope parameter? What is the IFR that we got? Does that fit what you know about COVID-19?\n",
    "\n",
    "Don't stress out :) This is most probably much higher than the real IFR due to under reporting of cases...."
   ]
  },
  {
   "cell_type": "markdown",
   "metadata": {},
   "source": [
    "## Homework"
   ]
  },
  {
   "cell_type": "markdown",
   "metadata": {},
   "source": [
    "Remember the plot from Q5? It had some weird values that are most probably due to incomplete or wrong reporting at specific days. Filter the table used in Q5 and replot the graph to get rid of the outliers and the warning messages. Follow these steps:\n",
    "\n",
    "(1) Filter data_sub to show only the rows resulting in outlier percentPositive values. When you look at the figure generated in Q5 you will see two types of outliers, very high percentPositive values and negative values. Filter data_sub (using an OR operator) to show only lines where percentPositive is larger than 0.8 or smaller than 0.\n",
    "\n",
    "(2) Now we see what is wrong, positiveIncrease should always be smaller than totalTestResultsIncrease (you cannot have more positive results than actual tests!). In many cases these two variables have the same value which is obviously a mistake in reporting. Filter data_sub to make sure that totalTestResultsIncrease is greater than positiveIncrease.\n",
    "\n",
    "(3) Redo Q5 with your filtered data"
   ]
  },
  {
   "cell_type": "code",
   "execution_count": null,
   "metadata": {},
   "outputs": [],
   "source": [
    "# Step 1:\n"
   ]
  },
  {
   "cell_type": "code",
   "execution_count": null,
   "metadata": {},
   "outputs": [],
   "source": [
    "# Step 2: "
   ]
  },
  {
   "cell_type": "code",
   "execution_count": null,
   "metadata": {},
   "outputs": [],
   "source": [
    "# Step 3: "
   ]
  }
 ],
 "metadata": {
  "kernelspec": {
   "display_name": "R",
   "language": "R",
   "name": "ir"
  },
  "language_info": {
   "codemirror_mode": "r",
   "file_extension": ".r",
   "mimetype": "text/x-r-source",
   "name": "R",
   "pygments_lexer": "r",
   "version": "3.6.0"
  }
 },
 "nbformat": 4,
 "nbformat_minor": 1
}
