{
 "cells": [
  {
   "cell_type": "markdown",
   "metadata": {},
   "source": [
    "# In Class: ggplot I"
   ]
  },
  {
   "cell_type": "markdown",
   "metadata": {},
   "source": [
    "## Loading packages and data"
   ]
  },
  {
   "cell_type": "markdown",
   "metadata": {},
   "source": [
    "Now thay we are all experts in dplyr and ggplot2, we will use our knowledge to analyze some real world data about the COVID-19 pandemic in the US. Our goal is to compare case numbers, testing and fatality rates between several US states.\n",
    "First we will load out libraries and data:"
   ]
  },
  {
   "cell_type": "code",
   "execution_count": 2,
   "metadata": {},
   "outputs": [
    {
     "name": "stderr",
     "output_type": "stream",
     "text": [
      "── \u001b[1mAttaching packages\u001b[22m ───────────────────────────────────────────────────────────────────────────────────────────────────────────────────── tidyverse 1.3.0 ──\n",
      "\n",
      "\u001b[32m✔\u001b[39m \u001b[34mggplot2\u001b[39m 3.3.3     \u001b[32m✔\u001b[39m \u001b[34mpurrr  \u001b[39m 0.3.4\n",
      "\u001b[32m✔\u001b[39m \u001b[34mtibble \u001b[39m 3.0.6     \u001b[32m✔\u001b[39m \u001b[34mdplyr  \u001b[39m 1.0.4\n",
      "\u001b[32m✔\u001b[39m \u001b[34mtidyr  \u001b[39m 1.1.2     \u001b[32m✔\u001b[39m \u001b[34mstringr\u001b[39m 1.4.0\n",
      "\u001b[32m✔\u001b[39m \u001b[34mreadr  \u001b[39m 1.4.0     \u001b[32m✔\u001b[39m \u001b[34mforcats\u001b[39m 0.5.1\n",
      "\n",
      "── \u001b[1mConflicts\u001b[22m ──────────────────────────────────────────────────────────────────────────────────────────────────────────────────────── tidyverse_conflicts() ──\n",
      "\u001b[31m✖\u001b[39m \u001b[34mdplyr\u001b[39m::\u001b[32mfilter()\u001b[39m masks \u001b[34mstats\u001b[39m::filter()\n",
      "\u001b[31m✖\u001b[39m \u001b[34mdplyr\u001b[39m::\u001b[32mlag()\u001b[39m    masks \u001b[34mstats\u001b[39m::lag()\n",
      "\n"
     ]
    }
   ],
   "source": [
    "library(tidyverse)\n",
    "options(repr.plot.width=10, repr.plot.height=3) #set size for plots in this notebook"
   ]
  },
  {
   "cell_type": "markdown",
   "metadata": {},
   "source": [
    "Next we will load the data. The file \"all-states-history.csv\" contains daily reported data from each state which we have already downloaded for you from https://covidtracking.com/.\n",
    "The file is in .csv format, luckily R has a built in function to load .csv file. Use the code below to load this data and convert it as before to tibble."
   ]
  },
  {
   "cell_type": "code",
   "execution_count": 3,
   "metadata": {},
   "outputs": [
    {
     "data": {
      "text/html": [
       "<table class=\"dataframe\">\n",
       "<caption>A tibble: 6 × 41</caption>\n",
       "<thead>\n",
       "\t<tr><th scope=col>date</th><th scope=col>state</th><th scope=col>death</th><th scope=col>deathConfirmed</th><th scope=col>deathIncrease</th><th scope=col>deathProbable</th><th scope=col>hospitalized</th><th scope=col>hospitalizedCumulative</th><th scope=col>hospitalizedCurrently</th><th scope=col>hospitalizedIncrease</th><th scope=col>⋯</th><th scope=col>totalTestResults</th><th scope=col>totalTestResultsIncrease</th><th scope=col>totalTestsAntibody</th><th scope=col>totalTestsAntigen</th><th scope=col>totalTestsPeopleAntibody</th><th scope=col>totalTestsPeopleAntigen</th><th scope=col>totalTestsPeopleViral</th><th scope=col>totalTestsPeopleViralIncrease</th><th scope=col>totalTestsViral</th><th scope=col>totalTestsViralIncrease</th></tr>\n",
       "\t<tr><th scope=col>&lt;chr&gt;</th><th scope=col>&lt;chr&gt;</th><th scope=col>&lt;int&gt;</th><th scope=col>&lt;int&gt;</th><th scope=col>&lt;int&gt;</th><th scope=col>&lt;int&gt;</th><th scope=col>&lt;int&gt;</th><th scope=col>&lt;int&gt;</th><th scope=col>&lt;int&gt;</th><th scope=col>&lt;int&gt;</th><th scope=col>⋯</th><th scope=col>&lt;int&gt;</th><th scope=col>&lt;int&gt;</th><th scope=col>&lt;int&gt;</th><th scope=col>&lt;int&gt;</th><th scope=col>&lt;int&gt;</th><th scope=col>&lt;int&gt;</th><th scope=col>&lt;int&gt;</th><th scope=col>&lt;int&gt;</th><th scope=col>&lt;int&gt;</th><th scope=col>&lt;int&gt;</th></tr>\n",
       "</thead>\n",
       "<tbody>\n",
       "\t<tr><td>2021-02-17</td><td>AK</td><td>  288</td><td>   NA</td><td>  1</td><td>  NA</td><td> 1238</td><td> 1238</td><td>  32</td><td>  5</td><td>⋯</td><td> 1611971</td><td>  6144</td><td>    NA</td><td>NA</td><td>    NA</td><td>    NA</td><td>     NA</td><td>   0</td><td> 1611971</td><td>  6144</td></tr>\n",
       "\t<tr><td>2021-02-17</td><td>AL</td><td> 9346</td><td> 7324</td><td> 89</td><td>2022</td><td>44541</td><td>44541</td><td>1030</td><td>  0</td><td>⋯</td><td> 2238301</td><td>  2844</td><td>    NA</td><td>NA</td><td>113251</td><td>    NA</td><td>2238301</td><td>2844</td><td>      NA</td><td>     0</td></tr>\n",
       "\t<tr><td>2021-02-17</td><td>AR</td><td> 5313</td><td> 4268</td><td> 26</td><td>1045</td><td>14392</td><td>14392</td><td> 638</td><td>  0</td><td>⋯</td><td> 2593431</td><td>  4423</td><td>    NA</td><td>NA</td><td>    NA</td><td>419081</td><td>     NA</td><td>   0</td><td> 2593431</td><td>  4423</td></tr>\n",
       "\t<tr><td>2021-02-17</td><td>AS</td><td>    0</td><td>   NA</td><td>  0</td><td>  NA</td><td>   NA</td><td>   NA</td><td>  NA</td><td>  0</td><td>⋯</td><td>    2140</td><td>     0</td><td>    NA</td><td>NA</td><td>    NA</td><td>    NA</td><td>     NA</td><td>   0</td><td>    2140</td><td>     0</td></tr>\n",
       "\t<tr><td>2021-02-17</td><td>AZ</td><td>15063</td><td>13328</td><td> 82</td><td>1735</td><td>55983</td><td>55983</td><td>1941</td><td>118</td><td>⋯</td><td> 7281277</td><td> 19717</td><td>430371</td><td>NA</td><td>    NA</td><td>    NA</td><td>3648606</td><td>5812</td><td> 7281277</td><td> 19717</td></tr>\n",
       "\t<tr><td>2021-02-17</td><td>CA</td><td>47507</td><td>   NA</td><td>400</td><td>  NA</td><td>   NA</td><td>   NA</td><td>8855</td><td>  0</td><td>⋯</td><td>46384932</td><td>157207</td><td>    NA</td><td>NA</td><td>    NA</td><td>    NA</td><td>     NA</td><td>   0</td><td>46384932</td><td>157207</td></tr>\n",
       "</tbody>\n",
       "</table>\n"
      ],
      "text/latex": [
       "A tibble: 6 × 41\n",
       "\\begin{tabular}{lllllllllllllllllllll}\n",
       " date & state & death & deathConfirmed & deathIncrease & deathProbable & hospitalized & hospitalizedCumulative & hospitalizedCurrently & hospitalizedIncrease & ⋯ & totalTestResults & totalTestResultsIncrease & totalTestsAntibody & totalTestsAntigen & totalTestsPeopleAntibody & totalTestsPeopleAntigen & totalTestsPeopleViral & totalTestsPeopleViralIncrease & totalTestsViral & totalTestsViralIncrease\\\\\n",
       " <chr> & <chr> & <int> & <int> & <int> & <int> & <int> & <int> & <int> & <int> & ⋯ & <int> & <int> & <int> & <int> & <int> & <int> & <int> & <int> & <int> & <int>\\\\\n",
       "\\hline\n",
       "\t 2021-02-17 & AK &   288 &    NA &   1 &   NA &  1238 &  1238 &   32 &   5 & ⋯ &  1611971 &   6144 &     NA & NA &     NA &     NA &      NA &    0 &  1611971 &   6144\\\\\n",
       "\t 2021-02-17 & AL &  9346 &  7324 &  89 & 2022 & 44541 & 44541 & 1030 &   0 & ⋯ &  2238301 &   2844 &     NA & NA & 113251 &     NA & 2238301 & 2844 &       NA &      0\\\\\n",
       "\t 2021-02-17 & AR &  5313 &  4268 &  26 & 1045 & 14392 & 14392 &  638 &   0 & ⋯ &  2593431 &   4423 &     NA & NA &     NA & 419081 &      NA &    0 &  2593431 &   4423\\\\\n",
       "\t 2021-02-17 & AS &     0 &    NA &   0 &   NA &    NA &    NA &   NA &   0 & ⋯ &     2140 &      0 &     NA & NA &     NA &     NA &      NA &    0 &     2140 &      0\\\\\n",
       "\t 2021-02-17 & AZ & 15063 & 13328 &  82 & 1735 & 55983 & 55983 & 1941 & 118 & ⋯ &  7281277 &  19717 & 430371 & NA &     NA &     NA & 3648606 & 5812 &  7281277 &  19717\\\\\n",
       "\t 2021-02-17 & CA & 47507 &    NA & 400 &   NA &    NA &    NA & 8855 &   0 & ⋯ & 46384932 & 157207 &     NA & NA &     NA &     NA &      NA &    0 & 46384932 & 157207\\\\\n",
       "\\end{tabular}\n"
      ],
      "text/markdown": [
       "\n",
       "A tibble: 6 × 41\n",
       "\n",
       "| date &lt;chr&gt; | state &lt;chr&gt; | death &lt;int&gt; | deathConfirmed &lt;int&gt; | deathIncrease &lt;int&gt; | deathProbable &lt;int&gt; | hospitalized &lt;int&gt; | hospitalizedCumulative &lt;int&gt; | hospitalizedCurrently &lt;int&gt; | hospitalizedIncrease &lt;int&gt; | ⋯ ⋯ | totalTestResults &lt;int&gt; | totalTestResultsIncrease &lt;int&gt; | totalTestsAntibody &lt;int&gt; | totalTestsAntigen &lt;int&gt; | totalTestsPeopleAntibody &lt;int&gt; | totalTestsPeopleAntigen &lt;int&gt; | totalTestsPeopleViral &lt;int&gt; | totalTestsPeopleViralIncrease &lt;int&gt; | totalTestsViral &lt;int&gt; | totalTestsViralIncrease &lt;int&gt; |\n",
       "|---|---|---|---|---|---|---|---|---|---|---|---|---|---|---|---|---|---|---|---|---|\n",
       "| 2021-02-17 | AK |   288 |    NA |   1 |   NA |  1238 |  1238 |   32 |   5 | ⋯ |  1611971 |   6144 |     NA | NA |     NA |     NA |      NA |    0 |  1611971 |   6144 |\n",
       "| 2021-02-17 | AL |  9346 |  7324 |  89 | 2022 | 44541 | 44541 | 1030 |   0 | ⋯ |  2238301 |   2844 |     NA | NA | 113251 |     NA | 2238301 | 2844 |       NA |      0 |\n",
       "| 2021-02-17 | AR |  5313 |  4268 |  26 | 1045 | 14392 | 14392 |  638 |   0 | ⋯ |  2593431 |   4423 |     NA | NA |     NA | 419081 |      NA |    0 |  2593431 |   4423 |\n",
       "| 2021-02-17 | AS |     0 |    NA |   0 |   NA |    NA |    NA |   NA |   0 | ⋯ |     2140 |      0 |     NA | NA |     NA |     NA |      NA |    0 |     2140 |      0 |\n",
       "| 2021-02-17 | AZ | 15063 | 13328 |  82 | 1735 | 55983 | 55983 | 1941 | 118 | ⋯ |  7281277 |  19717 | 430371 | NA |     NA |     NA | 3648606 | 5812 |  7281277 |  19717 |\n",
       "| 2021-02-17 | CA | 47507 |    NA | 400 |   NA |    NA |    NA | 8855 |   0 | ⋯ | 46384932 | 157207 |     NA | NA |     NA |     NA |      NA |    0 | 46384932 | 157207 |\n",
       "\n"
      ],
      "text/plain": [
       "  date       state death deathConfirmed deathIncrease deathProbable\n",
       "1 2021-02-17 AK      288    NA            1             NA         \n",
       "2 2021-02-17 AL     9346  7324           89           2022         \n",
       "3 2021-02-17 AR     5313  4268           26           1045         \n",
       "4 2021-02-17 AS        0    NA            0             NA         \n",
       "5 2021-02-17 AZ    15063 13328           82           1735         \n",
       "6 2021-02-17 CA    47507    NA          400             NA         \n",
       "  hospitalized hospitalizedCumulative hospitalizedCurrently\n",
       "1  1238         1238                    32                 \n",
       "2 44541        44541                  1030                 \n",
       "3 14392        14392                   638                 \n",
       "4    NA           NA                    NA                 \n",
       "5 55983        55983                  1941                 \n",
       "6    NA           NA                  8855                 \n",
       "  hospitalizedIncrease ⋯ totalTestResults totalTestResultsIncrease\n",
       "1   5                  ⋯  1611971           6144                  \n",
       "2   0                  ⋯  2238301           2844                  \n",
       "3   0                  ⋯  2593431           4423                  \n",
       "4   0                  ⋯     2140              0                  \n",
       "5 118                  ⋯  7281277          19717                  \n",
       "6   0                  ⋯ 46384932         157207                  \n",
       "  totalTestsAntibody totalTestsAntigen totalTestsPeopleAntibody\n",
       "1     NA             NA                    NA                  \n",
       "2     NA             NA                113251                  \n",
       "3     NA             NA                    NA                  \n",
       "4     NA             NA                    NA                  \n",
       "5 430371             NA                    NA                  \n",
       "6     NA             NA                    NA                  \n",
       "  totalTestsPeopleAntigen totalTestsPeopleViral totalTestsPeopleViralIncrease\n",
       "1     NA                       NA                  0                         \n",
       "2     NA                  2238301               2844                         \n",
       "3 419081                       NA                  0                         \n",
       "4     NA                       NA                  0                         \n",
       "5     NA                  3648606               5812                         \n",
       "6     NA                       NA                  0                         \n",
       "  totalTestsViral totalTestsViralIncrease\n",
       "1  1611971          6144                 \n",
       "2       NA             0                 \n",
       "3  2593431          4423                 \n",
       "4     2140             0                 \n",
       "5  7281277         19717                 \n",
       "6 46384932        157207                 "
      ]
     },
     "metadata": {},
     "output_type": "display_data"
    }
   ],
   "source": [
    "data <- read.csv('all-states-history.csv')\n",
    "data = as_tibble(data)\n",
    "head(data)"
   ]
  },
  {
   "cell_type": "markdown",
   "metadata": {},
   "source": [
    "Note that the first column, which we will use for plotting the change in COVID-19 cases over time, is of type \"chr\". This time, instead of converting it to a numerical value, we will use the class \"Date\" to keep those values as actual dates."
   ]
  },
  {
   "cell_type": "code",
   "execution_count": 4,
   "metadata": {},
   "outputs": [
    {
     "data": {
      "text/html": [
       "<table class=\"dataframe\">\n",
       "<caption>A tibble: 6 × 41</caption>\n",
       "<thead>\n",
       "\t<tr><th scope=col>date</th><th scope=col>state</th><th scope=col>death</th><th scope=col>deathConfirmed</th><th scope=col>deathIncrease</th><th scope=col>deathProbable</th><th scope=col>hospitalized</th><th scope=col>hospitalizedCumulative</th><th scope=col>hospitalizedCurrently</th><th scope=col>hospitalizedIncrease</th><th scope=col>⋯</th><th scope=col>totalTestResults</th><th scope=col>totalTestResultsIncrease</th><th scope=col>totalTestsAntibody</th><th scope=col>totalTestsAntigen</th><th scope=col>totalTestsPeopleAntibody</th><th scope=col>totalTestsPeopleAntigen</th><th scope=col>totalTestsPeopleViral</th><th scope=col>totalTestsPeopleViralIncrease</th><th scope=col>totalTestsViral</th><th scope=col>totalTestsViralIncrease</th></tr>\n",
       "\t<tr><th scope=col>&lt;date&gt;</th><th scope=col>&lt;chr&gt;</th><th scope=col>&lt;int&gt;</th><th scope=col>&lt;int&gt;</th><th scope=col>&lt;int&gt;</th><th scope=col>&lt;int&gt;</th><th scope=col>&lt;int&gt;</th><th scope=col>&lt;int&gt;</th><th scope=col>&lt;int&gt;</th><th scope=col>&lt;int&gt;</th><th scope=col>⋯</th><th scope=col>&lt;int&gt;</th><th scope=col>&lt;int&gt;</th><th scope=col>&lt;int&gt;</th><th scope=col>&lt;int&gt;</th><th scope=col>&lt;int&gt;</th><th scope=col>&lt;int&gt;</th><th scope=col>&lt;int&gt;</th><th scope=col>&lt;int&gt;</th><th scope=col>&lt;int&gt;</th><th scope=col>&lt;int&gt;</th></tr>\n",
       "</thead>\n",
       "<tbody>\n",
       "\t<tr><td>2021-02-17</td><td>AK</td><td>  288</td><td>   NA</td><td>  1</td><td>  NA</td><td> 1238</td><td> 1238</td><td>  32</td><td>  5</td><td>⋯</td><td> 1611971</td><td>  6144</td><td>    NA</td><td>NA</td><td>    NA</td><td>    NA</td><td>     NA</td><td>   0</td><td> 1611971</td><td>  6144</td></tr>\n",
       "\t<tr><td>2021-02-17</td><td>AL</td><td> 9346</td><td> 7324</td><td> 89</td><td>2022</td><td>44541</td><td>44541</td><td>1030</td><td>  0</td><td>⋯</td><td> 2238301</td><td>  2844</td><td>    NA</td><td>NA</td><td>113251</td><td>    NA</td><td>2238301</td><td>2844</td><td>      NA</td><td>     0</td></tr>\n",
       "\t<tr><td>2021-02-17</td><td>AR</td><td> 5313</td><td> 4268</td><td> 26</td><td>1045</td><td>14392</td><td>14392</td><td> 638</td><td>  0</td><td>⋯</td><td> 2593431</td><td>  4423</td><td>    NA</td><td>NA</td><td>    NA</td><td>419081</td><td>     NA</td><td>   0</td><td> 2593431</td><td>  4423</td></tr>\n",
       "\t<tr><td>2021-02-17</td><td>AS</td><td>    0</td><td>   NA</td><td>  0</td><td>  NA</td><td>   NA</td><td>   NA</td><td>  NA</td><td>  0</td><td>⋯</td><td>    2140</td><td>     0</td><td>    NA</td><td>NA</td><td>    NA</td><td>    NA</td><td>     NA</td><td>   0</td><td>    2140</td><td>     0</td></tr>\n",
       "\t<tr><td>2021-02-17</td><td>AZ</td><td>15063</td><td>13328</td><td> 82</td><td>1735</td><td>55983</td><td>55983</td><td>1941</td><td>118</td><td>⋯</td><td> 7281277</td><td> 19717</td><td>430371</td><td>NA</td><td>    NA</td><td>    NA</td><td>3648606</td><td>5812</td><td> 7281277</td><td> 19717</td></tr>\n",
       "\t<tr><td>2021-02-17</td><td>CA</td><td>47507</td><td>   NA</td><td>400</td><td>  NA</td><td>   NA</td><td>   NA</td><td>8855</td><td>  0</td><td>⋯</td><td>46384932</td><td>157207</td><td>    NA</td><td>NA</td><td>    NA</td><td>    NA</td><td>     NA</td><td>   0</td><td>46384932</td><td>157207</td></tr>\n",
       "</tbody>\n",
       "</table>\n"
      ],
      "text/latex": [
       "A tibble: 6 × 41\n",
       "\\begin{tabular}{lllllllllllllllllllll}\n",
       " date & state & death & deathConfirmed & deathIncrease & deathProbable & hospitalized & hospitalizedCumulative & hospitalizedCurrently & hospitalizedIncrease & ⋯ & totalTestResults & totalTestResultsIncrease & totalTestsAntibody & totalTestsAntigen & totalTestsPeopleAntibody & totalTestsPeopleAntigen & totalTestsPeopleViral & totalTestsPeopleViralIncrease & totalTestsViral & totalTestsViralIncrease\\\\\n",
       " <date> & <chr> & <int> & <int> & <int> & <int> & <int> & <int> & <int> & <int> & ⋯ & <int> & <int> & <int> & <int> & <int> & <int> & <int> & <int> & <int> & <int>\\\\\n",
       "\\hline\n",
       "\t 2021-02-17 & AK &   288 &    NA &   1 &   NA &  1238 &  1238 &   32 &   5 & ⋯ &  1611971 &   6144 &     NA & NA &     NA &     NA &      NA &    0 &  1611971 &   6144\\\\\n",
       "\t 2021-02-17 & AL &  9346 &  7324 &  89 & 2022 & 44541 & 44541 & 1030 &   0 & ⋯ &  2238301 &   2844 &     NA & NA & 113251 &     NA & 2238301 & 2844 &       NA &      0\\\\\n",
       "\t 2021-02-17 & AR &  5313 &  4268 &  26 & 1045 & 14392 & 14392 &  638 &   0 & ⋯ &  2593431 &   4423 &     NA & NA &     NA & 419081 &      NA &    0 &  2593431 &   4423\\\\\n",
       "\t 2021-02-17 & AS &     0 &    NA &   0 &   NA &    NA &    NA &   NA &   0 & ⋯ &     2140 &      0 &     NA & NA &     NA &     NA &      NA &    0 &     2140 &      0\\\\\n",
       "\t 2021-02-17 & AZ & 15063 & 13328 &  82 & 1735 & 55983 & 55983 & 1941 & 118 & ⋯ &  7281277 &  19717 & 430371 & NA &     NA &     NA & 3648606 & 5812 &  7281277 &  19717\\\\\n",
       "\t 2021-02-17 & CA & 47507 &    NA & 400 &   NA &    NA &    NA & 8855 &   0 & ⋯ & 46384932 & 157207 &     NA & NA &     NA &     NA &      NA &    0 & 46384932 & 157207\\\\\n",
       "\\end{tabular}\n"
      ],
      "text/markdown": [
       "\n",
       "A tibble: 6 × 41\n",
       "\n",
       "| date &lt;date&gt; | state &lt;chr&gt; | death &lt;int&gt; | deathConfirmed &lt;int&gt; | deathIncrease &lt;int&gt; | deathProbable &lt;int&gt; | hospitalized &lt;int&gt; | hospitalizedCumulative &lt;int&gt; | hospitalizedCurrently &lt;int&gt; | hospitalizedIncrease &lt;int&gt; | ⋯ ⋯ | totalTestResults &lt;int&gt; | totalTestResultsIncrease &lt;int&gt; | totalTestsAntibody &lt;int&gt; | totalTestsAntigen &lt;int&gt; | totalTestsPeopleAntibody &lt;int&gt; | totalTestsPeopleAntigen &lt;int&gt; | totalTestsPeopleViral &lt;int&gt; | totalTestsPeopleViralIncrease &lt;int&gt; | totalTestsViral &lt;int&gt; | totalTestsViralIncrease &lt;int&gt; |\n",
       "|---|---|---|---|---|---|---|---|---|---|---|---|---|---|---|---|---|---|---|---|---|\n",
       "| 2021-02-17 | AK |   288 |    NA |   1 |   NA |  1238 |  1238 |   32 |   5 | ⋯ |  1611971 |   6144 |     NA | NA |     NA |     NA |      NA |    0 |  1611971 |   6144 |\n",
       "| 2021-02-17 | AL |  9346 |  7324 |  89 | 2022 | 44541 | 44541 | 1030 |   0 | ⋯ |  2238301 |   2844 |     NA | NA | 113251 |     NA | 2238301 | 2844 |       NA |      0 |\n",
       "| 2021-02-17 | AR |  5313 |  4268 |  26 | 1045 | 14392 | 14392 |  638 |   0 | ⋯ |  2593431 |   4423 |     NA | NA |     NA | 419081 |      NA |    0 |  2593431 |   4423 |\n",
       "| 2021-02-17 | AS |     0 |    NA |   0 |   NA |    NA |    NA |   NA |   0 | ⋯ |     2140 |      0 |     NA | NA |     NA |     NA |      NA |    0 |     2140 |      0 |\n",
       "| 2021-02-17 | AZ | 15063 | 13328 |  82 | 1735 | 55983 | 55983 | 1941 | 118 | ⋯ |  7281277 |  19717 | 430371 | NA |     NA |     NA | 3648606 | 5812 |  7281277 |  19717 |\n",
       "| 2021-02-17 | CA | 47507 |    NA | 400 |   NA |    NA |    NA | 8855 |   0 | ⋯ | 46384932 | 157207 |     NA | NA |     NA |     NA |      NA |    0 | 46384932 | 157207 |\n",
       "\n"
      ],
      "text/plain": [
       "  date       state death deathConfirmed deathIncrease deathProbable\n",
       "1 2021-02-17 AK      288    NA            1             NA         \n",
       "2 2021-02-17 AL     9346  7324           89           2022         \n",
       "3 2021-02-17 AR     5313  4268           26           1045         \n",
       "4 2021-02-17 AS        0    NA            0             NA         \n",
       "5 2021-02-17 AZ    15063 13328           82           1735         \n",
       "6 2021-02-17 CA    47507    NA          400             NA         \n",
       "  hospitalized hospitalizedCumulative hospitalizedCurrently\n",
       "1  1238         1238                    32                 \n",
       "2 44541        44541                  1030                 \n",
       "3 14392        14392                   638                 \n",
       "4    NA           NA                    NA                 \n",
       "5 55983        55983                  1941                 \n",
       "6    NA           NA                  8855                 \n",
       "  hospitalizedIncrease ⋯ totalTestResults totalTestResultsIncrease\n",
       "1   5                  ⋯  1611971           6144                  \n",
       "2   0                  ⋯  2238301           2844                  \n",
       "3   0                  ⋯  2593431           4423                  \n",
       "4   0                  ⋯     2140              0                  \n",
       "5 118                  ⋯  7281277          19717                  \n",
       "6   0                  ⋯ 46384932         157207                  \n",
       "  totalTestsAntibody totalTestsAntigen totalTestsPeopleAntibody\n",
       "1     NA             NA                    NA                  \n",
       "2     NA             NA                113251                  \n",
       "3     NA             NA                    NA                  \n",
       "4     NA             NA                    NA                  \n",
       "5 430371             NA                    NA                  \n",
       "6     NA             NA                    NA                  \n",
       "  totalTestsPeopleAntigen totalTestsPeopleViral totalTestsPeopleViralIncrease\n",
       "1     NA                       NA                  0                         \n",
       "2     NA                  2238301               2844                         \n",
       "3 419081                       NA                  0                         \n",
       "4     NA                       NA                  0                         \n",
       "5     NA                  3648606               5812                         \n",
       "6     NA                       NA                  0                         \n",
       "  totalTestsViral totalTestsViralIncrease\n",
       "1  1611971          6144                 \n",
       "2       NA             0                 \n",
       "3  2593431          4423                 \n",
       "4     2140             0                 \n",
       "5  7281277         19717                 \n",
       "6 46384932        157207                 "
      ]
     },
     "metadata": {},
     "output_type": "display_data"
    }
   ],
   "source": [
    "data$date <- as.Date(data$date,format = '%Y-%m-%d')\n",
    "head(data)"
   ]
  },
  {
   "cell_type": "markdown",
   "metadata": {},
   "source": [
    "Note that now when you look at the data, the class type of the first column is \"date\"."
   ]
  },
  {
   "cell_type": "markdown",
   "metadata": {},
   "source": [
    "Next we will write dplyr filter in order to subset the big table into a smaller table that contains only a few states and reduces the number of columns to only variables that we will use in further analysis. \n",
    "Using the code below, make a vector containing 5 states, add one state of your choice to the four states below."
   ]
  },
  {
   "cell_type": "code",
   "execution_count": null,
   "metadata": {},
   "outputs": [],
   "source": [
    "state_vec = c('NY','PA','SD','CA')"
   ]
  },
  {
   "cell_type": "markdown",
   "metadata": {},
   "source": [
    "**Q1.** Write a dplyr filter to subset data into data_sub taking only rows reported from the states in state_vec (use filter with the operator %in%) and only the following columns: 'date','state','positiveIncrease','totalTestResultsIncrease','deathConfirmed'"
   ]
  },
  {
   "cell_type": "code",
   "execution_count": 0,
   "metadata": {},
   "outputs": [],
   "source": []
  },
  {
   "cell_type": "markdown",
   "metadata": {},
   "source": [
    "**Q2.** Now we are ready to plot the number of cases as a function of time!\n",
    "make a plot using data_sub as your data. Use date,positiveIncrease and state as your x,y and color aesthetic mappings respectively. Use point geometry to present your data."
   ]
  },
  {
   "cell_type": "code",
   "execution_count": 0,
   "metadata": {},
   "outputs": [],
   "source": []
  },
  {
   "cell_type": "markdown",
   "metadata": {},
   "source": [
    "**Q3.** Add a line geometry to the same plot to make it even more clear"
   ]
  },
  {
   "cell_type": "code",
   "execution_count": 0,
   "metadata": {},
   "outputs": [],
   "source": []
  },
  {
   "cell_type": "markdown",
   "metadata": {},
   "source": [
    "The number of positive cases will strongly depend on the number of tests performed, next we will take a look at the number of tests performed as a function of time in each of the 5 states.\n",
    "\n",
    "**Q4.** Using a similar structure as the plot above, examine the number of tests (totalTestResultsIncrease) as a function of date."
   ]
  },
  {
   "cell_type": "code",
   "execution_count": 0,
   "metadata": {},
   "outputs": [],
   "source": []
  },
  {
   "cell_type": "markdown",
   "metadata": {},
   "source": [
    "You can see that the number of tests have been more or less increasing during the pandemic. An important measure that has been suggested as an estimae for the severity of the pandemic across regions is the precent positive tests. Use the code below to add a new variable precentPositive."
   ]
  },
  {
   "cell_type": "code",
   "execution_count": 0,
   "metadata": {},
   "outputs": [],
   "source": [
    "data_sub$precentPositive = data_sub$positiveIncrease/data_sub$totalTestResultsIncrease"
   ]
  },
  {
   "cell_type": "markdown",
   "metadata": {},
   "source": [
    "**Q5.** Now plot change in precent positive tests."
   ]
  },
  {
   "cell_type": "code",
   "execution_count": null,
   "metadata": {},
   "outputs": [],
   "source": []
  },
  {
   "cell_type": "markdown",
   "metadata": {},
   "source": [
    "What just happened to South Dekota?!\n",
    "\n",
    "Note the outliers and the warning message, we probably should have filtered the data before starting, we will get back to this as part of the homework."
   ]
  },
  {
   "cell_type": "markdown",
   "metadata": {},
   "source": [
    "One question that is on everyones mind is how likely it is, for an infected case, to be fatal.\n",
    "\n",
    "To investigate that, will examine the Incidence Fatality Rate (IFR): what is the precentage of reported cases that result in death. For this we will create a new table that contains the cummulative number of confirmed cases and deaths for all states that this data is reported.\n",
    "\n",
    "Use the code below to generate such table."
   ]
  },
  {
   "cell_type": "code",
   "execution_count": 5,
   "metadata": {},
   "outputs": [],
   "source": [
    "data_for_ifr <- data %>% filter(date == '2021-02-17') %>% select('state','positiveCasesViral','death')\n",
    "head(data_for_ifr)"
   ]
  },
  {
   "cell_type": "markdown",
   "metadata": {},
   "source": [
    "**Q6.** Build a plot to compare the total infected (positiveCasesViral) to total death (death), this time also save the plot object as a variable p\n",
    "\n",
    "(You will get a warning message, as some states have not reported these numbers on Feb 17, make sure you understand what the warning message means.)"
   ]
  },
  {
   "cell_type": "code",
   "execution_count": 0,
   "metadata": {},
   "outputs": [],
   "source": []
  },
  {
   "cell_type": "markdown",
   "metadata": {},
   "source": [
    "Wouldn't it be nice to know which state is represented in each data point?\n",
    "\n",
    "Using ggplot we can easily annotate the plot by adding another geometry, text, to the already existing plot object, use the code below to annotate the previous graph. We are also adding a regression line to fit the data, as the slope of this line can give us a rough idea of the IFR."
   ]
  },
  {
   "cell_type": "code",
   "execution_count": 6,
   "metadata": {},
   "outputs": [
    {
     "ename": "ERROR",
     "evalue": "Error in eval(expr, envir, enclos): object 'p' not found\n",
     "output_type": "error",
     "traceback": [
      "Error in eval(expr, envir, enclos): object 'p' not found\nTraceback:\n"
     ]
    }
   ],
   "source": [
    "p + geom_text(aes(label=state)) + geom_smooth(method = \"lm\", se = FALSE)"
   ]
  },
  {
   "cell_type": "markdown",
   "metadata": {},
   "source": [
    "**Q7.** To better highlight the text, color it in red. Add text color to the code above. Note that this is not an aesthetic mapping! So should not be defined within the aes parentheses."
   ]
  },
  {
   "cell_type": "code",
   "execution_count": 0,
   "metadata": {},
   "outputs": [],
   "source": []
  },
  {
   "cell_type": "markdown",
   "metadata": {},
   "source": [
    "Last thing, we would like to extract the slope of the fitted line, to get some estimate of the IFR. Unfourtunatly it is not trivial to get this parameters from the fitted line in geom_smooth, so as a preview to some of our future classes, we will directly calculate a regression line on the data and take a look at the fitted parameters using the code below."
   ]
  },
  {
   "cell_type": "code",
   "execution_count": null,
   "metadata": {},
   "outputs": [],
   "source": [
    "ft <- lm(totalDeath ~ totalInfected,data = data_for_ifr)\n",
    "summary(ft)"
   ]
  },
  {
   "cell_type": "markdown",
   "metadata": {},
   "source": [
    "Can you identify the slope parameter? What is the IFR that we got? Does that fit what you know about COVID-19?\n",
    "\n",
    "Don't stress out :) This is most probably much higher than the real IFR due to under reporting of cases...."
   ]
  },
  {
   "cell_type": "markdown",
   "metadata": {},
   "source": [
    "## Homework"
   ]
  },
  {
   "cell_type": "markdown",
   "metadata": {},
   "source": [
    "Remember the plot from Q5? It had some weird values that are most probably due to incomplete or wrong reporting at specific days. Filter the table used in Q5 and replot the graph to get rid of the outliers and the warning messages. Follow these steps:\n",
    "\n",
    "(1) Filter data_sub to show only the rows resulting in outlier precentPositive values. When you look at the figure generated in Q5 you will see two types of outliers, very high precentPositive values and negative values. Filter data_sub (using an OR operator) to show only lines where precentPositive is larger than 0.8 or smaller than 0.\n",
    "\n",
    "(2) Now we see what is wrong, positiveIncrease should always be smaller than totalTestResultsIncrease (you cannot have more positive results than actual tests!). In many cases these two variables have the same value which is obviously a mistake in reporting. Filter data_sub to make sure that totalTestResultsIncrease is greater than positiveIncrease.\n",
    "\n",
    "(3) Redo Q5 with your filtered data"
   ]
  }
 ],
 "metadata": {
  "kernelspec": {
   "display_name": "R",
   "language": "R",
   "name": "ir"
  },
  "language_info": {
   "codemirror_mode": "r",
   "file_extension": ".r",
   "mimetype": "text/x-r-source",
   "name": "R",
   "pygments_lexer": "r",
   "version": "4.0.4"
  }
 },
 "nbformat": 4,
 "nbformat_minor": 1
}
