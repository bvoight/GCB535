{
 "cells": [
  {
   "cell_type": "markdown",
   "metadata": {},
   "source": [
    "## Machine Learning III: Really Overfit"
   ]
  },
  {
   "cell_type": "markdown",
   "metadata": {},
   "source": [
    "After today's discussion, we'd like to really reinforce the issues with overfitting (and care that is required here).\n",
    "\n",
    "We have machine learning at our fingertips, and we've just discussed some of the dangers. \n",
    "\n",
    "For this activity, we've managed to get our hands on some expression data about a disease (D1). This datasets has features in columns and examples in rows. Each feature represents expression data, while each row represents a person. We want to be able to predict whether or not a person has a disease.\n",
    "\n",
    "For this, we'll use an SVM and build some models and experiment."
   ]
  },
  {
   "cell_type": "markdown",
   "metadata": {},
   "source": [
    "As in the previous activity, we'll load some libraries and a custom function to read our data in (for simplicity).\n",
    "\n",
    "**Execute the two cells below**"
   ]
  },
  {
   "cell_type": "code",
   "execution_count": null,
   "metadata": {},
   "outputs": [],
   "source": [
    "# Load useful R packages\n",
    "library(e1071) # contains implementation of SVM\n",
    "library(caret) # contains methods for obtaining training & testing accuracy\n",
    "library(tidyverse)"
   ]
  },
  {
   "cell_type": "code",
   "execution_count": null,
   "metadata": {},
   "outputs": [],
   "source": [
    "read_data <- function(data_filename, labels_filename){\n",
    "  # INPUT:\n",
    "  #   data_filename -- path to the .pcl file you are loading\n",
    "  #   labels_filename -- path to the labels corresponding to the labels for each sample\n",
    "  # OUTPUT:\n",
    "  #   samples x genes dataframe (gene expression values normalized/centered)\n",
    "\n",
    "  # PCL files are tab-delimited with samples as column names, genes as row names\n",
    "  dataset =read.delim(data_filename, sep='\\t', header=T, row.names = 1)\n",
    "\n",
    "  # Labels are a space-delimited file where the first column is sample names and the\n",
    "  # second column is the tumor status label\n",
    "  labels = read.delim(labels_filename, sep=' ', header=F)\n",
    "  colnames(labels) = c(\"Sample\", \"Label\")\n",
    "\n",
    "  # Check to make sure the sample names are the same in the labels and data\n",
    "  if(length(intersect(colnames(dataset), labels$Sample)) == 0){\n",
    "    print(\"Sample names do not match between labels and data. Please make sure you're using the correct combo of file names!\")\n",
    "    return(NA)\n",
    "    }\n",
    "\n",
    "  # Mean-center each gene's expression values so we can compare them \n",
    "  # Note that the 'apply' call (which just applies the scale() fxn to each row) returns a\n",
    "  # transposed matrix such that genes are now columns and samples are now rows \n",
    "  save_samplenames = colnames(dataset)\n",
    "  dataset_transformed = apply(dataset, 1, scale)\n",
    "  rownames(dataset_transformed) = save_samplenames\n",
    "  dataset_transformed = data.frame(dataset_transformed)\n",
    "\n",
    "  # add a column for label\n",
    "  dataset_transformed$Sample = row.names(dataset_transformed)\n",
    "  dataset_transformed = dataset_transformed %>% left_join(labels, by=\"Sample\")\n",
    "  dataset_transformed$Sample = NULL # we don't need this column after we've used it to connect samples to labels\n",
    "\n",
    "\n",
    "  return(dataset_transformed)\n",
    "}"
   ]
  },
  {
   "cell_type": "markdown",
   "metadata": {},
   "source": [
    "Our data comprises:\n",
    "\n",
    "* `D1.pcl`: contains the gene expression values for each sample. \n",
    "* `D1_labels.txt`: contains the labels (Case/Control) for each sample.\n",
    "\n",
    "Let's load the data in and prepare it for the SVM model bulding.\n",
    "\n",
    "**Execute the code below.**"
   ]
  },
  {
   "cell_type": "code",
   "execution_count": null,
   "metadata": {},
   "outputs": [],
   "source": [
    "# Reset to ~/32_Data_ML_II after testing locally, making this dir\n",
    "D1pclfile = \"~/33_Data_ML-III/D1.pcl\"\n",
    "D1labelfile  = \"~/33_Data_ML-III/D1_labels.txt\"\n",
    "\n",
    "D1 = read_data(D1pclfile, D1labelfile)\n",
    "D1_Y = factor(D1$Label)\n",
    "D1_X = D1 %>% select(-Label)"
   ]
  },
  {
   "cell_type": "markdown",
   "metadata": {},
   "source": [
    "Now, we'll construct our SVM from the data, and get the fitted (predicted) labels for each sample:"
   ]
  },
  {
   "cell_type": "code",
   "execution_count": null,
   "metadata": {},
   "outputs": [],
   "source": [
    "svm_mod_D1 <- svm(x=D1_X, y=D1_Y, data=D1, kernel = \"linear\", cost=0.000001) # \"cost\" is the C parameter\n",
    "prediction_D1 <- predict(svm_mod_D1, D1_X)"
   ]
  },
  {
   "cell_type": "markdown",
   "metadata": {},
   "source": [
    "We'll want to know the 'training accuracy,' or the proportion of the SVM's classifications that were correct:"
   ]
  },
  {
   "cell_type": "code",
   "execution_count": null,
   "metadata": {},
   "outputs": [],
   "source": [
    "AccuracyStatsTraining = confusionMatrix(D1_Y, prediction_D1)\n",
    "print(AccuracyStatsTraining$overall[\"Accuracy\"])"
   ]
  },
  {
   "cell_type": "markdown",
   "metadata": {},
   "source": [
    "**Q1:** What is the accuracy you return from this basic model?"
   ]
  },
  {
   "cell_type": "code",
   "execution_count": null,
   "metadata": {},
   "outputs": [],
   "source": []
  },
  {
   "cell_type": "markdown",
   "metadata": {},
   "source": [
    "**Q2:** OK, now let the ML fly: See if you can improve the model. Options you could consider:\n",
    "\n",
    "    - Changing the \"cost\" function to different values\n",
    "    - Change the 'kernel' to use a different model function. eg.\n",
    "        `svm(..., kernel=polynomial,degree=2)`     #a polynominal function with 2 degree polynomial.\n",
    "        \n",
    "Explore this space and provide at least *three examples* of different models and evaluate their accuracy.\n",
    "\n",
    "**Provide and Execute your code below.**"
   ]
  },
  {
   "cell_type": "code",
   "execution_count": null,
   "metadata": {},
   "outputs": [],
   "source": [
    "## Example 1\n",
    "\n"
   ]
  },
  {
   "cell_type": "code",
   "execution_count": null,
   "metadata": {},
   "outputs": [],
   "source": [
    "## Example 2\n",
    "\n"
   ]
  },
  {
   "cell_type": "code",
   "execution_count": null,
   "metadata": {},
   "outputs": [],
   "source": [
    "## Example 3\n",
    "\n"
   ]
  },
  {
   "cell_type": "markdown",
   "metadata": {},
   "source": [
    "**Q3:** What is your reported accuracy of your best model? "
   ]
  },
  {
   "cell_type": "code",
   "execution_count": null,
   "metadata": {},
   "outputs": [],
   "source": []
  },
  {
   "cell_type": "markdown",
   "metadata": {},
   "source": [
    "OK, you build your best model using all of the data you had. If you stopped here, and reported your results, you could run the risk of overfitting. How will you know the model that you have picked is the best?\n",
    "\n",
    "We've provided you an independent data set that you can use for testing:\n",
    "\n",
    "**D2_test.pcl** contains the gene expression values for each sample. \n",
    "\n",
    "**D2_test_labels.txt** contains the labels (Case/Control) for each sample.\n",
    "\n",
    "**Execute the code below**"
   ]
  },
  {
   "cell_type": "code",
   "execution_count": null,
   "metadata": {},
   "outputs": [],
   "source": [
    "# Reset to ~/32_Data_ML_II after testing locally, making this dir\n",
    "D2pclfile = \"~/33_Data_ML-III/D2_test.pcl\"\n",
    "D2labelfile  = \"~/33_Data_ML-III/D2_test_labels.txt\"\n",
    "\n",
    "D2 = read_data(D2pclfile, D2labelfile)\n",
    "D2_Y = factor(D2$Label)\n",
    "D2_X = D2 %>% select(-Label)"
   ]
  },
  {
   "cell_type": "markdown",
   "metadata": {},
   "source": [
    "Now, let's test the model we trained in D1 to predict the data in D2."
   ]
  },
  {
   "cell_type": "code",
   "execution_count": null,
   "metadata": {},
   "outputs": [],
   "source": [
    "prediction_D2 <- predict(svm_mod_d1, D2_X)\n",
    "AccuracyStatsTraining = confusionMatrix(D2_Y, prediction_D2)\n",
    "print(AccuracyStatsTraining$overall[\"Accuracy\"])"
   ]
  },
  {
   "cell_type": "markdown",
   "metadata": {},
   "source": [
    "**Q4.** What do you observe about the prediction accuracy of your best trained model in the test set? Does this model *actually* do a good job or not?"
   ]
  },
  {
   "cell_type": "markdown",
   "metadata": {},
   "source": []
  },
  {
   "cell_type": "markdown",
   "metadata": {},
   "source": [
    "**Q5.** You only considered / had time to train three models above. But if you had enough time, could you have found an *even better* model for prediction? Why or why not? Is this problematic, and if so, why?"
   ]
  },
  {
   "cell_type": "code",
   "execution_count": null,
   "metadata": {},
   "outputs": [],
   "source": []
  }
 ],
 "metadata": {
  "kernelspec": {
   "display_name": "R",
   "language": "R",
   "name": "ir"
  },
  "language_info": {
   "codemirror_mode": "r",
   "file_extension": ".r",
   "mimetype": "text/x-r-source",
   "name": "R",
   "pygments_lexer": "r",
   "version": "4.0.3"
  }
 },
 "nbformat": 4,
 "nbformat_minor": 4
}
