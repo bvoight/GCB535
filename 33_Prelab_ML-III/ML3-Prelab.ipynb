{
 "cells": [
  {
   "cell_type": "markdown",
   "metadata": {},
   "source": [
    "## With great power comes great responsibility!\n",
    "\n",
    "By this point, you've already built a near perfect classifier of tumor/normal status from about 2000 breast biopsies, and you've applied it to an independent validation set of approximately 500 samples from TCGA.\n",
    "\n",
    "**You could now build a biomarker panel to identify people with a disease, people who would benefit from a drug, or address many other use cases.** How's that for power? If we're going to use these algorithms, we should get a handle on how they can be applied, and what might go wrong.\n",
    "\n",
    "For this, we're going to take a time machine back to the fall of 2015. The top song on the billboard top 100 music chart was *The Hills* by *The Weeknd*, and Prof. Voight was sitting in a conference room at ASHG. On stage, Tuck Ngun was sharing the results of his analysis to identify epigenetic marks associated with sexual orientation. This paper would erupt into a twitterstorm of epic ferocity. The back and forth is captured in these three blog posts:\n",
    "\n",
    "* http://www.theatlantic.com/science/archive/2015/10/no-scientists-have-not-found-the-gay-gene/410059/\n",
    "* http://vizbang.tumblr.com/post/130904633310/a-responserebuttal-to-ed-yongs-article-in-the\n",
    "* http://andrewgelman.com/2015/10/10/gay-gene-tabloid-hype-update/\n",
    "\n",
    "Before class, read and think about these blog posts in the context of what you've learned thus far. Be ready to discuss how these articles fit into what you've learned, as we'll spend the first part of class on this.\n",
    "\n",
    "[In case you can't get to these blog posts, but can get to sage math cloud, we've uploaded PDFs of them to this folder.]"
   ]
  },
  {
   "cell_type": "markdown",
   "metadata": {},
   "source": [
    "**Q1.** In a nutshell, who do you think is right and why?"
   ]
  },
  {
   "cell_type": "markdown",
   "metadata": {},
   "source": []
  },
  {
   "cell_type": "markdown",
   "metadata": {},
   "source": [
    "**Q2.** What issues, if any, are raised here about:\n",
    "\n",
    "* Scientific Reproducibility and Rigor\n",
    "* Scientific communication with the lay audience, media\n",
    "* Vehciles for scientific discussion amongst actual scientist\n",
    "* The approach to disseminate material in a scientific presentations and responsibilities of the presenter, audience, reviewers, and organizers"
   ]
  },
  {
   "cell_type": "markdown",
   "metadata": {},
   "source": []
  }
 ],
 "metadata": {
  "anaconda-cloud": {},
  "kernelspec": {
   "display_name": "Python 3",
   "language": "python",
   "name": "python3"
  },
  "language_info": {
   "codemirror_mode": {
    "name": "ipython",
    "version": 3
   },
   "file_extension": ".py",
   "mimetype": "text/x-python",
   "name": "python",
   "nbconvert_exporter": "python",
   "pygments_lexer": "ipython3",
   "version": "3.8.5"
  }
 },
 "nbformat": 4,
 "nbformat_minor": 1
}
