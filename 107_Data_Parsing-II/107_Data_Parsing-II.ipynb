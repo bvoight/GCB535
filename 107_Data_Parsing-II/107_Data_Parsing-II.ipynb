{
 "cells": [
  {
   "cell_type": "markdown",
   "metadata": {},
   "source": [
    "# Intro to Bioinformatics Final 2019"
   ]
  },
  {
   "cell_type": "markdown",
   "metadata": {},
   "source": [
    "## Plagiarism"
   ]
  },
  {
   "cell_type": "markdown",
   "metadata": {},
   "source": [
    "Please enter your name below. By writing you name, you stipulate that you will not copy answers from other students:"
   ]
  },
  {
   "cell_type": "raw",
   "metadata": {},
   "source": []
  },
  {
   "cell_type": "markdown",
   "metadata": {},
   "source": [
    "## Instructions"
   ]
  },
  {
   "cell_type": "markdown",
   "metadata": {},
   "source": [
    "The final will be collected from CoCalc on May 7th 2019 at 2pm, EDT. \n",
    "\n",
    "Please make sure you illustrate your answer clearly and that the code can be executed and generates the output that you have saved.\n",
    "\n",
    "All the data are in the folder named: **99_Final_Data**, but this folder will not be collected.\n",
    "\n",
    "All the files and folders you created to answer questions should be found in **99_Final_Notebook**\n",
    "\n",
    "The **Final** is composed of **Three** units and covers:  \n",
    "\n",
    "(I) Programming Basics (30 points total)  \n",
    "(II) Data Wrangling (30 points total)  \n",
    "(III) Data Analysis (40 points total)  \n",
    "\n",
    "The corresponding points for each question are provided in the headers for each section.\n",
    "\n",
    "Given that you will need to write **both R and python code**, remember to change your **kernel** accordingly.\n",
    "\n",
    "Feel free to post on **Canvas** discussion and email the instructors and TAs if you need clarification regarding the **question itself**.\n",
    "\n",
    "If you have any trouble with CoCalc, please don't hesitate to ask the TAs for help."
   ]
  },
  {
   "cell_type": "markdown",
   "metadata": {},
   "source": [
    "## Unit I. Programming Basics"
   ]
  },
  {
   "cell_type": "markdown",
   "metadata": {},
   "source": [
    "### 1. UNIX commands and usage (Five questions; two points for each question, 10 total points)\n",
    "\n",
    "* Where indicated, please write the UNIX __code__ used to answer the question in the cell(s) labelled \"Command\".\n",
    "* Where indicated, please copy the UNIX __output__ from the terminal of the executed code for the question into the cell(s) labelled \"Return value\"."
   ]
  },
  {
   "cell_type": "markdown",
   "metadata": {},
   "source": [
    "1.1 Perform the following tasks. Make sure your current working directory is **\"99_Final_Notebook\"**, i.e., the location of the notebook of your final.  \n",
    "\n",
    "* Create a directory called \"MySNPs\"\n",
    "* Create a new file with a file name of \"myfavLoFs.txt\"\n",
    "* Add the following strings, one per line, to this file: \n",
    "\n",
    "    - rs67608943\n",
    "    - rs200185429\n",
    "    - rs76353203\n",
    "\n",
    "* Once saved, create a copy this file and place it in the \"MySNPs\" directory, and rename it \"myfavSNPs.txt\""
   ]
  },
  {
   "cell_type": "markdown",
   "metadata": {},
   "source": [
    "Command(s):"
   ]
  },
  {
   "cell_type": "code",
   "execution_count": null,
   "metadata": {
    "collapsed": true
   },
   "outputs": [],
   "source": []
  },
  {
   "cell_type": "markdown",
   "metadata": {},
   "source": [
    "1.2 In **\"99_Final_Data/UNIT1\"** folder, there is a file called \"Unit1.2.txt\". Use UNIX command(s) to:\n",
    "\n",
    "* Output to screen the first 10 lines of this file\n",
    "* Count and report the total number of lines in this file"
   ]
  },
  {
   "cell_type": "markdown",
   "metadata": {},
   "source": [
    "Command:"
   ]
  },
  {
   "cell_type": "code",
   "execution_count": null,
   "metadata": {
    "collapsed": true
   },
   "outputs": [],
   "source": []
  },
  {
   "cell_type": "markdown",
   "metadata": {},
   "source": [
    "Returned value:"
   ]
  },
  {
   "cell_type": "raw",
   "metadata": {},
   "source": []
  },
  {
   "cell_type": "markdown",
   "metadata": {},
   "source": [
    "1.3 Using the same \"Unit1.2.txt\" file, use a **single** UNIX command to (i.e. use **pipe**):\n",
    "\n",
    "* Count the number of unique sequences that __end__ with: TCA or CGT"
   ]
  },
  {
   "cell_type": "markdown",
   "metadata": {},
   "source": [
    "Command:"
   ]
  },
  {
   "cell_type": "code",
   "execution_count": null,
   "metadata": {
    "collapsed": true
   },
   "outputs": [],
   "source": []
  },
  {
   "cell_type": "markdown",
   "metadata": {},
   "source": [
    "Returned Value:"
   ]
  },
  {
   "cell_type": "raw",
   "metadata": {},
   "source": []
  },
  {
   "cell_type": "markdown",
   "metadata": {},
   "source": [
    "1.4 In the **99_Final_Data/UNIT1** directory, you will find the file called \"Unit1.4.tar.gz\". Using a series of UNIX commmands, complete the following:\n",
    "\n",
    "* Uncompress the file contained in the archive. \n",
    "* Provide a list for the **types of irises** found in the file.\n",
    "* Provide the **number for each type of iris** found in the file.\n",
    "\n",
    "Please write the return value and the UNIX code in the boxes below."
   ]
  },
  {
   "cell_type": "markdown",
   "metadata": {},
   "source": [
    "Commands:"
   ]
  },
  {
   "cell_type": "code",
   "execution_count": null,
   "metadata": {
    "collapsed": true
   },
   "outputs": [],
   "source": []
  },
  {
   "cell_type": "markdown",
   "metadata": {},
   "source": [
    "Returned value:"
   ]
  },
  {
   "cell_type": "raw",
   "metadata": {},
   "source": []
  },
  {
   "cell_type": "markdown",
   "metadata": {},
   "source": [
    "1.5 Next, perform the following:\n",
    "\n",
    "* Save each type of iris into separate files. The data in each iris type should also be ordered by **\"PetalLengthCm\"**.\n",
    "* Create a single .tar archive that contains all of the files, named \"MyIris.tar\"\n",
    "* Compress this archive via gzip to create a tarball (i.e., a \\*.tar.gz file)\n",
    "* Move your \\*.tar.gz file to **99_Final_Notebook** directory"
   ]
  },
  {
   "cell_type": "markdown",
   "metadata": {},
   "source": [
    "Command:"
   ]
  },
  {
   "cell_type": "code",
   "execution_count": null,
   "metadata": {
    "collapsed": true
   },
   "outputs": [],
   "source": []
  },
  {
   "cell_type": "markdown",
   "metadata": {},
   "source": [
    "### 2. R basics and usage  (Five questions; two points per question, 10 total points)\n",
    "\n",
    "* Where indicated, please write the R __code__ used to answer the question in the cell(s) labelled **\"Code\"**.\n",
    "* After each portion of code, make sure you __execute__ the code to report the result and answer. \n",
    "    - To remind you, we have indicated this with the label: **\"Code + Result\"**\n",
    "* Where indicated, please write your __interpretation__ to answer the question in the cell labelled \"Explanation\".\n",
    "\n",
    "**TIP:** In this section, you may find it helpful to set the kernel to **\"R (R-Project)\"**. In this way, you can execute the code that you describe to answer the question!"
   ]
  },
  {
   "cell_type": "markdown",
   "metadata": {},
   "source": [
    "2.1 Use R to perform the following:\n",
    "\n",
    "* Create a variable called **\"vec1\"** which contains a list of 100 values that are drawn from a normal distribution with mean=1 and variance=1; \n",
    "* Create a variable called **\"vec2\"** which contains a list of 100 values that are drawn from a uniform distribution ranging between 0 to 2. "
   ]
  },
  {
   "cell_type": "markdown",
   "metadata": {},
   "source": [
    "Code:"
   ]
  },
  {
   "cell_type": "code",
   "execution_count": null,
   "metadata": {
    "collapsed": true
   },
   "outputs": [],
   "source": []
  },
  {
   "cell_type": "markdown",
   "metadata": {},
   "source": [
    "2.2 Use R to perform the following:\n",
    "\n",
    "* Print out summaries for **vec1** and **vec2**; this should include mean, variance, quantiles, etc.\n",
    "* Perform a test to determine if the means of the two lists are different from each other. Please write out which test you use and write out the conclusion below."
   ]
  },
  {
   "cell_type": "markdown",
   "metadata": {},
   "source": [
    "Code + Result:"
   ]
  },
  {
   "cell_type": "code",
   "execution_count": null,
   "metadata": {
    "collapsed": true
   },
   "outputs": [],
   "source": []
  },
  {
   "cell_type": "markdown",
   "metadata": {},
   "source": [
    "Explanation:"
   ]
  },
  {
   "cell_type": "raw",
   "metadata": {},
   "source": []
  },
  {
   "cell_type": "markdown",
   "metadata": {},
   "source": [
    "2.3.1 In the **99_Final_Data/UNIT1** directory, you will find a file called **Unit2.3.txt**. This file is raw, single cell gene expression data, where each row is an individual cell and each column is a gene expression value. We want look closely at the distribution of the data recovered for each of these genes. \n",
    "\n",
    "What type of plot would you want to do to check the distribution of these three genes? Give your rationale. "
   ]
  },
  {
   "cell_type": "markdown",
   "metadata": {},
   "source": [
    "Explanation:"
   ]
  },
  {
   "cell_type": "raw",
   "metadata": {},
   "source": []
  },
  {
   "cell_type": "markdown",
   "metadata": {},
   "source": [
    "2.3.2 Use R to perform the following:\n",
    "\n",
    "* Read in **\"Unit2.3.txt\"** data file into R and store into a variable.\n",
    "* Create the plot that you indicated above to compare the distribution of expression for each of the three genes. "
   ]
  },
  {
   "cell_type": "markdown",
   "metadata": {},
   "source": [
    "Code + Result:"
   ]
  },
  {
   "cell_type": "code",
   "execution_count": null,
   "metadata": {
    "collapsed": true
   },
   "outputs": [],
   "source": []
  },
  {
   "cell_type": "markdown",
   "metadata": {},
   "source": [
    "2.4 We know that the gene expression level should be positive all cases. Any cell with a negative expression level is an artifact and need to be removed.\n",
    "\n",
    "* Determine and report the total number of cells with negative values for **any** of the genes.\n",
    "* Determine and report the total number of cells after removing cells in the previous step.\n",
    "* Plot the distribution of these three genes again after removing cells with negative expression. "
   ]
  },
  {
   "cell_type": "markdown",
   "metadata": {},
   "source": [
    "Code + Result:"
   ]
  },
  {
   "cell_type": "code",
   "execution_count": null,
   "metadata": {},
   "outputs": [],
   "source": []
  },
  {
   "cell_type": "markdown",
   "metadata": {},
   "source": [
    "2.5 We would like determine if the expression of any of these three genes are correlated with one another. Use **the set of cells that report positive expression for all genes**, as we have done in 2.4. For each unique combination of genes (i.e., 1 and 2; 1 and 3; 2 and 3). \n",
    "\n",
    "* Create a plot, with appropriate labels, that reports gene expression values for both genes for each cell\n",
    "* Perform linear regression, using the expression value of **one gene** to predict **the other two genes**\n",
    "* Report the summary results for each regression.\n",
    "\n",
    "Given these results, provide your interpretation of the results from the regression analyses."
   ]
  },
  {
   "cell_type": "markdown",
   "metadata": {},
   "source": [
    "Code + Result:"
   ]
  },
  {
   "cell_type": "code",
   "execution_count": null,
   "metadata": {
    "collapsed": true
   },
   "outputs": [],
   "source": []
  },
  {
   "cell_type": "markdown",
   "metadata": {},
   "source": [
    "Explanation:"
   ]
  },
  {
   "cell_type": "raw",
   "metadata": {},
   "source": []
  },
  {
   "cell_type": "markdown",
   "metadata": {},
   "source": [
    "### 3. Python basics and usage  (Four Questions: 3.1-3.3: two points per question; 3.4: four points; 10 points total)"
   ]
  },
  {
   "cell_type": "markdown",
   "metadata": {},
   "source": [
    "* Where indicated, please write the Python __code__ used to answer the question in the cell(s) labelled \"Code\".\n",
    "* Where indicated, please __execute the function__ to report the result and answer. \n",
    "    - To remind you, we have indicated this with the label: **\"Code + Result\"**\n",
    "    \n",
    "**NOTE:** In this section, make sure you set the kernel to **\"Python 2 (Ubuntu Linux)\"**. This will allow you to execute the code that you describe to answer the question!"
   ]
  },
  {
   "cell_type": "markdown",
   "metadata": {},
   "source": [
    "In the following three questions (3.1, 3.2, and 3.3), you will implement a function in python that achieves the stated discription."
   ]
  },
  {
   "cell_type": "markdown",
   "metadata": {},
   "source": [
    "3.1 In .sam files, you might remember that the quality scores for a read are given by a string of characters that is the same length as the read.   \n",
    "\n",
    "Create a function that returns the number of occurrences of the base quality score \"J\" within a given string of quality score values.\n",
    "\n",
    "The input to the function (i.e., qstr) is of type **str**.\n",
    "\n",
    "The type of variable that should be returned by the function (i.e., rtype) should be of type **int**."
   ]
  },
  {
   "cell_type": "markdown",
   "metadata": {},
   "source": [
    "Code:"
   ]
  },
  {
   "cell_type": "code",
   "execution_count": 60,
   "metadata": {},
   "outputs": [],
   "source": [
    "def numMaxQualBaseinRead(qstr):\n",
    "    \"\"\"\n",
    "    :type qstr: str\n",
    "    :rtype: int\n",
    "    \"\"\"\n",
    "    # write your code below"
   ]
  },
  {
   "cell_type": "markdown",
   "metadata": {},
   "source": [
    "Code + Result:"
   ]
  },
  {
   "cell_type": "code",
   "execution_count": 61,
   "metadata": {},
   "outputs": [],
   "source": [
    "numMaxQualBaseinRead(\"JJJJJHHGHSDHADHSAHGHDHSG\")"
   ]
  },
  {
   "cell_type": "markdown",
   "metadata": {},
   "source": [
    "3.2 Given a list of quality score strings, return a list of all quality score characters that appear in all of the quality score strings within the list. Provide a list of the unique values (and not duplicated). i.e. Return the set of unique quality score characters that appear in an input list of quality score strings.\n",
    "\n",
    "The input to the function (i.e., variable \"A\") is of type **List[str]**.\n",
    "\n",
    "The type of variable that should be returned by the function (i.e., rtype) should be of type **List[str]**."
   ]
  },
  {
   "cell_type": "markdown",
   "metadata": {},
   "source": [
    "Example:\n",
    "\n",
    "Input: [\"JJHDFJFDHHG\",\"HJJHHAJHHGD\",\"ABABABABIKJH\"]\n",
    "\n",
    "Output: [\"J\",\"H\"]"
   ]
  },
  {
   "cell_type": "markdown",
   "metadata": {},
   "source": [
    "Code:"
   ]
  },
  {
   "cell_type": "code",
   "execution_count": 2,
   "metadata": {
    "collapsed": true
   },
   "outputs": [],
   "source": [
    "def commonQualScores(A):\n",
    "    \"\"\"\n",
    "    :type A: List[str]\n",
    "    :rtype: List[str]\n",
    "    \"\"\"\n",
    "    # Write your code below\n",
    "    "
   ]
  },
  {
   "cell_type": "markdown",
   "metadata": {},
   "source": [
    "Code + Result:"
   ]
  },
  {
   "cell_type": "code",
   "execution_count": 3,
   "metadata": {},
   "outputs": [],
   "source": [
    "mylist = [\"JJHDFJFDHHG\",\"HJJHHAJHHGD\",\"ABABABABIKJH\"]\n",
    "commonQualScores(mylist)"
   ]
  },
  {
   "cell_type": "markdown",
   "metadata": {},
   "source": [
    "3.3 Write a Python function that takes two dictionaries as input, and subtracts the value of the second from the first for all common keys.\n",
    "\n",
    "Example:\n",
    "\n",
    "Input:\n",
    "\n",
    "X = {'a': 100, 'b': 200, 'c':300}\n",
    "\n",
    "Y = {'a': 300, 'b': 200, 'd':400}\n",
    "\n",
    "Sample output: {'a': -200, 'b': 0, 'c': 300}\n",
    "\n",
    "\n",
    "The input to the function (i.e., X and Y) are two variables of type **Dict{str:int}**.\n",
    "\n",
    "The type of variable that should be returned by the function (i.e., rtype) should be of type **Dict{str:int}**."
   ]
  },
  {
   "cell_type": "markdown",
   "metadata": {},
   "source": [
    "Code:"
   ]
  },
  {
   "cell_type": "code",
   "execution_count": 4,
   "metadata": {
    "collapsed": true
   },
   "outputs": [],
   "source": [
    "def subtractDict(X,Y):\n",
    "    \"\"\"\n",
    "    :type X: Dict{str:int}\n",
    "    :type Y: Dict{str:int}\n",
    "    :rtype: Dict{str:int}\n",
    "    \"\"\"\n",
    "    # Your code begin below\n",
    "    "
   ]
  },
  {
   "cell_type": "markdown",
   "metadata": {},
   "source": [
    "Code + Result:"
   ]
  },
  {
   "cell_type": "code",
   "execution_count": 5,
   "metadata": {},
   "outputs": [],
   "source": [
    "X = {'a': 100, 'b': 200, 'c':300}\n",
    "Y = {'a': 300, 'b': 200, 'd':400}\n",
    "subtractDict(X,Y)"
   ]
  },
  {
   "cell_type": "markdown",
   "metadata": {},
   "source": [
    "3.4 In the 99_Final_Data/UNIT1 directory, we have provided you with a list of reads in the file **Unit3.4.txt**. Using Python, perform the following:\n",
    "\n",
    "* Store the read from each line of this file into a list called **seqData**\n",
    "* If the first character of the read is a \"G\" **and** the last character of the read is a \"T\", remove these reads from your list\n",
    "* Calculate the average length of the remaining sequences in the list and print this value."
   ]
  },
  {
   "cell_type": "markdown",
   "metadata": {},
   "source": [
    "Code + Result:"
   ]
  },
  {
   "cell_type": "code",
   "execution_count": null,
   "metadata": {
    "collapsed": true
   },
   "outputs": [],
   "source": []
  },
  {
   "cell_type": "markdown",
   "metadata": {},
   "source": [
    "## UNIT II. Data Wrangling."
   ]
  },
  {
   "cell_type": "markdown",
   "metadata": {},
   "source": [
    "### 4. Data processing via tidyverse (tidyr, dplyr)  (5 questions; 3 points per question, 15 points total)\n",
    "\n",
    "* Where indicated, please write the R __code__ used to answer the question in the cell(s) labelled \"Code\".\n",
    "* Where indicated, please execute the function to report the result and answer.\n",
    "    - As a reminder to you, we have indicated this with the label: **\"Code + Result\"**\n",
    "\n",
    "**NOTE:** In this section, make sure you set the kernel to **\"R (R-Project)\"**. This will allow you to execute the code that you describe to answer the question!"
   ]
  },
  {
   "cell_type": "markdown",
   "metadata": {},
   "source": [
    "For questions 4.1 - 4.5, we will work with Indego bike sharing data. You can find data in the directory called: **\"99_Final_Data/UNIT2\"**"
   ]
  },
  {
   "cell_type": "markdown",
   "metadata": {},
   "source": [
    "Please load the set of **all** packages required to answer questions **4.1 - 4.6** in the cell below."
   ]
  },
  {
   "cell_type": "markdown",
   "metadata": {},
   "source": [
    "Code + Result:"
   ]
  },
  {
   "cell_type": "code",
   "execution_count": null,
   "metadata": {
    "collapsed": true
   },
   "outputs": [],
   "source": []
  },
  {
   "cell_type": "markdown",
   "metadata": {},
   "source": [
    "4.1 Use R and tidyverse code to:\n",
    "\n",
    "* Read in the file: **indego-2017-q4.csv**; store this file in a variable\n",
    "* Create summaries and plot the distributions of the following variables:\n",
    "    - start_station\n",
    "    - end_station\n",
    "    - duration"
   ]
  },
  {
   "cell_type": "markdown",
   "metadata": {
    "collapsed": true
   },
   "source": [
    "Code + Result:"
   ]
  },
  {
   "cell_type": "code",
   "execution_count": null,
   "metadata": {
    "collapsed": true
   },
   "outputs": [],
   "source": []
  },
  {
   "cell_type": "markdown",
   "metadata": {},
   "source": [
    "4.2 You will see in the data there exists a column of data labelled **start_time**, which includes both the date and time that the trip has started as a single entry.\n",
    "\n",
    "Use R and tidyverse code to: \n",
    "\n",
    "* Create a variable called **start_date** that contains *only* the date portion of the **start_time** entry\n",
    "* Create a variable called **start_hour** that contains *only* the hour portion of the **start_time** entry\n",
    "* Append these new variables as columns to your data table. This table should now contain all of the previous columns, matched to the table in the correct order as the original table, plus these two new ones.\n",
    "* Output the last 5 rows of your new table."
   ]
  },
  {
   "cell_type": "markdown",
   "metadata": {
    "collapsed": true
   },
   "source": [
    "Code + Result:"
   ]
  },
  {
   "cell_type": "code",
   "execution_count": null,
   "metadata": {
    "collapsed": true
   },
   "outputs": [],
   "source": []
  },
  {
   "cell_type": "markdown",
   "metadata": {},
   "source": [
    "4.3 Use R and tidyverse code to:\n",
    "\n",
    "* Report the total number of each type of passholder given in the **passholder_type** column\n",
    "* Create a boxplot for the distribution of the **duration** column, taken by each type of usage given by the **passholder_type** column"
   ]
  },
  {
   "cell_type": "markdown",
   "metadata": {
    "collapsed": true
   },
   "source": [
    "Code + Result:"
   ]
  },
  {
   "cell_type": "code",
   "execution_count": null,
   "metadata": {
    "collapsed": true
   },
   "outputs": [],
   "source": []
  },
  {
   "cell_type": "markdown",
   "metadata": {},
   "source": [
    "4.4 Use R and tidyverse code to:\n",
    "\n",
    "* Return the average of the **duration** column taken by each type of of usage given by the **passholder_type** column "
   ]
  },
  {
   "cell_type": "markdown",
   "metadata": {
    "collapsed": true
   },
   "source": [
    "Code + Result:"
   ]
  },
  {
   "cell_type": "code",
   "execution_count": null,
   "metadata": {
    "collapsed": true
   },
   "outputs": [],
   "source": []
  },
  {
   "cell_type": "markdown",
   "metadata": {},
   "source": [
    "4.5 We want to study the trip trends along the entire quarter. Use R and tidyverse code to:\n",
    "\n",
    "* Plot the number of trips (y axis) for each date, moving foward in time (x-axis). The trip date is defined by **start_time** column entry for each trip."
   ]
  },
  {
   "cell_type": "markdown",
   "metadata": {
    "collapsed": true
   },
   "source": [
    "Code + Result:"
   ]
  },
  {
   "cell_type": "code",
   "execution_count": null,
   "metadata": {
    "collapsed": true
   },
   "outputs": [],
   "source": []
  },
  {
   "cell_type": "markdown",
   "metadata": {},
   "source": [
    "### 5. .bed file issues, quality control pipeline, and analysis (15 total points)"
   ]
  },
  {
   "cell_type": "markdown",
   "metadata": {},
   "source": [
    "You \"cat\" somehow manages to corrupt two bed files that you are currently working on. The corrupted files are **\"CpG_isl_messy.bed\"** which indicates CpG islands in genome; the other one is **\"methyl_messy.bed\"** which includes a list of methylated sites in the genome. The files are provide in the data directory:  \n",
    "\n",
    "**99_Final_Data/UNIT2** \n",
    "\n",
    "Unfortunately, you realize you have no back-ups for the original data! \n",
    "\n",
    "Luckily, you wrote down that:\n",
    "* There were 1026 entries in the original CpG island .bed file \n",
    "* There were 9408 entries in the original methylation site .bed file\n",
    "\n",
    "In the following question:\n",
    "\n",
    "(Part 1) **[6 points]** Report (in human terms) each issue you uncover and have to fix for each .bed file. Each issue can be succinctly described (i.e., less than 10 words)\n",
    "\n",
    "(Part 2) **[7 points]** Use code to create a quality control (QC) pipeline. Using any programming language you feel comfortable with (UNIX, R, and/or Python), this pipeline should:\n",
    "* Reads in the 'raw' files into memory \n",
    "* Correct the issue  \n",
    "* Output a final, corrected set of entries as new bed file(s) named **CpG_isl_clean.bed** and **methyl_clean.bed**.\n",
    "\n",
    "(Part 3) **[2 points]** Run this code to create clean up .bed files. From these files, return the set (and **total number**) of regions that overlap from the methylation sites and CpG island bed files, and name it:  \n",
    "\n",
    "**CpG_island_methyl_overlap.bed**\n",
    "\n",
    "(Part 4) Remeber to **only** move the **CpG_island_methyl_overlap.bed** to the **99_Final_Notebook** directory."
   ]
  },
  {
   "cell_type": "markdown",
   "metadata": {
    "collapsed": true
   },
   "source": [
    "**(Part 1)** Explanation (issues in each file, each issue should be described 10 words or less):"
   ]
  },
  {
   "cell_type": "raw",
   "metadata": {
    "collapsed": true
   },
   "source": []
  },
  {
   "cell_type": "markdown",
   "metadata": {
    "collapsed": true
   },
   "source": [
    "**(Part 2)** Quality Control Pipeline; Code + Result:"
   ]
  },
  {
   "cell_type": "code",
   "execution_count": null,
   "metadata": {
    "collapsed": true
   },
   "outputs": [],
   "source": []
  },
  {
   "cell_type": "markdown",
   "metadata": {},
   "source": [
    "**(Part 3)** Analysis; Code (for Analysis):"
   ]
  },
  {
   "cell_type": "code",
   "execution_count": null,
   "metadata": {
    "collapsed": true
   },
   "outputs": [],
   "source": []
  },
  {
   "cell_type": "markdown",
   "metadata": {},
   "source": [
    "**(Part 3)** Returned Result:"
   ]
  },
  {
   "cell_type": "code",
   "execution_count": null,
   "metadata": {
    "collapsed": true
   },
   "outputs": [],
   "source": []
  },
  {
   "cell_type": "markdown",
   "metadata": {},
   "source": [
    "## UNIT III. Data Analysis"
   ]
  },
  {
   "cell_type": "markdown",
   "metadata": {},
   "source": [
    "In this UNIT, we are going to analyze the subset data generated by the The Genotype-Tissue Expression (GTEx) Project. The GTEx project is an ongoing effort to build a comprehensive public resource to study tissue-specific gene expression and regulation. Samples were collected from 53 non-disease tissue sites across nearly 1000 individuals.\n",
    "\n",
    "For data for the purpose of this UNIT, we will focus only on the RNA-seq data from **lung**, **colon**, and **small intestine**. \n",
    "\n",
    "UNIT III consists of two parts:  \n",
    "**(Part 1)** Differential expression analysis across pairs of tissues.\n",
    "\n",
    "**(Part 2)** Development of a Machine Learning model to distinguish between colon and lung tissues.  "
   ]
  },
  {
   "cell_type": "markdown",
   "metadata": {},
   "source": [
    "#### Data:\n",
    "\n",
    "All the data set are in the UNIT3 folder, and include:\n",
    "\n",
    "| File | Explanation |\n",
    "|---|---|\n",
    "| GTEx_Analysis_2016-01-15_v7_RNASeQCv1.1.8_gene_reads_training.gct | Count matrix for GTEx data (Training) |\n",
    "| GTEx_Analysis_2016-01-15_v7_RNASeQCv1.1.8_gene_tpm_training.gct | TPM matrix for GTEx data (Training) |\n",
    "| GTEx_v7_Annotations_SampleAttributesDS_training.txt | Sample information of GTEx data (Training) |\n",
    "| GTEx_Analysis_2016-01-15_v7_RNASeQCv1.1.8_gene_reads_validation.gct | Count matrix for GTEx data (Validation) |\n",
    "| GTEx_Analysis_2016-01-15_v7_RNASeQCv1.1.8_gene_tpm_validation.gct | TPM matrix for GTEx data (Validation) |"
   ]
  },
  {
   "cell_type": "markdown",
   "metadata": {},
   "source": [
    "### (Part 1). RNA-seq analysis (20 total points)"
   ]
  },
  {
   "cell_type": "markdown",
   "metadata": {},
   "source": [
    "Implement a pipeline to perform differential gene expression analysis of the GTEx RNA-seq data.  \n",
    "\n",
    "You can use any form of code that you prefer, but make sure you run the code you write using the correct kernel.  \n",
    "\n",
    "For R code, set your kernel to: **\"R (R-Project)\"**.  \n",
    "For Python code, set your kernel to **\"Python 2 (Ubuntu Linux)\".**\n",
    "\n",
    "Here, you should use only the **training dataset**. Compare:\n",
    "\n",
    "**(1) Lung vs Colon**  \n",
    "**(2) Colon vs Small Intestine**  \n",
    "\n",
    "For each comparison, report:\n",
    "* [7 points] The total number of differentially expressed genes that exceeded correction for the number of genes tested.\n",
    "* [7 points] A file that outputs, for the top 50 genes: \n",
    "    - The transcript ID\n",
    "    - The gene name\n",
    "    - The value of the test statistic used\n",
    "    - The nominal p-value \n",
    "    - and an adjusted p-value that corrects for the number of genes tested\n",
    "* [6 points] A volcano plot for all genes tested."
   ]
  },
  {
   "cell_type": "markdown",
   "metadata": {},
   "source": [
    "Code + Result:"
   ]
  },
  {
   "cell_type": "code",
   "execution_count": null,
   "metadata": {
    "collapsed": true
   },
   "outputs": [],
   "source": []
  },
  {
   "cell_type": "markdown",
   "metadata": {},
   "source": [
    "### (Part 2). Prediction model (20 total points)"
   ]
  },
  {
   "cell_type": "markdown",
   "metadata": {},
   "source": [
    "We have provided a set of 100 specimens with gene expression data, but where with missing tissue labels that we know are either **lung** or **colon** (i.e., the validation set).\n",
    "\n",
    "In this question, and using code in python:\n",
    "\n",
    "* [10 points] Create a machine learning pipeline to develop a predictor that can discriminate between lung and colon tissues, based on gene expression data. Use the **training** data set to build this predictor.\n",
    "* [5 points] Assess the accuracy of the model in the training phase. \n",
    "* [5 points] Apply your predictor to the validation set, and create a csv file named \"**predicted.csv**\" that reports your predicted tissue label for each sample. See the example below.\n",
    "* Move your **predicted.csv** file to the 99_Final_Notebook directory."
   ]
  },
  {
   "cell_type": "markdown",
   "metadata": {},
   "source": [
    "Example output file:\n",
    "\n",
    "sample1,Colon<br>\n",
    "sample2,Lung<br>\n",
    "sample3,Colon<br>\n",
    "..."
   ]
  },
  {
   "cell_type": "markdown",
   "metadata": {},
   "source": [
    "Code + Result:"
   ]
  },
  {
   "cell_type": "code",
   "execution_count": null,
   "metadata": {
    "collapsed": true
   },
   "outputs": [],
   "source": []
  },
  {
   "cell_type": "markdown",
   "metadata": {},
   "source": [
    "### Once again, we will **NOT** collect the 99_Final_Data folder. Move the necessary file to 99_Final_Notebook for grading.\n",
    "\n",
    "### Now your watch has ended."
   ]
  }
 ],
 "metadata": {
  "anaconda-cloud": {},
  "kernelspec": {
   "display_name": "Python 3",
   "language": "python",
   "name": "python3"
  },
  "language_info": {
   "codemirror_mode": {
    "name": "ipython",
    "version": 3
   },
   "file_extension": ".py",
   "mimetype": "text/x-python",
   "name": "python",
   "nbconvert_exporter": "python",
   "pygments_lexer": "ipython3",
   "version": "3.8.5"
  },
  "name": "Sagemathcloud_Setup_Assignment.ipynb"
 },
 "nbformat": 4,
 "nbformat_minor": 1
}
