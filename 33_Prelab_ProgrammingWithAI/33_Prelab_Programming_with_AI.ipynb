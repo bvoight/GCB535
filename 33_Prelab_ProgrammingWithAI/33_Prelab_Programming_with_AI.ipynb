{
 "cells": [
  {
   "cell_type": "markdown",
   "metadata": {},
   "source": [
    "### Programming with Generative Artificial Intelligence (Pre-Lab)\n",
    "\n",
    "Learning Objectives for this Module:\n",
    "\n",
    "1. Understand the terms \"generative AI\" and Large Language Models (LLMs).\n",
    "2. Appreciate the ethical and societal considerations that go into the use of generative AI tools.\n",
    "3. Identify some examples of generative AI tools available and their advantages/disadvantages.\n",
    "4. Test out the GPT-4o mini AI tool within CoCalc, in preparation for the in-class activity."
   ]
  },
  {
   "cell_type": "markdown",
   "metadata": {},
   "source": [
    "Up to this point, the class has focused on building up programming skills and applying it to analysis of biological datasets. As noted in the Course Syllabus (https://github.com/bvoight/GCB535/blob/master/Syllabus.md), we strongly believe that building one's own computational skillset is important for educational purposes. At the same time, generative artificial intelligence (AI) methods such as Chat GPT have been quickly adopted for helping to speed up computational work. We would be remiss not to walk through how such AI methods can enhance bioinformatics analyses. \n",
    "\n",
    "In this last class, we will walk through ways that generative AI can we useful for computational work. As you will see, while AI is very powerful, understanding the fundamentals of programming is still very important as these AI tools can make mistakes."
   ]
  },
  {
   "cell_type": "markdown",
   "metadata": {},
   "source": [
    "#### Exercise 1: What is generative AI?\n",
    "\n",
    "Before we going into exercises with AI, we will use this notebook to cover some important terms. Please review this article from MyCase that goes over what generative AI is: [https://www.mycase.com/blog/ai/ai\\-vs\\-generative\\-ai/](https://www.mycase.com/blog/ai/ai-vs-generative-ai/)  and answer the following questions."
   ]
  },
  {
   "cell_type": "markdown",
   "metadata": {},
   "source": [
    "**Q1.** True or False? Artificial intelligence is a subset of the field of machine learning. If false, please correct the statement."
   ]
  },
  {
   "cell_type": "raw",
   "metadata": {},
   "source": [
    "Insert answer here:"
   ]
  },
  {
   "cell_type": "markdown",
   "metadata": {},
   "source": [
    "**Q2.** In your own words, describe what \"Artificial Intelligence\" is. "
   ]
  },
  {
   "cell_type": "raw",
   "metadata": {},
   "source": [
    "Insert answer here:"
   ]
  },
  {
   "cell_type": "markdown",
   "metadata": {},
   "source": [
    "**Q3.** In your own words, please describe what \"**Generative AI**\" is, and how it differs from other forms of AI. "
   ]
  },
  {
   "cell_type": "raw",
   "metadata": {},
   "source": [
    "Insert answer here:"
   ]
  },
  {
   "cell_type": "markdown",
   "metadata": {},
   "source": [
    "**Q4.** What are some tasks that generative AI can perform? Provide at least 3 examples.  "
   ]
  },
  {
   "cell_type": "raw",
   "metadata": {},
   "source": [
    "Insert answer:"
   ]
  },
  {
   "cell_type": "markdown",
   "metadata": {},
   "source": [
    "### Exercise 2: What are large language models (LLMs)? \n",
    "\n",
    "LLMs are the workhouse for generative AI tools. Read this article about large language models (LLMs) from IBM, up to the section titled \"LLM use cases\": https://www.ibm.com/topics/large-language-models and answer these questions. "
   ]
  },
  {
   "cell_type": "markdown",
   "metadata": {},
   "source": [
    "**Q5.** Fill in the blank: Large Language Models are comprised of multiple layers of ________________________ (type of machine learning model), each with many tunable parameters."
   ]
  },
  {
   "cell_type": "raw",
   "metadata": {},
   "source": [
    "Insert answer here:"
   ]
  },
  {
   "cell_type": "markdown",
   "metadata": {},
   "source": [
    "**Q6.** What is the training data used for Large Language Models? How large are these datasets?"
   ]
  },
  {
   "cell_type": "raw",
   "metadata": {},
   "source": [
    "Insert answer here:"
   ]
  },
  {
   "cell_type": "markdown",
   "metadata": {},
   "source": [
    "#### Exercise 3: Using Generative AI in the real world\n",
    "\n",
    "While generative AI can be powerful, it also can have several limitations, challenges, and ethical concerns. Please read this article by Baxter and Schlesinger outlining some of these issues: [https://hbr.org/2023/06/managing\\-the\\-risks\\-of\\-generative\\-ai](https://hbr.org/2023/06/managing-the-risks-of-generative-ai)  and answer the following questions."
   ]
  },
  {
   "cell_type": "markdown",
   "metadata": {},
   "source": [
    "**Q7.** What are some principles that should guide the development of ethical AI tools? Why would such principles be important for an AI tool?"
   ]
  },
  {
   "cell_type": "raw",
   "metadata": {},
   "source": [
    "Insert answer here:"
   ]
  },
  {
   "cell_type": "markdown",
   "metadata": {},
   "source": [
    "**Q8.** In our own words, or in summary of the discussion in the article, why is it important for \"humans to be in the loop\" when using generative AI tools."
   ]
  },
  {
   "cell_type": "raw",
   "metadata": {},
   "source": [
    "Insert answer here:"
   ]
  },
  {
   "cell_type": "markdown",
   "metadata": {},
   "source": [
    "**Q9.** AI tools are known to \"hallucinate\". What does this mean?"
   ]
  },
  {
   "cell_type": "raw",
   "metadata": {},
   "source": [
    "Insert answer here:"
   ]
  },
  {
   "cell_type": "markdown",
   "metadata": {},
   "source": [
    "**Q10.** Give an example of how generative AI can show bias."
   ]
  },
  {
   "cell_type": "raw",
   "metadata": {},
   "source": [
    "Insert answer here:"
   ]
  },
  {
   "cell_type": "markdown",
   "metadata": {},
   "source": [
    "### Exercise 4: Generative AI tools\n",
    "\n",
    "There are many generative AI tools out there. Please review this article from SimpiLearn outlining different AI tools: [https://www.simplilearn.com/tutorials/artificial\\-intelligence\\-tutorial/top\\-generative\\-ai\\-tools](https://www.simplilearn.com/tutorials/artificial-intelligence-tutorial/top-generative-ai-tools)  and answer the following questions.  "
   ]
  },
  {
   "cell_type": "markdown",
   "metadata": {},
   "source": [
    "**Q11.** Which generative AI tool\\(s\\) are the best for image generation?"
   ]
  },
  {
   "cell_type": "raw",
   "metadata": {},
   "source": [
    "Insert answer here:"
   ]
  },
  {
   "cell_type": "markdown",
   "metadata": {},
   "source": [
    "**Q12.** Perhaps the most well\\-known generative AI tools is ChatGPT from OpenAI. This tool, when it was trained, had access to data until which month and year? What do you think would happen if you asked it about a current event that happened after this point?"
   ]
  },
  {
   "cell_type": "raw",
   "metadata": {},
   "source": [
    "Insert answer here:"
   ]
  },
  {
   "cell_type": "markdown",
   "metadata": {},
   "source": [
    "**Q13.** Among many other tasks, generative AI tools are great for helping with coding. Which generative AI tools are optimized for coding by training on several programming languages and repositories with code?"
   ]
  },
  {
   "cell_type": "raw",
   "metadata": {},
   "source": [
    "Insert answer here:"
   ]
  },
  {
   "cell_type": "markdown",
   "metadata": {},
   "source": [
    "### Exercise 5: Testing GPT-4o Mini in Cocalc\n",
    "\n",
    "Finally, we will test the  GPT-4o mini generative AI tool built into Cocalc.\n",
    "\n",
    "Cocalc has chatGPT embedded to assist with coding. There are two ways to activate the AI assistant. In the first method, create a code block and hover over the code block, which will say \"Enter code or generative using AI\". Press the link to \"generate with AI\" and test out the Cocalc AI tool. We will use this for the in-class activity.  Alternatively, on the top right hand corner of the block, press the button for \"Assistant\", which has options to \"explain\", \"fix bugs\", \"modify\", \"improve\", and \"document\" code.  "
   ]
  },
  {
   "cell_type": "markdown",
   "metadata": {},
   "source": [
    "##### Now that you have completed this prelab activity, you should have a good grasp of the learning objectives! Please now proceed to the in-class activity."
   ]
  }
 ],
 "metadata": {
  "kernelspec": {
   "display_name": "R",
   "language": "R",
   "name": "ir"
  },
  "language_info": {
   "codemirror_mode": "r",
   "file_extension": ".r",
   "mimetype": "text/x-r-source",
   "name": "R",
   "pygments_lexer": "r",
   "version": "3.6.1"
  }
 },
 "nbformat": 4,
 "nbformat_minor": 4
}
