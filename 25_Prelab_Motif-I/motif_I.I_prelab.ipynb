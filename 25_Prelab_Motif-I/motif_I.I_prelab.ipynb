{
 "cells": [
  {
   "cell_type": "raw",
   "metadata": {},
   "source": []
  },
  {
   "cell_type": "markdown",
   "metadata": {},
   "source": [
    "# Prelab: Motif discovery and regulatory analysis - II"
   ]
  },
  {
   "cell_type": "markdown",
   "metadata": {},
   "source": [
    "**In this module, we will learn about cis-regulatory modules (CRMs), stretches of DNA adjacent to genes where transcription factors bind. We can utilize sequence motifs, which we learned about last class, to understand the function of CRMs. Before class, please watch the lecture \"Detecting cis Regulatory Modules and Regulatory Analysis\". Access to the lecture and accompanying slides can be found on Canvas. Answer the following questions.**"
   ]
  },
  {
   "cell_type": "markdown",
   "metadata": {},
   "source": [
    "1) What are the cytosine and guanine composition requirements for a genomic region to be a CpG island?"
   ]
  },
  {
   "cell_type": "raw",
   "metadata": {},
   "source": []
  },
  {
   "cell_type": "markdown",
   "metadata": {},
   "source": [
    "2) What histone marks are most frequently observed at weak promoters?"
   ]
  },
  {
   "cell_type": "raw",
   "metadata": {},
   "source": []
  },
  {
   "cell_type": "markdown",
   "metadata": {},
   "source": [
    "3) Name one *in vivo* and one *in vitro* experimental technique to identify transcription factor binding sites."
   ]
  },
  {
   "cell_type": "raw",
   "metadata": {},
   "source": []
  },
  {
   "cell_type": "markdown",
   "metadata": {},
   "source": [
    "4) In addition to transcription factor binding, what is another genomic feature that distinguishes CRMs?"
   ]
  },
  {
   "cell_type": "raw",
   "metadata": {},
   "source": []
  }
 ],
 "metadata": {
  "anaconda-cloud": {},
  "kernelspec": {
   "display_name": "Python 3 (ipykernel)",
   "language": "python",
   "name": "python3"
  },
  "language_info": {
   "codemirror_mode": {
    "name": "ipython",
    "version": 3
   },
   "file_extension": ".py",
   "mimetype": "text/x-python",
   "name": "python",
   "nbconvert_exporter": "python",
   "pygments_lexer": "ipython3",
   "version": "3.8.12"
  }
 },
 "nbformat": 4,
 "nbformat_minor": 1
}
