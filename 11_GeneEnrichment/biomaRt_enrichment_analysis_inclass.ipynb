{
 "cells": [
  {
   "cell_type": "markdown",
   "metadata": {},
   "source": [
    "## Annotation via BiomaRt with Functional Enrichment analysis\n"
   ]
  },
  {
   "cell_type": "markdown",
   "metadata": {},
   "source": [
    "**Today, this notebook constitutes your in-class activity AND homework.**\n",
    "\n",
    "We will pick up from where we left off with the analysis of our gene expression data set from last time.\n",
    "\n",
    "We left off having performed our differential gene\\-expression analysis. However, our results were in terms of ensembl gene IDs rather than human\\-readable gene symbols; we'd like to be able to know what genes are actually of interest in our analysis. Today, we'll connect our analysis to annotation data so that we can obtain this information.\n",
    "\n"
   ]
  },
  {
   "cell_type": "markdown",
   "metadata": {},
   "source": [
    "**Q1.** Let's recover the differential expression from the last RNA\\-seq module\n",
    "\n",
    "- It was saved in a .csv file named \"ensembl\\_id\\_DE\\_results.csv\"  \n",
    "\n"
   ]
  },
  {
   "cell_type": "code",
   "execution_count": 0,
   "metadata": {},
   "outputs": [],
   "source": []
  },
  {
   "cell_type": "markdown",
   "metadata": {},
   "source": [
    "**Q2.** Load the annotation library package biomaRt in R. \n",
    "\n",
    "- You will also need to load the tidyverse for this module  \n",
    "\n",
    "**Provide and execute your R code below.**\n",
    "\n"
   ]
  },
  {
   "cell_type": "code",
   "execution_count": 0,
   "metadata": {},
   "outputs": [],
   "source": []
  },
  {
   "cell_type": "markdown",
   "metadata": {},
   "source": [
    "**Q3.** OK, now let's obtain some annotation information\n",
    "\n",
    "- create a variable called`mymart`, **which loads**  \n",
    "   **the appropriate library from the ensembl database for human**. \\(Hint: `useEnsembl())`\n",
    "- create a variable called `human` that contains the human gene database \\(Hint: \"hsapiens\\_gene\\_ensembl\" is the database you're looking for\\)\n",
    "- Annotate with gene name each of the genes in the results data frame\n",
    "\n",
    "**Provide and execute your R code below.**\n",
    "\n"
   ]
  },
  {
   "cell_type": "code",
   "execution_count": 0,
   "metadata": {},
   "outputs": [],
   "source": []
  },
  {
   "cell_type": "markdown",
   "metadata": {},
   "source": [
    "**Q4.** Continue obtaining an  \n",
    "notation information. Note that getting all of the annotations will take some time! Using `listAttributes( human )` will show what attributes are available.\n",
    "\n",
    "- obtain the following annotations from ensembl stored in a new variable called \"annot\" for your list of gene ids:\n",
    "  ```\n",
    "    chromosome\n",
    "    start position\n",
    "    end position\n",
    "    hgnc gene symbol\n",
    "    entrez gene id\n",
    "    Description\n",
    "  ```\n",
    "\n",
    "- print out to screen for the first 5 entries in your table: probeid, chr, start, end, mgi, and description\n",
    "\n",
    "**Provide and execute your R code below.**\n",
    "\n"
   ]
  },
  {
   "cell_type": "code",
   "execution_count": 0,
   "metadata": {},
   "outputs": [],
   "source": []
  },
  {
   "cell_type": "markdown",
   "metadata": {},
   "source": [
    "**Q5.** Output your annotations to file that reports everything but the description, without quotes, and separated by commas \\(useful for data parsing\\) to a file called `annot-forparse.csv`\n",
    "\n",
    "**Provide and**  \n",
    " **execute your R code below.**\n"
   ]
  },
  {
   "cell_type": "code",
   "execution_count": 0,
   "metadata": {},
   "outputs": [],
   "source": []
  },
  {
   "cell_type": "markdown",
   "metadata": {},
   "source": [
    "**Q6.**  \n",
    " Now that we have annotations, we need to merge them together with the table that contained our association information. However, notice that the annot matrix lists the ensembl ids in a different order than the statistical association table.\n",
    "\n",
    "- the getBM function returns a dataframe, and can return multiple attributes at once\n",
    "- The tidyverse \\*\\_join family can be used to merge this dataframe with your initial results dataframe\n",
    "\n",
    "**Provide and execute your R code below.**\n",
    "\n"
   ]
  },
  {
   "cell_type": "code",
   "execution_count": 0,
   "metadata": {},
   "outputs": [],
   "source": []
  },
  {
   "cell_type": "markdown",
   "metadata": {},
   "source": [
    "**Q7.** Let's sort the table to get the most significant results to the top of the table. \n",
    "\n",
    "- arrage the the table by the key `adj.P.Val`. Store the sorted table to a new variable called `de_annot_sorted`. \\(Hint: `order()` in base R or `arrange()` in tidyverse might be helpful\\)\n",
    "- output the results of the first 5 row of `de_annot_sorted`\n",
    "\n",
    "**Provide and execute your R code below.**  \n",
    "\n"
   ]
  },
  {
   "cell_type": "code",
   "execution_count": 0,
   "metadata": {},
   "outputs": [],
   "source": []
  },
  {
   "cell_type": "markdown",
   "metadata": {},
   "source": [
    "**Q9.** What are the genes listed in the top 10 results? "
   ]
  },
  {
   "cell_type": "markdown",
   "metadata": {},
   "source": []
  },
  {
   "cell_type": "markdown",
   "metadata": {},
   "source": [
    "**Q10.** How many unique genes are given in the your top results variable `de_annot_sorted`? \n",
    "\n",
    "- TIP: Think through \\(in human terms\\) the specific tasks/function calls you will need to do perform the task. \n",
    "\n",
    "- Create a variable called \"uniqgenelist\" that lists your hgnc gene symbols. \\(Hint: Use the variable \"de\\_annot\\_sorted\".\\)\n",
    "\n",
    "- Double check the list of genes that you have constructed. Do all of the entries have a gene listed? \n",
    "\n",
    "- Create a new variable called \"uniqgenelist\\_filt\" that excludes entries that are \"NA\" or are empty \\(i.e., \"\"\\).\n",
    "\n",
    "- Hint #1: There may a very straight forward function to do this with tidyverse. \n",
    "\n",
    "- Hint #2: length\\(\\), unique\\(\\), and [is.na](http://is.na)\\(\\) functions may be useful to you.\n",
    "\n",
    "- Hint #3: the \"!\" \\(she\\-bang\\) character computes ths inverse of the function. e.g. \"![is.na](http://is.na)\\(list\\)\" means in human terms \"which elements in list are **NOT** NA?\"\n",
    "\n",
    "- Hint #4: you can use logical operations \\(i.e., ==, !=\\) to match 'empty' entries \\(i.e., \"\"\\), even within \\[\\]. Try it!\n",
    "\n",
    "**Provide and execute your R code below.**  \n",
    "\n"
   ]
  },
  {
   "cell_type": "code",
   "execution_count": 0,
   "metadata": {},
   "outputs": [],
   "source": []
  },
  {
   "cell_type": "markdown",
   "metadata": {},
   "source": [
    "**Q11.** Save the list of unique genes (filtered to exclude \"NA\"s) to a file called `mygenelist.txt`, no quotes, row names, or column names. \n",
    "\n",
    "**Provide and execute your R code below.**"
   ]
  },
  {
   "cell_type": "code",
   "execution_count": 0,
   "metadata": {},
   "outputs": [],
   "source": []
  },
  {
   "cell_type": "markdown",
   "metadata": {},
   "source": [
    "#### Now, let us use [WebGestalt](http://www.webgestalt.org/) to perform some ontology analysis using the unique set of genes created above.\n",
    "\n",
    "- Under \"Basic Parameters\" choose the appropriate organism, ORA as the method, and geneontology/Biological\\_process\\_noRedundant as the functional database.\n",
    "- Copy and paste \\(or upload\\) the list of genes in the \"Gene List\" section\n",
    "- Choose the appropriate reference set from the drop down menu in the \"Reference Gene List\" section. Hint: What is found in \"affyRaw\", the variable that stores your array data?\n",
    "- Under \"Advanced parameters\", choose BH \\(Benjamini\\-Hochberg\\) for multiple test correction and tell it to output the top 10 results. Leave the other options unchanged.\n",
    "- Hit submit.  \n",
    "\n"
   ]
  },
  {
   "cell_type": "markdown",
   "metadata": {},
   "source": [
    "**Q12.** What background gene list did you select? Why is this important?   \n",
    "\n"
   ]
  },
  {
   "cell_type": "markdown",
   "metadata": {},
   "source": []
  },
  {
   "cell_type": "markdown",
   "metadata": {
    "collapsed": true
   },
   "source": [
    "**Q13.** Does that tool find all of the genes that you provided? Why or why not? How could you fix this?"
   ]
  },
  {
   "cell_type": "markdown",
   "metadata": {},
   "source": []
  },
  {
   "cell_type": "markdown",
   "metadata": {},
   "source": [
    "**Q14.** Do any of the top 10 associations pass a FDR (false discovery rate) of 0.002 or better? What does \"significance level\" mean? If yes, do any of these categories make plausible or intuitive sense for the gene expression analysis that you performed?"
   ]
  },
  {
   "cell_type": "markdown",
   "metadata": {},
   "source": []
  },
  {
   "cell_type": "markdown",
   "metadata": {},
   "source": [
    "**Q15.** Here, we selected the top 100 genes for enrichment analysis. Was this choice warrented? Why or why not? Having performed this analysis, what might you do differently?"
   ]
  },
  {
   "cell_type": "markdown",
   "metadata": {},
   "source": []
  },
  {
   "cell_type": "markdown",
   "metadata": {},
   "source": [
    "**Q16.** One final item in your pipeline to finish it off: run the R function `sessionInfo()` to record the functions and versions used for your analysis.\n",
    "\n",
    "**Provide and execute your R code below.**"
   ]
  },
  {
   "cell_type": "code",
   "execution_count": 0,
   "metadata": {},
   "outputs": [],
   "source": []
  },
  {
   "cell_type": "markdown",
   "metadata": {},
   "source": [
    "### Congrats! You have completed your first pipeline! High five yourself and breathe a sigh of relief. :)"
   ]
  }
 ],
 "metadata": {
  "anaconda-cloud": {},
  "kernelspec": {
   "display_name": "R",
   "language": "R",
   "name": "ir"
  },
  "language_info": {
   "codemirror_mode": "r",
   "file_extension": ".r",
   "mimetype": "text/x-r-source",
   "name": "R",
   "pygments_lexer": "r",
   "version": "3.6.1"
  }
 },
 "nbformat": 4,
 "nbformat_minor": 4
}
