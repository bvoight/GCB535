{
 "cells": [
  {
   "cell_type": "markdown",
   "metadata": {},
   "source": [
    "# GCB535: Data Parsing - II "
   ]
  },
  {
   "cell_type": "markdown",
   "metadata": {},
   "source": [
    "## Instructions"
   ]
  },
  {
   "cell_type": "markdown",
   "metadata": {},
   "source": [
    "You \"cat\" somehow manages to corrupt a bed file that you are currently working on. The corrupted file is **\"CpG_isl_data.bed\"** which indicates CpG islands in genome. The file is found in your working directory.\n",
    "\n",
    "Unfortunately, you realize you have no back-ups for the original data!\n",
    "\n",
    "In the following question:\n",
    "\n",
    "(Part 1) Report (in human terms) each issue you uncover and have to fix for each .bed file.\n",
    "\n",
    "(Part 2) Use UNIX code to create a \"quality control (QC) pipeline\" - a series of steps that work to progessively make the file \"better\". The pipeline should:\n",
    "\n",
    "* Correct the issue. OK to work sequentially and create intermediates (you might have multiples of these)\n",
    "* Creates a final file with all of these issues \"fixed\".\n",
    "\n",
    "Here, you to make sure all lines of code and the steps can be \"reproduced\" by copy-pasting and re-executing code that you have created, starting with the original version of the file."
   ]
  },
  {
   "cell_type": "markdown",
   "metadata": {
    "collapsed": true
   },
   "source": [
    "**(Part 1)** Explanation (issues in each file, each issue should be described 10 words or less):"
   ]
  },
  {
   "cell_type": "raw",
   "metadata": {
    "collapsed": true
   },
   "source": []
  },
  {
   "cell_type": "markdown",
   "metadata": {
    "collapsed": true
   },
   "source": [
    "**(Part 2)** Quality Control Pipeline; Code + Result:"
   ]
  },
  {
   "cell_type": "code",
   "execution_count": null,
   "metadata": {},
   "outputs": [],
   "source": []
  }
 ],
 "metadata": {
  "anaconda-cloud": {},
  "kernelspec": {
   "display_name": "Python 3",
   "language": "python",
   "name": "python3"
  },
  "language_info": {
   "codemirror_mode": {
    "name": "ipython",
    "version": 3
   },
   "file_extension": ".py",
   "mimetype": "text/x-python",
   "name": "python",
   "nbconvert_exporter": "python",
   "pygments_lexer": "ipython3",
   "version": "3.8.5"
  },
  "name": "Sagemathcloud_Setup_Assignment.ipynb"
 },
 "nbformat": 4,
 "nbformat_minor": 1
}
