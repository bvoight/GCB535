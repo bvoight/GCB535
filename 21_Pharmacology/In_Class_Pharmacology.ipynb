{
 "cells": [
  {
   "cell_type": "markdown",
   "metadata": {},
   "source": [
    "## Pipeline for Analysis of Cell Screening data\n",
    "\n",
    "In today's assignment, you'll be constructing a rudimentary pipeline to analyze cell screening data generated at high throughput. These are actual data (Complements of Sara Cherry and David Schultz) and there are many more things to analyze! \n",
    "\n",
    "In particular, these are results from a high-throughput screen using all FDA approved small-molecules. Cells in each well of a 384-well plate have been treated with the a unique small molecule (one drug per well), and assayed to determine a phenotype/response to the drug exposure.\n",
    "\n",
    "You have find several files in your assignment folder:\n",
    "\n",
    "`plate*.csv`: these are the results files for the cell screening assay that was performed.\n",
    "\n",
    "For this assignment, we will be engaged in R completely, so treat your commands in this markdown like you would if you were working in the R environment.\n",
    "\n",
    "The samples are arrayed in the following way, where maximum and minimum controls are located in the plate:"
   ]
  },
  {
   "cell_type": "markdown",
   "metadata": {},
   "source": [
    "![Plate Array format](img/plate_array.png)"
   ]
  },
  {
   "cell_type": "markdown",
   "metadata": {},
   "source": [
    "Remember: the use of term \"maximum\" (control) indicates fluorescing cells, whereas 'minimum' (control) reflects background fluorescence in the absence of cells (i.e., no response).\n",
    "\n",
    "#### 0. The assay here is a cell viability experiment where live cells fluorescence when exposed to a laser, whereas dead cells will not fluorescence on laser-light exposure. Imagine we want to screen for drugs that kill cancer cells. If we find a drug that kills the cells, what type of control (maximum, minimum) would we expect our well to look most like? Why?"
   ]
  },
  {
   "cell_type": "code",
   "execution_count": 0,
   "metadata": {
    "collapsed": true
   },
   "outputs": [],
   "source": []
  },
  {
   "cell_type": "markdown",
   "metadata": {},
   "source": [
    "#### 1. First, let's prepare your input files\n",
    "- create a variable called myplatefile that contains the name of our first plate file, ie. \"plate1.csv\".\n",
    "- create a variable called myplatename that contains the name of the plate, ie. \"plate1\" \n",
    "- load data from the file using the variable myplatefile, into a variable called \"myplate\". Header is true. Separated by comma.\n",
    "- create an array called \"myrownames\" where each element are the letters A, B, … P. (hint: use c())\n",
    "- display the first 5 rows of the myplate variable"
   ]
  },
  {
   "cell_type": "code",
   "execution_count": 0,
   "metadata": {},
   "outputs": [],
   "source": []
  },
  {
   "cell_type": "markdown",
   "metadata": {},
   "source": [
    "#### 2a. How many maximum controls have been assayed?"
   ]
  },
  {
   "cell_type": "code",
   "execution_count": 0,
   "metadata": {},
   "outputs": [],
   "source": []
  },
  {
   "cell_type": "markdown",
   "metadata": {},
   "source": [
    "#### 2b. Calculate the average of all the maximum controls and minimum controls in a variable called \"mean_max\" and \"mean_min\", respectively."
   ]
  },
  {
   "cell_type": "code",
   "execution_count": 0,
   "metadata": {},
   "outputs": [],
   "source": []
  },
  {
   "cell_type": "markdown",
   "metadata": {},
   "source": [
    "#### 2c. Calculate the standard deviations of all the maximum controls and minimum controls in a variable called \"sd_max\" and \"sd_min\", respectively."
   ]
  },
  {
   "cell_type": "code",
   "execution_count": 0,
   "metadata": {},
   "outputs": [],
   "source": []
  },
  {
   "cell_type": "markdown",
   "metadata": {},
   "source": [
    "#### 3a. Using these variables, calculate the following quantities:\n",
    "- the Z-prime factor:\n",
    "![zprime-eqn](img/zprime.png)"
   ]
  },
  {
   "cell_type": "code",
   "execution_count": 0,
   "metadata": {},
   "outputs": [],
   "source": []
  },
  {
   "cell_type": "markdown",
   "metadata": {},
   "source": [
    "#### 3b. What is the Z-prime factor used for in a screening assay? For this plate, how would you interpret the result from your Z-prime factor score?"
   ]
  },
  {
   "cell_type": "code",
   "execution_count": 0,
   "metadata": {},
   "outputs": [],
   "source": []
  },
  {
   "cell_type": "markdown",
   "metadata": {},
   "source": [
    "#### 3c. calculate the Signal-to-noise ratio:\n",
    "![snr-eqn](img/snr.png)"
   ]
  },
  {
   "cell_type": "code",
   "execution_count": 0,
   "metadata": {},
   "outputs": [],
   "source": []
  },
  {
   "cell_type": "markdown",
   "metadata": {},
   "source": [
    "#### 3d. what is the signal-to-noise ratio used to determine in a screening assay?"
   ]
  },
  {
   "cell_type": "code",
   "execution_count": 0,
   "metadata": {},
   "outputs": [],
   "source": []
  },
  {
   "cell_type": "markdown",
   "metadata": {},
   "source": [
    "#### 3e. calculate the Coefficient of variations for both the maximum and minimum controls:\n",
    "![snr-eqn](img/coeff_var.png)"
   ]
  },
  {
   "cell_type": "code",
   "execution_count": 0,
   "metadata": {},
   "outputs": [],
   "source": []
  },
  {
   "cell_type": "markdown",
   "metadata": {
    "collapsed": true
   },
   "source": [
    "#### 3f. What is the coefficient of variation - measured on our controls - used for in the context of a screening assay?"
   ]
  },
  {
   "cell_type": "code",
   "execution_count": 0,
   "metadata": {},
   "outputs": [],
   "source": []
  },
  {
   "cell_type": "markdown",
   "metadata": {},
   "source": [
    "#### 4. For each sample on the plate, calculate the percentage relative to the mean of the max control, multiplied by 100, and store in a new variable called \"myplate_poc\""
   ]
  },
  {
   "cell_type": "code",
   "execution_count": 0,
   "metadata": {},
   "outputs": [],
   "source": []
  },
  {
   "cell_type": "markdown",
   "metadata": {},
   "source": [
    "#### 5. Next, normalize the data by the mean of the maximum control, divided by the standard deviation of the maximum control. store in a variable called \"myplate_zscores\".\n",
    "![snr-eqn](img/Znorm.png)"
   ]
  },
  {
   "cell_type": "code",
   "execution_count": 0,
   "metadata": {},
   "outputs": [],
   "source": []
  },
  {
   "cell_type": "markdown",
   "metadata": {},
   "source": [
    "#### Next, we'll use the paste() command to create a new string name \"on the fly\", so that you don't overwrite your file name. \n",
    "\n",
    "#### This is useful for us, if we wanted to re-run this code on multiple plates (wink, wink! See Homework below). That way, we only have to change a variable in one place (at the very beginning of the pipeline!) rather than in multiple places throughout your code.\n",
    "\n",
    "#### Here's an example of how it paste() works:\n",
    "\n",
    "    %> string1 <- \"foo\"\n",
    "    %> string2 <- \"bar\"\n",
    "    %> mypaste <- paste(string1, string2, sep=\"_\")\n",
    "    %> mypaste\n",
    "    [1] \"foo_bar\"\n",
    "\n",
    "#### 6a. store the string \"zscores.csv\" in a new variable called outfix"
   ]
  },
  {
   "cell_type": "code",
   "execution_count": 0,
   "metadata": {},
   "outputs": [],
   "source": []
  },
  {
   "cell_type": "markdown",
   "metadata": {},
   "source": [
    "#### 6b. use paste() to combine myplatename and outfix into a new variable called \"zscores_outfile\". \n",
    "- Then, print zscores_outfile to the screen (the value should be \"plate1_zscores.csv\" if you've done this right)"
   ]
  },
  {
   "cell_type": "code",
   "execution_count": 0,
   "metadata": {},
   "outputs": [],
   "source": []
  },
  {
   "cell_type": "markdown",
   "metadata": {},
   "source": [
    "#### 6c. Output the data contained in myplate_zscores to the file stored in the variable 'zscores_outfile'\n",
    "- without the column names, row names, or quotes.\n",
    "- separated by commas."
   ]
  },
  {
   "cell_type": "code",
   "execution_count": 0,
   "metadata": {},
   "outputs": [],
   "source": []
  },
  {
   "cell_type": "markdown",
   "metadata": {},
   "source": [
    "#### Finally, let's create a heatmap which indicates all of the samples on the plate where the normalized Z score was lower than -5. To do that, we need to do a couple of things.\n",
    "\n",
    "#### 7a. First, create a variable called \"threshold\", set equal to -5"
   ]
  },
  {
   "cell_type": "code",
   "execution_count": 0,
   "metadata": {
    "collapsed": true
   },
   "outputs": [],
   "source": []
  },
  {
   "cell_type": "markdown",
   "metadata": {},
   "source": [
    "#### Next, create a matrix that is \"1\" for all cells in the table that are lower than -5, or \"0\" else. To accomplish this, you can use a combination of the conditional statement \"<\", as.matrix(), converted to a number:\n",
    "\n",
    "    table_forheatmap <- as.matrix( 1 * (mytable < thresh) )\n",
    "\n",
    "- the multiplication by one step is a trick that will convert the data to a number (i.e. will convert TRUE/FALSE to 1/0).\n",
    "- as.matrix() is a function which will convert the table to a matrix object in R (needed for the heatmap function).\n",
    "\n",
    "#### 7b. Using this function, make a table for your data."
   ]
  },
  {
   "cell_type": "code",
   "execution_count": 0,
   "metadata": {},
   "outputs": [],
   "source": []
  },
  {
   "cell_type": "markdown",
   "metadata": {},
   "source": [
    "#### 7c. Use the heatmap() function to make a plot for data in table_forheatmap, which includes the following arguments:\n",
    "#these arguments are for clustering; we don't want to cluster our assay data.\n",
    "> Rowv=NA\n",
    "> Colv=NA\n",
    "\n",
    "#we want to name the rows we see in the resulting heat map, per what we defined above\n",
    "> labRow=myrownames\n",
    "\n",
    "#do not attempt to rescale the data, plot the actual values\n",
    "> scale=\"none\"\n",
    "\n",
    "#use the following color tree: dark blue for \"greater than threshold\", gold for \"less than threshold\"\n",
    "> col=c(\"dark blue\", \"gold\")\n",
    "\n",
    "#print the table in \"reverse\" order, e.g. put A at the top, P at the bottom\n",
    ">revC=T\n"
   ]
  },
  {
   "cell_type": "code",
   "execution_count": 0,
   "metadata": {},
   "outputs": [],
   "source": []
  },
  {
   "cell_type": "markdown",
   "metadata": {},
   "source": [
    "#### 7a. Did your controls work? why or why not?"
   ]
  },
  {
   "cell_type": "raw",
   "metadata": {},
   "source": []
  },
  {
   "cell_type": "markdown",
   "metadata": {},
   "source": [
    "#### 7b. Excluding the controls, how many cells returned values less than -5 on this plate?"
   ]
  },
  {
   "cell_type": "raw",
   "metadata": {},
   "source": []
  }
 ],
 "metadata": {
  "kernelspec": {
   "display_name": "R",
   "language": "R",
   "name": "ir"
  },
  "language_info": {
   "codemirror_mode": "r",
   "file_extension": ".r",
   "mimetype": "text/x-r-source",
   "name": "R",
   "pygments_lexer": "r",
   "version": "3.6.1"
  },
  "name": "pharm-screening-assignment.ipynb"
 },
 "nbformat": 4,
 "nbformat_minor": 1
}
