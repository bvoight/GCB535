{
 "cells": [
  {
   "cell_type": "markdown",
   "metadata": {},
   "source": [
    "# Prelab: ggplot 1\n",
    "\n",
    "**Filtering with AND (&), OR (|) and %in% operators**"
   ]
  },
  {
   "cell_type": "markdown",
   "metadata": {},
   "source": [
    "In many cases we would like to use logical operators to perform our filtering. \n",
    "\n",
    "Here we will do some addtional filtering to the dogsledding dataset used in R_III in class."
   ]
  },
  {
   "cell_type": "code",
   "execution_count": null,
   "metadata": {},
   "outputs": [],
   "source": [
    "library(tidyverse)\n",
    "data = read.table(\"Iditarod.txt\",header=T,sep=\"\\t\")\n",
    "head(data)"
   ]
  },
  {
   "cell_type": "markdown",
   "metadata": {},
   "source": [
    "Now let's say that we would like to take only Veteran Status with Nenana Checkpoint (using a single filter).\n",
    "\n",
    "We can use the & operator to achive that."
   ]
  },
  {
   "cell_type": "code",
   "execution_count": null,
   "metadata": {},
   "outputs": [],
   "source": [
    "data_filter <- data %>% filter((Status == 'Veteran')&(Checkpoint == 'Nenana'))"
   ]
  },
  {
   "cell_type": "markdown",
   "metadata": {},
   "source": [
    "Now what is we want more that one checkpoint? We can add the OR (|) operator to the previous line of code:"
   ]
  },
  {
   "cell_type": "code",
   "execution_count": null,
   "metadata": {},
   "outputs": [],
   "source": [
    "data_filter <- data %>% filter((Status == 'Veteran')&((Checkpoint == 'Nenana')|(Checkpoint == 'Nulato')))"
   ]
  },
  {
   "cell_type": "markdown",
   "metadata": {},
   "source": [
    "**Note the correct location of the parentheses!**"
   ]
  },
  {
   "cell_type": "markdown",
   "metadata": {},
   "source": [
    "It is clear that for more than 2-3 Checkpoint this code will become long and not very efficient.\n",
    "\n",
    "A more straightforward phrasing would be to ask for all the checkpoints within a specific list. R has a oprerator %in% that can be used to achive this using the code below (do not run this code as it is not a complete line)."
   ]
  },
  {
   "cell_type": "code",
   "execution_count": null,
   "metadata": {},
   "outputs": [],
   "source": [
    "Checkpoint %in% c('Tanana','Huslia','Unalakleet','Elim')"
   ]
  },
  {
   "cell_type": "markdown",
   "metadata": {},
   "source": [
    "**Q1** Replace the OR operators in the previous line to use %in% and select all lines with either one of the four checkpoints above"
   ]
  },
  {
   "cell_type": "code",
   "execution_count": null,
   "metadata": {},
   "outputs": [],
   "source": []
  }
 ],
 "metadata": {
  "anaconda-cloud": {},
  "kernelspec": {
   "display_name": "R",
   "language": "R",
   "name": "ir"
  },
  "language_info": {
   "codemirror_mode": "r",
   "file_extension": ".r",
   "mimetype": "text/x-r-source",
   "name": "R",
   "pygments_lexer": "r",
   "version": "3.6.0"
  },
  "name": "R_Prelab_1.ipynb"
 },
 "nbformat": 4,
 "nbformat_minor": 1
}
