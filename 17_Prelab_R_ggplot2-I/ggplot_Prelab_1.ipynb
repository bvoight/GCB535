{
 "cells": [
  {
   "cell_type": "markdown",
   "metadata": {},
   "source": [
    "# Prelab: ggplot 1\n",
    "\n",
    "**Filtering with AND (&), OR (|) and %in% operators**"
   ]
  },
  {
   "cell_type": "markdown",
   "metadata": {},
   "source": [
    "In many cases we would like to use logical operators to perform our filtering.\n",
    "\n",
    "Here we will do some addtional filtering to the dataset used in R_III in class."
   ]
  },
  {
   "cell_type": "code",
   "execution_count": 11,
   "metadata": {},
   "outputs": [
    {
     "data": {
      "text/html": [
       "<table class=\"dataframe\">\n",
       "<caption>A data.frame: 6 × 15</caption>\n",
       "<thead>\n",
       "\t<tr><th></th><th scope=col>Number</th><th scope=col>Name</th><th scope=col>Status</th><th scope=col>Country</th><th scope=col>Checkpoint</th><th scope=col>Latitude</th><th scope=col>Longitude</th><th scope=col>Distance</th><th scope=col>Time</th><th scope=col>Speed</th><th scope=col>Arrival.Dogs</th><th scope=col>Elapsed.Time</th><th scope=col>Departure.Dogs</th><th scope=col>Departure</th><th scope=col>Arrival</th></tr>\n",
       "\t<tr><th></th><th scope=col>&lt;int&gt;</th><th scope=col>&lt;chr&gt;</th><th scope=col>&lt;chr&gt;</th><th scope=col>&lt;chr&gt;</th><th scope=col>&lt;chr&gt;</th><th scope=col>&lt;dbl&gt;</th><th scope=col>&lt;dbl&gt;</th><th scope=col>&lt;int&gt;</th><th scope=col>&lt;dbl&gt;</th><th scope=col>&lt;dbl&gt;</th><th scope=col>&lt;int&gt;</th><th scope=col>&lt;dbl&gt;</th><th scope=col>&lt;int&gt;</th><th scope=col>&lt;chr&gt;</th><th scope=col>&lt;chr&gt;</th></tr>\n",
       "</thead>\n",
       "<tbody>\n",
       "\t<tr><th scope=row>1</th><td>2</td><td>Ryan Redington </td><td>Veteran</td><td>United States </td><td>Fairbanks</td><td>64.8321</td><td>-147.813</td><td>NA</td><td>0</td><td>NA</td><td>NA</td><td> 0</td><td>16</td><td>2017-03-06 11:00:00</td><td>NA</td></tr>\n",
       "\t<tr><th scope=row>2</th><td>3</td><td>Otto Balogh    </td><td>Rookie </td><td>Hungary       </td><td>Fairbanks</td><td>64.8321</td><td>-147.813</td><td>NA</td><td>0</td><td>NA</td><td>NA</td><td>NA</td><td>NA</td><td>NA                 </td><td>NA</td></tr>\n",
       "\t<tr><th scope=row>3</th><td>4</td><td>Misha Wiljes   </td><td>Rookie </td><td>Czech Republic</td><td>Fairbanks</td><td>64.8321</td><td>-147.813</td><td>NA</td><td>0</td><td>NA</td><td>NA</td><td> 0</td><td>15</td><td>2017-03-06 11:04:00</td><td>NA</td></tr>\n",
       "\t<tr><th scope=row>4</th><td>5</td><td>Cody Strathe   </td><td>Veteran</td><td>United States </td><td>Fairbanks</td><td>64.8321</td><td>-147.813</td><td>NA</td><td>0</td><td>NA</td><td>NA</td><td> 0</td><td>16</td><td>2017-03-06 11:06:00</td><td>NA</td></tr>\n",
       "\t<tr><th scope=row>5</th><td>6</td><td>Linwood Fiedler</td><td>Veteran</td><td>United States </td><td>Fairbanks</td><td>64.8321</td><td>-147.813</td><td>NA</td><td>0</td><td>NA</td><td>NA</td><td> 0</td><td>16</td><td>2017-03-06 11:08:00</td><td>NA</td></tr>\n",
       "\t<tr><th scope=row>6</th><td>7</td><td>Laura Neese    </td><td>Rookie </td><td>United States </td><td>Fairbanks</td><td>64.8321</td><td>-147.813</td><td>NA</td><td>0</td><td>NA</td><td>NA</td><td> 0</td><td>16</td><td>2017-03-06 11:10:00</td><td>NA</td></tr>\n",
       "</tbody>\n",
       "</table>\n"
      ],
      "text/latex": [
       "A data.frame: 6 × 15\n",
       "\\begin{tabular}{r|lllllllllllllll}\n",
       "  & Number & Name & Status & Country & Checkpoint & Latitude & Longitude & Distance & Time & Speed & Arrival.Dogs & Elapsed.Time & Departure.Dogs & Departure & Arrival\\\\\n",
       "  & <int> & <chr> & <chr> & <chr> & <chr> & <dbl> & <dbl> & <int> & <dbl> & <dbl> & <int> & <dbl> & <int> & <chr> & <chr>\\\\\n",
       "\\hline\n",
       "\t1 & 2 & Ryan Redington  & Veteran & United States  & Fairbanks & 64.8321 & -147.813 & NA & 0 & NA & NA &  0 & 16 & 2017-03-06 11:00:00 & NA\\\\\n",
       "\t2 & 3 & Otto Balogh     & Rookie  & Hungary        & Fairbanks & 64.8321 & -147.813 & NA & 0 & NA & NA & NA & NA & NA                  & NA\\\\\n",
       "\t3 & 4 & Misha Wiljes    & Rookie  & Czech Republic & Fairbanks & 64.8321 & -147.813 & NA & 0 & NA & NA &  0 & 15 & 2017-03-06 11:04:00 & NA\\\\\n",
       "\t4 & 5 & Cody Strathe    & Veteran & United States  & Fairbanks & 64.8321 & -147.813 & NA & 0 & NA & NA &  0 & 16 & 2017-03-06 11:06:00 & NA\\\\\n",
       "\t5 & 6 & Linwood Fiedler & Veteran & United States  & Fairbanks & 64.8321 & -147.813 & NA & 0 & NA & NA &  0 & 16 & 2017-03-06 11:08:00 & NA\\\\\n",
       "\t6 & 7 & Laura Neese     & Rookie  & United States  & Fairbanks & 64.8321 & -147.813 & NA & 0 & NA & NA &  0 & 16 & 2017-03-06 11:10:00 & NA\\\\\n",
       "\\end{tabular}\n"
      ],
      "text/markdown": [
       "\n",
       "A data.frame: 6 × 15\n",
       "\n",
       "| <!--/--> | Number &lt;int&gt; | Name &lt;chr&gt; | Status &lt;chr&gt; | Country &lt;chr&gt; | Checkpoint &lt;chr&gt; | Latitude &lt;dbl&gt; | Longitude &lt;dbl&gt; | Distance &lt;int&gt; | Time &lt;dbl&gt; | Speed &lt;dbl&gt; | Arrival.Dogs &lt;int&gt; | Elapsed.Time &lt;dbl&gt; | Departure.Dogs &lt;int&gt; | Departure &lt;chr&gt; | Arrival &lt;chr&gt; |\n",
       "|---|---|---|---|---|---|---|---|---|---|---|---|---|---|---|---|\n",
       "| 1 | 2 | Ryan Redington  | Veteran | United States  | Fairbanks | 64.8321 | -147.813 | NA | 0 | NA | NA |  0 | 16 | 2017-03-06 11:00:00 | NA |\n",
       "| 2 | 3 | Otto Balogh     | Rookie  | Hungary        | Fairbanks | 64.8321 | -147.813 | NA | 0 | NA | NA | NA | NA | NA                  | NA |\n",
       "| 3 | 4 | Misha Wiljes    | Rookie  | Czech Republic | Fairbanks | 64.8321 | -147.813 | NA | 0 | NA | NA |  0 | 15 | 2017-03-06 11:04:00 | NA |\n",
       "| 4 | 5 | Cody Strathe    | Veteran | United States  | Fairbanks | 64.8321 | -147.813 | NA | 0 | NA | NA |  0 | 16 | 2017-03-06 11:06:00 | NA |\n",
       "| 5 | 6 | Linwood Fiedler | Veteran | United States  | Fairbanks | 64.8321 | -147.813 | NA | 0 | NA | NA |  0 | 16 | 2017-03-06 11:08:00 | NA |\n",
       "| 6 | 7 | Laura Neese     | Rookie  | United States  | Fairbanks | 64.8321 | -147.813 | NA | 0 | NA | NA |  0 | 16 | 2017-03-06 11:10:00 | NA |\n",
       "\n"
      ],
      "text/plain": [
       "  Number Name            Status  Country        Checkpoint Latitude Longitude\n",
       "1 2      Ryan Redington  Veteran United States  Fairbanks  64.8321  -147.813 \n",
       "2 3      Otto Balogh     Rookie  Hungary        Fairbanks  64.8321  -147.813 \n",
       "3 4      Misha Wiljes    Rookie  Czech Republic Fairbanks  64.8321  -147.813 \n",
       "4 5      Cody Strathe    Veteran United States  Fairbanks  64.8321  -147.813 \n",
       "5 6      Linwood Fiedler Veteran United States  Fairbanks  64.8321  -147.813 \n",
       "6 7      Laura Neese     Rookie  United States  Fairbanks  64.8321  -147.813 \n",
       "  Distance Time Speed Arrival.Dogs Elapsed.Time Departure.Dogs\n",
       "1 NA       0    NA    NA            0           16            \n",
       "2 NA       0    NA    NA           NA           NA            \n",
       "3 NA       0    NA    NA            0           15            \n",
       "4 NA       0    NA    NA            0           16            \n",
       "5 NA       0    NA    NA            0           16            \n",
       "6 NA       0    NA    NA            0           16            \n",
       "  Departure           Arrival\n",
       "1 2017-03-06 11:00:00 NA     \n",
       "2 NA                  NA     \n",
       "3 2017-03-06 11:04:00 NA     \n",
       "4 2017-03-06 11:06:00 NA     \n",
       "5 2017-03-06 11:08:00 NA     \n",
       "6 2017-03-06 11:10:00 NA     "
      ]
     },
     "metadata": {},
     "output_type": "display_data"
    },
    {
     "data": {
      "text/html": [
       "<style>\n",
       ".list-inline {list-style: none; margin:0; padding: 0}\n",
       ".list-inline>li {display: inline-block}\n",
       ".list-inline>li:not(:last-child)::after {content: \"\\00b7\"; padding: 0 .5ex}\n",
       "</style>\n",
       "<ol class=list-inline><li>'Fairbanks'</li><li>'Nenana'</li><li>'Manley'</li><li>'Tanana'</li><li>'Ruby'</li><li>'Galena'</li><li>'Huslia'</li><li>'Koyukuk'</li><li>'Nulato'</li><li>'Kaltag'</li><li>'Unalakleet'</li><li>'Shaktoolik'</li><li>'Koyuk'</li><li>'Elim'</li><li>'White Mountain'</li><li>'Safety'</li><li>'Nome'</li></ol>\n"
      ],
      "text/latex": [
       "\\begin{enumerate*}\n",
       "\\item 'Fairbanks'\n",
       "\\item 'Nenana'\n",
       "\\item 'Manley'\n",
       "\\item 'Tanana'\n",
       "\\item 'Ruby'\n",
       "\\item 'Galena'\n",
       "\\item 'Huslia'\n",
       "\\item 'Koyukuk'\n",
       "\\item 'Nulato'\n",
       "\\item 'Kaltag'\n",
       "\\item 'Unalakleet'\n",
       "\\item 'Shaktoolik'\n",
       "\\item 'Koyuk'\n",
       "\\item 'Elim'\n",
       "\\item 'White Mountain'\n",
       "\\item 'Safety'\n",
       "\\item 'Nome'\n",
       "\\end{enumerate*}\n"
      ],
      "text/markdown": [
       "1. 'Fairbanks'\n",
       "2. 'Nenana'\n",
       "3. 'Manley'\n",
       "4. 'Tanana'\n",
       "5. 'Ruby'\n",
       "6. 'Galena'\n",
       "7. 'Huslia'\n",
       "8. 'Koyukuk'\n",
       "9. 'Nulato'\n",
       "10. 'Kaltag'\n",
       "11. 'Unalakleet'\n",
       "12. 'Shaktoolik'\n",
       "13. 'Koyuk'\n",
       "14. 'Elim'\n",
       "15. 'White Mountain'\n",
       "16. 'Safety'\n",
       "17. 'Nome'\n",
       "\n",
       "\n"
      ],
      "text/plain": [
       " [1] \"Fairbanks\"      \"Nenana\"         \"Manley\"         \"Tanana\"        \n",
       " [5] \"Ruby\"           \"Galena\"         \"Huslia\"         \"Koyukuk\"       \n",
       " [9] \"Nulato\"         \"Kaltag\"         \"Unalakleet\"     \"Shaktoolik\"    \n",
       "[13] \"Koyuk\"          \"Elim\"           \"White Mountain\" \"Safety\"        \n",
       "[17] \"Nome\"          "
      ]
     },
     "metadata": {},
     "output_type": "display_data"
    }
   ],
   "source": [
    "library(tidyverse)\n",
    "data = read.table(\"Iditarod.txt\",header=T,sep=\"\\t\")\n",
    "head(data)\n",
    "unique(data$Checkpoint)"
   ]
  },
  {
   "cell_type": "markdown",
   "metadata": {},
   "source": [
    "Now let's say that we would like to take only Veteran Status with Nenana Checkpoint (using a single filter).\n",
    "\n",
    "We can use the & operator to achive that."
   ]
  },
  {
   "cell_type": "code",
   "execution_count": 10,
   "metadata": {},
   "outputs": [],
   "source": [
    "data_filter <- data %>% filter((Status == 'Veteran')&(Checkpoint == 'Nenana'))"
   ]
  },
  {
   "cell_type": "markdown",
   "metadata": {},
   "source": [
    "Now what is we want more that one checkpoint? We can add the OR (|) operator to the previous line of code:"
   ]
  },
  {
   "cell_type": "code",
   "execution_count": 13,
   "metadata": {},
   "outputs": [],
   "source": [
    "data_filter <- data %>% filter((Status == 'Veteran')&((Checkpoint == 'Nenana')|(Checkpoint == 'Nulato')))"
   ]
  },
  {
   "cell_type": "markdown",
   "metadata": {},
   "source": [
    "**Note the correct location of the parentheses!**"
   ]
  },
  {
   "cell_type": "markdown",
   "metadata": {},
   "source": [
    "It is clear that for more than 2-3 Checkpoint this code will become long and not very efficient.\n",
    "\n",
    "A more straightforward phrasing would be to ask for all the checkpoints within a specific list. R has a oprerator %in% that can be used to achive this using the code below (do not run this code as it is not a complete line)."
   ]
  },
  {
   "cell_type": "code",
   "execution_count": 0,
   "metadata": {},
   "outputs": [],
   "source": [
    "Checkpoint %in% c('Tanana','Huslia','Unalakleet','Elim')"
   ]
  },
  {
   "cell_type": "markdown",
   "metadata": {},
   "source": [
    "**Q1** Replace the OR operators in the previous line to use %in% and select all lines with either one of the four checkpoints above"
   ]
  },
  {
   "cell_type": "code",
   "execution_count": 0,
   "metadata": {},
   "outputs": [],
   "source": []
  }
 ],
 "metadata": {
  "anaconda-cloud": {},
  "kernelspec": {
   "display_name": "R",
   "language": "R",
   "name": "ir"
  },
  "language_info": {
   "codemirror_mode": "r",
   "file_extension": ".r",
   "mimetype": "text/x-r-source",
   "name": "R",
   "pygments_lexer": "r",
   "version": "4.0.4"
  },
  "name": "R_Prelab_1.ipynb"
 },
 "nbformat": 4,
 "nbformat_minor": 1
}
