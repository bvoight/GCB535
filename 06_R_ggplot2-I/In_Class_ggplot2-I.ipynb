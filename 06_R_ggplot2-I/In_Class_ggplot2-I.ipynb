{
 "cells": [
  {
   "cell_type": "markdown",
   "metadata": {},
   "source": [
    "# In Class: ggplot2 - I"
   ]
  },
  {
   "cell_type": "markdown",
   "metadata": {},
   "source": [
    "## Loading packages and data"
   ]
  },
  {
   "cell_type": "markdown",
   "metadata": {},
   "source": [
    "Now thay we are all experts in dplyr and ggplot2, we will use our knowledge to analyze some real world data about the COVID-19 pandemic in the US. Our goal is to compare case numbers, testing and fatality rates between several US states.\n",
    "First we will load out libraries and data:"
   ]
  },
  {
   "cell_type": "code",
   "execution_count": null,
   "metadata": {},
   "outputs": [],
   "source": [
    "library(tidyverse)\n",
    "options(repr.plot.width=10, repr.plot.height=3) #set size for plots in this notebook"
   ]
  },
  {
   "cell_type": "markdown",
   "metadata": {},
   "source": [
    "Next we will load the data. The file \"all-states-history.csv\" contains daily reported data from each state which we have already downloaded for you from https://covidtracking.com/.\n",
    "The file is in .csv format, luckily R has a built in function to load .csv file. Use the code below to load this data and convert it as before to tibble."
   ]
  },
  {
   "cell_type": "code",
   "execution_count": null,
   "metadata": {},
   "outputs": [],
   "source": [
    "data <- read.csv('all-states-history.csv')\n",
    "data = as_tibble(data)\n",
    "head(data)"
   ]
  },
  {
   "cell_type": "markdown",
   "metadata": {},
   "source": [
    "Note that the first column, which we will use for plotting the change in COVID-19 cases over time, is of type \"chr\". This time, instead of converting it to a numerical value, we will use the class \"Date\" to keep those values as actual dates."
   ]
  },
  {
   "cell_type": "code",
   "execution_count": null,
   "metadata": {},
   "outputs": [],
   "source": [
    "data$date <- as.Date(data$date,format = '%Y-%m-%d')\n",
    "head(data)"
   ]
  },
  {
   "cell_type": "markdown",
   "metadata": {},
   "source": [
    "Note that now when you look at the data, the class type of the first column is \"date\"."
   ]
  },
  {
   "cell_type": "markdown",
   "metadata": {},
   "source": [
    "Next, we will create a filter using dplyr to subset the (larger) table into one that contains fewer states and fewer columns with the subset of variables that we will use in further analysis.\n",
    "\n",
    "**Q0.** Using the code below, modify the vector below to contain 5 states. Add one state of your choice to the four states below!"
   ]
  },
  {
   "cell_type": "code",
   "execution_count": null,
   "metadata": {},
   "outputs": [],
   "source": [
    "state_vec = c('NY','PA','SD','CA')"
   ]
  },
  {
   "cell_type": "markdown",
   "metadata": {},
   "source": [
    "**Q1.** Using dplyr,\n",
    "- filter the variable `data` to contain the subset of enries which includes ONLY the states in `state_vec`\n",
    "- Retain the following columns of data\n",
    "    - date\n",
    "    - state\n",
    "    - positiveIncrease\n",
    "    - totalTestResultsIncrease\n",
    "    - death\n",
    "- save the subsetted table to a new varible called `data_sub`\n",
    "\n",
    "Hints: Use the `filter()` function and the `%in%` operator!\n",
    "\n",
    "Provide and execute your code below:"
   ]
  },
  {
   "cell_type": "code",
   "execution_count": null,
   "metadata": {},
   "outputs": [],
   "source": []
  },
  {
   "cell_type": "markdown",
   "metadata": {},
   "source": [
    "**Q2.** Now we are ready to plot the number of cases as a function of time! \n",
    "- Make a plot using `data_sub` as your input table. \n",
    "- Use date (x) and positiveIncrease (y) as the variables and color aesthetic mappings, respectively, for the plot\n",
    "- Use points present your data: `geom_point()`\n",
    "- Use `color=state` in coloring aestetics.\n",
    "\n",
    "Provide and execute your code below:"
   ]
  },
  {
   "cell_type": "code",
   "execution_count": null,
   "metadata": {},
   "outputs": [],
   "source": []
  },
  {
   "cell_type": "markdown",
   "metadata": {},
   "source": [
    "**Q3.** Next, to improve its clarity:\n",
    "- add a line geometry - `geom_line()` - to the same plot in **Q2**\n",
    "\n",
    "Provide and execute your code below:"
   ]
  },
  {
   "cell_type": "code",
   "execution_count": null,
   "metadata": {},
   "outputs": [],
   "source": []
  },
  {
   "cell_type": "markdown",
   "metadata": {},
   "source": [
    "We know that the number of positive cases will strongly depend on the number of tests performed.\n",
    "\n",
    "Next, let us look at the number of tests performed as a function of time in each of the 5 states.\n",
    "\n",
    "**Q4.** Using a similar structure as the plot in **Q2/Q3** above,\n",
    "- Create a plot for the number of tests (`totalTestResultsIncrease`) as a function of date\n",
    "\n",
    "Provide and execute your code below:"
   ]
  },
  {
   "cell_type": "code",
   "execution_count": null,
   "metadata": {},
   "outputs": [],
   "source": []
  },
  {
   "cell_type": "markdown",
   "metadata": {},
   "source": [
    "You can see that the number of tests have been more or less increasing during the pandemic. \n",
    "\n",
    "An important measure that has been suggested as an estimate for the severity of the pandemic across regions is the *percent positive tests*. \n",
    "\n",
    "Execute the code below to create a new variable called `percentPositive`:"
   ]
  },
  {
   "cell_type": "code",
   "execution_count": null,
   "metadata": {},
   "outputs": [],
   "source": [
    "data_sub$percentPositive = data_sub$positiveIncrease/data_sub$totalTestResultsIncrease"
   ]
  },
  {
   "cell_type": "markdown",
   "metadata": {},
   "source": [
    "**Q5.** Now, revise the above and create:\n",
    "- a plot of the percentPositive (tests) over time "
   ]
  },
  {
   "cell_type": "code",
   "execution_count": null,
   "metadata": {},
   "outputs": [],
   "source": []
  },
  {
   "cell_type": "markdown",
   "metadata": {},
   "source": [
    "What happened in South Dakota?!\n",
    "\n",
    "Do note that R gives us some warnings about outliers on the plots that have been removed.\n",
    "\n",
    "We *probably* should have filtered the data before starting. (A point we will return to in the homework, below). "
   ]
  },
  {
   "cell_type": "markdown",
   "metadata": {},
   "source": [
    "A central question is how likely it is, for an infected case, to be fatal.\n",
    "\n",
    "To investigate that, let us examine the *Incidence Fatality Rate* (IFR): the percentage of reported cases that result in death. \n",
    "\n",
    "For this, let us create a new table that contains the cummulative number of confirmed cases and deaths for all states that this data is reported.\n",
    "\n",
    "Execute the the code below to generate such table."
   ]
  },
  {
   "cell_type": "code",
   "execution_count": null,
   "metadata": {},
   "outputs": [],
   "source": [
    "data_for_ifr <- data %>% filter(date == '2021-02-17') %>% select('state','positiveCasesViral','death')\n",
    "head(data_for_ifr)"
   ]
  },
  {
   "cell_type": "markdown",
   "metadata": {},
   "source": [
    "**Q6.** Build a plot to compare \n",
    "- The total infected (`positiveCasesViral`) (x) to total death (`death`) (y). \n",
    "- Save the plot object as a variable: `p`\n",
    "\n",
    "(You will get a warning message, as some states have not reported these numbers on Feb 17, make sure you understand what the warning message means.)"
   ]
  },
  {
   "cell_type": "code",
   "execution_count": null,
   "metadata": {},
   "outputs": [],
   "source": []
  },
  {
   "cell_type": "markdown",
   "metadata": {},
   "source": [
    "Wouldn't it be nice to know which state is represented in each data point?\n",
    "\n",
    "Forutnately, ggplot can help us annotate the plot by adding another geometry - text - to the existing plot object. \n",
    "\n",
    "While we are at it, let us also add a regression line to fit the data via the function `lm()`; the slope of this line can give us a rough idea of the IFR.\n",
    "\n",
    "Execute the code below to annotate the previous graph. "
   ]
  },
  {
   "cell_type": "code",
   "execution_count": null,
   "metadata": {},
   "outputs": [],
   "source": [
    "p + geom_text(aes(label=state)) + geom_smooth(method = \"lm\", se = FALSE)"
   ]
  },
  {
   "cell_type": "markdown",
   "metadata": {},
   "source": [
    "**Q7.** Make the following modifications:\n",
    "- remake the plot but change the color of the text to be red (instead of black)\n",
    "\n",
    "Note: This is **not** an aesthetic mapping! So should not be defined within the aes parentheses."
   ]
  },
  {
   "cell_type": "code",
   "execution_count": null,
   "metadata": {},
   "outputs": [],
   "source": []
  },
  {
   "cell_type": "markdown",
   "metadata": {},
   "source": [
    "Finally, to get an estimate of the IFR, let's extract the slope of the fitted line. \n",
    "\n",
    "Unfourtunatly, it is very difficult to get this parameter from the *fitted line* in `geom_smooth()`. \n",
    "\n",
    "Instead, let's call the regression directly, save the results, and review a summary of that regression output. \n",
    "\n",
    "So, a small preview to some of our future classes!\n",
    "\n",
    "Execute the code below."
   ]
  },
  {
   "cell_type": "code",
   "execution_count": null,
   "metadata": {},
   "outputs": [],
   "source": [
    "ft <- lm(death ~ positiveCasesViral,data = data_for_ifr)\n",
    "summary(ft)"
   ]
  },
  {
   "cell_type": "markdown",
   "metadata": {},
   "source": [
    "Can you identify the slope parameter? What is the IFR that we found? Does that fit what you know about COVID-19?\n",
    "\n",
    "Don't stress out :) This is most probably much higher than the real IFR due to under reporting of cases...."
   ]
  },
  {
   "cell_type": "markdown",
   "metadata": {},
   "source": [
    "## Homework"
   ]
  },
  {
   "cell_type": "markdown",
   "metadata": {},
   "source": [
    "Remember the plot from **Q5**? \n",
    "\n",
    "It had some outlier values that are *probably* due to incomplete and/or wrong reporting at specific days. \n",
    "\n",
    "Let's remake this plot but create a table that is filtered for these outliers.\n",
    "\n",
    "To do this, create code which does each of these steps:\n",
    "\n",
    "(Step 1) Filter `data_sub` to report only rows resulting in outlier `percentPositive` values. When you look at the figure generated in Q5 you will see two types of outliers: very high `percentPositive` values and negative values. Filter `data_sub` (using an OR operator) to show only lines where percentPositive is larger than 0.8 or smaller than 0.\n",
    "\n",
    "(Step 2) Now we see what is wrong: `positiveIncrease` should always be smaller than `totalTestResultsIncrease` (you cannot have more positive results than actual tests!). In many cases, these two variables have the same value which must be a mistake in reporting. Filter `data_sub` to carry forward only those rows where *totalTestResultsIncrease* is greater than *positiveIncrease*.\n",
    "\n",
    "(Step 3) Replot the graph made in **Q5** using the data you just filtered in Step 2."
   ]
  },
  {
   "cell_type": "code",
   "execution_count": null,
   "metadata": {},
   "outputs": [],
   "source": [
    "# Step 1:\n"
   ]
  },
  {
   "cell_type": "code",
   "execution_count": null,
   "metadata": {},
   "outputs": [],
   "source": [
    "# Step 2: \n"
   ]
  },
  {
   "cell_type": "code",
   "execution_count": null,
   "metadata": {},
   "outputs": [],
   "source": [
    "# Step 3: \n"
   ]
  }
 ],
 "metadata": {
  "kernelspec": {
   "display_name": "R",
   "language": "R",
   "name": "ir"
  },
  "language_info": {
   "codemirror_mode": "r",
   "file_extension": ".r",
   "mimetype": "text/x-r-source",
   "name": "R",
   "pygments_lexer": "r",
   "version": "3.6.1"
  }
 },
 "nbformat": 4,
 "nbformat_minor": 1
}
