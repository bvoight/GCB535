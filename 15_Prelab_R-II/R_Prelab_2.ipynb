{
 "cells": [
  {
   "cell_type": "markdown",
   "metadata": {
    "collapsed": false
   },
   "source": [
    "# Prelab: Introduction to R, Continued #"
   ]
  },
  {
   "cell_type": "markdown",
   "metadata": {
    "collapsed": false
   },
   "source": [
    "**Preamble:**"
   ]
  },
  {
   "cell_type": "markdown",
   "metadata": {
    "collapsed": false
   },
   "source": [
    "R provides a platform containing many tools to perform statistical tasks including the manipulation, hypothesis testing, graphical display of data, as well as statistical programming. There are many extensions (packages) for R which can add more specialized functionality for a variety of tasks. We are going to introduce you to the basics of R, and at the end of this document there is a list of resources for further information and more comprehensive coverage of these basics.\n",
    "\n",
    "Following this exercise, we anticipate that the user will be able to:\n",
    "-\tOpen the R programming environment and run commands interactively\n",
    "-\tCreate and work with basic data types in R, including vectors and tables (data frames)\n",
    "-\tRun basic functions for statistical computing, like “mean”, “sd”, and “t.test”\n",
    "-\tPlot data as a scatterplot and add a regression line\n",
    "-\tVisualize distributions of data by histogram or boxplot\n",
    "-\tFind additional documentation on any command – e.g. help(mean) or ?mean"
   ]
  },
  {
   "cell_type": "markdown",
   "metadata": {
    "collapsed": false
   },
   "source": [
    "**To get complete credit for this prelab, execute the commands in your ipynb. Remember to set your kernel to R (SageMath).**"
   ]
  },
  {
   "cell_type": "markdown",
   "metadata": {
    "collapsed": false
   },
   "source": [
    "Load the genes.table dataset with following function:"
   ]
  },
  {
   "cell_type": "code",
   "execution_count": 0,
   "metadata": {
    "collapsed": true
   },
   "outputs": [
   ],
   "source": [
    "genes <- read.table(\"genes.table\", header=T)"
   ]
  },
  {
   "cell_type": "markdown",
   "metadata": {
    "collapsed": false
   },
   "source": [
    "Attach the data so that we can refer to the columns by column names."
   ]
  },
  {
   "cell_type": "code",
   "execution_count": 0,
   "metadata": {
    "collapsed": true
   },
   "outputs": [
   ],
   "source": [
    "attach(genes)"
   ]
  },
  {
   "cell_type": "markdown",
   "metadata": {
    "collapsed": false
   },
   "source": [
    "**Linear Regression**"
   ]
  },
  {
   "cell_type": "markdown",
   "metadata": {
    "collapsed": false
   },
   "source": [
    "Are the expression values for geneA and geneB correlated across samples? We can plot the data against each other with this simple command:"
   ]
  },
  {
   "cell_type": "code",
   "execution_count": 0,
   "metadata": {
    "collapsed": true
   },
   "outputs": [
   ],
   "source": [
    "plot(geneA, geneB)"
   ]
  },
  {
   "cell_type": "markdown",
   "metadata": {
    "collapsed": false
   },
   "source": [
    "You will see a plot pop up after you run the above code. The X axis is the first variable in the plot function, which is geneA, and the Y axis is the second variable in the plot function, which is geneB."
   ]
  },
  {
   "cell_type": "markdown",
   "metadata": {
    "collapsed": false
   },
   "source": [
    "Do they look correlated? Let’s find out if there is a significant linear correlation. Create the regression line with \"lm\" function:"
   ]
  },
  {
   "cell_type": "code",
   "execution_count": 0,
   "metadata": {
    "collapsed": false
   },
   "outputs": [
   ],
   "source": [
    "regline <- lm(geneB ~ geneA)"
   ]
  },
  {
   "cell_type": "markdown",
   "metadata": {
    "collapsed": false
   },
   "source": [
    "The syntax \"geneB ~ geneA\" means geneB is the response variable (sometimes also called dependent variable) and geneA is the explanatory variable (or independent variable). Here we only include one explanatory variable, geneA, which is called simple regression. If we want to include more explanatory variables geneC and geneD, we can write \"geneB ~ geneA + geneC + geneD\" in the lm function."
   ]
  },
  {
   "cell_type": "markdown",
   "metadata": {
    "collapsed": false
   },
   "source": [
    "The lm function output can be added to the plot:"
   ]
  },
  {
   "cell_type": "code",
   "execution_count": 0,
   "metadata": {
    "collapsed": true
   },
   "outputs": [
   ],
   "source": [
    "plot(geneA,geneB)\n",
    "abline(regline,col=2)"
   ]
  },
  {
   "cell_type": "markdown",
   "metadata": {
    "collapsed": false
   },
   "source": [
    "\"col=2\" here means use the color value 2, which is red, to plot the result."
   ]
  },
  {
   "cell_type": "markdown",
   "metadata": {
    "collapsed": false
   },
   "source": [
    "We can check to see if there is a significant correlation between geneA and geneB with this command:"
   ]
  },
  {
   "cell_type": "code",
   "execution_count": 0,
   "metadata": {
    "collapsed": true
   },
   "outputs": [
   ],
   "source": [
    "summary(regline)"
   ]
  },
  {
   "cell_type": "markdown",
   "metadata": {
    "collapsed": false
   },
   "source": [
    "The output includes a table showing the regression coefficients and p values for each variable and F statistic for the overall significance. If you don't understand the meaning of those statistics, refer to the statistics lecture. "
   ]
  },
  {
   "cell_type": "markdown",
   "metadata": {
    "collapsed": false
   },
   "source": [
    "** Plotting With R **"
   ]
  },
  {
   "cell_type": "markdown",
   "metadata": {
    "collapsed": false
   },
   "source": [
    "One of the most useful things R can do for you is to help visualize your data. There are way too many possibilities for plotting data to list very many here in a meaningful way. Here are a few examples, try out the following:\n",
    "\n",
    "Display data in a boxplot. "
   ]
  },
  {
   "cell_type": "code",
   "execution_count": 0,
   "metadata": {
    "collapsed": true
   },
   "outputs": [
   ],
   "source": [
    "boxplot(geneA)"
   ]
  },
  {
   "cell_type": "markdown",
   "metadata": {
    "collapsed": false
   },
   "source": [
    "Each boxplot represets the expression values of one gene. The line in the middle of the box indicates the median."
   ]
  },
  {
   "cell_type": "code",
   "execution_count": 0,
   "metadata": {
    "collapsed": true
   },
   "outputs": [
   ],
   "source": [
    "boxplot(geneA,geneB,geneC,geneD)"
   ]
  },
  {
   "cell_type": "markdown",
   "metadata": {
    "collapsed": false
   },
   "source": [
    "Now let’s plot the distributions of how each gene express among the samples."
   ]
  },
  {
   "cell_type": "code",
   "execution_count": 0,
   "metadata": {
    "collapsed": true
   },
   "outputs": [
   ],
   "source": [
    "hist(geneA, col=\"green\")\n",
    "hist(geneB, col=\"red\")\n",
    "hist(geneC, col=\"black\")\n",
    "hist(geneD, col=\"blue\")"
   ]
  },
  {
   "cell_type": "markdown",
   "metadata": {
    "collapsed": false
   },
   "source": [
    "You can see a bell-shaped distribution for geneA and geneB, but not geneC or geneD. It is important to check the distribution of the data before you apply the t-test on the data. Because the t-test assumes the data are normally distributed. There are some statistical methods to rigorously test if the data are normally distributed or not. However, in practice, it is usually OK to just plot the data and check if the data are bell-shaped."
   ]
  }
 ],
 "metadata": {
  "anaconda-cloud": {
  },
  "kernelspec": {
   "display_name": "R (SageMath)",
   "language": "r",
   "name": "ir-sage"
  },
  "language_info": {
   "codemirror_mode": {
    "name": "ipython",
    "version": 2
   },
   "file_extension": ".py",
   "mimetype": "text/x-python",
   "name": "python",
   "nbconvert_exporter": "python",
   "pygments_lexer": "ipython2",
   "version": "2.7.12"
  },
  "name": "R_Prelab_2.ipynb"
 },
 "nbformat": 4,
 "nbformat_minor": 0
}