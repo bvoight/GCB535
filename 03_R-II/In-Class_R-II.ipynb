{
 "cells": [
  {
   "cell_type": "markdown",
   "metadata": {},
   "source": [
    "# Class Activity - Intro to the Tidyverse (R-II)"
   ]
  },
  {
   "cell_type": "markdown",
   "metadata": {},
   "source": [
    "## Instructions"
   ]
  },
  {
   "cell_type": "markdown",
   "metadata": {},
   "source": [
    "In this module, you will work with tidyverse to practice formatting, manipulating, and summarizing data. For that, please load the tidyverse library (note that every time you start your notebook, you'll have to reload libraries):"
   ]
  },
  {
   "cell_type": "code",
   "execution_count": null,
   "metadata": {
    "vscode": {
     "languageId": "r"
    }
   },
   "outputs": [],
   "source": [
    "library(tidyverse)"
   ]
  },
  {
   "cell_type": "markdown",
   "metadata": {},
   "source": [
    "We're going to work with COVID-19 state-wise data that you'll use later (for more plotting purposes). We'll convert the date to a \"computer parsable\" version of date.\n",
    "\n",
    "Execute the commands below:"
   ]
  },
  {
   "cell_type": "code",
   "execution_count": null,
   "metadata": {
    "vscode": {
     "languageId": "r"
    }
   },
   "outputs": [],
   "source": [
    "data <- read_csv(file=\"all-states-history.csv\")\n",
    "data_tbl <- tibble(data)"
   ]
  },
  {
   "cell_type": "markdown",
   "metadata": {
    "collapsed": true
   },
   "source": [
    "| Group | State        | State Nickname       | State Code |\n",
    "|-------|--------------|----------------------|------------|\n",
    "| 1     | Pennsylvania | Keystone State       | PA         |\n",
    "| 2     | California   | Golden State         | CA         |\n",
    "| 3     | New York     | Empire State         | NY         |\n",
    "| 4     | Louisiana    | Pelican State        | LA         |\n",
    "| 5     | South Dakota | Mount Rushmore State | SD         |\n",
    "\n"
   ]
  },
  {
   "cell_type": "markdown",
   "metadata": {
    "collapsed": true
   },
   "source": [
    "For the purposed of Q1 - Q4, select a specific data (you can choose from the above) that you are most interested in.\n",
    "\n",
    "Let's compare the frequency of covid mortality for your assigned date for:\n",
    "   - The 2020 \"Holiday\" wave which I will roughly define here as betwee 10-15-2020 and 1-15-2021\n",
    "   - The 2020 \"Pre Holiday\" wave which I define here as records earlier than 10-15-2020 "
   ]
  },
  {
   "cell_type": "markdown",
   "metadata": {},
   "source": [
    "**Q1.** Create a variable named `pre` which extracts:\n",
    "\n",
    "- entries from your state only\n",
    "- obtains entries earlier than 10-15-2020\n",
    "\n",
    "Provide (and execute) your code below:\n",
    "\n"
   ]
  },
  {
   "cell_type": "code",
   "execution_count": null,
   "metadata": {
    "vscode": {
     "languageId": "r"
    }
   },
   "outputs": [],
   "source": []
  },
  {
   "cell_type": "markdown",
   "metadata": {},
   "source": [
    "**Q2.** Create a variable named `post` which extracts:\n",
    "- entires from your state only\n",
    "- obtains entries between 10-15-2020 and 01-15-2021\n",
    "\n",
    "Provide (and execute) your code below:"
   ]
  },
  {
   "cell_type": "code",
   "execution_count": null,
   "metadata": {
    "vscode": {
     "languageId": "r"
    }
   },
   "outputs": [],
   "source": []
  },
  {
   "cell_type": "markdown",
   "metadata": {},
   "source": [
    "**Q3.** Take the code you just made and extend it to summarize the **mean number of mortalities per day** (i.e., column named `deathIncrease`), for\n",
    "\n",
    "- the \"pre\" Holiday time period\n",
    "- the Holiday wave time period\n",
    "\n",
    "If you copy the code you created for Q1 and Q2, you'll overwrite \"pre\" and \"post\". **This is completely fine in this case**. \n",
    "\n",
    "The point of this exercise is for you to get used to extend a little bit of code *modestly*, run it, check the output, etc.\n",
    "\n",
    "Provide (and execute) your code below:\n",
    "\n"
   ]
  },
  {
   "cell_type": "code",
   "execution_count": null,
   "metadata": {
    "vscode": {
     "languageId": "r"
    }
   },
   "outputs": [],
   "source": []
  },
  {
   "cell_type": "code",
   "execution_count": null,
   "metadata": {
    "vscode": {
     "languageId": "r"
    }
   },
   "outputs": [],
   "source": []
  },
  {
   "cell_type": "markdown",
   "metadata": {},
   "source": [
    "**Q4.** Using `pre` and `post`, use simple R commands to calculate:\n",
    "\n",
    "- the difference between `post` and `pre` (i.e., post minus pre)\n",
    "- the ratio of post to pre (i.e., `post / pre`)\n",
    "- the difference above per 100K people: `1e5 * ((post - pre) / state_size )`\n",
    "\n",
    "You can find the size of the states in a file called \"2010_census_bystate.txt\"\n",
    "\n",
    "Provide (and execute) your code below:\n",
    "\n"
   ]
  },
  {
   "cell_type": "code",
   "execution_count": null,
   "metadata": {
    "vscode": {
     "languageId": "r"
    }
   },
   "outputs": [],
   "source": []
  },
  {
   "cell_type": "markdown",
   "metadata": {},
   "source": [
    "|  |\n",
    "| :-- |\n",
    "\n"
   ]
  },
  {
   "cell_type": "markdown",
   "metadata": {},
   "source": [
    "#######################"
   ]
  },
  {
   "cell_type": "markdown",
   "metadata": {},
   "source": [
    "In the questions above, you did this for a single state. But now, let's unlock *the power of R* -- let's generate these summaries for EVERY STATE. "
   ]
  },
  {
   "cell_type": "markdown",
   "metadata": {},
   "source": [
    "**Q5.** Create a variable named `pre_allstates` which extracts\n",
    "\n",
    "- entries for ALL states\n",
    "- obtains entries earlier than 10\\-15\\-2020\n",
    "- Summarizes the  mean number of mortalities per day **by state**\n",
    "- HINT: your table should have one row per state\n",
    "\n",
    "You can and should reuse the code you used for **Q1 and Q3** here \\(plus a new variable name\\)! You can do this with a single line change in code.\n",
    "\n",
    "Provide (and execute) your code below:\n",
    "\n"
   ]
  },
  {
   "cell_type": "code",
   "execution_count": null,
   "metadata": {
    "vscode": {
     "languageId": "r"
    }
   },
   "outputs": [],
   "source": []
  },
  {
   "cell_type": "markdown",
   "metadata": {},
   "source": [
    "**Q6.** Create a variable named `post_allstates` which extracts\n",
    "\n",
    "- entires for ALL states\n",
    "- obtains entries between 10\\-15\\-2020 and 01\\-15\\-2021\n",
    "- Summarizes the  mean number of mortalities per day **by state**\n",
    "- HINT: your table should have one row per state\n",
    "\n",
    "You can and should reuse the code you used for **Q2** **and Q3** here \\(plus a new variable name\\)! You can do this with a single line change in code. \n",
    "\n",
    "Provide (and execute) your code below:\n",
    "\n"
   ]
  },
  {
   "cell_type": "code",
   "execution_count": null,
   "metadata": {
    "vscode": {
     "languageId": "r"
    }
   },
   "outputs": [],
   "source": []
  },
  {
   "cell_type": "markdown",
   "metadata": {},
   "source": [
    "**Q7.** Create a new variable called `comp_allstates` that:\n",
    "- joins (full) `pre_allstates` and `post_allstates` by \"state\" (i.e., the state abbreviation)\n",
    "\n",
    "Provide (and execute) your code below:"
   ]
  },
  {
   "cell_type": "code",
   "execution_count": null,
   "metadata": {
    "vscode": {
     "languageId": "r"
    }
   },
   "outputs": [],
   "source": []
  },
  {
   "cell_type": "markdown",
   "metadata": {},
   "source": [
    "**Q8.** Create summaries as you did in **Q4** for ALL states:\n",
    "- the difference between post and pre (i.e., `post - pre`)\n",
    "- the ratio of post to pre (i.e., `post / pre`)\n",
    "\n",
    "(hint: mutate!) Provide (and execute) your code below:"
   ]
  },
  {
   "cell_type": "code",
   "execution_count": null,
   "metadata": {
    "vscode": {
     "languageId": "r"
    }
   },
   "outputs": [],
   "source": []
  },
  {
   "cell_type": "markdown",
   "metadata": {},
   "source": [
    "**Q9.** In your directory, we have provided you a file of state population sizes from the 2010 census: \n",
    "\n",
    "**2010_census_bystate.txt**\n",
    "\n",
    "- load this data set into R. This file has a header, separated by the tab character, i.e., \"\\t\".\n",
    "- merge this with the variable **comp_allstates** you created in **Q7**\n",
    "- calculate the difference above per 100K people: `1e5 * ((post - pre) / state_size )` for all states\n",
    "\n",
    "(hint: mutate!) Provide (and execute) your code below:\n",
    "\n"
   ]
  },
  {
   "cell_type": "code",
   "execution_count": null,
   "metadata": {
    "vscode": {
     "languageId": "r"
    }
   },
   "outputs": [],
   "source": []
  },
  {
   "cell_type": "code",
   "execution_count": null,
   "metadata": {
    "vscode": {
     "languageId": "r"
    }
   },
   "outputs": [],
   "source": []
  },
  {
   "cell_type": "markdown",
   "metadata": {},
   "source": [
    "Congrats! You've just made your first tidyverse data parsing job... and maybe even a pipeline! As good habit, report the session details of R you used.\n",
    "\n",
    "Execute the below command:"
   ]
  },
  {
   "cell_type": "code",
   "execution_count": null,
   "metadata": {
    "vscode": {
     "languageId": "r"
    }
   },
   "outputs": [],
   "source": [
    "sessionInfo()"
   ]
  }
 ],
 "metadata": {
  "anaconda-cloud": {},
  "kernelspec": {
   "display_name": "R",
   "language": "R",
   "name": "ir"
  },
  "language_info": {
   "codemirror_mode": "r",
   "file_extension": ".r",
   "mimetype": "text/x-r-source",
   "name": "R",
   "pygments_lexer": "r",
   "version": "3.6.2"
  },
  "name": "Sagemathcloud_Setup_Assignment.ipynb"
 },
 "nbformat": 4,
 "nbformat_minor": 4
}
